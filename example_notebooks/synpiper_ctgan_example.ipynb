{
 "cells": [
  {
   "cell_type": "code",
   "execution_count": 1,
   "metadata": {},
   "outputs": [],
   "source": [
    "import pandas as pd\n",
    "import numpy as np\n",
    "import os\n",
    "import sys\n",
    "\n",
    "# Get the path of the current directory\n",
    "current_dir = os.getcwd()\n",
    "\n",
    "# Get the parent directory (because current directory is example_notebook)\n",
    "parent_dir = os.path.abspath(os.path.join(current_dir, os.pardir))\n",
    "\n",
    "# Add the parent directory to sys.path\n",
    "sys.path.append(parent_dir)\n"
   ]
  },
  {
   "cell_type": "code",
   "execution_count": 2,
   "metadata": {},
   "outputs": [],
   "source": [
    "from SynPiper import SynPiper\n",
    "from synthetic_evaluation import *"
   ]
  },
  {
   "cell_type": "code",
   "execution_count": 3,
   "metadata": {},
   "outputs": [],
   "source": [
    "df = pd.read_csv(os.path.join(parent_dir, 'datasets', 'heartprocessed.csv'))"
   ]
  },
  {
   "cell_type": "code",
   "execution_count": 4,
   "metadata": {},
   "outputs": [
    {
     "data": {
      "text/html": [
       "<div>\n",
       "<style scoped>\n",
       "    .dataframe tbody tr th:only-of-type {\n",
       "        vertical-align: middle;\n",
       "    }\n",
       "\n",
       "    .dataframe tbody tr th {\n",
       "        vertical-align: top;\n",
       "    }\n",
       "\n",
       "    .dataframe thead th {\n",
       "        text-align: right;\n",
       "    }\n",
       "</style>\n",
       "<table border=\"1\" class=\"dataframe\">\n",
       "  <thead>\n",
       "    <tr style=\"text-align: right;\">\n",
       "      <th></th>\n",
       "      <th>age</th>\n",
       "      <th>sex</th>\n",
       "      <th>cp</th>\n",
       "      <th>trestbps</th>\n",
       "      <th>chol</th>\n",
       "      <th>fbs</th>\n",
       "      <th>restecg</th>\n",
       "      <th>thalach</th>\n",
       "      <th>exang</th>\n",
       "      <th>oldpeak</th>\n",
       "      <th>slope</th>\n",
       "      <th>ca</th>\n",
       "      <th>thal</th>\n",
       "      <th>target</th>\n",
       "    </tr>\n",
       "  </thead>\n",
       "  <tbody>\n",
       "    <tr>\n",
       "      <th>0</th>\n",
       "      <td>63</td>\n",
       "      <td>1</td>\n",
       "      <td>1</td>\n",
       "      <td>145</td>\n",
       "      <td>233</td>\n",
       "      <td>1</td>\n",
       "      <td>2</td>\n",
       "      <td>150</td>\n",
       "      <td>0</td>\n",
       "      <td>2.3</td>\n",
       "      <td>3</td>\n",
       "      <td>0</td>\n",
       "      <td>6</td>\n",
       "      <td>0</td>\n",
       "    </tr>\n",
       "    <tr>\n",
       "      <th>1</th>\n",
       "      <td>67</td>\n",
       "      <td>1</td>\n",
       "      <td>4</td>\n",
       "      <td>160</td>\n",
       "      <td>286</td>\n",
       "      <td>0</td>\n",
       "      <td>2</td>\n",
       "      <td>108</td>\n",
       "      <td>1</td>\n",
       "      <td>1.5</td>\n",
       "      <td>2</td>\n",
       "      <td>3</td>\n",
       "      <td>3</td>\n",
       "      <td>1</td>\n",
       "    </tr>\n",
       "    <tr>\n",
       "      <th>2</th>\n",
       "      <td>67</td>\n",
       "      <td>1</td>\n",
       "      <td>4</td>\n",
       "      <td>120</td>\n",
       "      <td>229</td>\n",
       "      <td>0</td>\n",
       "      <td>2</td>\n",
       "      <td>129</td>\n",
       "      <td>1</td>\n",
       "      <td>2.6</td>\n",
       "      <td>2</td>\n",
       "      <td>2</td>\n",
       "      <td>7</td>\n",
       "      <td>1</td>\n",
       "    </tr>\n",
       "    <tr>\n",
       "      <th>3</th>\n",
       "      <td>37</td>\n",
       "      <td>1</td>\n",
       "      <td>3</td>\n",
       "      <td>130</td>\n",
       "      <td>250</td>\n",
       "      <td>0</td>\n",
       "      <td>0</td>\n",
       "      <td>187</td>\n",
       "      <td>0</td>\n",
       "      <td>3.5</td>\n",
       "      <td>3</td>\n",
       "      <td>0</td>\n",
       "      <td>3</td>\n",
       "      <td>0</td>\n",
       "    </tr>\n",
       "    <tr>\n",
       "      <th>4</th>\n",
       "      <td>41</td>\n",
       "      <td>0</td>\n",
       "      <td>2</td>\n",
       "      <td>130</td>\n",
       "      <td>204</td>\n",
       "      <td>0</td>\n",
       "      <td>2</td>\n",
       "      <td>172</td>\n",
       "      <td>0</td>\n",
       "      <td>1.4</td>\n",
       "      <td>1</td>\n",
       "      <td>0</td>\n",
       "      <td>3</td>\n",
       "      <td>0</td>\n",
       "    </tr>\n",
       "  </tbody>\n",
       "</table>\n",
       "</div>"
      ],
      "text/plain": [
       "   age  sex  cp  trestbps  chol  fbs  restecg  thalach  exang  oldpeak  slope  \\\n",
       "0   63    1   1       145   233    1        2      150      0      2.3      3   \n",
       "1   67    1   4       160   286    0        2      108      1      1.5      2   \n",
       "2   67    1   4       120   229    0        2      129      1      2.6      2   \n",
       "3   37    1   3       130   250    0        0      187      0      3.5      3   \n",
       "4   41    0   2       130   204    0        2      172      0      1.4      1   \n",
       "\n",
       "   ca  thal  target  \n",
       "0   0     6       0  \n",
       "1   3     3       1  \n",
       "2   2     7       1  \n",
       "3   0     3       0  \n",
       "4   0     3       0  "
      ]
     },
     "execution_count": 4,
     "metadata": {},
     "output_type": "execute_result"
    }
   ],
   "source": [
    "df.head()"
   ]
  },
  {
   "cell_type": "code",
   "execution_count": 5,
   "metadata": {},
   "outputs": [
    {
     "data": {
      "text/plain": [
       "age         0\n",
       "sex         0\n",
       "cp          0\n",
       "trestbps    0\n",
       "chol        0\n",
       "fbs         0\n",
       "restecg     0\n",
       "thalach     0\n",
       "exang       0\n",
       "oldpeak     0\n",
       "slope       0\n",
       "ca          0\n",
       "thal        0\n",
       "target      0\n",
       "dtype: int64"
      ]
     },
     "execution_count": 5,
     "metadata": {},
     "output_type": "execute_result"
    }
   ],
   "source": [
    "df.isnull().sum()"
   ]
  },
  {
   "attachments": {},
   "cell_type": "markdown",
   "metadata": {},
   "source": [
    "It is important to ensure that there are no missing values before fitting the training data into the synthesizer model."
   ]
  },
  {
   "attachments": {},
   "cell_type": "markdown",
   "metadata": {},
   "source": [
    "# Parameter Processing"
   ]
  },
  {
   "attachments": {},
   "cell_type": "markdown",
   "metadata": {},
   "source": [
    "The following are required parameters that are used to construct a CTGAN Synthesizer.\n",
    "\n",
    "1) categorical_attributes : List of categorical / discrete column names. \n",
    "2) epochs : The number of iterations to train the model on. The minimum number of epochs for a suitable model is 300. For a good starting point, try 500 epochs. Increasing the number of epochs helps up until a certain inflection point. After this, there is no significant improvement."
   ]
  },
  {
   "cell_type": "code",
   "execution_count": 6,
   "metadata": {},
   "outputs": [],
   "source": [
    "# Selecting categorical columns\n",
    "cat_cols = [\"sex\", \"cp\", \"fbs\", \"restecg\", \"exang\", \"slope\", \"ca\", \"thal\", \"target\"]\n",
    "num_cols = [col for col in df.columns if col not in cat_cols]"
   ]
  },
  {
   "cell_type": "code",
   "execution_count": 7,
   "metadata": {},
   "outputs": [],
   "source": [
    "# Mandatory parameter dictionary for DP Synthesizer\n",
    "param_dict = {\n",
    "    \"categorical_attributes\" : cat_cols,\n",
    "    \"epochs\": 850\n",
    "}\n",
    "\n",
    "# Choice of Synthesizer\n",
    "synthesizer_name = \"ctgan\"\n",
    "\n",
    "# Path of data file\n",
    "data_path = os.path.join(parent_dir, 'datasets', 'heartprocessed.csv')\n",
    "\n",
    "# Save synthetic data to current working directory as 'synthetic.csv'\n",
    "synthetic_filepath = os.path.join(os.getcwd(), 'synthetic.csv')"
   ]
  },
  {
   "attachments": {},
   "cell_type": "markdown",
   "metadata": {},
   "source": [
    "The path of both the input data and synthetic filepath has to be specified. For simplicity, we will be saving the synthetic data into the current working directory as 'synthetic.csv'."
   ]
  },
  {
   "attachments": {},
   "cell_type": "markdown",
   "metadata": {},
   "source": [
    "# Generation"
   ]
  },
  {
   "cell_type": "code",
   "execution_count": 8,
   "metadata": {},
   "outputs": [
    {
     "name": "stdout",
     "output_type": "stream",
     "text": [
      "Initialising SDV Processor\n",
      "Processor initialised!\n"
     ]
    }
   ],
   "source": [
    "synthesizer = SynPiper(data_path = data_path, \n",
    "                       synthesizer_name = synthesizer_name, \n",
    "                       param_dict = param_dict,\n",
    "                       synthetic_filepath = synthetic_filepath)"
   ]
  },
  {
   "cell_type": "code",
   "execution_count": 9,
   "metadata": {},
   "outputs": [
    {
     "name": "stdout",
     "output_type": "stream",
     "text": [
      "Processing input data...\n",
      "Starting Generator Training\n"
     ]
    },
    {
     "name": "stderr",
     "output_type": "stream",
     "text": [
      "c:\\Users\\User\\Desktop\\SynPiper\\.venv\\lib\\site-packages\\rdt\\transformers\\base.py:132: FutureWarning: Future versions of RDT will not support the 'model_missing_values' parameter. Please switch to using the 'missing_value_generation' parameter to select your strategy.\n",
      "  warnings.warn(\n",
      "c:\\Users\\User\\Desktop\\SynPiper\\.venv\\lib\\site-packages\\rdt\\transformers\\base.py:132: FutureWarning: Future versions of RDT will not support the 'model_missing_values' parameter. Please switch to using the 'missing_value_generation' parameter to select your strategy.\n",
      "  warnings.warn(\n"
     ]
    },
    {
     "name": "stderr",
     "output_type": "stream",
     "text": [
      "c:\\Users\\User\\Desktop\\SynPiper\\.venv\\lib\\site-packages\\rdt\\transformers\\base.py:132: FutureWarning: Future versions of RDT will not support the 'model_missing_values' parameter. Please switch to using the 'missing_value_generation' parameter to select your strategy.\n",
      "  warnings.warn(\n",
      "c:\\Users\\User\\Desktop\\SynPiper\\.venv\\lib\\site-packages\\rdt\\transformers\\base.py:132: FutureWarning: Future versions of RDT will not support the 'model_missing_values' parameter. Please switch to using the 'missing_value_generation' parameter to select your strategy.\n",
      "  warnings.warn(\n",
      "c:\\Users\\User\\Desktop\\SynPiper\\.venv\\lib\\site-packages\\rdt\\transformers\\base.py:132: FutureWarning: Future versions of RDT will not support the 'model_missing_values' parameter. Please switch to using the 'missing_value_generation' parameter to select your strategy.\n",
      "  warnings.warn(\n"
     ]
    },
    {
     "name": "stdout",
     "output_type": "stream",
     "text": [
      "Epoch 1, Loss G:  1.0271,Loss D: -0.0078\n",
      "Epoch 2, Loss G:  1.0386,Loss D:  0.0016\n",
      "Epoch 3, Loss G:  0.9934,Loss D: -0.0131\n",
      "Epoch 4, Loss G:  1.0030,Loss D: -0.0214\n",
      "Epoch 5, Loss G:  0.9692,Loss D: -0.0307\n",
      "Epoch 6, Loss G:  0.9751,Loss D: -0.0444\n",
      "Epoch 7, Loss G:  0.9931,Loss D: -0.0481\n",
      "Epoch 8, Loss G:  0.9650,Loss D: -0.0636\n",
      "Epoch 9, Loss G:  0.9469,Loss D: -0.0457\n",
      "Epoch 10, Loss G:  0.8577,Loss D: -0.0929\n",
      "Epoch 11, Loss G:  0.8761,Loss D: -0.0952\n",
      "Epoch 12, Loss G:  0.8705,Loss D: -0.0901\n",
      "Epoch 13, Loss G:  0.7747,Loss D: -0.1564\n",
      "Epoch 14, Loss G:  0.8210,Loss D: -0.0885\n",
      "Epoch 15, Loss G:  0.7595,Loss D: -0.1072\n",
      "Epoch 16, Loss G:  0.6571,Loss D: -0.2432\n",
      "Epoch 17, Loss G:  0.6491,Loss D: -0.1136\n",
      "Epoch 18, Loss G:  0.6045,Loss D: -0.2382\n",
      "Epoch 19, Loss G:  0.5823,Loss D: -0.1777\n",
      "Epoch 20, Loss G:  0.4984,Loss D: -0.2868\n",
      "Epoch 21, Loss G:  0.4460,Loss D: -0.1413\n",
      "Epoch 22, Loss G:  0.3376,Loss D: -0.1236\n",
      "Epoch 23, Loss G:  0.2884,Loss D: -0.0538\n",
      "Epoch 24, Loss G:  0.2652,Loss D: -0.1208\n",
      "Epoch 25, Loss G:  0.2161,Loss D: -0.0090\n",
      "Epoch 26, Loss G:  0.2180,Loss D: -0.1855\n",
      "Epoch 27, Loss G:  0.0002,Loss D: -0.1360\n",
      "Epoch 28, Loss G:  0.0183,Loss D: -0.0585\n",
      "Epoch 29, Loss G:  0.0696,Loss D: -0.0116\n",
      "Epoch 30, Loss G: -0.0317,Loss D: -0.1529\n",
      "Epoch 31, Loss G: -0.1410,Loss D: -0.1002\n",
      "Epoch 32, Loss G:  0.1059,Loss D: -0.0614\n",
      "Epoch 33, Loss G: -0.0589,Loss D: -0.0062\n",
      "Epoch 34, Loss G: -0.0638,Loss D:  0.0758\n",
      "Epoch 35, Loss G: -0.1779,Loss D: -0.0391\n",
      "Epoch 36, Loss G: -0.2015,Loss D:  0.0710\n",
      "Epoch 37, Loss G: -0.0820,Loss D:  0.1973\n",
      "Epoch 38, Loss G: -0.1157,Loss D:  0.0607\n",
      "Epoch 39, Loss G: -0.1975,Loss D:  0.1641\n",
      "Epoch 40, Loss G: -0.1269,Loss D:  0.1539\n",
      "Epoch 41, Loss G: -0.1369,Loss D:  0.0866\n",
      "Epoch 42, Loss G: -0.1716,Loss D:  0.1291\n",
      "Epoch 43, Loss G: -0.0380,Loss D:  0.1479\n",
      "Epoch 44, Loss G: -0.1299,Loss D:  0.1228\n",
      "Epoch 45, Loss G: -0.2186,Loss D:  0.0655\n",
      "Epoch 46, Loss G: -0.0716,Loss D: -0.0248\n",
      "Epoch 47, Loss G: -0.1675,Loss D:  0.0373\n",
      "Epoch 48, Loss G: -0.0839,Loss D: -0.0312\n",
      "Epoch 49, Loss G: -0.0258,Loss D: -0.1064\n",
      "Epoch 50, Loss G: -0.1243,Loss D: -0.0562\n",
      "Epoch 51, Loss G: -0.1176,Loss D:  0.0160\n",
      "Epoch 52, Loss G: -0.0590,Loss D: -0.0793\n",
      "Epoch 53, Loss G: -0.0871,Loss D: -0.2843\n",
      "Epoch 54, Loss G:  0.0353,Loss D: -0.1947\n",
      "Epoch 55, Loss G: -0.0584,Loss D: -0.2405\n",
      "Epoch 56, Loss G: -0.2106,Loss D: -0.0558\n",
      "Epoch 57, Loss G: -0.0958,Loss D:  0.0025\n",
      "Epoch 58, Loss G: -0.3157,Loss D: -0.0802\n",
      "Epoch 59, Loss G: -0.1997,Loss D: -0.0142\n",
      "Epoch 60, Loss G: -0.1926,Loss D: -0.1076\n",
      "Epoch 61, Loss G: -0.3671,Loss D:  0.1265\n",
      "Epoch 62, Loss G: -0.3420,Loss D:  0.0856\n",
      "Epoch 63, Loss G: -0.3721,Loss D:  0.0285\n",
      "Epoch 64, Loss G: -0.3508,Loss D: -0.0193\n",
      "Epoch 65, Loss G: -0.3479,Loss D:  0.1433\n",
      "Epoch 66, Loss G: -0.3771,Loss D:  0.1253\n",
      "Epoch 67, Loss G: -0.2699,Loss D:  0.1286\n",
      "Epoch 68, Loss G: -0.3901,Loss D:  0.1529\n",
      "Epoch 69, Loss G: -0.3255,Loss D:  0.0771\n",
      "Epoch 70, Loss G: -0.3530,Loss D:  0.1102\n",
      "Epoch 71, Loss G: -0.1733,Loss D:  0.0353\n",
      "Epoch 72, Loss G: -0.3460,Loss D:  0.0280\n",
      "Epoch 73, Loss G: -0.2462,Loss D:  0.1073\n",
      "Epoch 74, Loss G: -0.3093,Loss D: -0.0665\n",
      "Epoch 75, Loss G: -0.3052,Loss D:  0.0534\n",
      "Epoch 76, Loss G: -0.2568,Loss D: -0.0278\n",
      "Epoch 77, Loss G: -0.1913,Loss D: -0.0392\n",
      "Epoch 78, Loss G: -0.1594,Loss D: -0.0096\n",
      "Epoch 79, Loss G: -0.1339,Loss D:  0.0269\n",
      "Epoch 80, Loss G: -0.2347,Loss D: -0.0264\n",
      "Epoch 81, Loss G: -0.2089,Loss D: -0.0523\n",
      "Epoch 82, Loss G: -0.1516,Loss D: -0.0917\n",
      "Epoch 83, Loss G: -0.2036,Loss D: -0.0377\n",
      "Epoch 84, Loss G: -0.2733,Loss D: -0.0889\n",
      "Epoch 85, Loss G: -0.1810,Loss D:  0.0839\n",
      "Epoch 86, Loss G: -0.1938,Loss D:  0.0301\n",
      "Epoch 87, Loss G: -0.2940,Loss D: -0.0535\n",
      "Epoch 88, Loss G: -0.3991,Loss D: -0.0421\n",
      "Epoch 89, Loss G: -0.3698,Loss D:  0.0170\n",
      "Epoch 90, Loss G: -0.4260,Loss D:  0.1038\n",
      "Epoch 91, Loss G: -0.4824,Loss D:  0.0624\n",
      "Epoch 92, Loss G: -0.3785,Loss D:  0.0358\n",
      "Epoch 93, Loss G: -0.5237,Loss D:  0.0524\n",
      "Epoch 94, Loss G: -0.4488,Loss D:  0.2319\n",
      "Epoch 95, Loss G: -0.5294,Loss D:  0.0334\n",
      "Epoch 96, Loss G: -0.4254,Loss D:  0.0978\n",
      "Epoch 97, Loss G: -0.4591,Loss D:  0.0435\n",
      "Epoch 98, Loss G: -0.4365,Loss D:  0.0057\n",
      "Epoch 99, Loss G: -0.4275,Loss D:  0.0413\n",
      "Epoch 100, Loss G: -0.5430,Loss D:  0.0335\n",
      "Epoch 101, Loss G: -0.4524,Loss D: -0.0236\n",
      "Epoch 102, Loss G: -0.3805,Loss D: -0.0530\n",
      "Epoch 103, Loss G: -0.4312,Loss D: -0.0983\n",
      "Epoch 104, Loss G: -0.3947,Loss D: -0.0391\n",
      "Epoch 105, Loss G: -0.2428,Loss D: -0.0030\n",
      "Epoch 106, Loss G: -0.3606,Loss D: -0.0587\n",
      "Epoch 107, Loss G: -0.4041,Loss D: -0.0374\n",
      "Epoch 108, Loss G: -0.4318,Loss D: -0.0837\n",
      "Epoch 109, Loss G: -0.3975,Loss D: -0.1336\n",
      "Epoch 110, Loss G: -0.3179,Loss D: -0.1814\n",
      "Epoch 111, Loss G: -0.4343,Loss D: -0.0337\n",
      "Epoch 112, Loss G: -0.4560,Loss D: -0.0080\n",
      "Epoch 113, Loss G: -0.5043,Loss D: -0.0350\n",
      "Epoch 114, Loss G: -0.4166,Loss D: -0.0476\n",
      "Epoch 115, Loss G: -0.4953,Loss D: -0.0448\n",
      "Epoch 116, Loss G: -0.5082,Loss D:  0.1579\n",
      "Epoch 117, Loss G: -0.5730,Loss D: -0.0169\n",
      "Epoch 118, Loss G: -0.5348,Loss D:  0.0861\n",
      "Epoch 119, Loss G: -0.5793,Loss D: -0.1007\n",
      "Epoch 120, Loss G: -0.5923,Loss D:  0.0494\n",
      "Epoch 121, Loss G: -0.5660,Loss D:  0.1045\n",
      "Epoch 122, Loss G: -0.5847,Loss D: -0.0173\n",
      "Epoch 123, Loss G: -0.4955,Loss D:  0.0738\n",
      "Epoch 124, Loss G: -0.5513,Loss D:  0.1466\n",
      "Epoch 125, Loss G: -0.6266,Loss D: -0.0785\n",
      "Epoch 126, Loss G: -0.5270,Loss D:  0.0918\n",
      "Epoch 127, Loss G: -0.5971,Loss D: -0.0721\n",
      "Epoch 128, Loss G: -0.5257,Loss D: -0.0251\n",
      "Epoch 129, Loss G: -0.5085,Loss D:  0.0664\n",
      "Epoch 130, Loss G: -0.3556,Loss D: -0.0419\n",
      "Epoch 131, Loss G: -0.4782,Loss D: -0.1995\n",
      "Epoch 132, Loss G: -0.3351,Loss D:  0.0405\n",
      "Epoch 133, Loss G: -0.3054,Loss D:  0.0336\n",
      "Epoch 134, Loss G: -0.4209,Loss D: -0.0939\n",
      "Epoch 135, Loss G: -0.5180,Loss D:  0.1129\n",
      "Epoch 136, Loss G: -0.4693,Loss D:  0.0674\n",
      "Epoch 137, Loss G: -0.4803,Loss D: -0.0178\n",
      "Epoch 138, Loss G: -0.4837,Loss D:  0.0778\n",
      "Epoch 139, Loss G: -0.5074,Loss D:  0.0935\n",
      "Epoch 140, Loss G: -0.5160,Loss D:  0.0380\n",
      "Epoch 141, Loss G: -0.5604,Loss D:  0.0635\n",
      "Epoch 142, Loss G: -0.4565,Loss D:  0.0048\n",
      "Epoch 143, Loss G: -0.6425,Loss D:  0.0017\n",
      "Epoch 144, Loss G: -0.7960,Loss D:  0.0952\n",
      "Epoch 145, Loss G: -0.6707,Loss D:  0.0736\n",
      "Epoch 146, Loss G: -0.6479,Loss D:  0.0648\n",
      "Epoch 147, Loss G: -0.5292,Loss D:  0.0582\n",
      "Epoch 148, Loss G: -0.6118,Loss D:  0.0401\n",
      "Epoch 149, Loss G: -0.6854,Loss D:  0.0814\n",
      "Epoch 150, Loss G: -0.6944,Loss D: -0.0083\n",
      "Epoch 151, Loss G: -0.6313,Loss D: -0.1091\n",
      "Epoch 152, Loss G: -0.7198,Loss D:  0.1215\n",
      "Epoch 153, Loss G: -0.6781,Loss D: -0.0045\n",
      "Epoch 154, Loss G: -0.7557,Loss D: -0.0109\n",
      "Epoch 155, Loss G: -0.6832,Loss D: -0.1209\n",
      "Epoch 156, Loss G: -0.5044,Loss D: -0.0141\n",
      "Epoch 157, Loss G: -0.6421,Loss D: -0.1736\n",
      "Epoch 158, Loss G: -0.6036,Loss D: -0.1990\n",
      "Epoch 159, Loss G: -0.5906,Loss D: -0.1574\n",
      "Epoch 160, Loss G: -0.5733,Loss D: -0.1626\n",
      "Epoch 161, Loss G: -0.6251,Loss D: -0.1699\n",
      "Epoch 162, Loss G: -0.5844,Loss D: -0.1170\n",
      "Epoch 163, Loss G: -0.6539,Loss D: -0.2143\n",
      "Epoch 164, Loss G: -0.7257,Loss D: -0.1350\n",
      "Epoch 165, Loss G: -0.5998,Loss D: -0.0756\n",
      "Epoch 166, Loss G: -0.8413,Loss D:  0.1158\n",
      "Epoch 167, Loss G: -0.8485,Loss D:  0.1154\n",
      "Epoch 168, Loss G: -0.8607,Loss D:  0.0364\n",
      "Epoch 169, Loss G: -0.8943,Loss D:  0.1177\n",
      "Epoch 170, Loss G: -0.9134,Loss D:  0.0651\n",
      "Epoch 171, Loss G: -0.9508,Loss D:  0.0462\n",
      "Epoch 172, Loss G: -0.7974,Loss D:  0.1595\n",
      "Epoch 173, Loss G: -0.9158,Loss D:  0.1344\n",
      "Epoch 174, Loss G: -0.9367,Loss D:  0.2285\n",
      "Epoch 175, Loss G: -1.0387,Loss D:  0.2242\n",
      "Epoch 176, Loss G: -0.9648,Loss D:  0.2692\n",
      "Epoch 177, Loss G: -0.9987,Loss D:  0.1865\n",
      "Epoch 178, Loss G: -1.0632,Loss D:  0.3007\n",
      "Epoch 179, Loss G: -0.8463,Loss D:  0.2157\n",
      "Epoch 180, Loss G: -0.8127,Loss D:  0.1958\n",
      "Epoch 181, Loss G: -0.9295,Loss D:  0.1179\n",
      "Epoch 182, Loss G: -0.7450,Loss D:  0.0098\n",
      "Epoch 183, Loss G: -0.7041,Loss D:  0.0154\n",
      "Epoch 184, Loss G: -0.7757,Loss D: -0.0937\n",
      "Epoch 185, Loss G: -0.7018,Loss D: -0.0822\n",
      "Epoch 186, Loss G: -0.6794,Loss D: -0.0907\n",
      "Epoch 187, Loss G: -0.6032,Loss D: -0.0207\n",
      "Epoch 188, Loss G: -0.5428,Loss D: -0.1456\n",
      "Epoch 189, Loss G: -0.4768,Loss D: -0.1647\n",
      "Epoch 190, Loss G: -0.6770,Loss D: -0.2324\n",
      "Epoch 191, Loss G: -0.4595,Loss D: -0.2119\n",
      "Epoch 192, Loss G: -0.4903,Loss D: -0.2084\n",
      "Epoch 193, Loss G: -0.4706,Loss D: -0.0740\n",
      "Epoch 194, Loss G: -0.6481,Loss D: -0.1553\n",
      "Epoch 195, Loss G: -0.6391,Loss D: -0.2697\n",
      "Epoch 196, Loss G: -0.7456,Loss D: -0.2142\n",
      "Epoch 197, Loss G: -0.6838,Loss D: -0.0614\n",
      "Epoch 198, Loss G: -0.7083,Loss D:  0.0263\n",
      "Epoch 199, Loss G: -0.8161,Loss D:  0.0677\n",
      "Epoch 200, Loss G: -0.8127,Loss D:  0.0087\n",
      "Epoch 201, Loss G: -0.9142,Loss D:  0.0426\n",
      "Epoch 202, Loss G: -0.8565,Loss D:  0.2399\n",
      "Epoch 203, Loss G: -0.8324,Loss D:  0.2547\n",
      "Epoch 204, Loss G: -0.8455,Loss D:  0.1552\n",
      "Epoch 205, Loss G: -0.8388,Loss D:  0.0695\n",
      "Epoch 206, Loss G: -0.8536,Loss D:  0.2173\n",
      "Epoch 207, Loss G: -0.8458,Loss D:  0.1319\n",
      "Epoch 208, Loss G: -0.7975,Loss D:  0.0743\n",
      "Epoch 209, Loss G: -0.9531,Loss D:  0.1022\n",
      "Epoch 210, Loss G: -0.8740,Loss D:  0.2431\n",
      "Epoch 211, Loss G: -0.7815,Loss D:  0.0275\n",
      "Epoch 212, Loss G: -0.7566,Loss D:  0.0129\n",
      "Epoch 213, Loss G: -0.7807,Loss D: -0.0900\n",
      "Epoch 214, Loss G: -0.6927,Loss D: -0.1007\n",
      "Epoch 215, Loss G: -0.7009,Loss D: -0.0928\n",
      "Epoch 216, Loss G: -0.7960,Loss D: -0.1909\n",
      "Epoch 217, Loss G: -0.6362,Loss D: -0.0833\n",
      "Epoch 218, Loss G: -0.5993,Loss D: -0.0537\n",
      "Epoch 219, Loss G: -0.7693,Loss D: -0.0679\n",
      "Epoch 220, Loss G: -0.8060,Loss D: -0.0493\n",
      "Epoch 221, Loss G: -0.7461,Loss D: -0.0260\n",
      "Epoch 222, Loss G: -0.9552,Loss D: -0.0321\n",
      "Epoch 223, Loss G: -0.8172,Loss D: -0.1788\n",
      "Epoch 224, Loss G: -0.8762,Loss D: -0.0618\n",
      "Epoch 225, Loss G: -0.9080,Loss D: -0.0211\n",
      "Epoch 226, Loss G: -0.8922,Loss D: -0.1669\n",
      "Epoch 227, Loss G: -1.0330,Loss D:  0.0201\n",
      "Epoch 228, Loss G: -1.1952,Loss D:  0.0204\n",
      "Epoch 229, Loss G: -1.0526,Loss D:  0.1717\n",
      "Epoch 230, Loss G: -1.1110,Loss D:  0.0484\n",
      "Epoch 231, Loss G: -1.0219,Loss D: -0.0063\n",
      "Epoch 232, Loss G: -1.1047,Loss D:  0.1155\n",
      "Epoch 233, Loss G: -1.1310,Loss D: -0.0403\n",
      "Epoch 234, Loss G: -0.9701,Loss D: -0.0086\n",
      "Epoch 235, Loss G: -1.0856,Loss D: -0.0483\n",
      "Epoch 236, Loss G: -0.9979,Loss D:  0.0422\n",
      "Epoch 237, Loss G: -1.0265,Loss D: -0.0346\n",
      "Epoch 238, Loss G: -0.9108,Loss D: -0.0130\n",
      "Epoch 239, Loss G: -0.9267,Loss D: -0.1949\n",
      "Epoch 240, Loss G: -0.9680,Loss D: -0.0833\n",
      "Epoch 241, Loss G: -0.9467,Loss D: -0.1099\n",
      "Epoch 242, Loss G: -0.9118,Loss D: -0.2813\n",
      "Epoch 243, Loss G: -0.9956,Loss D: -0.0837\n",
      "Epoch 244, Loss G: -0.9577,Loss D: -0.1064\n",
      "Epoch 245, Loss G: -0.8313,Loss D: -0.1473\n",
      "Epoch 246, Loss G: -0.9256,Loss D: -0.1452\n",
      "Epoch 247, Loss G: -1.0539,Loss D:  0.0204\n",
      "Epoch 248, Loss G: -0.9541,Loss D: -0.1524\n",
      "Epoch 249, Loss G: -1.0719,Loss D:  0.0138\n",
      "Epoch 250, Loss G: -0.9250,Loss D: -0.0193\n",
      "Epoch 251, Loss G: -1.0855,Loss D:  0.0225\n",
      "Epoch 252, Loss G: -1.0708,Loss D:  0.0349\n",
      "Epoch 253, Loss G: -1.0673,Loss D: -0.0624\n",
      "Epoch 254, Loss G: -1.0261,Loss D:  0.2192\n",
      "Epoch 255, Loss G: -1.1229,Loss D:  0.0958\n",
      "Epoch 256, Loss G: -1.1829,Loss D:  0.1126\n",
      "Epoch 257, Loss G: -1.0414,Loss D:  0.1001\n",
      "Epoch 258, Loss G: -1.1452,Loss D: -0.0848\n",
      "Epoch 259, Loss G: -1.1847,Loss D:  0.0734\n",
      "Epoch 260, Loss G: -1.1214,Loss D:  0.0920\n",
      "Epoch 261, Loss G: -1.0131,Loss D:  0.0237\n",
      "Epoch 262, Loss G: -1.0899,Loss D:  0.0296\n",
      "Epoch 263, Loss G: -1.0566,Loss D: -0.0069\n",
      "Epoch 264, Loss G: -0.8762,Loss D:  0.0414\n",
      "Epoch 265, Loss G: -1.0394,Loss D: -0.1931\n",
      "Epoch 266, Loss G: -1.1229,Loss D:  0.0460\n",
      "Epoch 267, Loss G: -0.9021,Loss D:  0.0812\n",
      "Epoch 268, Loss G: -1.0017,Loss D:  0.0132\n",
      "Epoch 269, Loss G: -0.9376,Loss D: -0.1370\n",
      "Epoch 270, Loss G: -0.9940,Loss D: -0.0513\n",
      "Epoch 271, Loss G: -0.9802,Loss D: -0.0656\n",
      "Epoch 272, Loss G: -1.1118,Loss D: -0.1292\n",
      "Epoch 273, Loss G: -1.2131,Loss D: -0.1217\n",
      "Epoch 274, Loss G: -0.9721,Loss D:  0.0693\n",
      "Epoch 275, Loss G: -1.1442,Loss D: -0.0217\n",
      "Epoch 276, Loss G: -0.9604,Loss D: -0.0677\n",
      "Epoch 277, Loss G: -1.0799,Loss D:  0.0685\n",
      "Epoch 278, Loss G: -1.0263,Loss D: -0.2388\n",
      "Epoch 279, Loss G: -1.1276,Loss D: -0.0315\n",
      "Epoch 280, Loss G: -1.2558,Loss D: -0.0829\n",
      "Epoch 281, Loss G: -1.0684,Loss D: -0.2302\n",
      "Epoch 282, Loss G: -1.1251,Loss D: -0.1008\n",
      "Epoch 283, Loss G: -1.1148,Loss D: -0.0209\n",
      "Epoch 284, Loss G: -1.0125,Loss D: -0.0990\n",
      "Epoch 285, Loss G: -0.9811,Loss D: -0.1891\n",
      "Epoch 286, Loss G: -1.0581,Loss D: -0.1345\n",
      "Epoch 287, Loss G: -1.1179,Loss D: -0.0461\n",
      "Epoch 288, Loss G: -1.1875,Loss D: -0.1405\n",
      "Epoch 289, Loss G: -1.1624,Loss D: -0.0316\n",
      "Epoch 290, Loss G: -1.0941,Loss D: -0.1437\n",
      "Epoch 291, Loss G: -1.1370,Loss D:  0.0620\n",
      "Epoch 292, Loss G: -1.1441,Loss D:  0.1506\n",
      "Epoch 293, Loss G: -1.0919,Loss D:  0.0683\n",
      "Epoch 294, Loss G: -1.1724,Loss D:  0.0338\n",
      "Epoch 295, Loss G: -1.1609,Loss D:  0.0383\n",
      "Epoch 296, Loss G: -1.2245,Loss D:  0.1286\n",
      "Epoch 297, Loss G: -1.2956,Loss D:  0.1101\n",
      "Epoch 298, Loss G: -1.3370,Loss D:  0.0471\n",
      "Epoch 299, Loss G: -1.2955,Loss D:  0.0679\n",
      "Epoch 300, Loss G: -1.2984,Loss D:  0.0293\n",
      "Epoch 301, Loss G: -1.2657,Loss D:  0.0694\n",
      "Epoch 302, Loss G: -1.2155,Loss D:  0.0408\n",
      "Epoch 303, Loss G: -1.2521,Loss D: -0.1713\n",
      "Epoch 304, Loss G: -1.2276,Loss D:  0.0837\n",
      "Epoch 305, Loss G: -1.2191,Loss D: -0.1623\n",
      "Epoch 306, Loss G: -1.1173,Loss D: -0.0286\n",
      "Epoch 307, Loss G: -1.2073,Loss D: -0.1567\n",
      "Epoch 308, Loss G: -1.1853,Loss D: -0.1321\n",
      "Epoch 309, Loss G: -1.1741,Loss D: -0.2314\n",
      "Epoch 310, Loss G: -1.2011,Loss D: -0.1835\n",
      "Epoch 311, Loss G: -1.2460,Loss D: -0.1802\n",
      "Epoch 312, Loss G: -1.3046,Loss D: -0.1205\n",
      "Epoch 313, Loss G: -1.2556,Loss D: -0.1102\n",
      "Epoch 314, Loss G: -1.2700,Loss D: -0.1106\n",
      "Epoch 315, Loss G: -1.2529,Loss D: -0.1403\n",
      "Epoch 316, Loss G: -1.3199,Loss D: -0.2055\n",
      "Epoch 317, Loss G: -1.2668,Loss D: -0.0562\n",
      "Epoch 318, Loss G: -1.2972,Loss D: -0.0024\n",
      "Epoch 319, Loss G: -1.2403,Loss D:  0.0393\n",
      "Epoch 320, Loss G: -1.3117,Loss D: -0.0093\n",
      "Epoch 321, Loss G: -1.2934,Loss D:  0.1817\n",
      "Epoch 322, Loss G: -1.3939,Loss D: -0.0912\n",
      "Epoch 323, Loss G: -1.2407,Loss D: -0.0172\n",
      "Epoch 324, Loss G: -1.2617,Loss D: -0.0123\n",
      "Epoch 325, Loss G: -1.2213,Loss D: -0.0267\n",
      "Epoch 326, Loss G: -1.1301,Loss D:  0.0101\n",
      "Epoch 327, Loss G: -1.1978,Loss D:  0.0287\n",
      "Epoch 328, Loss G: -1.1482,Loss D: -0.0381\n",
      "Epoch 329, Loss G: -1.2294,Loss D: -0.0466\n",
      "Epoch 330, Loss G: -1.2355,Loss D:  0.0275\n",
      "Epoch 331, Loss G: -1.2286,Loss D:  0.1168\n",
      "Epoch 332, Loss G: -1.2396,Loss D: -0.0421\n",
      "Epoch 333, Loss G: -1.2306,Loss D:  0.0294\n",
      "Epoch 334, Loss G: -1.2029,Loss D:  0.0201\n",
      "Epoch 335, Loss G: -1.2326,Loss D: -0.0708\n",
      "Epoch 336, Loss G: -1.2087,Loss D: -0.0180\n",
      "Epoch 337, Loss G: -1.1299,Loss D:  0.0125\n",
      "Epoch 338, Loss G: -1.1538,Loss D: -0.1320\n",
      "Epoch 339, Loss G: -1.0459,Loss D:  0.0019\n",
      "Epoch 340, Loss G: -1.1842,Loss D: -0.0619\n",
      "Epoch 341, Loss G: -1.2184,Loss D: -0.0759\n",
      "Epoch 342, Loss G: -1.1982,Loss D: -0.1174\n",
      "Epoch 343, Loss G: -1.2228,Loss D: -0.1813\n",
      "Epoch 344, Loss G: -1.1304,Loss D:  0.0420\n",
      "Epoch 345, Loss G: -1.2998,Loss D: -0.3566\n",
      "Epoch 346, Loss G: -1.1481,Loss D: -0.2866\n",
      "Epoch 347, Loss G: -1.1610,Loss D: -0.2394\n",
      "Epoch 348, Loss G: -1.2928,Loss D: -0.2610\n",
      "Epoch 349, Loss G: -1.2619,Loss D: -0.2087\n",
      "Epoch 350, Loss G: -1.0936,Loss D: -0.1823\n",
      "Epoch 351, Loss G: -1.2232,Loss D: -0.1563\n",
      "Epoch 352, Loss G: -1.2170,Loss D: -0.0687\n",
      "Epoch 353, Loss G: -1.2998,Loss D: -0.0737\n",
      "Epoch 354, Loss G: -1.2440,Loss D: -0.1580\n",
      "Epoch 355, Loss G: -1.2522,Loss D: -0.0116\n",
      "Epoch 356, Loss G: -1.3112,Loss D: -0.1516\n",
      "Epoch 357, Loss G: -1.1675,Loss D: -0.0581\n",
      "Epoch 358, Loss G: -1.3564,Loss D: -0.0562\n",
      "Epoch 359, Loss G: -1.3783,Loss D:  0.2267\n",
      "Epoch 360, Loss G: -1.3625,Loss D:  0.1701\n",
      "Epoch 361, Loss G: -1.3403,Loss D:  0.0710\n",
      "Epoch 362, Loss G: -1.5068,Loss D:  0.1499\n",
      "Epoch 363, Loss G: -1.4761,Loss D:  0.0310\n",
      "Epoch 364, Loss G: -1.3899,Loss D: -0.0026\n",
      "Epoch 365, Loss G: -1.4499,Loss D:  0.0593\n",
      "Epoch 366, Loss G: -1.4753,Loss D: -0.0859\n",
      "Epoch 367, Loss G: -1.4149,Loss D:  0.0711\n",
      "Epoch 368, Loss G: -1.3901,Loss D: -0.1821\n",
      "Epoch 369, Loss G: -1.3640,Loss D:  0.0055\n",
      "Epoch 370, Loss G: -1.2485,Loss D: -0.1289\n",
      "Epoch 371, Loss G: -1.2389,Loss D: -0.0300\n",
      "Epoch 372, Loss G: -1.2993,Loss D: -0.1124\n",
      "Epoch 373, Loss G: -1.1502,Loss D: -0.1253\n",
      "Epoch 374, Loss G: -1.1918,Loss D: -0.1438\n",
      "Epoch 375, Loss G: -1.1924,Loss D: -0.0484\n",
      "Epoch 376, Loss G: -1.2208,Loss D: -0.1587\n",
      "Epoch 377, Loss G: -1.2567,Loss D: -0.2360\n",
      "Epoch 378, Loss G: -1.2459,Loss D: -0.3026\n",
      "Epoch 379, Loss G: -1.2487,Loss D: -0.1359\n",
      "Epoch 380, Loss G: -1.2889,Loss D: -0.1339\n",
      "Epoch 381, Loss G: -1.2494,Loss D: -0.2956\n",
      "Epoch 382, Loss G: -1.3346,Loss D: -0.3347\n",
      "Epoch 383, Loss G: -1.1858,Loss D: -0.0999\n",
      "Epoch 384, Loss G: -1.2817,Loss D: -0.0201\n",
      "Epoch 385, Loss G: -1.3114,Loss D: -0.0474\n",
      "Epoch 386, Loss G: -1.4878,Loss D:  0.0064\n",
      "Epoch 387, Loss G: -1.4862,Loss D:  0.0346\n",
      "Epoch 388, Loss G: -1.5407,Loss D:  0.1284\n",
      "Epoch 389, Loss G: -1.4029,Loss D: -0.0408\n",
      "Epoch 390, Loss G: -1.3773,Loss D: -0.0083\n",
      "Epoch 391, Loss G: -1.5627,Loss D:  0.0156\n",
      "Epoch 392, Loss G: -1.4579,Loss D: -0.0323\n",
      "Epoch 393, Loss G: -1.5044,Loss D: -0.1020\n",
      "Epoch 394, Loss G: -1.5407,Loss D: -0.1519\n",
      "Epoch 395, Loss G: -1.4898,Loss D:  0.0848\n",
      "Epoch 396, Loss G: -1.5879,Loss D: -0.1509\n",
      "Epoch 397, Loss G: -1.5510,Loss D:  0.0889\n",
      "Epoch 398, Loss G: -1.5500,Loss D:  0.0669\n",
      "Epoch 399, Loss G: -1.4296,Loss D: -0.2122\n",
      "Epoch 400, Loss G: -1.3888,Loss D: -0.0795\n",
      "Epoch 401, Loss G: -1.3769,Loss D: -0.0806\n",
      "Epoch 402, Loss G: -1.4412,Loss D: -0.1451\n",
      "Epoch 403, Loss G: -1.3562,Loss D: -0.0311\n",
      "Epoch 404, Loss G: -1.3182,Loss D:  0.0176\n",
      "Epoch 405, Loss G: -1.2963,Loss D: -0.0781\n",
      "Epoch 406, Loss G: -1.2855,Loss D: -0.1252\n",
      "Epoch 407, Loss G: -1.2209,Loss D: -0.1034\n",
      "Epoch 408, Loss G: -1.2057,Loss D: -0.1903\n",
      "Epoch 409, Loss G: -1.2774,Loss D:  0.0723\n",
      "Epoch 410, Loss G: -1.2098,Loss D:  0.0452\n",
      "Epoch 411, Loss G: -1.2807,Loss D: -0.0436\n",
      "Epoch 412, Loss G: -1.1513,Loss D: -0.1456\n",
      "Epoch 413, Loss G: -1.1923,Loss D: -0.1146\n",
      "Epoch 414, Loss G: -1.2339,Loss D: -0.2204\n",
      "Epoch 415, Loss G: -1.2016,Loss D: -0.2015\n",
      "Epoch 416, Loss G: -1.2578,Loss D: -0.1173\n",
      "Epoch 417, Loss G: -1.3815,Loss D: -0.1685\n",
      "Epoch 418, Loss G: -1.2716,Loss D: -0.1652\n",
      "Epoch 419, Loss G: -1.2666,Loss D: -0.1480\n",
      "Epoch 420, Loss G: -1.2948,Loss D: -0.0021\n",
      "Epoch 421, Loss G: -1.2774,Loss D: -0.0743\n",
      "Epoch 422, Loss G: -1.3081,Loss D: -0.0464\n",
      "Epoch 423, Loss G: -1.2977,Loss D: -0.1329\n",
      "Epoch 424, Loss G: -1.4610,Loss D: -0.0959\n",
      "Epoch 425, Loss G: -1.3819,Loss D: -0.2433\n",
      "Epoch 426, Loss G: -1.4448,Loss D: -0.1060\n",
      "Epoch 427, Loss G: -1.4546,Loss D: -0.0473\n",
      "Epoch 428, Loss G: -1.4792,Loss D: -0.0452\n",
      "Epoch 429, Loss G: -1.5457,Loss D:  0.0012\n",
      "Epoch 430, Loss G: -1.4393,Loss D: -0.0405\n",
      "Epoch 431, Loss G: -1.4937,Loss D: -0.0737\n",
      "Epoch 432, Loss G: -1.5794,Loss D: -0.1786\n",
      "Epoch 433, Loss G: -1.5604,Loss D: -0.0881\n",
      "Epoch 434, Loss G: -1.5037,Loss D:  0.0363\n",
      "Epoch 435, Loss G: -1.3948,Loss D:  0.1288\n",
      "Epoch 436, Loss G: -1.3575,Loss D: -0.0666\n",
      "Epoch 437, Loss G: -1.4595,Loss D: -0.1270\n",
      "Epoch 438, Loss G: -1.4524,Loss D: -0.1019\n",
      "Epoch 439, Loss G: -1.4760,Loss D: -0.2573\n",
      "Epoch 440, Loss G: -1.3703,Loss D: -0.1296\n",
      "Epoch 441, Loss G: -1.3135,Loss D: -0.0843\n",
      "Epoch 442, Loss G: -1.2595,Loss D: -0.1310\n",
      "Epoch 443, Loss G: -1.3480,Loss D: -0.2143\n",
      "Epoch 444, Loss G: -1.3045,Loss D: -0.1821\n",
      "Epoch 445, Loss G: -1.3933,Loss D: -0.1455\n",
      "Epoch 446, Loss G: -1.2860,Loss D: -0.3300\n",
      "Epoch 447, Loss G: -1.3722,Loss D: -0.1434\n",
      "Epoch 448, Loss G: -1.3650,Loss D: -0.4040\n",
      "Epoch 449, Loss G: -1.2843,Loss D: -0.1435\n",
      "Epoch 450, Loss G: -1.3928,Loss D: -0.1483\n",
      "Epoch 451, Loss G: -1.3653,Loss D:  0.0328\n",
      "Epoch 452, Loss G: -1.4777,Loss D: -0.0274\n",
      "Epoch 453, Loss G: -1.4870,Loss D: -0.0823\n",
      "Epoch 454, Loss G: -1.4746,Loss D: -0.0143\n",
      "Epoch 455, Loss G: -1.4566,Loss D:  0.0515\n",
      "Epoch 456, Loss G: -1.3835,Loss D: -0.0109\n",
      "Epoch 457, Loss G: -1.3869,Loss D:  0.1684\n",
      "Epoch 458, Loss G: -1.4322,Loss D:  0.2181\n",
      "Epoch 459, Loss G: -1.4622,Loss D:  0.0340\n",
      "Epoch 460, Loss G: -1.4036,Loss D: -0.0482\n",
      "Epoch 461, Loss G: -1.5239,Loss D:  0.1324\n",
      "Epoch 462, Loss G: -1.3786,Loss D: -0.0049\n",
      "Epoch 463, Loss G: -1.4658,Loss D: -0.0500\n",
      "Epoch 464, Loss G: -1.4772,Loss D: -0.0067\n",
      "Epoch 465, Loss G: -1.5026,Loss D: -0.2084\n",
      "Epoch 466, Loss G: -1.4814,Loss D: -0.1531\n",
      "Epoch 467, Loss G: -1.4122,Loss D: -0.1361\n",
      "Epoch 468, Loss G: -1.3214,Loss D: -0.0149\n",
      "Epoch 469, Loss G: -1.2284,Loss D: -0.1744\n",
      "Epoch 470, Loss G: -1.4015,Loss D: -0.3490\n",
      "Epoch 471, Loss G: -1.2563,Loss D: -0.1596\n",
      "Epoch 472, Loss G: -1.3505,Loss D: -0.1349\n",
      "Epoch 473, Loss G: -1.3644,Loss D: -0.0901\n",
      "Epoch 474, Loss G: -1.3797,Loss D: -0.2589\n",
      "Epoch 475, Loss G: -1.2671,Loss D: -0.2948\n",
      "Epoch 476, Loss G: -1.2108,Loss D: -0.3115\n",
      "Epoch 477, Loss G: -1.3389,Loss D: -0.2723\n",
      "Epoch 478, Loss G: -1.2842,Loss D: -0.2275\n",
      "Epoch 479, Loss G: -1.2271,Loss D:  0.0091\n",
      "Epoch 480, Loss G: -1.2716,Loss D: -0.1363\n",
      "Epoch 481, Loss G: -1.2754,Loss D: -0.1382\n",
      "Epoch 482, Loss G: -1.2553,Loss D: -0.3283\n",
      "Epoch 483, Loss G: -1.2742,Loss D: -0.1539\n",
      "Epoch 484, Loss G: -1.2379,Loss D: -0.2673\n",
      "Epoch 485, Loss G: -1.2239,Loss D: -0.2161\n",
      "Epoch 486, Loss G: -1.3770,Loss D: -0.0703\n",
      "Epoch 487, Loss G: -1.2119,Loss D: -0.1570\n",
      "Epoch 488, Loss G: -1.3166,Loss D: -0.0998\n",
      "Epoch 489, Loss G: -1.2795,Loss D: -0.0746\n",
      "Epoch 490, Loss G: -1.2530,Loss D: -0.0378\n",
      "Epoch 491, Loss G: -1.4005,Loss D: -0.0184\n",
      "Epoch 492, Loss G: -1.4396,Loss D: -0.0266\n",
      "Epoch 493, Loss G: -1.4466,Loss D: -0.0487\n",
      "Epoch 494, Loss G: -1.4065,Loss D: -0.0048\n",
      "Epoch 495, Loss G: -1.4592,Loss D:  0.0332\n",
      "Epoch 496, Loss G: -1.4779,Loss D: -0.0315\n",
      "Epoch 497, Loss G: -1.4821,Loss D:  0.0316\n",
      "Epoch 498, Loss G: -1.5837,Loss D:  0.0942\n",
      "Epoch 499, Loss G: -1.4381,Loss D: -0.0189\n",
      "Epoch 500, Loss G: -1.4473,Loss D:  0.0361\n",
      "Epoch 501, Loss G: -1.3879,Loss D: -0.1315\n",
      "Epoch 502, Loss G: -1.2989,Loss D: -0.1213\n",
      "Epoch 503, Loss G: -1.3653,Loss D: -0.3202\n",
      "Epoch 504, Loss G: -1.3328,Loss D: -0.1930\n",
      "Epoch 505, Loss G: -1.3205,Loss D:  0.0419\n",
      "Epoch 506, Loss G: -1.2563,Loss D: -0.1671\n",
      "Epoch 507, Loss G: -1.2164,Loss D:  0.0669\n",
      "Epoch 508, Loss G: -1.2512,Loss D: -0.2590\n",
      "Epoch 509, Loss G: -1.3978,Loss D: -0.2145\n",
      "Epoch 510, Loss G: -1.3150,Loss D: -0.2155\n",
      "Epoch 511, Loss G: -1.2664,Loss D: -0.3067\n",
      "Epoch 512, Loss G: -1.3917,Loss D: -0.1798\n",
      "Epoch 513, Loss G: -1.3902,Loss D: -0.2372\n",
      "Epoch 514, Loss G: -1.4050,Loss D: -0.3263\n",
      "Epoch 515, Loss G: -1.5082,Loss D: -0.2933\n",
      "Epoch 516, Loss G: -1.4526,Loss D: -0.3532\n",
      "Epoch 517, Loss G: -1.5559,Loss D: -0.0730\n",
      "Epoch 518, Loss G: -1.4383,Loss D: -0.1990\n",
      "Epoch 519, Loss G: -1.4737,Loss D: -0.1284\n",
      "Epoch 520, Loss G: -1.5306,Loss D: -0.2449\n",
      "Epoch 521, Loss G: -1.5273,Loss D: -0.1066\n",
      "Epoch 522, Loss G: -1.5648,Loss D: -0.2857\n",
      "Epoch 523, Loss G: -1.4094,Loss D: -0.1719\n",
      "Epoch 524, Loss G: -1.5804,Loss D: -0.2834\n",
      "Epoch 525, Loss G: -1.5405,Loss D: -0.1153\n",
      "Epoch 526, Loss G: -1.3525,Loss D: -0.2279\n",
      "Epoch 527, Loss G: -1.4745,Loss D: -0.0749\n",
      "Epoch 528, Loss G: -1.4150,Loss D: -0.1128\n",
      "Epoch 529, Loss G: -1.4927,Loss D: -0.2218\n",
      "Epoch 530, Loss G: -1.4543,Loss D: -0.1298\n",
      "Epoch 531, Loss G: -1.4550,Loss D: -0.0715\n",
      "Epoch 532, Loss G: -1.4899,Loss D: -0.0705\n",
      "Epoch 533, Loss G: -1.6195,Loss D: -0.0911\n",
      "Epoch 534, Loss G: -1.4673,Loss D: -0.1453\n",
      "Epoch 535, Loss G: -1.4590,Loss D: -0.0900\n",
      "Epoch 536, Loss G: -1.4563,Loss D: -0.1429\n",
      "Epoch 537, Loss G: -1.6906,Loss D:  0.0204\n",
      "Epoch 538, Loss G: -1.4963,Loss D:  0.0883\n",
      "Epoch 539, Loss G: -1.4792,Loss D: -0.1182\n",
      "Epoch 540, Loss G: -1.4080,Loss D:  0.0375\n",
      "Epoch 541, Loss G: -1.5019,Loss D: -0.0693\n",
      "Epoch 542, Loss G: -1.5228,Loss D: -0.0423\n",
      "Epoch 543, Loss G: -1.4762,Loss D: -0.0191\n",
      "Epoch 544, Loss G: -1.4693,Loss D: -0.1639\n",
      "Epoch 545, Loss G: -1.4626,Loss D: -0.0406\n",
      "Epoch 546, Loss G: -1.4284,Loss D:  0.0312\n",
      "Epoch 547, Loss G: -1.4169,Loss D: -0.0386\n",
      "Epoch 548, Loss G: -1.3959,Loss D:  0.0593\n",
      "Epoch 549, Loss G: -1.3674,Loss D: -0.1903\n",
      "Epoch 550, Loss G: -1.2936,Loss D: -0.3457\n",
      "Epoch 551, Loss G: -1.2342,Loss D: -0.2374\n",
      "Epoch 552, Loss G: -1.2400,Loss D: -0.4131\n",
      "Epoch 553, Loss G: -1.2068,Loss D: -0.4653\n",
      "Epoch 554, Loss G: -1.1853,Loss D: -0.3076\n",
      "Epoch 555, Loss G: -1.1167,Loss D: -0.3380\n",
      "Epoch 556, Loss G: -1.1743,Loss D: -0.4522\n",
      "Epoch 557, Loss G: -1.1225,Loss D: -0.3589\n",
      "Epoch 558, Loss G: -1.2122,Loss D: -0.3179\n",
      "Epoch 559, Loss G: -1.2396,Loss D: -0.2774\n",
      "Epoch 560, Loss G: -1.3348,Loss D: -0.1627\n",
      "Epoch 561, Loss G: -1.3011,Loss D: -0.2871\n",
      "Epoch 562, Loss G: -1.4264,Loss D: -0.1679\n",
      "Epoch 563, Loss G: -1.3305,Loss D: -0.2599\n",
      "Epoch 564, Loss G: -1.1923,Loss D: -0.0849\n",
      "Epoch 565, Loss G: -1.4806,Loss D: -0.2469\n",
      "Epoch 566, Loss G: -1.4926,Loss D:  0.0340\n",
      "Epoch 567, Loss G: -1.5456,Loss D:  0.0441\n",
      "Epoch 568, Loss G: -1.4298,Loss D:  0.0172\n",
      "Epoch 569, Loss G: -1.4914,Loss D:  0.0622\n",
      "Epoch 570, Loss G: -1.4814,Loss D: -0.0447\n",
      "Epoch 571, Loss G: -1.3945,Loss D:  0.0711\n",
      "Epoch 572, Loss G: -1.3948,Loss D: -0.0098\n",
      "Epoch 573, Loss G: -1.2994,Loss D:  0.1617\n",
      "Epoch 574, Loss G: -1.3162,Loss D: -0.0060\n",
      "Epoch 575, Loss G: -1.3115,Loss D: -0.0473\n",
      "Epoch 576, Loss G: -1.2336,Loss D: -0.2231\n",
      "Epoch 577, Loss G: -1.4592,Loss D: -0.4665\n",
      "Epoch 578, Loss G: -1.1861,Loss D: -0.2632\n",
      "Epoch 579, Loss G: -1.1977,Loss D: -0.2352\n",
      "Epoch 580, Loss G: -1.2686,Loss D: -0.3329\n",
      "Epoch 581, Loss G: -1.1193,Loss D: -0.2750\n",
      "Epoch 582, Loss G: -1.1434,Loss D: -0.2816\n",
      "Epoch 583, Loss G: -1.0716,Loss D: -0.3371\n",
      "Epoch 584, Loss G: -1.1736,Loss D: -0.2279\n",
      "Epoch 585, Loss G: -1.0918,Loss D: -0.2760\n",
      "Epoch 586, Loss G: -1.3131,Loss D: -0.1881\n",
      "Epoch 587, Loss G: -1.1542,Loss D: -0.3535\n",
      "Epoch 588, Loss G: -1.1849,Loss D: -0.2776\n",
      "Epoch 589, Loss G: -1.1242,Loss D: -0.2778\n",
      "Epoch 590, Loss G: -1.2093,Loss D: -0.1156\n",
      "Epoch 591, Loss G: -1.2654,Loss D: -0.1282\n",
      "Epoch 592, Loss G: -1.2208,Loss D: -0.2771\n",
      "Epoch 593, Loss G: -1.1673,Loss D: -0.0894\n",
      "Epoch 594, Loss G: -1.2755,Loss D:  0.0617\n",
      "Epoch 595, Loss G: -1.3186,Loss D: -0.1573\n",
      "Epoch 596, Loss G: -1.4009,Loss D:  0.0361\n",
      "Epoch 597, Loss G: -1.3117,Loss D: -0.0212\n",
      "Epoch 598, Loss G: -1.3390,Loss D: -0.0203\n",
      "Epoch 599, Loss G: -1.3521,Loss D:  0.1644\n",
      "Epoch 600, Loss G: -1.3647,Loss D: -0.0602\n",
      "Epoch 601, Loss G: -1.3693,Loss D: -0.1135\n",
      "Epoch 602, Loss G: -1.3777,Loss D: -0.1941\n",
      "Epoch 603, Loss G: -1.2720,Loss D: -0.1508\n",
      "Epoch 604, Loss G: -1.2768,Loss D: -0.2013\n",
      "Epoch 605, Loss G: -1.1166,Loss D: -0.2917\n",
      "Epoch 606, Loss G: -1.1645,Loss D: -0.3593\n",
      "Epoch 607, Loss G: -1.2288,Loss D: -0.1397\n",
      "Epoch 608, Loss G: -1.1275,Loss D: -0.3536\n",
      "Epoch 609, Loss G: -1.1155,Loss D: -0.3185\n",
      "Epoch 610, Loss G: -1.1398,Loss D: -0.5404\n",
      "Epoch 611, Loss G: -1.1237,Loss D: -0.3273\n",
      "Epoch 612, Loss G: -1.2343,Loss D: -0.4823\n",
      "Epoch 613, Loss G: -1.2662,Loss D: -0.0227\n",
      "Epoch 614, Loss G: -1.0885,Loss D: -0.1947\n",
      "Epoch 615, Loss G: -1.3118,Loss D: -0.2834\n",
      "Epoch 616, Loss G: -1.2411,Loss D: -0.2522\n",
      "Epoch 617, Loss G: -1.3508,Loss D: -0.2258\n",
      "Epoch 618, Loss G: -1.4040,Loss D: -0.1625\n",
      "Epoch 619, Loss G: -1.3090,Loss D: -0.2212\n",
      "Epoch 620, Loss G: -1.3894,Loss D:  0.0807\n",
      "Epoch 621, Loss G: -1.3678,Loss D: -0.0147\n",
      "Epoch 622, Loss G: -1.4120,Loss D:  0.0859\n",
      "Epoch 623, Loss G: -1.4681,Loss D: -0.0333\n",
      "Epoch 624, Loss G: -1.4805,Loss D: -0.1516\n",
      "Epoch 625, Loss G: -1.4050,Loss D:  0.0071\n",
      "Epoch 626, Loss G: -1.5426,Loss D:  0.0635\n",
      "Epoch 627, Loss G: -1.5362,Loss D:  0.1267\n",
      "Epoch 628, Loss G: -1.4533,Loss D:  0.0168\n",
      "Epoch 629, Loss G: -1.4610,Loss D: -0.1139\n",
      "Epoch 630, Loss G: -1.2920,Loss D: -0.2976\n",
      "Epoch 631, Loss G: -1.3531,Loss D:  0.0225\n",
      "Epoch 632, Loss G: -1.1880,Loss D: -0.2337\n",
      "Epoch 633, Loss G: -1.2213,Loss D: -0.2686\n",
      "Epoch 634, Loss G: -1.1396,Loss D: -0.2968\n",
      "Epoch 635, Loss G: -1.0874,Loss D: -0.3531\n",
      "Epoch 636, Loss G: -1.0413,Loss D: -0.4440\n",
      "Epoch 637, Loss G: -0.9108,Loss D: -0.5650\n",
      "Epoch 638, Loss G: -0.9361,Loss D: -0.4841\n",
      "Epoch 639, Loss G: -0.8496,Loss D: -0.4994\n",
      "Epoch 640, Loss G: -0.9507,Loss D: -0.5426\n",
      "Epoch 641, Loss G: -0.9430,Loss D: -0.4800\n",
      "Epoch 642, Loss G: -1.0668,Loss D: -0.4027\n",
      "Epoch 643, Loss G: -1.0400,Loss D: -0.7948\n",
      "Epoch 644, Loss G: -1.0434,Loss D: -0.5731\n",
      "Epoch 645, Loss G: -1.0308,Loss D: -0.3929\n",
      "Epoch 646, Loss G: -1.0045,Loss D: -0.3313\n",
      "Epoch 647, Loss G: -1.1901,Loss D: -0.0507\n",
      "Epoch 648, Loss G: -1.1559,Loss D: -0.0787\n",
      "Epoch 649, Loss G: -1.3172,Loss D: -0.0458\n",
      "Epoch 650, Loss G: -1.2893,Loss D: -0.1799\n",
      "Epoch 651, Loss G: -1.3940,Loss D: -0.0835\n",
      "Epoch 652, Loss G: -1.4794,Loss D:  0.0851\n",
      "Epoch 653, Loss G: -1.4765,Loss D:  0.0472\n",
      "Epoch 654, Loss G: -1.6371,Loss D:  0.0862\n",
      "Epoch 655, Loss G: -1.6868,Loss D:  0.0372\n",
      "Epoch 656, Loss G: -1.6122,Loss D:  0.1200\n",
      "Epoch 657, Loss G: -1.6696,Loss D:  0.1099\n",
      "Epoch 658, Loss G: -1.7945,Loss D:  0.0445\n",
      "Epoch 659, Loss G: -1.6967,Loss D:  0.0144\n",
      "Epoch 660, Loss G: -1.5012,Loss D: -0.0345\n",
      "Epoch 661, Loss G: -1.6865,Loss D:  0.2646\n",
      "Epoch 662, Loss G: -1.5690,Loss D: -0.1268\n",
      "Epoch 663, Loss G: -1.7317,Loss D: -0.1590\n",
      "Epoch 664, Loss G: -1.6001,Loss D: -0.1638\n",
      "Epoch 665, Loss G: -1.6382,Loss D:  0.0159\n",
      "Epoch 666, Loss G: -1.5504,Loss D: -0.1484\n",
      "Epoch 667, Loss G: -1.5189,Loss D: -0.3260\n",
      "Epoch 668, Loss G: -1.5773,Loss D: -0.3458\n",
      "Epoch 669, Loss G: -1.5779,Loss D: -0.5940\n",
      "Epoch 670, Loss G: -1.5517,Loss D: -0.2722\n",
      "Epoch 671, Loss G: -1.6482,Loss D: -0.2880\n",
      "Epoch 672, Loss G: -1.6014,Loss D: -0.3141\n",
      "Epoch 673, Loss G: -1.5740,Loss D: -0.2917\n",
      "Epoch 674, Loss G: -1.5896,Loss D: -0.3197\n",
      "Epoch 675, Loss G: -1.6739,Loss D: -0.2417\n",
      "Epoch 676, Loss G: -1.6027,Loss D: -0.2966\n",
      "Epoch 677, Loss G: -1.5078,Loss D: -0.3841\n",
      "Epoch 678, Loss G: -1.5490,Loss D: -0.3406\n",
      "Epoch 679, Loss G: -1.4657,Loss D: -0.1885\n",
      "Epoch 680, Loss G: -1.4176,Loss D: -0.2776\n",
      "Epoch 681, Loss G: -1.4709,Loss D: -0.2734\n",
      "Epoch 682, Loss G: -1.4828,Loss D: -0.2628\n",
      "Epoch 683, Loss G: -1.5611,Loss D: -0.2407\n",
      "Epoch 684, Loss G: -1.4807,Loss D: -0.1834\n",
      "Epoch 685, Loss G: -1.3558,Loss D: -0.4529\n",
      "Epoch 686, Loss G: -1.3966,Loss D: -0.1587\n",
      "Epoch 687, Loss G: -1.3244,Loss D:  0.0876\n",
      "Epoch 688, Loss G: -1.3614,Loss D: -0.3473\n",
      "Epoch 689, Loss G: -1.3267,Loss D: -0.1763\n",
      "Epoch 690, Loss G: -1.3334,Loss D: -0.0340\n",
      "Epoch 691, Loss G: -1.4586,Loss D: -0.1696\n",
      "Epoch 692, Loss G: -1.3459,Loss D: -0.1081\n",
      "Epoch 693, Loss G: -1.5245,Loss D: -0.1507\n",
      "Epoch 694, Loss G: -1.4723,Loss D: -0.1010\n",
      "Epoch 695, Loss G: -1.5292,Loss D:  0.0470\n",
      "Epoch 696, Loss G: -1.5122,Loss D: -0.1552\n",
      "Epoch 697, Loss G: -1.5525,Loss D:  0.0059\n",
      "Epoch 698, Loss G: -1.4366,Loss D:  0.1083\n",
      "Epoch 699, Loss G: -1.5551,Loss D:  0.1010\n",
      "Epoch 700, Loss G: -1.4677,Loss D: -0.1672\n",
      "Epoch 701, Loss G: -1.5209,Loss D: -0.0679\n",
      "Epoch 702, Loss G: -1.5149,Loss D:  0.0154\n",
      "Epoch 703, Loss G: -1.3670,Loss D: -0.1880\n",
      "Epoch 704, Loss G: -1.5267,Loss D:  0.0268\n",
      "Epoch 705, Loss G: -1.2659,Loss D: -0.2367\n",
      "Epoch 706, Loss G: -1.3262,Loss D: -0.0792\n",
      "Epoch 707, Loss G: -1.5000,Loss D: -0.0848\n",
      "Epoch 708, Loss G: -1.3807,Loss D: -0.1558\n",
      "Epoch 709, Loss G: -1.3659,Loss D:  0.0187\n",
      "Epoch 710, Loss G: -1.4359,Loss D: -0.2198\n",
      "Epoch 711, Loss G: -1.3305,Loss D: -0.3977\n",
      "Epoch 712, Loss G: -1.2854,Loss D: -0.2884\n",
      "Epoch 713, Loss G: -1.3624,Loss D: -0.1933\n",
      "Epoch 714, Loss G: -1.2437,Loss D: -0.3282\n",
      "Epoch 715, Loss G: -1.3344,Loss D: -0.1285\n",
      "Epoch 716, Loss G: -1.3833,Loss D: -0.2976\n",
      "Epoch 717, Loss G: -1.3394,Loss D: -0.2090\n",
      "Epoch 718, Loss G: -1.2195,Loss D: -0.1246\n",
      "Epoch 719, Loss G: -1.3316,Loss D: -0.2787\n",
      "Epoch 720, Loss G: -1.4413,Loss D: -0.1774\n",
      "Epoch 721, Loss G: -1.4058,Loss D: -0.2588\n",
      "Epoch 722, Loss G: -1.4437,Loss D: -0.1716\n",
      "Epoch 723, Loss G: -1.4484,Loss D: -0.2376\n",
      "Epoch 724, Loss G: -1.5208,Loss D: -0.1648\n",
      "Epoch 725, Loss G: -1.4969,Loss D: -0.0750\n",
      "Epoch 726, Loss G: -1.4486,Loss D: -0.2316\n",
      "Epoch 727, Loss G: -1.3765,Loss D: -0.2742\n",
      "Epoch 728, Loss G: -1.4168,Loss D: -0.2413\n",
      "Epoch 729, Loss G: -1.4614,Loss D: -0.3662\n",
      "Epoch 730, Loss G: -1.5544,Loss D: -0.2726\n",
      "Epoch 731, Loss G: -1.5667,Loss D: -0.1861\n",
      "Epoch 732, Loss G: -1.5284,Loss D: -0.0428\n",
      "Epoch 733, Loss G: -1.4921,Loss D: -0.0632\n",
      "Epoch 734, Loss G: -1.5848,Loss D: -0.2475\n",
      "Epoch 735, Loss G: -1.5338,Loss D: -0.1991\n",
      "Epoch 736, Loss G: -1.5463,Loss D: -0.0896\n",
      "Epoch 737, Loss G: -1.5034,Loss D: -0.2406\n",
      "Epoch 738, Loss G: -1.4031,Loss D: -0.1383\n",
      "Epoch 739, Loss G: -1.4418,Loss D: -0.1596\n",
      "Epoch 740, Loss G: -1.5463,Loss D: -0.3465\n",
      "Epoch 741, Loss G: -1.4577,Loss D: -0.3338\n",
      "Epoch 742, Loss G: -1.5055,Loss D:  0.0159\n",
      "Epoch 743, Loss G: -1.2819,Loss D: -0.1635\n",
      "Epoch 744, Loss G: -1.5025,Loss D: -0.1700\n",
      "Epoch 745, Loss G: -1.4670,Loss D: -0.4709\n",
      "Epoch 746, Loss G: -1.3817,Loss D: -0.1377\n",
      "Epoch 747, Loss G: -1.3853,Loss D: -0.1200\n",
      "Epoch 748, Loss G: -1.4320,Loss D: -0.1099\n",
      "Epoch 749, Loss G: -1.3653,Loss D: -0.2107\n",
      "Epoch 750, Loss G: -1.4046,Loss D: -0.2760\n",
      "Epoch 751, Loss G: -1.3729,Loss D: -0.1644\n",
      "Epoch 752, Loss G: -1.4243,Loss D: -0.2406\n",
      "Epoch 753, Loss G: -1.4964,Loss D: -0.2719\n",
      "Epoch 754, Loss G: -1.4069,Loss D:  0.0190\n",
      "Epoch 755, Loss G: -1.4015,Loss D: -0.1692\n",
      "Epoch 756, Loss G: -1.4993,Loss D: -0.1496\n",
      "Epoch 757, Loss G: -1.3631,Loss D: -0.0980\n",
      "Epoch 758, Loss G: -1.4244,Loss D: -0.1922\n",
      "Epoch 759, Loss G: -1.5368,Loss D: -0.1338\n",
      "Epoch 760, Loss G: -1.3634,Loss D: -0.1733\n",
      "Epoch 761, Loss G: -1.4071,Loss D: -0.0332\n",
      "Epoch 762, Loss G: -1.4084,Loss D: -0.0357\n",
      "Epoch 763, Loss G: -1.3011,Loss D: -0.0418\n",
      "Epoch 764, Loss G: -1.4284,Loss D: -0.1296\n",
      "Epoch 765, Loss G: -1.3533,Loss D: -0.1405\n",
      "Epoch 766, Loss G: -1.3278,Loss D:  0.0639\n",
      "Epoch 767, Loss G: -1.1722,Loss D: -0.0971\n",
      "Epoch 768, Loss G: -1.3732,Loss D:  0.0653\n",
      "Epoch 769, Loss G: -1.4619,Loss D: -0.0109\n",
      "Epoch 770, Loss G: -1.2779,Loss D: -0.0187\n",
      "Epoch 771, Loss G: -1.1604,Loss D:  0.0211\n",
      "Epoch 772, Loss G: -1.3564,Loss D: -0.1479\n",
      "Epoch 773, Loss G: -1.1776,Loss D: -0.1844\n",
      "Epoch 774, Loss G: -1.2263,Loss D: -0.0647\n",
      "Epoch 775, Loss G: -1.2053,Loss D: -0.1122\n",
      "Epoch 776, Loss G: -1.3859,Loss D: -0.0443\n",
      "Epoch 777, Loss G: -1.3120,Loss D: -0.0662\n",
      "Epoch 778, Loss G: -1.4342,Loss D:  0.0635\n",
      "Epoch 779, Loss G: -1.3236,Loss D: -0.0338\n",
      "Epoch 780, Loss G: -1.2965,Loss D: -0.0049\n",
      "Epoch 781, Loss G: -1.2735,Loss D: -0.2826\n",
      "Epoch 782, Loss G: -1.3592,Loss D: -0.0373\n",
      "Epoch 783, Loss G: -1.4241,Loss D: -0.0012\n",
      "Epoch 784, Loss G: -1.4952,Loss D: -0.0412\n",
      "Epoch 785, Loss G: -1.4106,Loss D: -0.1365\n",
      "Epoch 786, Loss G: -1.2732,Loss D: -0.0249\n",
      "Epoch 787, Loss G: -1.2682,Loss D: -0.1834\n",
      "Epoch 788, Loss G: -1.2724,Loss D: -0.0277\n",
      "Epoch 789, Loss G: -1.1056,Loss D: -0.1403\n",
      "Epoch 790, Loss G: -1.1493,Loss D: -0.1841\n",
      "Epoch 791, Loss G: -1.0395,Loss D: -0.2528\n",
      "Epoch 792, Loss G: -0.9259,Loss D: -0.3966\n",
      "Epoch 793, Loss G: -0.9897,Loss D: -0.1136\n",
      "Epoch 794, Loss G: -1.2006,Loss D: -0.2905\n",
      "Epoch 795, Loss G: -1.0362,Loss D: -0.1251\n",
      "Epoch 796, Loss G: -1.0879,Loss D: -0.2048\n",
      "Epoch 797, Loss G: -1.1827,Loss D: -0.0700\n",
      "Epoch 798, Loss G: -1.1534,Loss D: -0.2624\n",
      "Epoch 799, Loss G: -1.2320,Loss D: -0.0217\n",
      "Epoch 800, Loss G: -1.2928,Loss D: -0.0488\n",
      "Epoch 801, Loss G: -1.2700,Loss D:  0.0368\n",
      "Epoch 802, Loss G: -1.2790,Loss D:  0.0371\n",
      "Epoch 803, Loss G: -1.3779,Loss D:  0.0369\n",
      "Epoch 804, Loss G: -1.5468,Loss D:  0.3293\n",
      "Epoch 805, Loss G: -1.3829,Loss D:  0.1523\n",
      "Epoch 806, Loss G: -1.3260,Loss D:  0.1124\n",
      "Epoch 807, Loss G: -1.3234,Loss D: -0.1073\n",
      "Epoch 808, Loss G: -1.2744,Loss D: -0.0068\n",
      "Epoch 809, Loss G: -1.3484,Loss D: -0.0979\n",
      "Epoch 810, Loss G: -1.2373,Loss D: -0.0569\n",
      "Epoch 811, Loss G: -1.3600,Loss D:  0.0825\n",
      "Epoch 812, Loss G: -1.2506,Loss D: -0.2062\n",
      "Epoch 813, Loss G: -1.2769,Loss D: -0.0319\n",
      "Epoch 814, Loss G: -0.8649,Loss D:  0.0311\n",
      "Epoch 815, Loss G: -1.0559,Loss D: -0.2815\n",
      "Epoch 816, Loss G: -1.0870,Loss D: -0.0289\n",
      "Epoch 817, Loss G: -1.1011,Loss D: -0.2728\n",
      "Epoch 818, Loss G: -1.0183,Loss D: -0.1558\n",
      "Epoch 819, Loss G: -0.9027,Loss D: -0.0611\n",
      "Epoch 820, Loss G: -1.0307,Loss D: -0.1748\n",
      "Epoch 821, Loss G: -0.9912,Loss D: -0.3123\n",
      "Epoch 822, Loss G: -1.0829,Loss D:  0.0149\n",
      "Epoch 823, Loss G: -1.1608,Loss D: -0.0314\n",
      "Epoch 824, Loss G: -1.0308,Loss D: -0.0539\n",
      "Epoch 825, Loss G: -1.1271,Loss D:  0.0079\n",
      "Epoch 826, Loss G: -0.9893,Loss D:  0.0716\n",
      "Epoch 827, Loss G: -1.0822,Loss D: -0.1900\n",
      "Epoch 828, Loss G: -1.2906,Loss D:  0.1902\n",
      "Epoch 829, Loss G: -1.2043,Loss D: -0.0359\n",
      "Epoch 830, Loss G: -1.2616,Loss D:  0.0095\n",
      "Epoch 831, Loss G: -1.1929,Loss D: -0.0357\n",
      "Epoch 832, Loss G: -1.2501,Loss D:  0.1160\n",
      "Epoch 833, Loss G: -1.0988,Loss D: -0.0177\n",
      "Epoch 834, Loss G: -1.3728,Loss D: -0.1418\n",
      "Epoch 835, Loss G: -1.1803,Loss D:  0.0544\n",
      "Epoch 836, Loss G: -1.1694,Loss D: -0.0202\n",
      "Epoch 837, Loss G: -1.1969,Loss D:  0.1879\n",
      "Epoch 838, Loss G: -1.2058,Loss D: -0.1570\n",
      "Epoch 839, Loss G: -1.0154,Loss D:  0.0232\n",
      "Epoch 840, Loss G: -1.2141,Loss D: -0.1209\n",
      "Epoch 841, Loss G: -1.2477,Loss D: -0.1521\n",
      "Epoch 842, Loss G: -1.2793,Loss D: -0.0617\n",
      "Epoch 843, Loss G: -1.2228,Loss D: -0.0393\n",
      "Epoch 844, Loss G: -1.1674,Loss D:  0.0073\n",
      "Epoch 845, Loss G: -1.2862,Loss D:  0.0124\n",
      "Epoch 846, Loss G: -1.2437,Loss D:  0.1208\n",
      "Epoch 847, Loss G: -1.2567,Loss D:  0.0370\n",
      "Epoch 848, Loss G: -1.1923,Loss D: -0.2362\n",
      "Epoch 849, Loss G: -1.2121,Loss D:  0.0820\n",
      "Epoch 850, Loss G: -1.2656,Loss D: -0.0093\n",
      "Generator Training Completed, Generating 300 of data\n",
      "Successfully saved the synthetic dataset to c:\\Users\\User\\Desktop\\SynPiper\\example_notebooks\\synthetic.csv\n"
     ]
    }
   ],
   "source": [
    "# Number of rows to generate\n",
    "num_tuples_to_generate = 300\n",
    "\n",
    "# Start generation\n",
    "synthesizer.generate(num_tuples_to_generate = num_tuples_to_generate)"
   ]
  },
  {
   "attachments": {},
   "cell_type": "markdown",
   "metadata": {},
   "source": [
    "In this instance, we decided to generate 300 rows of sampled data. As the number of epochs increase, we can observe that the generator loss had decreased while the discriminator loss has rather remained stagnant. This is due to the min-max optimisation by the generator and discriminator.\n",
    "\n",
    "The discriminator seeks to maximize the *average of the log probability* for real data and the *log of the inverted probabilities* of fake data. \n",
    "The generator seeks to minimize the log of the inverse probability predicted by the discriminator for fake data.\n",
    "\n",
    "When the generator loss is minimized, this means that the discriminator has a harder time distinguishing data from the generator and the training data. The discriminator will eventually converge as it can no longer effectively distinguish between real and fake data. "
   ]
  },
  {
   "cell_type": "code",
   "execution_count": 10,
   "metadata": {},
   "outputs": [
    {
     "data": {
      "text/html": [
       "<div>\n",
       "<style scoped>\n",
       "    .dataframe tbody tr th:only-of-type {\n",
       "        vertical-align: middle;\n",
       "    }\n",
       "\n",
       "    .dataframe tbody tr th {\n",
       "        vertical-align: top;\n",
       "    }\n",
       "\n",
       "    .dataframe thead th {\n",
       "        text-align: right;\n",
       "    }\n",
       "</style>\n",
       "<table border=\"1\" class=\"dataframe\">\n",
       "  <thead>\n",
       "    <tr style=\"text-align: right;\">\n",
       "      <th></th>\n",
       "      <th>age</th>\n",
       "      <th>sex</th>\n",
       "      <th>cp</th>\n",
       "      <th>trestbps</th>\n",
       "      <th>chol</th>\n",
       "      <th>fbs</th>\n",
       "      <th>restecg</th>\n",
       "      <th>thalach</th>\n",
       "      <th>exang</th>\n",
       "      <th>oldpeak</th>\n",
       "      <th>slope</th>\n",
       "      <th>ca</th>\n",
       "      <th>thal</th>\n",
       "      <th>target</th>\n",
       "    </tr>\n",
       "  </thead>\n",
       "  <tbody>\n",
       "    <tr>\n",
       "      <th>0</th>\n",
       "      <td>61</td>\n",
       "      <td>1</td>\n",
       "      <td>4</td>\n",
       "      <td>129</td>\n",
       "      <td>367</td>\n",
       "      <td>0</td>\n",
       "      <td>2</td>\n",
       "      <td>71</td>\n",
       "      <td>1</td>\n",
       "      <td>1.1</td>\n",
       "      <td>2</td>\n",
       "      <td>3</td>\n",
       "      <td>7</td>\n",
       "      <td>1</td>\n",
       "    </tr>\n",
       "    <tr>\n",
       "      <th>1</th>\n",
       "      <td>29</td>\n",
       "      <td>0</td>\n",
       "      <td>2</td>\n",
       "      <td>129</td>\n",
       "      <td>188</td>\n",
       "      <td>1</td>\n",
       "      <td>0</td>\n",
       "      <td>138</td>\n",
       "      <td>0</td>\n",
       "      <td>2.0</td>\n",
       "      <td>1</td>\n",
       "      <td>0</td>\n",
       "      <td>3</td>\n",
       "      <td>0</td>\n",
       "    </tr>\n",
       "    <tr>\n",
       "      <th>2</th>\n",
       "      <td>34</td>\n",
       "      <td>1</td>\n",
       "      <td>4</td>\n",
       "      <td>117</td>\n",
       "      <td>245</td>\n",
       "      <td>0</td>\n",
       "      <td>0</td>\n",
       "      <td>189</td>\n",
       "      <td>0</td>\n",
       "      <td>0.0</td>\n",
       "      <td>1</td>\n",
       "      <td>0</td>\n",
       "      <td>3</td>\n",
       "      <td>0</td>\n",
       "    </tr>\n",
       "    <tr>\n",
       "      <th>3</th>\n",
       "      <td>46</td>\n",
       "      <td>0</td>\n",
       "      <td>4</td>\n",
       "      <td>94</td>\n",
       "      <td>266</td>\n",
       "      <td>0</td>\n",
       "      <td>0</td>\n",
       "      <td>71</td>\n",
       "      <td>1</td>\n",
       "      <td>0.1</td>\n",
       "      <td>1</td>\n",
       "      <td>0</td>\n",
       "      <td>6</td>\n",
       "      <td>0</td>\n",
       "    </tr>\n",
       "    <tr>\n",
       "      <th>4</th>\n",
       "      <td>61</td>\n",
       "      <td>0</td>\n",
       "      <td>3</td>\n",
       "      <td>152</td>\n",
       "      <td>162</td>\n",
       "      <td>0</td>\n",
       "      <td>0</td>\n",
       "      <td>202</td>\n",
       "      <td>0</td>\n",
       "      <td>0.0</td>\n",
       "      <td>3</td>\n",
       "      <td>1</td>\n",
       "      <td>7</td>\n",
       "      <td>1</td>\n",
       "    </tr>\n",
       "    <tr>\n",
       "      <th>...</th>\n",
       "      <td>...</td>\n",
       "      <td>...</td>\n",
       "      <td>...</td>\n",
       "      <td>...</td>\n",
       "      <td>...</td>\n",
       "      <td>...</td>\n",
       "      <td>...</td>\n",
       "      <td>...</td>\n",
       "      <td>...</td>\n",
       "      <td>...</td>\n",
       "      <td>...</td>\n",
       "      <td>...</td>\n",
       "      <td>...</td>\n",
       "      <td>...</td>\n",
       "    </tr>\n",
       "    <tr>\n",
       "      <th>295</th>\n",
       "      <td>51</td>\n",
       "      <td>1</td>\n",
       "      <td>4</td>\n",
       "      <td>145</td>\n",
       "      <td>241</td>\n",
       "      <td>0</td>\n",
       "      <td>0</td>\n",
       "      <td>174</td>\n",
       "      <td>0</td>\n",
       "      <td>0.0</td>\n",
       "      <td>1</td>\n",
       "      <td>1</td>\n",
       "      <td>3</td>\n",
       "      <td>0</td>\n",
       "    </tr>\n",
       "    <tr>\n",
       "      <th>296</th>\n",
       "      <td>46</td>\n",
       "      <td>1</td>\n",
       "      <td>4</td>\n",
       "      <td>94</td>\n",
       "      <td>401</td>\n",
       "      <td>1</td>\n",
       "      <td>2</td>\n",
       "      <td>93</td>\n",
       "      <td>1</td>\n",
       "      <td>0.1</td>\n",
       "      <td>2</td>\n",
       "      <td>2</td>\n",
       "      <td>7</td>\n",
       "      <td>1</td>\n",
       "    </tr>\n",
       "    <tr>\n",
       "      <th>297</th>\n",
       "      <td>53</td>\n",
       "      <td>0</td>\n",
       "      <td>3</td>\n",
       "      <td>119</td>\n",
       "      <td>210</td>\n",
       "      <td>0</td>\n",
       "      <td>2</td>\n",
       "      <td>178</td>\n",
       "      <td>0</td>\n",
       "      <td>0.0</td>\n",
       "      <td>1</td>\n",
       "      <td>0</td>\n",
       "      <td>3</td>\n",
       "      <td>0</td>\n",
       "    </tr>\n",
       "    <tr>\n",
       "      <th>298</th>\n",
       "      <td>49</td>\n",
       "      <td>0</td>\n",
       "      <td>2</td>\n",
       "      <td>122</td>\n",
       "      <td>212</td>\n",
       "      <td>0</td>\n",
       "      <td>0</td>\n",
       "      <td>157</td>\n",
       "      <td>0</td>\n",
       "      <td>1.1</td>\n",
       "      <td>1</td>\n",
       "      <td>0</td>\n",
       "      <td>3</td>\n",
       "      <td>0</td>\n",
       "    </tr>\n",
       "    <tr>\n",
       "      <th>299</th>\n",
       "      <td>55</td>\n",
       "      <td>0</td>\n",
       "      <td>2</td>\n",
       "      <td>94</td>\n",
       "      <td>356</td>\n",
       "      <td>0</td>\n",
       "      <td>0</td>\n",
       "      <td>127</td>\n",
       "      <td>0</td>\n",
       "      <td>0.0</td>\n",
       "      <td>1</td>\n",
       "      <td>0</td>\n",
       "      <td>3</td>\n",
       "      <td>0</td>\n",
       "    </tr>\n",
       "  </tbody>\n",
       "</table>\n",
       "<p>300 rows × 14 columns</p>\n",
       "</div>"
      ],
      "text/plain": [
       "     age  sex  cp  trestbps  chol  fbs  restecg  thalach  exang  oldpeak  \\\n",
       "0     61    1   4       129   367    0        2       71      1      1.1   \n",
       "1     29    0   2       129   188    1        0      138      0      2.0   \n",
       "2     34    1   4       117   245    0        0      189      0      0.0   \n",
       "3     46    0   4        94   266    0        0       71      1      0.1   \n",
       "4     61    0   3       152   162    0        0      202      0      0.0   \n",
       "..   ...  ...  ..       ...   ...  ...      ...      ...    ...      ...   \n",
       "295   51    1   4       145   241    0        0      174      0      0.0   \n",
       "296   46    1   4        94   401    1        2       93      1      0.1   \n",
       "297   53    0   3       119   210    0        2      178      0      0.0   \n",
       "298   49    0   2       122   212    0        0      157      0      1.1   \n",
       "299   55    0   2        94   356    0        0      127      0      0.0   \n",
       "\n",
       "     slope  ca  thal  target  \n",
       "0        2   3     7       1  \n",
       "1        1   0     3       0  \n",
       "2        1   0     3       0  \n",
       "3        1   0     6       0  \n",
       "4        3   1     7       1  \n",
       "..     ...  ..   ...     ...  \n",
       "295      1   1     3       0  \n",
       "296      2   2     7       1  \n",
       "297      1   0     3       0  \n",
       "298      1   0     3       0  \n",
       "299      1   0     3       0  \n",
       "\n",
       "[300 rows x 14 columns]"
      ]
     },
     "execution_count": 10,
     "metadata": {},
     "output_type": "execute_result"
    }
   ],
   "source": [
    "df_syn = synthesizer.generated_samples\n",
    "\n",
    "df_syn"
   ]
  },
  {
   "attachments": {},
   "cell_type": "markdown",
   "metadata": {},
   "source": [
    "# Evaluation"
   ]
  },
  {
   "cell_type": "code",
   "execution_count": 11,
   "metadata": {},
   "outputs": [
    {
     "data": {
      "text/html": [
       "<div>\n",
       "<style scoped>\n",
       "    .dataframe tbody tr th:only-of-type {\n",
       "        vertical-align: middle;\n",
       "    }\n",
       "\n",
       "    .dataframe tbody tr th {\n",
       "        vertical-align: top;\n",
       "    }\n",
       "\n",
       "    .dataframe thead th {\n",
       "        text-align: right;\n",
       "    }\n",
       "</style>\n",
       "<table border=\"1\" class=\"dataframe\">\n",
       "  <thead>\n",
       "    <tr style=\"text-align: right;\">\n",
       "      <th></th>\n",
       "      <th>categorical_columns</th>\n",
       "      <th>tvd_scores</th>\n",
       "    </tr>\n",
       "  </thead>\n",
       "  <tbody>\n",
       "    <tr>\n",
       "      <th>0</th>\n",
       "      <td>sex</td>\n",
       "      <td>0.863232</td>\n",
       "    </tr>\n",
       "    <tr>\n",
       "      <th>1</th>\n",
       "      <td>cp</td>\n",
       "      <td>0.949091</td>\n",
       "    </tr>\n",
       "    <tr>\n",
       "      <th>2</th>\n",
       "      <td>fbs</td>\n",
       "      <td>0.981886</td>\n",
       "    </tr>\n",
       "    <tr>\n",
       "      <th>3</th>\n",
       "      <td>restecg</td>\n",
       "      <td>0.911717</td>\n",
       "    </tr>\n",
       "    <tr>\n",
       "      <th>4</th>\n",
       "      <td>exang</td>\n",
       "      <td>0.970067</td>\n",
       "    </tr>\n",
       "    <tr>\n",
       "      <th>5</th>\n",
       "      <td>slope</td>\n",
       "      <td>0.958653</td>\n",
       "    </tr>\n",
       "    <tr>\n",
       "      <th>6</th>\n",
       "      <td>ca</td>\n",
       "      <td>0.950135</td>\n",
       "    </tr>\n",
       "    <tr>\n",
       "      <th>7</th>\n",
       "      <td>thal</td>\n",
       "      <td>0.931145</td>\n",
       "    </tr>\n",
       "    <tr>\n",
       "      <th>8</th>\n",
       "      <td>target</td>\n",
       "      <td>0.988721</td>\n",
       "    </tr>\n",
       "  </tbody>\n",
       "</table>\n",
       "</div>"
      ],
      "text/plain": [
       "  categorical_columns  tvd_scores\n",
       "0                 sex    0.863232\n",
       "1                  cp    0.949091\n",
       "2                 fbs    0.981886\n",
       "3             restecg    0.911717\n",
       "4               exang    0.970067\n",
       "5               slope    0.958653\n",
       "6                  ca    0.950135\n",
       "7                thal    0.931145\n",
       "8              target    0.988721"
      ]
     },
     "execution_count": 11,
     "metadata": {},
     "output_type": "execute_result"
    }
   ],
   "source": [
    "tvd_table, tvd_figure = get_all_variational_differences(real_table= df, \n",
    "                                                    synthetic_table= df_syn, \n",
    "                                                    categorical_columns= cat_cols)\n",
    "\n",
    "tvd_table"
   ]
  },
  {
   "cell_type": "code",
   "execution_count": 12,
   "metadata": {},
   "outputs": [
    {
     "data": {
      "application/vnd.plotly.v1+json": {
       "config": {
        "plotlyServerURL": "https://plot.ly"
       },
       "data": [
        {
         "alignmentgroup": "True",
         "hovertemplate": "categorical_columns=%{x}<br>tvd_scores=%{y}<extra></extra>",
         "legendgroup": "",
         "marker": {
          "color": "#636efa",
          "pattern": {
           "shape": ""
          }
         },
         "name": "",
         "offsetgroup": "",
         "orientation": "v",
         "showlegend": false,
         "textposition": "inside",
         "type": "bar",
         "x": [
          "sex",
          "cp",
          "fbs",
          "restecg",
          "exang",
          "slope",
          "ca",
          "thal",
          "target"
         ],
         "xaxis": "x",
         "y": [
          0.8632323232323232,
          0.9490909090909091,
          0.9818855218855219,
          0.9117171717171717,
          0.9700673400673401,
          0.9586531986531986,
          0.9501346801346802,
          0.9311447811447812,
          0.9887205387205387
         ],
         "yaxis": "y"
        }
       ],
       "layout": {
        "barmode": "relative",
        "legend": {
         "tracegroupgap": 0
        },
        "template": {
         "data": {
          "bar": [
           {
            "error_x": {
             "color": "#2a3f5f"
            },
            "error_y": {
             "color": "#2a3f5f"
            },
            "marker": {
             "line": {
              "color": "#E5ECF6",
              "width": 0.5
             },
             "pattern": {
              "fillmode": "overlay",
              "size": 10,
              "solidity": 0.2
             }
            },
            "type": "bar"
           }
          ],
          "barpolar": [
           {
            "marker": {
             "line": {
              "color": "#E5ECF6",
              "width": 0.5
             },
             "pattern": {
              "fillmode": "overlay",
              "size": 10,
              "solidity": 0.2
             }
            },
            "type": "barpolar"
           }
          ],
          "carpet": [
           {
            "aaxis": {
             "endlinecolor": "#2a3f5f",
             "gridcolor": "white",
             "linecolor": "white",
             "minorgridcolor": "white",
             "startlinecolor": "#2a3f5f"
            },
            "baxis": {
             "endlinecolor": "#2a3f5f",
             "gridcolor": "white",
             "linecolor": "white",
             "minorgridcolor": "white",
             "startlinecolor": "#2a3f5f"
            },
            "type": "carpet"
           }
          ],
          "choropleth": [
           {
            "colorbar": {
             "outlinewidth": 0,
             "ticks": ""
            },
            "type": "choropleth"
           }
          ],
          "contour": [
           {
            "colorbar": {
             "outlinewidth": 0,
             "ticks": ""
            },
            "colorscale": [
             [
              0,
              "#0d0887"
             ],
             [
              0.1111111111111111,
              "#46039f"
             ],
             [
              0.2222222222222222,
              "#7201a8"
             ],
             [
              0.3333333333333333,
              "#9c179e"
             ],
             [
              0.4444444444444444,
              "#bd3786"
             ],
             [
              0.5555555555555556,
              "#d8576b"
             ],
             [
              0.6666666666666666,
              "#ed7953"
             ],
             [
              0.7777777777777778,
              "#fb9f3a"
             ],
             [
              0.8888888888888888,
              "#fdca26"
             ],
             [
              1,
              "#f0f921"
             ]
            ],
            "type": "contour"
           }
          ],
          "contourcarpet": [
           {
            "colorbar": {
             "outlinewidth": 0,
             "ticks": ""
            },
            "type": "contourcarpet"
           }
          ],
          "heatmap": [
           {
            "colorbar": {
             "outlinewidth": 0,
             "ticks": ""
            },
            "colorscale": [
             [
              0,
              "#0d0887"
             ],
             [
              0.1111111111111111,
              "#46039f"
             ],
             [
              0.2222222222222222,
              "#7201a8"
             ],
             [
              0.3333333333333333,
              "#9c179e"
             ],
             [
              0.4444444444444444,
              "#bd3786"
             ],
             [
              0.5555555555555556,
              "#d8576b"
             ],
             [
              0.6666666666666666,
              "#ed7953"
             ],
             [
              0.7777777777777778,
              "#fb9f3a"
             ],
             [
              0.8888888888888888,
              "#fdca26"
             ],
             [
              1,
              "#f0f921"
             ]
            ],
            "type": "heatmap"
           }
          ],
          "heatmapgl": [
           {
            "colorbar": {
             "outlinewidth": 0,
             "ticks": ""
            },
            "colorscale": [
             [
              0,
              "#0d0887"
             ],
             [
              0.1111111111111111,
              "#46039f"
             ],
             [
              0.2222222222222222,
              "#7201a8"
             ],
             [
              0.3333333333333333,
              "#9c179e"
             ],
             [
              0.4444444444444444,
              "#bd3786"
             ],
             [
              0.5555555555555556,
              "#d8576b"
             ],
             [
              0.6666666666666666,
              "#ed7953"
             ],
             [
              0.7777777777777778,
              "#fb9f3a"
             ],
             [
              0.8888888888888888,
              "#fdca26"
             ],
             [
              1,
              "#f0f921"
             ]
            ],
            "type": "heatmapgl"
           }
          ],
          "histogram": [
           {
            "marker": {
             "pattern": {
              "fillmode": "overlay",
              "size": 10,
              "solidity": 0.2
             }
            },
            "type": "histogram"
           }
          ],
          "histogram2d": [
           {
            "colorbar": {
             "outlinewidth": 0,
             "ticks": ""
            },
            "colorscale": [
             [
              0,
              "#0d0887"
             ],
             [
              0.1111111111111111,
              "#46039f"
             ],
             [
              0.2222222222222222,
              "#7201a8"
             ],
             [
              0.3333333333333333,
              "#9c179e"
             ],
             [
              0.4444444444444444,
              "#bd3786"
             ],
             [
              0.5555555555555556,
              "#d8576b"
             ],
             [
              0.6666666666666666,
              "#ed7953"
             ],
             [
              0.7777777777777778,
              "#fb9f3a"
             ],
             [
              0.8888888888888888,
              "#fdca26"
             ],
             [
              1,
              "#f0f921"
             ]
            ],
            "type": "histogram2d"
           }
          ],
          "histogram2dcontour": [
           {
            "colorbar": {
             "outlinewidth": 0,
             "ticks": ""
            },
            "colorscale": [
             [
              0,
              "#0d0887"
             ],
             [
              0.1111111111111111,
              "#46039f"
             ],
             [
              0.2222222222222222,
              "#7201a8"
             ],
             [
              0.3333333333333333,
              "#9c179e"
             ],
             [
              0.4444444444444444,
              "#bd3786"
             ],
             [
              0.5555555555555556,
              "#d8576b"
             ],
             [
              0.6666666666666666,
              "#ed7953"
             ],
             [
              0.7777777777777778,
              "#fb9f3a"
             ],
             [
              0.8888888888888888,
              "#fdca26"
             ],
             [
              1,
              "#f0f921"
             ]
            ],
            "type": "histogram2dcontour"
           }
          ],
          "mesh3d": [
           {
            "colorbar": {
             "outlinewidth": 0,
             "ticks": ""
            },
            "type": "mesh3d"
           }
          ],
          "parcoords": [
           {
            "line": {
             "colorbar": {
              "outlinewidth": 0,
              "ticks": ""
             }
            },
            "type": "parcoords"
           }
          ],
          "pie": [
           {
            "automargin": true,
            "type": "pie"
           }
          ],
          "scatter": [
           {
            "fillpattern": {
             "fillmode": "overlay",
             "size": 10,
             "solidity": 0.2
            },
            "type": "scatter"
           }
          ],
          "scatter3d": [
           {
            "line": {
             "colorbar": {
              "outlinewidth": 0,
              "ticks": ""
             }
            },
            "marker": {
             "colorbar": {
              "outlinewidth": 0,
              "ticks": ""
             }
            },
            "type": "scatter3d"
           }
          ],
          "scattercarpet": [
           {
            "marker": {
             "colorbar": {
              "outlinewidth": 0,
              "ticks": ""
             }
            },
            "type": "scattercarpet"
           }
          ],
          "scattergeo": [
           {
            "marker": {
             "colorbar": {
              "outlinewidth": 0,
              "ticks": ""
             }
            },
            "type": "scattergeo"
           }
          ],
          "scattergl": [
           {
            "marker": {
             "colorbar": {
              "outlinewidth": 0,
              "ticks": ""
             }
            },
            "type": "scattergl"
           }
          ],
          "scattermapbox": [
           {
            "marker": {
             "colorbar": {
              "outlinewidth": 0,
              "ticks": ""
             }
            },
            "type": "scattermapbox"
           }
          ],
          "scatterpolar": [
           {
            "marker": {
             "colorbar": {
              "outlinewidth": 0,
              "ticks": ""
             }
            },
            "type": "scatterpolar"
           }
          ],
          "scatterpolargl": [
           {
            "marker": {
             "colorbar": {
              "outlinewidth": 0,
              "ticks": ""
             }
            },
            "type": "scatterpolargl"
           }
          ],
          "scatterternary": [
           {
            "marker": {
             "colorbar": {
              "outlinewidth": 0,
              "ticks": ""
             }
            },
            "type": "scatterternary"
           }
          ],
          "surface": [
           {
            "colorbar": {
             "outlinewidth": 0,
             "ticks": ""
            },
            "colorscale": [
             [
              0,
              "#0d0887"
             ],
             [
              0.1111111111111111,
              "#46039f"
             ],
             [
              0.2222222222222222,
              "#7201a8"
             ],
             [
              0.3333333333333333,
              "#9c179e"
             ],
             [
              0.4444444444444444,
              "#bd3786"
             ],
             [
              0.5555555555555556,
              "#d8576b"
             ],
             [
              0.6666666666666666,
              "#ed7953"
             ],
             [
              0.7777777777777778,
              "#fb9f3a"
             ],
             [
              0.8888888888888888,
              "#fdca26"
             ],
             [
              1,
              "#f0f921"
             ]
            ],
            "type": "surface"
           }
          ],
          "table": [
           {
            "cells": {
             "fill": {
              "color": "#EBF0F8"
             },
             "line": {
              "color": "white"
             }
            },
            "header": {
             "fill": {
              "color": "#C8D4E3"
             },
             "line": {
              "color": "white"
             }
            },
            "type": "table"
           }
          ]
         },
         "layout": {
          "annotationdefaults": {
           "arrowcolor": "#2a3f5f",
           "arrowhead": 0,
           "arrowwidth": 1
          },
          "autotypenumbers": "strict",
          "coloraxis": {
           "colorbar": {
            "outlinewidth": 0,
            "ticks": ""
           }
          },
          "colorscale": {
           "diverging": [
            [
             0,
             "#8e0152"
            ],
            [
             0.1,
             "#c51b7d"
            ],
            [
             0.2,
             "#de77ae"
            ],
            [
             0.3,
             "#f1b6da"
            ],
            [
             0.4,
             "#fde0ef"
            ],
            [
             0.5,
             "#f7f7f7"
            ],
            [
             0.6,
             "#e6f5d0"
            ],
            [
             0.7,
             "#b8e186"
            ],
            [
             0.8,
             "#7fbc41"
            ],
            [
             0.9,
             "#4d9221"
            ],
            [
             1,
             "#276419"
            ]
           ],
           "sequential": [
            [
             0,
             "#0d0887"
            ],
            [
             0.1111111111111111,
             "#46039f"
            ],
            [
             0.2222222222222222,
             "#7201a8"
            ],
            [
             0.3333333333333333,
             "#9c179e"
            ],
            [
             0.4444444444444444,
             "#bd3786"
            ],
            [
             0.5555555555555556,
             "#d8576b"
            ],
            [
             0.6666666666666666,
             "#ed7953"
            ],
            [
             0.7777777777777778,
             "#fb9f3a"
            ],
            [
             0.8888888888888888,
             "#fdca26"
            ],
            [
             1,
             "#f0f921"
            ]
           ],
           "sequentialminus": [
            [
             0,
             "#0d0887"
            ],
            [
             0.1111111111111111,
             "#46039f"
            ],
            [
             0.2222222222222222,
             "#7201a8"
            ],
            [
             0.3333333333333333,
             "#9c179e"
            ],
            [
             0.4444444444444444,
             "#bd3786"
            ],
            [
             0.5555555555555556,
             "#d8576b"
            ],
            [
             0.6666666666666666,
             "#ed7953"
            ],
            [
             0.7777777777777778,
             "#fb9f3a"
            ],
            [
             0.8888888888888888,
             "#fdca26"
            ],
            [
             1,
             "#f0f921"
            ]
           ]
          },
          "colorway": [
           "#636efa",
           "#EF553B",
           "#00cc96",
           "#ab63fa",
           "#FFA15A",
           "#19d3f3",
           "#FF6692",
           "#B6E880",
           "#FF97FF",
           "#FECB52"
          ],
          "font": {
           "color": "#2a3f5f"
          },
          "geo": {
           "bgcolor": "white",
           "lakecolor": "white",
           "landcolor": "#E5ECF6",
           "showlakes": true,
           "showland": true,
           "subunitcolor": "white"
          },
          "hoverlabel": {
           "align": "left"
          },
          "hovermode": "closest",
          "mapbox": {
           "style": "light"
          },
          "paper_bgcolor": "white",
          "plot_bgcolor": "#E5ECF6",
          "polar": {
           "angularaxis": {
            "gridcolor": "white",
            "linecolor": "white",
            "ticks": ""
           },
           "bgcolor": "#E5ECF6",
           "radialaxis": {
            "gridcolor": "white",
            "linecolor": "white",
            "ticks": ""
           }
          },
          "scene": {
           "xaxis": {
            "backgroundcolor": "#E5ECF6",
            "gridcolor": "white",
            "gridwidth": 2,
            "linecolor": "white",
            "showbackground": true,
            "ticks": "",
            "zerolinecolor": "white"
           },
           "yaxis": {
            "backgroundcolor": "#E5ECF6",
            "gridcolor": "white",
            "gridwidth": 2,
            "linecolor": "white",
            "showbackground": true,
            "ticks": "",
            "zerolinecolor": "white"
           },
           "zaxis": {
            "backgroundcolor": "#E5ECF6",
            "gridcolor": "white",
            "gridwidth": 2,
            "linecolor": "white",
            "showbackground": true,
            "ticks": "",
            "zerolinecolor": "white"
           }
          },
          "shapedefaults": {
           "line": {
            "color": "#2a3f5f"
           }
          },
          "ternary": {
           "aaxis": {
            "gridcolor": "white",
            "linecolor": "white",
            "ticks": ""
           },
           "baxis": {
            "gridcolor": "white",
            "linecolor": "white",
            "ticks": ""
           },
           "bgcolor": "#E5ECF6",
           "caxis": {
            "gridcolor": "white",
            "linecolor": "white",
            "ticks": ""
           }
          },
          "title": {
           "x": 0.05
          },
          "xaxis": {
           "automargin": true,
           "gridcolor": "white",
           "linecolor": "white",
           "ticks": "",
           "title": {
            "standoff": 15
           },
           "zerolinecolor": "white",
           "zerolinewidth": 2
          },
          "yaxis": {
           "automargin": true,
           "gridcolor": "white",
           "linecolor": "white",
           "ticks": "",
           "title": {
            "standoff": 15
           },
           "zerolinecolor": "white",
           "zerolinewidth": 2
          }
         }
        },
        "title": {
         "text": "Total Variational Difference Scores"
        },
        "xaxis": {
         "anchor": "y",
         "domain": [
          0,
          1
         ],
         "title": {
          "text": "categorical_columns"
         }
        },
        "yaxis": {
         "anchor": "x",
         "domain": [
          0,
          1
         ],
         "range": [
          0,
          1
         ],
         "title": {
          "text": "tvd_scores"
         }
        }
       }
      }
     },
     "metadata": {},
     "output_type": "display_data"
    }
   ],
   "source": [
    "tvd_figure"
   ]
  },
  {
   "attachments": {},
   "cell_type": "markdown",
   "metadata": {},
   "source": [
    "From the table and the chart, we can see that most categorical columns from the synthetic data had a very high similarity score to its real data counterpart. This is a sign of high fidelity - the synthetic data resemebles the distribution of its original data."
   ]
  },
  {
   "cell_type": "code",
   "execution_count": 13,
   "metadata": {},
   "outputs": [],
   "source": [
    "ks_table, ks_figure = get_all_ks_scores(real_table = df,\n",
    "                                        synthetic_table = df_syn,\n",
    "                                        numerical_columns = num_cols)"
   ]
  },
  {
   "cell_type": "code",
   "execution_count": 14,
   "metadata": {},
   "outputs": [
    {
     "data": {
      "text/html": [
       "<div>\n",
       "<style scoped>\n",
       "    .dataframe tbody tr th:only-of-type {\n",
       "        vertical-align: middle;\n",
       "    }\n",
       "\n",
       "    .dataframe tbody tr th {\n",
       "        vertical-align: top;\n",
       "    }\n",
       "\n",
       "    .dataframe thead th {\n",
       "        text-align: right;\n",
       "    }\n",
       "</style>\n",
       "<table border=\"1\" class=\"dataframe\">\n",
       "  <thead>\n",
       "    <tr style=\"text-align: right;\">\n",
       "      <th></th>\n",
       "      <th>numerical_columns</th>\n",
       "      <th>ks_scores</th>\n",
       "    </tr>\n",
       "  </thead>\n",
       "  <tbody>\n",
       "    <tr>\n",
       "      <th>0</th>\n",
       "      <td>age</td>\n",
       "      <td>0.746431</td>\n",
       "    </tr>\n",
       "    <tr>\n",
       "      <th>1</th>\n",
       "      <td>trestbps</td>\n",
       "      <td>0.727340</td>\n",
       "    </tr>\n",
       "    <tr>\n",
       "      <th>2</th>\n",
       "      <td>chol</td>\n",
       "      <td>0.598519</td>\n",
       "    </tr>\n",
       "    <tr>\n",
       "      <th>3</th>\n",
       "      <td>thalach</td>\n",
       "      <td>0.744579</td>\n",
       "    </tr>\n",
       "    <tr>\n",
       "      <th>4</th>\n",
       "      <td>oldpeak</td>\n",
       "      <td>0.891044</td>\n",
       "    </tr>\n",
       "  </tbody>\n",
       "</table>\n",
       "</div>"
      ],
      "text/plain": [
       "  numerical_columns  ks_scores\n",
       "0               age   0.746431\n",
       "1          trestbps   0.727340\n",
       "2              chol   0.598519\n",
       "3           thalach   0.744579\n",
       "4           oldpeak   0.891044"
      ]
     },
     "execution_count": 14,
     "metadata": {},
     "output_type": "execute_result"
    }
   ],
   "source": [
    "ks_table"
   ]
  },
  {
   "cell_type": "code",
   "execution_count": 15,
   "metadata": {},
   "outputs": [
    {
     "data": {
      "application/vnd.plotly.v1+json": {
       "config": {
        "plotlyServerURL": "https://plot.ly"
       },
       "data": [
        {
         "alignmentgroup": "True",
         "hovertemplate": "numerical_columns=%{x}<br>ks_scores=%{y}<extra></extra>",
         "legendgroup": "",
         "marker": {
          "color": "#636efa",
          "pattern": {
           "shape": ""
          }
         },
         "name": "",
         "offsetgroup": "",
         "orientation": "v",
         "showlegend": false,
         "textposition": "inside",
         "type": "bar",
         "x": [
          "age",
          "trestbps",
          "chol",
          "thalach",
          "oldpeak"
         ],
         "xaxis": "x",
         "y": [
          0.7464309764309764,
          0.7273400673400674,
          0.5985185185185184,
          0.7445791245791246,
          0.8910437710437711
         ],
         "yaxis": "y"
        }
       ],
       "layout": {
        "barmode": "relative",
        "legend": {
         "tracegroupgap": 0
        },
        "template": {
         "data": {
          "bar": [
           {
            "error_x": {
             "color": "#2a3f5f"
            },
            "error_y": {
             "color": "#2a3f5f"
            },
            "marker": {
             "line": {
              "color": "#E5ECF6",
              "width": 0.5
             },
             "pattern": {
              "fillmode": "overlay",
              "size": 10,
              "solidity": 0.2
             }
            },
            "type": "bar"
           }
          ],
          "barpolar": [
           {
            "marker": {
             "line": {
              "color": "#E5ECF6",
              "width": 0.5
             },
             "pattern": {
              "fillmode": "overlay",
              "size": 10,
              "solidity": 0.2
             }
            },
            "type": "barpolar"
           }
          ],
          "carpet": [
           {
            "aaxis": {
             "endlinecolor": "#2a3f5f",
             "gridcolor": "white",
             "linecolor": "white",
             "minorgridcolor": "white",
             "startlinecolor": "#2a3f5f"
            },
            "baxis": {
             "endlinecolor": "#2a3f5f",
             "gridcolor": "white",
             "linecolor": "white",
             "minorgridcolor": "white",
             "startlinecolor": "#2a3f5f"
            },
            "type": "carpet"
           }
          ],
          "choropleth": [
           {
            "colorbar": {
             "outlinewidth": 0,
             "ticks": ""
            },
            "type": "choropleth"
           }
          ],
          "contour": [
           {
            "colorbar": {
             "outlinewidth": 0,
             "ticks": ""
            },
            "colorscale": [
             [
              0,
              "#0d0887"
             ],
             [
              0.1111111111111111,
              "#46039f"
             ],
             [
              0.2222222222222222,
              "#7201a8"
             ],
             [
              0.3333333333333333,
              "#9c179e"
             ],
             [
              0.4444444444444444,
              "#bd3786"
             ],
             [
              0.5555555555555556,
              "#d8576b"
             ],
             [
              0.6666666666666666,
              "#ed7953"
             ],
             [
              0.7777777777777778,
              "#fb9f3a"
             ],
             [
              0.8888888888888888,
              "#fdca26"
             ],
             [
              1,
              "#f0f921"
             ]
            ],
            "type": "contour"
           }
          ],
          "contourcarpet": [
           {
            "colorbar": {
             "outlinewidth": 0,
             "ticks": ""
            },
            "type": "contourcarpet"
           }
          ],
          "heatmap": [
           {
            "colorbar": {
             "outlinewidth": 0,
             "ticks": ""
            },
            "colorscale": [
             [
              0,
              "#0d0887"
             ],
             [
              0.1111111111111111,
              "#46039f"
             ],
             [
              0.2222222222222222,
              "#7201a8"
             ],
             [
              0.3333333333333333,
              "#9c179e"
             ],
             [
              0.4444444444444444,
              "#bd3786"
             ],
             [
              0.5555555555555556,
              "#d8576b"
             ],
             [
              0.6666666666666666,
              "#ed7953"
             ],
             [
              0.7777777777777778,
              "#fb9f3a"
             ],
             [
              0.8888888888888888,
              "#fdca26"
             ],
             [
              1,
              "#f0f921"
             ]
            ],
            "type": "heatmap"
           }
          ],
          "heatmapgl": [
           {
            "colorbar": {
             "outlinewidth": 0,
             "ticks": ""
            },
            "colorscale": [
             [
              0,
              "#0d0887"
             ],
             [
              0.1111111111111111,
              "#46039f"
             ],
             [
              0.2222222222222222,
              "#7201a8"
             ],
             [
              0.3333333333333333,
              "#9c179e"
             ],
             [
              0.4444444444444444,
              "#bd3786"
             ],
             [
              0.5555555555555556,
              "#d8576b"
             ],
             [
              0.6666666666666666,
              "#ed7953"
             ],
             [
              0.7777777777777778,
              "#fb9f3a"
             ],
             [
              0.8888888888888888,
              "#fdca26"
             ],
             [
              1,
              "#f0f921"
             ]
            ],
            "type": "heatmapgl"
           }
          ],
          "histogram": [
           {
            "marker": {
             "pattern": {
              "fillmode": "overlay",
              "size": 10,
              "solidity": 0.2
             }
            },
            "type": "histogram"
           }
          ],
          "histogram2d": [
           {
            "colorbar": {
             "outlinewidth": 0,
             "ticks": ""
            },
            "colorscale": [
             [
              0,
              "#0d0887"
             ],
             [
              0.1111111111111111,
              "#46039f"
             ],
             [
              0.2222222222222222,
              "#7201a8"
             ],
             [
              0.3333333333333333,
              "#9c179e"
             ],
             [
              0.4444444444444444,
              "#bd3786"
             ],
             [
              0.5555555555555556,
              "#d8576b"
             ],
             [
              0.6666666666666666,
              "#ed7953"
             ],
             [
              0.7777777777777778,
              "#fb9f3a"
             ],
             [
              0.8888888888888888,
              "#fdca26"
             ],
             [
              1,
              "#f0f921"
             ]
            ],
            "type": "histogram2d"
           }
          ],
          "histogram2dcontour": [
           {
            "colorbar": {
             "outlinewidth": 0,
             "ticks": ""
            },
            "colorscale": [
             [
              0,
              "#0d0887"
             ],
             [
              0.1111111111111111,
              "#46039f"
             ],
             [
              0.2222222222222222,
              "#7201a8"
             ],
             [
              0.3333333333333333,
              "#9c179e"
             ],
             [
              0.4444444444444444,
              "#bd3786"
             ],
             [
              0.5555555555555556,
              "#d8576b"
             ],
             [
              0.6666666666666666,
              "#ed7953"
             ],
             [
              0.7777777777777778,
              "#fb9f3a"
             ],
             [
              0.8888888888888888,
              "#fdca26"
             ],
             [
              1,
              "#f0f921"
             ]
            ],
            "type": "histogram2dcontour"
           }
          ],
          "mesh3d": [
           {
            "colorbar": {
             "outlinewidth": 0,
             "ticks": ""
            },
            "type": "mesh3d"
           }
          ],
          "parcoords": [
           {
            "line": {
             "colorbar": {
              "outlinewidth": 0,
              "ticks": ""
             }
            },
            "type": "parcoords"
           }
          ],
          "pie": [
           {
            "automargin": true,
            "type": "pie"
           }
          ],
          "scatter": [
           {
            "fillpattern": {
             "fillmode": "overlay",
             "size": 10,
             "solidity": 0.2
            },
            "type": "scatter"
           }
          ],
          "scatter3d": [
           {
            "line": {
             "colorbar": {
              "outlinewidth": 0,
              "ticks": ""
             }
            },
            "marker": {
             "colorbar": {
              "outlinewidth": 0,
              "ticks": ""
             }
            },
            "type": "scatter3d"
           }
          ],
          "scattercarpet": [
           {
            "marker": {
             "colorbar": {
              "outlinewidth": 0,
              "ticks": ""
             }
            },
            "type": "scattercarpet"
           }
          ],
          "scattergeo": [
           {
            "marker": {
             "colorbar": {
              "outlinewidth": 0,
              "ticks": ""
             }
            },
            "type": "scattergeo"
           }
          ],
          "scattergl": [
           {
            "marker": {
             "colorbar": {
              "outlinewidth": 0,
              "ticks": ""
             }
            },
            "type": "scattergl"
           }
          ],
          "scattermapbox": [
           {
            "marker": {
             "colorbar": {
              "outlinewidth": 0,
              "ticks": ""
             }
            },
            "type": "scattermapbox"
           }
          ],
          "scatterpolar": [
           {
            "marker": {
             "colorbar": {
              "outlinewidth": 0,
              "ticks": ""
             }
            },
            "type": "scatterpolar"
           }
          ],
          "scatterpolargl": [
           {
            "marker": {
             "colorbar": {
              "outlinewidth": 0,
              "ticks": ""
             }
            },
            "type": "scatterpolargl"
           }
          ],
          "scatterternary": [
           {
            "marker": {
             "colorbar": {
              "outlinewidth": 0,
              "ticks": ""
             }
            },
            "type": "scatterternary"
           }
          ],
          "surface": [
           {
            "colorbar": {
             "outlinewidth": 0,
             "ticks": ""
            },
            "colorscale": [
             [
              0,
              "#0d0887"
             ],
             [
              0.1111111111111111,
              "#46039f"
             ],
             [
              0.2222222222222222,
              "#7201a8"
             ],
             [
              0.3333333333333333,
              "#9c179e"
             ],
             [
              0.4444444444444444,
              "#bd3786"
             ],
             [
              0.5555555555555556,
              "#d8576b"
             ],
             [
              0.6666666666666666,
              "#ed7953"
             ],
             [
              0.7777777777777778,
              "#fb9f3a"
             ],
             [
              0.8888888888888888,
              "#fdca26"
             ],
             [
              1,
              "#f0f921"
             ]
            ],
            "type": "surface"
           }
          ],
          "table": [
           {
            "cells": {
             "fill": {
              "color": "#EBF0F8"
             },
             "line": {
              "color": "white"
             }
            },
            "header": {
             "fill": {
              "color": "#C8D4E3"
             },
             "line": {
              "color": "white"
             }
            },
            "type": "table"
           }
          ]
         },
         "layout": {
          "annotationdefaults": {
           "arrowcolor": "#2a3f5f",
           "arrowhead": 0,
           "arrowwidth": 1
          },
          "autotypenumbers": "strict",
          "coloraxis": {
           "colorbar": {
            "outlinewidth": 0,
            "ticks": ""
           }
          },
          "colorscale": {
           "diverging": [
            [
             0,
             "#8e0152"
            ],
            [
             0.1,
             "#c51b7d"
            ],
            [
             0.2,
             "#de77ae"
            ],
            [
             0.3,
             "#f1b6da"
            ],
            [
             0.4,
             "#fde0ef"
            ],
            [
             0.5,
             "#f7f7f7"
            ],
            [
             0.6,
             "#e6f5d0"
            ],
            [
             0.7,
             "#b8e186"
            ],
            [
             0.8,
             "#7fbc41"
            ],
            [
             0.9,
             "#4d9221"
            ],
            [
             1,
             "#276419"
            ]
           ],
           "sequential": [
            [
             0,
             "#0d0887"
            ],
            [
             0.1111111111111111,
             "#46039f"
            ],
            [
             0.2222222222222222,
             "#7201a8"
            ],
            [
             0.3333333333333333,
             "#9c179e"
            ],
            [
             0.4444444444444444,
             "#bd3786"
            ],
            [
             0.5555555555555556,
             "#d8576b"
            ],
            [
             0.6666666666666666,
             "#ed7953"
            ],
            [
             0.7777777777777778,
             "#fb9f3a"
            ],
            [
             0.8888888888888888,
             "#fdca26"
            ],
            [
             1,
             "#f0f921"
            ]
           ],
           "sequentialminus": [
            [
             0,
             "#0d0887"
            ],
            [
             0.1111111111111111,
             "#46039f"
            ],
            [
             0.2222222222222222,
             "#7201a8"
            ],
            [
             0.3333333333333333,
             "#9c179e"
            ],
            [
             0.4444444444444444,
             "#bd3786"
            ],
            [
             0.5555555555555556,
             "#d8576b"
            ],
            [
             0.6666666666666666,
             "#ed7953"
            ],
            [
             0.7777777777777778,
             "#fb9f3a"
            ],
            [
             0.8888888888888888,
             "#fdca26"
            ],
            [
             1,
             "#f0f921"
            ]
           ]
          },
          "colorway": [
           "#636efa",
           "#EF553B",
           "#00cc96",
           "#ab63fa",
           "#FFA15A",
           "#19d3f3",
           "#FF6692",
           "#B6E880",
           "#FF97FF",
           "#FECB52"
          ],
          "font": {
           "color": "#2a3f5f"
          },
          "geo": {
           "bgcolor": "white",
           "lakecolor": "white",
           "landcolor": "#E5ECF6",
           "showlakes": true,
           "showland": true,
           "subunitcolor": "white"
          },
          "hoverlabel": {
           "align": "left"
          },
          "hovermode": "closest",
          "mapbox": {
           "style": "light"
          },
          "paper_bgcolor": "white",
          "plot_bgcolor": "#E5ECF6",
          "polar": {
           "angularaxis": {
            "gridcolor": "white",
            "linecolor": "white",
            "ticks": ""
           },
           "bgcolor": "#E5ECF6",
           "radialaxis": {
            "gridcolor": "white",
            "linecolor": "white",
            "ticks": ""
           }
          },
          "scene": {
           "xaxis": {
            "backgroundcolor": "#E5ECF6",
            "gridcolor": "white",
            "gridwidth": 2,
            "linecolor": "white",
            "showbackground": true,
            "ticks": "",
            "zerolinecolor": "white"
           },
           "yaxis": {
            "backgroundcolor": "#E5ECF6",
            "gridcolor": "white",
            "gridwidth": 2,
            "linecolor": "white",
            "showbackground": true,
            "ticks": "",
            "zerolinecolor": "white"
           },
           "zaxis": {
            "backgroundcolor": "#E5ECF6",
            "gridcolor": "white",
            "gridwidth": 2,
            "linecolor": "white",
            "showbackground": true,
            "ticks": "",
            "zerolinecolor": "white"
           }
          },
          "shapedefaults": {
           "line": {
            "color": "#2a3f5f"
           }
          },
          "ternary": {
           "aaxis": {
            "gridcolor": "white",
            "linecolor": "white",
            "ticks": ""
           },
           "baxis": {
            "gridcolor": "white",
            "linecolor": "white",
            "ticks": ""
           },
           "bgcolor": "#E5ECF6",
           "caxis": {
            "gridcolor": "white",
            "linecolor": "white",
            "ticks": ""
           }
          },
          "title": {
           "x": 0.05
          },
          "xaxis": {
           "automargin": true,
           "gridcolor": "white",
           "linecolor": "white",
           "ticks": "",
           "title": {
            "standoff": 15
           },
           "zerolinecolor": "white",
           "zerolinewidth": 2
          },
          "yaxis": {
           "automargin": true,
           "gridcolor": "white",
           "linecolor": "white",
           "ticks": "",
           "title": {
            "standoff": 15
           },
           "zerolinecolor": "white",
           "zerolinewidth": 2
          }
         }
        },
        "title": {
         "text": "Kolmogorov-Smirnov statistic Scores"
        },
        "xaxis": {
         "anchor": "y",
         "domain": [
          0,
          1
         ],
         "title": {
          "text": "numerical_columns"
         }
        },
        "yaxis": {
         "anchor": "x",
         "domain": [
          0,
          1
         ],
         "range": [
          0,
          1
         ],
         "title": {
          "text": "ks_scores"
         }
        }
       }
      }
     },
     "metadata": {},
     "output_type": "display_data"
    }
   ],
   "source": [
    "ks_figure"
   ]
  },
  {
   "attachments": {},
   "cell_type": "markdown",
   "metadata": {},
   "source": [
    "From the figure and table, we can see that the distribution of the numerical columns did not retain as well as the categorical columns. To possibly further increase the fidelity of numerical columns, you may consider increasing the number of epochs to train the synthesizer on."
   ]
  },
  {
   "cell_type": "code",
   "execution_count": 16,
   "metadata": {},
   "outputs": [
    {
     "data": {
      "image/png": "[encoded data removed]",
      "text/plain": [
       "<Figure size 1500x600 with 4 Axes>"
      ]
     },
     "execution_count": 16,
     "metadata": {},
     "output_type": "execute_result"
    },
    {
     "data": {
      "image/png": "[encoded data removed]",
      "text/plain": [
       "<Figure size 1500x600 with 4 Axes>"
      ]
     },
     "metadata": {},
     "output_type": "display_data"
    }
   ],
   "source": [
    "plot_corr_matrix(real = df,\n",
    "                synthetic = df_syn)\n"
   ]
  },
  {
   "attachments": {},
   "cell_type": "markdown",
   "metadata": {},
   "source": [
    "For high fidelity (similarity) synthetic data, we would expect the correlations between variables to be retained."
   ]
  },
  {
   "cell_type": "code",
   "execution_count": 17,
   "metadata": {},
   "outputs": [
    {
     "data": {
      "image/png": "[encoded data removed]",
      "text/plain": [
       "<Figure size 1500x500 with 6 Axes>"
      ]
     },
     "metadata": {},
     "output_type": "display_data"
    }
   ],
   "source": [
    "fig, mi_score, pairwise_passed = plot_mi_matrix(df = df, df_syn = df_syn)"
   ]
  },
  {
   "attachments": {},
   "cell_type": "markdown",
   "metadata": {},
   "source": [
    "A more accurate way of validating the retention of the dependencies between 2 variables is to look at Mutual Information. This applies to both discrete and continuous data and does not require the variables to have linear relationships. From the chart above, we can see that the pairwise mutual information has generally been retained in most columns. However, pairwise mutual information between numerical columns like `trestbps` and `age` have suffered a larger difference. This could be due to the lack of retention of the distributions of these columns as seen from the KS Scores."
   ]
  },
  {
   "cell_type": "code",
   "execution_count": 18,
   "metadata": {},
   "outputs": [
    {
     "name": "stdout",
     "output_type": "stream",
     "text": [
      "Amount of Mutual Information Retained = 96.21%\n"
     ]
    }
   ],
   "source": [
    "print(f\"Amount of Mutual Information Retained = {100 * mi_score}%\")"
   ]
  },
  {
   "cell_type": "code",
   "execution_count": 19,
   "metadata": {},
   "outputs": [
    {
     "name": "stdout",
     "output_type": "stream",
     "text": [
      "Proportion of Pair-wise relationships that retained Mutual Information = 97.8%\n"
     ]
    }
   ],
   "source": [
    "print(f\"Proportion of Pair-wise relationships that retained Mutual Information = {100 * pairwise_passed}%\")"
   ]
  },
  {
   "cell_type": "code",
   "execution_count": 20,
   "metadata": {},
   "outputs": [
    {
     "data": {
      "application/vnd.plotly.v1+json": {
       "config": {
        "plotlyServerURL": "https://plot.ly"
       },
       "data": [
        {
         "fill": "tozeroy",
         "hovertemplate": "<b>Real</b><br>Value: %{x}<br>Frequency: %{y}<extra></extra>",
         "legendgroup": "Real",
         "marker": {
          "color": "#000036"
         },
         "mode": "lines",
         "name": "Real",
         "showlegend": true,
         "type": "scatter",
         "x": [
          29,
          29.096,
          29.192,
          29.288,
          29.384,
          29.48,
          29.576,
          29.672,
          29.768,
          29.864,
          29.96,
          30.056,
          30.152,
          30.248,
          30.344,
          30.44,
          30.536,
          30.632,
          30.728,
          30.824,
          30.92,
          31.016,
          31.112000000000002,
          31.208,
          31.304,
          31.4,
          31.496,
          31.592,
          31.688,
          31.784,
          31.88,
          31.976,
          32.072,
          32.168,
          32.264,
          32.36,
          32.456,
          32.552,
          32.648,
          32.744,
          32.84,
          32.936,
          33.032,
          33.128,
          33.224000000000004,
          33.32,
          33.416,
          33.512,
          33.608,
          33.704,
          33.8,
          33.896,
          33.992,
          34.088,
          34.184,
          34.28,
          34.376,
          34.472,
          34.568,
          34.664,
          34.76,
          34.856,
          34.952,
          35.048,
          35.144,
          35.24,
          35.336,
          35.432,
          35.528,
          35.624,
          35.72,
          35.816,
          35.912,
          36.008,
          36.104,
          36.2,
          36.296,
          36.392,
          36.488,
          36.584,
          36.68,
          36.775999999999996,
          36.872,
          36.968,
          37.064,
          37.16,
          37.256,
          37.352000000000004,
          37.448,
          37.544,
          37.64,
          37.736000000000004,
          37.832,
          37.928,
          38.024,
          38.12,
          38.216,
          38.312,
          38.408,
          38.504,
          38.6,
          38.696,
          38.792,
          38.888,
          38.984,
          39.08,
          39.176,
          39.272,
          39.368,
          39.464,
          39.56,
          39.656,
          39.752,
          39.848,
          39.944,
          40.04,
          40.135999999999996,
          40.232,
          40.328,
          40.424,
          40.519999999999996,
          40.616,
          40.712,
          40.808,
          40.903999999999996,
          41,
          41.096000000000004,
          41.192,
          41.288,
          41.384,
          41.480000000000004,
          41.576,
          41.672,
          41.768,
          41.864000000000004,
          41.96,
          42.056,
          42.152,
          42.248,
          42.344,
          42.44,
          42.536,
          42.632,
          42.728,
          42.824,
          42.92,
          43.016,
          43.112,
          43.208,
          43.304,
          43.4,
          43.496,
          43.592,
          43.688,
          43.784,
          43.88,
          43.976,
          44.072,
          44.168,
          44.263999999999996,
          44.36,
          44.456,
          44.552,
          44.647999999999996,
          44.744,
          44.84,
          44.936,
          45.032,
          45.128,
          45.224000000000004,
          45.32,
          45.416,
          45.512,
          45.608000000000004,
          45.704,
          45.8,
          45.896,
          45.992000000000004,
          46.088,
          46.184,
          46.28,
          46.376000000000005,
          46.472,
          46.568,
          46.664,
          46.760000000000005,
          46.856,
          46.952,
          47.048,
          47.144,
          47.239999999999995,
          47.336,
          47.432,
          47.528,
          47.623999999999995,
          47.72,
          47.816,
          47.912,
          48.007999999999996,
          48.104,
          48.2,
          48.296,
          48.391999999999996,
          48.488,
          48.584,
          48.68,
          48.775999999999996,
          48.872,
          48.968,
          49.064,
          49.16,
          49.256,
          49.352000000000004,
          49.448,
          49.544,
          49.64,
          49.736000000000004,
          49.832,
          49.928,
          50.024,
          50.120000000000005,
          50.216,
          50.312,
          50.408,
          50.504000000000005,
          50.6,
          50.696,
          50.792,
          50.888000000000005,
          50.984,
          51.08,
          51.176,
          51.272,
          51.367999999999995,
          51.464,
          51.56,
          51.656,
          51.751999999999995,
          51.848,
          51.944,
          52.04,
          52.135999999999996,
          52.232,
          52.328,
          52.424,
          52.519999999999996,
          52.616,
          52.712,
          52.808,
          52.903999999999996,
          53,
          53.096000000000004,
          53.192,
          53.288,
          53.384,
          53.480000000000004,
          53.576,
          53.672,
          53.768,
          53.864000000000004,
          53.96,
          54.056,
          54.152,
          54.248000000000005,
          54.344,
          54.44,
          54.536,
          54.632000000000005,
          54.728,
          54.824,
          54.92,
          55.016,
          55.111999999999995,
          55.208,
          55.304,
          55.4,
          55.495999999999995,
          55.592,
          55.688,
          55.784,
          55.879999999999995,
          55.976,
          56.072,
          56.168,
          56.263999999999996,
          56.36,
          56.456,
          56.552,
          56.647999999999996,
          56.744,
          56.84,
          56.936,
          57.032,
          57.128,
          57.224000000000004,
          57.32,
          57.416,
          57.512,
          57.608000000000004,
          57.704,
          57.8,
          57.896,
          57.992000000000004,
          58.088,
          58.184,
          58.28,
          58.376000000000005,
          58.472,
          58.568,
          58.664,
          58.760000000000005,
          58.856,
          58.952,
          59.048,
          59.144,
          59.239999999999995,
          59.336,
          59.432,
          59.528,
          59.623999999999995,
          59.72,
          59.816,
          59.912,
          60.007999999999996,
          60.104,
          60.2,
          60.296,
          60.391999999999996,
          60.488,
          60.584,
          60.68,
          60.775999999999996,
          60.872,
          60.968,
          61.064,
          61.16,
          61.256,
          61.352,
          61.448,
          61.544,
          61.64,
          61.736,
          61.832,
          61.928,
          62.024,
          62.12,
          62.216,
          62.312,
          62.408,
          62.504,
          62.6,
          62.696,
          62.792,
          62.888,
          62.984,
          63.08,
          63.176,
          63.272,
          63.368,
          63.464,
          63.56,
          63.656,
          63.752,
          63.848,
          63.944,
          64.03999999999999,
          64.136,
          64.232,
          64.328,
          64.424,
          64.52000000000001,
          64.616,
          64.712,
          64.80799999999999,
          64.904,
          65,
          65.096,
          65.19200000000001,
          65.288,
          65.384,
          65.47999999999999,
          65.576,
          65.672,
          65.768,
          65.864,
          65.96000000000001,
          66.056,
          66.152,
          66.24799999999999,
          66.344,
          66.44,
          66.536,
          66.632,
          66.72800000000001,
          66.824,
          66.92,
          67.01599999999999,
          67.112,
          67.208,
          67.304,
          67.4,
          67.49600000000001,
          67.592,
          67.688,
          67.78399999999999,
          67.88,
          67.976,
          68.072,
          68.168,
          68.26400000000001,
          68.36,
          68.456,
          68.55199999999999,
          68.648,
          68.744,
          68.84,
          68.936,
          69.032,
          69.128,
          69.22399999999999,
          69.32,
          69.416,
          69.512,
          69.608,
          69.70400000000001,
          69.8,
          69.896,
          69.99199999999999,
          70.088,
          70.184,
          70.28,
          70.376,
          70.47200000000001,
          70.568,
          70.664,
          70.75999999999999,
          70.856,
          70.952,
          71.048,
          71.144,
          71.24000000000001,
          71.336,
          71.432,
          71.52799999999999,
          71.624,
          71.72,
          71.816,
          71.912,
          72.00800000000001,
          72.104,
          72.2,
          72.29599999999999,
          72.392,
          72.488,
          72.584,
          72.68,
          72.77600000000001,
          72.872,
          72.968,
          73.064,
          73.16,
          73.256,
          73.352,
          73.44800000000001,
          73.544,
          73.64,
          73.73599999999999,
          73.832,
          73.928,
          74.024,
          74.12,
          74.21600000000001,
          74.312,
          74.408,
          74.50399999999999,
          74.6,
          74.696,
          74.792,
          74.888,
          74.98400000000001,
          75.08,
          75.176,
          75.27199999999999,
          75.368,
          75.464,
          75.56,
          75.656,
          75.75200000000001,
          75.848,
          75.944,
          76.03999999999999,
          76.136,
          76.232,
          76.328,
          76.424,
          76.52000000000001,
          76.616,
          76.712,
          76.80799999999999,
          76.904
         ],
         "xaxis": "x",
         "y": [
          0.0009213398183069811,
          0.0009518119102851702,
          0.0009833332930122545,
          0.0010159468963533947,
          0.0010496956825565575,
          0.0010846224334955519,
          0.001120769532021094,
          0.0011581787392471387,
          0.001196890969724063,
          0.0012369460665600427,
          0.001278382578645375,
          0.001321237542209581,
          0.001365546268996573,
          0.0014113421433774296,
          0.001458656430732232,
          0.0015075180994208383,
          0.0015579536586267065,
          0.0016099870142972613,
          0.0016636393453185727,
          0.001718929001951112,
          0.0017758714284174368,
          0.0018344791113722113,
          0.0018947615558006384,
          0.0019567252896847765,
          0.00202037389854882,
          0.00208570809074667,
          0.002152725794089399,
          0.00222142228412886,
          0.002291790344119034,
          0.0023638204563712216,
          0.002437501024405974,
          0.002512818624986094,
          0.002589758288794923,
          0.002668303808204878,
          0.002748438070266802,
          0.0028301434127435943,
          0.0029134020007163556,
          0.002998196221009233,
          0.0030845090914158424,
          0.0031723246814665393,
          0.003261628541255991,
          0.003352408134657337,
          0.003444653273084053,
          0.003538356545827577,
          0.003633513742897857,
          0.003730124266228952,
          0.003828191525081985,
          0.003927723311486089,
          0.004028732151604085,
          0.004131235628993927,
          0.004235256675859506,
          0.004340823828545437,
          0.004447971443727427,
          0.0045567398719839804,
          0.0046671755857021074,
          0.0047793312585706635,
          0.004893265794244165,
          0.005009044302118336,
          0.005126738018540245,
          0.00524642417218006,
          0.005368185792712891,
          0.005492111462395584,
          0.005618295010570397,
          0.005746835151581278,
          0.005877835067045216,
          0.0060114019338771306,
          0.006147646399916916,
          0.0062866820094491125,
          0.006428624581333725,
          0.006573591542878849,
          0.006721701222976222,
          0.006873072108388662,
          0.0070278220674176994,
          0.007186067545490188,
          0.007347922737478594,
          0.007513498741812187,
          0.007682902701639659,
          0.007856236938468826,
          0.008033598083833639,
          0.008215076214620965,
          0.008400753997730607,
          0.008590705849739831,
          0.008784997117199173,
          0.008983683283100443,
          0.009186809204930242,
          0.009394408389555926,
          0.009606502309984414,
          0.009823099768794388,
          0.010044196312764708,
          0.010269773702916157,
          0.010499799443845104,
          0.01073422637586642,
          0.010972992333096591,
          0.011216019870202109,
          0.011463216060116906,
          0.011714472364596964,
          0.011969664579037028,
          0.012228652852522942,
          0.01249128178364212,
          0.012757380592122386,
          0.013026763365923701,
          0.013299229382968075,
          0.013574563506265942,
          0.013852536650783055,
          0.01413290631999663,
          0.014415417209710842,
          0.014699801876347696,
          0.014985781466597313,
          0.015273066505006292,
          0.015561357735804101,
          0.015850347015018404,
          0.016139718248708745,
          0.016429148372959435,
          0.016718308371111486,
          0.017006864323585492,
          0.01729447848554848,
          0.01758081038760947,
          0.017865517954689228,
          0.0181482586381986,
          0.018428690556676723,
          0.01870647364008174,
          0.01898127077299309,
          0.019252748932073616,
          0.01952058031324866,
          0.019784443444188452,
          0.020044024277823674,
          0.02029901726278599,
          0.02054912638683632,
          0.020794066189528296,
          0.021033562740545634,
          0.02126735458035138,
          0.021495193619992553,
          0.021716845997108457,
          0.021932092885402973,
          0.02214073125504868,
          0.022342574581701052,
          0.02253745350200559,
          0.022725216413686473,
          0.022905730018503417,
          0.023078879806560433,
          0.023244570480640592,
          0.0234027263194267,
          0.02355329147864993,
          0.023696230229384087,
          0.02383152713287533,
          0.023959187151466017,
          0.024079235695333358,
          0.024191718604927255,
          0.024296702069149738,
          0.024394272479473872,
          0.024484536220360283,
          0.024567619396481364,
          0.02464366749742392,
          0.024712845000696426,
          0.024775334914028713,
          0.02483133825811365,
          0.02488107349110689,
          0.024924775876367815,
          0.024962696795098997,
          0.024995103005714815,
          0.02502227585195113,
          0.025044510421907962,
          0.02506211466040333,
          0.02507540843720211,
          0.025084722573872315,
          0.025090397832209923,
          0.02509278386735911,
          0.025092238148943458,
          0.02508912485370228,
          0.02508381373330628,
          0.025076678961196114,
          0.025068097962449933,
          0.025058450230839194,
          0.025048116137371967,
          0.025037475734750826,
          0.025026907562283533,
          0.025016787455879003,
          0.025007487367837193,
          0.024999374201194483,
          0.024992808663420466,
          0.024988144144268108,
          0.02498572562256438,
          0.024985888606683476,
          0.024988958113375852,
          0.024995247689525577,
          0.025005058481283322,
          0.02501867835486147,
          0.02503638107309697,
          0.02505842553166752,
          0.025085055058604793,
          0.025116496780475908,
          0.025152961058303686,
          0.02519464099597153,
          0.025241712023507428,
          0.0252943315572678,
          0.025352638738648004,
          0.025416754252531103,
          0.025486780226257923,
          0.025562800209454832,
          0.025644879234601976,
          0.025733063957759178,
          0.0258273828783979,
          0.025927846636817752,
          0.026034448387152714,
          0.02614716424351187,
          0.026265953796337834,
          0.02639076069562397,
          0.02652151329719937,
          0.02665812536788003,
          0.02680049684489535,
          0.026948514644631757,
          0.027102053515404293,
          0.027260976928655496,
          0.027425138002717793,
          0.027594380453034504,
          0.02776853956254621,
          0.027947443165790543,
          0.028130912640157955,
          0.02831876389767786,
          0.02851080837068931,
          0.028706853984782503,
          0.028906706112466114,
          0.02911016850114411,
          0.02931704416915186,
          0.02952713626382146,
          0.029740248875809547,
          0.0299561878042289,
          0.030174761267479585,
          0.030395780555066507,
          0.030619060616127812,
          0.030844420580864094,
          0.031071684211565975,
          0.031300680280468535,
          0.031531242872225924,
          0.031763211609379505,
          0.03199643179980026,
          0.03223075450570073,
          0.03246603653444356,
          0.03270214035200386,
          0.03293893392058151,
          0.033176290462486914,
          0.0334140881530487,
          0.03365220974589771,
          0.03389054213457125,
          0.03412897585494948,
          0.03436740453356907,
          0.03460572428736513,
          0.034843833080857596,
          0.03508163004722249,
          0.03531901478006375,
          0.035555886603029115,
          0.03579214382468845,
          0.036027682986306014,
          0.03626239811029675,
          0.036496179957250484,
          0.03672891529943823,
          0.03696048621868039,
          0.03719076943635315,
          0.037419635683143916,
          0.037646949115928974,
          0.03787256678884788,
          0.03809633818528113,
          0.0383181048170122,
          0.038537699896363166,
          0.03875494808654989,
          0.03896966533490181,
          0.03918165879294217,
          0.039390726826632125,
          0.039596659119346234,
          0.03979923686938319,
          0.03999823308301652,
          0.04019341296327765,
          0.040384534393831155,
          0.04057134851646319,
          0.040753600399869354,
          0.04093102979659574,
          0.041103371984171515,
          0.041270358685682074,
          0.04143171906426452,
          0.0415871807852885,
          0.04173647113930101,
          0.04187931821818663,
          0.04201545213642551,
          0.04214460628882283,
          0.0422665186356477,
          0.04238093300575542,
          0.04248760040798346,
          0.042586280340909034,
          0.04267674209093642,
          0.04275876600865441,
          0.04283214475345746,
          0.04289668449656983,
          0.04295220607284551,
          0.0429985460720314,
          0.04303555786058489,
          0.043063112525616926,
          0.043081099733090496,
          0.04308942849303233,
          0.0430880278252105,
          0.043076847319486605,
          0.043055857585855443,
          0.04302505059003797,
          0.042984439871384394,
          0.042934060640759504,
          0.04287396975702281,
          0.04280424558166481,
          0.04272498771211465,
          0.042636316595178476,
          0.04253837302300099,
          0.04243131751484927,
          0.042315329588891996,
          0.04219060692898391,
          0.04205736445225093,
          0.04191583328400634,
          0.041766259647196886,
          0.041608903674186855,
          0.04144403814921713,
          0.041271947190337784,
          0.041092924879988245,
          0.04090727385369859,
          0.04071530385659687,
          0.04051733027753764,
          0.040313672670714173,
          0.040104653274577566,
          0.039890595537767214,
          0.03967182266156384,
          0.03944865616809795,
          0.03922141450320993,
          0.03899041168244113,
          0.03875595598817022,
          0.038518348725375816,
          0.03827788304293444,
          0.038034842826740606,
          0.037789501670279606,
          0.03754212192760039,
          0.03729295385292434,
          0.03704223483040536,
          0.03679018869682524,
          0.03653702515927117,
          0.03628293930912036,
          0.036028111232933285,
          0.035772705720163035,
          0.035516872066908525,
          0.03526074397429336,
          0.03500443953943482,
          0.034748061336390655,
          0.034491696583933966,
          0.03423541739651035,
          0.03397928111428793,
          0.03372333070780752,
          0.03346759525239302,
          0.033212090467183146,
          0.03295681931339557,
          0.032701772646238095,
          0.032446929914733504,
          0.03219225990362576,
          0.03193772151148239,
          0.0316832645591036,
          0.031428830622382706,
          0.03117435388384308,
          0.030919761997188776,
          0.030664976959359203,
          0.03040991598475834,
          0.030154492376541196,
          0.029898616390077414,
          0.029642196083967353,
          0.029385138154268527,
          0.029127348747880814,
          0.028868734251344945,
          0.02860920205162844,
          0.028348661265791324,
          0.028087023436755187,
          0.02782420319272533,
          0.02756011886814589,
          0.02729469308438884,
          0.027027853288702507,
          0.026759532250253577,
          0.02648966851240307,
          0.026218206800650547,
          0.025945098385961818,
          0.02567030140346856,
          0.025393781126780278,
          0.025115510198395214,
          0.024835468816921346,
          0.024553644882029442,
          0.024270034098255892,
          0.023984640038951635,
          0.023697474171832253,
          0.023408555847732885,
          0.02311791225429308,
          0.02282557833641238,
          0.02253159668540544,
          0.02223601739886351,
          0.021938897913287774,
          0.021640302811600832,
          0.021340303607669937,
          0.021038978509985252,
          0.020736412166628426,
          0.020432695393651387,
          0.020127924888944215,
          0.019822202933627193,
          0.019515637082938794,
          0.019208339848517792,
          0.01890042837389328,
          0.018592024104902682,
          0.018283252456652296,
          0.017974242478525096,
          0.017665126518621364,
          0.01735603988889427,
          0.017047120532115694,
          0.016738508691676323,
          0.016430346585094378,
          0.016122778081975687,
          0.01581594838703784,
          0.015510003728687511,
          0.01520509105351701,
          0.014901357726971216,
          0.014598951240329358,
          0.01429801892404528,
          0.01399870766740197,
          0.013701163644355209,
          0.013405532045376803,
          0.013111956815049787,
          0.012820580395128582,
          0.012531543472747512,
          0.012244984733445423,
          0.01196104061867351,
          0.011679845087465526,
          0.011401529381972506,
          0.011126221796604985,
          0.010854047450571502,
          0.010585128063664481,
          0.010319581735214077,
          0.010057522726208771,
          0.009799061244667234,
          0.009544303234438268,
          0.009293350167699693,
          0.00904629884152714,
          0.008803241179000503,
          0.008564264035414838,
          0.008329449010257487,
          0.008098872265702904,
          0.00787260435246195,
          0.007650710043898324,
          0.007433248179392365,
          0.007220271517988585,
          0.007011826603408177,
          0.0068079536415388,
          0.006608686391531605,
          0.006414052071637704,
          0.006224071280904065,
          0.006038757937820496,
          0.005858119236964583,
          0.005682155624633098,
          0.005510860794372386,
          0.005344221703231041,
          0.005182218609454263,
          0.00502482513222264,
          0.004872008333908793,
          0.004723728825186946,
          0.004579940893179643,
          0.0044405926526719834,
          0.0043056262202586576,
          0.004174977911124148,
          0.0040485784579861695,
          0.003926353251562726,
          0.003808222601755231,
          0.0036941020185734023,
          0.003583902511668785,
          0.0034775309071887017,
          0.0033748901805181228,
          0.003275879803341499,
          0.00318039610333315,
          0.0030883326346740118,
          0.00299958055749656,
          0.0029140290242777476,
          0.0028315655711355003,
          0.0027520765119349155,
          0.002675447333079865,
          0.0026015630868518867,
          0.0025303087811622076,
          0.0024615697636046906,
          0.0023952320977368223,
          0.0023311829295715137,
          0.0022693108423355035,
          0.002209506197637833,
          0.0021516614612948795,
          0.002095671512174509,
          0.002041433932550869,
          0.0019888492786010585,
          0.00193782132982461,
          0.0018882573163242987,
          0.001840068123051691,
          0.0017931684702901208,
          0.0017474770698213025,
          0.0017029167563967717,
          0.0016594145943109523,
          0.001616901959046749,
          0.0015753145941363616,
          0.0015345926435469022
         ],
         "yaxis": "y"
        },
        {
         "fill": "tozeroy",
         "hovertemplate": "<b>Synthetic</b><br>Value: %{x}<br>Frequency: %{y}<extra></extra>",
         "legendgroup": "Synthetic",
         "marker": {
          "color": "#01E0C9"
         },
         "mode": "lines",
         "name": "Synthetic",
         "showlegend": true,
         "type": "scatter",
         "x": [
          29,
          29.096,
          29.192,
          29.288,
          29.384,
          29.48,
          29.576,
          29.672,
          29.768,
          29.864,
          29.96,
          30.056,
          30.152,
          30.248,
          30.344,
          30.44,
          30.536,
          30.632,
          30.728,
          30.824,
          30.92,
          31.016,
          31.112000000000002,
          31.208,
          31.304,
          31.4,
          31.496,
          31.592,
          31.688,
          31.784,
          31.88,
          31.976,
          32.072,
          32.168,
          32.264,
          32.36,
          32.456,
          32.552,
          32.648,
          32.744,
          32.84,
          32.936,
          33.032,
          33.128,
          33.224000000000004,
          33.32,
          33.416,
          33.512,
          33.608,
          33.704,
          33.8,
          33.896,
          33.992,
          34.088,
          34.184,
          34.28,
          34.376,
          34.472,
          34.568,
          34.664,
          34.76,
          34.856,
          34.952,
          35.048,
          35.144,
          35.24,
          35.336,
          35.432,
          35.528,
          35.624,
          35.72,
          35.816,
          35.912,
          36.008,
          36.104,
          36.2,
          36.296,
          36.392,
          36.488,
          36.584,
          36.68,
          36.775999999999996,
          36.872,
          36.968,
          37.064,
          37.16,
          37.256,
          37.352000000000004,
          37.448,
          37.544,
          37.64,
          37.736000000000004,
          37.832,
          37.928,
          38.024,
          38.12,
          38.216,
          38.312,
          38.408,
          38.504,
          38.6,
          38.696,
          38.792,
          38.888,
          38.984,
          39.08,
          39.176,
          39.272,
          39.368,
          39.464,
          39.56,
          39.656,
          39.752,
          39.848,
          39.944,
          40.04,
          40.135999999999996,
          40.232,
          40.328,
          40.424,
          40.519999999999996,
          40.616,
          40.712,
          40.808,
          40.903999999999996,
          41,
          41.096000000000004,
          41.192,
          41.288,
          41.384,
          41.480000000000004,
          41.576,
          41.672,
          41.768,
          41.864000000000004,
          41.96,
          42.056,
          42.152,
          42.248,
          42.344,
          42.44,
          42.536,
          42.632,
          42.728,
          42.824,
          42.92,
          43.016,
          43.112,
          43.208,
          43.304,
          43.4,
          43.496,
          43.592,
          43.688,
          43.784,
          43.88,
          43.976,
          44.072,
          44.168,
          44.263999999999996,
          44.36,
          44.456,
          44.552,
          44.647999999999996,
          44.744,
          44.84,
          44.936,
          45.032,
          45.128,
          45.224000000000004,
          45.32,
          45.416,
          45.512,
          45.608000000000004,
          45.704,
          45.8,
          45.896,
          45.992000000000004,
          46.088,
          46.184,
          46.28,
          46.376000000000005,
          46.472,
          46.568,
          46.664,
          46.760000000000005,
          46.856,
          46.952,
          47.048,
          47.144,
          47.239999999999995,
          47.336,
          47.432,
          47.528,
          47.623999999999995,
          47.72,
          47.816,
          47.912,
          48.007999999999996,
          48.104,
          48.2,
          48.296,
          48.391999999999996,
          48.488,
          48.584,
          48.68,
          48.775999999999996,
          48.872,
          48.968,
          49.064,
          49.16,
          49.256,
          49.352000000000004,
          49.448,
          49.544,
          49.64,
          49.736000000000004,
          49.832,
          49.928,
          50.024,
          50.120000000000005,
          50.216,
          50.312,
          50.408,
          50.504000000000005,
          50.6,
          50.696,
          50.792,
          50.888000000000005,
          50.984,
          51.08,
          51.176,
          51.272,
          51.367999999999995,
          51.464,
          51.56,
          51.656,
          51.751999999999995,
          51.848,
          51.944,
          52.04,
          52.135999999999996,
          52.232,
          52.328,
          52.424,
          52.519999999999996,
          52.616,
          52.712,
          52.808,
          52.903999999999996,
          53,
          53.096000000000004,
          53.192,
          53.288,
          53.384,
          53.480000000000004,
          53.576,
          53.672,
          53.768,
          53.864000000000004,
          53.96,
          54.056,
          54.152,
          54.248000000000005,
          54.344,
          54.44,
          54.536,
          54.632000000000005,
          54.728,
          54.824,
          54.92,
          55.016,
          55.111999999999995,
          55.208,
          55.304,
          55.4,
          55.495999999999995,
          55.592,
          55.688,
          55.784,
          55.879999999999995,
          55.976,
          56.072,
          56.168,
          56.263999999999996,
          56.36,
          56.456,
          56.552,
          56.647999999999996,
          56.744,
          56.84,
          56.936,
          57.032,
          57.128,
          57.224000000000004,
          57.32,
          57.416,
          57.512,
          57.608000000000004,
          57.704,
          57.8,
          57.896,
          57.992000000000004,
          58.088,
          58.184,
          58.28,
          58.376000000000005,
          58.472,
          58.568,
          58.664,
          58.760000000000005,
          58.856,
          58.952,
          59.048,
          59.144,
          59.239999999999995,
          59.336,
          59.432,
          59.528,
          59.623999999999995,
          59.72,
          59.816,
          59.912,
          60.007999999999996,
          60.104,
          60.2,
          60.296,
          60.391999999999996,
          60.488,
          60.584,
          60.68,
          60.775999999999996,
          60.872,
          60.968,
          61.064,
          61.16,
          61.256,
          61.352,
          61.448,
          61.544,
          61.64,
          61.736,
          61.832,
          61.928,
          62.024,
          62.12,
          62.216,
          62.312,
          62.408,
          62.504,
          62.6,
          62.696,
          62.792,
          62.888,
          62.984,
          63.08,
          63.176,
          63.272,
          63.368,
          63.464,
          63.56,
          63.656,
          63.752,
          63.848,
          63.944,
          64.03999999999999,
          64.136,
          64.232,
          64.328,
          64.424,
          64.52000000000001,
          64.616,
          64.712,
          64.80799999999999,
          64.904,
          65,
          65.096,
          65.19200000000001,
          65.288,
          65.384,
          65.47999999999999,
          65.576,
          65.672,
          65.768,
          65.864,
          65.96000000000001,
          66.056,
          66.152,
          66.24799999999999,
          66.344,
          66.44,
          66.536,
          66.632,
          66.72800000000001,
          66.824,
          66.92,
          67.01599999999999,
          67.112,
          67.208,
          67.304,
          67.4,
          67.49600000000001,
          67.592,
          67.688,
          67.78399999999999,
          67.88,
          67.976,
          68.072,
          68.168,
          68.26400000000001,
          68.36,
          68.456,
          68.55199999999999,
          68.648,
          68.744,
          68.84,
          68.936,
          69.032,
          69.128,
          69.22399999999999,
          69.32,
          69.416,
          69.512,
          69.608,
          69.70400000000001,
          69.8,
          69.896,
          69.99199999999999,
          70.088,
          70.184,
          70.28,
          70.376,
          70.47200000000001,
          70.568,
          70.664,
          70.75999999999999,
          70.856,
          70.952,
          71.048,
          71.144,
          71.24000000000001,
          71.336,
          71.432,
          71.52799999999999,
          71.624,
          71.72,
          71.816,
          71.912,
          72.00800000000001,
          72.104,
          72.2,
          72.29599999999999,
          72.392,
          72.488,
          72.584,
          72.68,
          72.77600000000001,
          72.872,
          72.968,
          73.064,
          73.16,
          73.256,
          73.352,
          73.44800000000001,
          73.544,
          73.64,
          73.73599999999999,
          73.832,
          73.928,
          74.024,
          74.12,
          74.21600000000001,
          74.312,
          74.408,
          74.50399999999999,
          74.6,
          74.696,
          74.792,
          74.888,
          74.98400000000001,
          75.08,
          75.176,
          75.27199999999999,
          75.368,
          75.464,
          75.56,
          75.656,
          75.75200000000001,
          75.848,
          75.944,
          76.03999999999999,
          76.136,
          76.232,
          76.328,
          76.424,
          76.52000000000001,
          76.616,
          76.712,
          76.80799999999999,
          76.904
         ],
         "xaxis": "x",
         "y": [
          0.009109593946848921,
          0.009220796084247312,
          0.009330310300610224,
          0.009438129097171986,
          0.009544251159051617,
          0.009648681384353567,
          0.009751430893359135,
          0.009852517017799324,
          0.00995196327028427,
          0.01004979929404616,
          0.010146060793234218,
          0.01024078944407833,
          0.010334032787315428,
          0.010425844102344617,
          0.010516282263649122,
          0.010605411580088016,
          0.010693301617724736,
          0.010780027006916552,
          0.01086566723444459,
          0.010950306421511838,
          0.011034033088482142,
          0.011116939907271545,
          0.011199123442338822,
          0.011280683881250234,
          0.011361724755817443,
          0.011442352654827294,
          0.011522676929394278,
          0.011602809391976427,
          0.01168286401009772,
          0.011762956595820141,
          0.011843204492001439,
          0.01192372625636548,
          0.012004641344396876,
          0.012086069792054097,
          0.012168131899271864,
          0.012250947915199966,
          0.012334637726095653,
          0.012419320546756556,
          0.01250511461634648,
          0.012592136899431498,
          0.012680502793004981,
          0.01277032584024195,
          0.012861717451681924,
          0.012954786634498325,
          0.013049639730470393,
          0.01314638016323147,
          0.013245108195324071,
          0.013345920695550458,
          0.013448910917065248,
          0.013554168286614474,
          0.01366177820528484,
          0.013771821861087318,
          0.01388437605365833,
          0.013999513031326342,
          0.014117300340752233,
          0.014237800689316621,
          0.01436107182039447,
          0.014487166401620758,
          0.014616131926221763,
          0.0147480106274538,
          0.014882839406161646,
          0.015020649771441137,
          0.015161467794360487,
          0.0153053140746703,
          0.01545220372040485,
          0.015602146340251815,
          0.01575514604854357,
          0.015911201482697986,
          0.016070305832914383,
          0.016232446883904395,
          0.01639760706841689,
          0.016565763532290945,
          0.016736888210748483,
          0.016910947915615746,
          0.017087904433138318,
          0.017267714632032822,
          0.017450330581393864,
          0.01763569967805254,
          0.017823764782959252,
          0.018014464366139984,
          0.01820773265975226,
          0.01840349981874521,
          0.01860169208860263,
          0.0188022319796295,
          0.019005038447217133,
          0.019210027077504098,
          0.0194171102778278,
          0.019626197471344153,
          0.019837195295174664,
          0.020050007801423318,
          0.020264536660392574,
          0.02048068136531441,
          0.020698339437901427,
          0.02091740663401688,
          0.02113777714875454,
          0.021359343820218712,
          0.02158199833129423,
          0.021805631408698567,
          0.02203013301861752,
          0.02225539255823331,
          0.022481299042468973,
          0.02270774128529101,
          0.0229346080749315,
          0.023161788342416962,
          0.023389171322820812,
          0.023616646708684956,
          0.023844104795097687,
          0.024071436615949394,
          0.024298534070934102,
          0.024525290042910097,
          0.024751598505282992,
          0.024977354619126334,
          0.025202454819811464,
          0.025426796892974512,
          0.025650280039708807,
          0.02587280493093295,
          0.0260942737509459,
          0.026314590230245738,
          0.0265336596677526,
          0.02675138894264038,
          0.026967686516046096,
          0.027182462422989512,
          0.027395628254897643,
          0.02760709713318924,
          0.027816783674433392,
          0.028024603947651206,
          0.028230475424384,
          0.02843431692220056,
          0.028636048542360612,
          0.028835591602396245,
          0.029032868564406414,
          0.029227802959895913,
          0.029420319312014387,
          0.02961034305607444,
          0.029797800459242824,
          0.029982618540311725,
          0.03016472499045736,
          0.030344048095895467,
          0.030520516663333636,
          0.03069405994910674,
          0.030864607592862112,
          0.031032089556634904,
          0.031196436070123467,
          0.031357577582934205,
          0.03151544472452624,
          0.03166996827253416,
          0.03182107913009712,
          0.031968708312762134,
          0.0321127869454684,
          0.0322532462700548,
          0.03239001766365981,
          0.03252303266831424,
          0.03265222303195029,
          0.03277752076097432,
          0.032898858184470595,
          0.03301616803002698,
          0.03312938351108985,
          0.03323843842567882,
          0.0333432672662106,
          0.03344380534010397,
          0.03353998890076078,
          0.03363175528844529,
          0.03371904308050859,
          0.03380179225034133,
          0.03387994433436762,
          0.03395344260633593,
          0.034022232258103094,
          0.03408626058605693,
          0.03414547718227515,
          0.03419983412947616,
          0.03424928619878135,
          0.034293791049278044,
          0.03433330942834601,
          0.03436780537169408,
          0.03439724640203851,
          0.03442160372535072,
          0.03444085242359796,
          0.03445497164291151,
          0.03446394477612391,
          0.034467759638638,
          0.034466408636612454,
          0.034459888926477465,
          0.034448202564832275,
          0.03443135664780918,
          0.03440936343904152,
          0.03438224048541587,
          0.03435001071984529,
          0.034312702550357115,
          0.03427034993485015,
          0.03422299244093863,
          0.034170675290369754,
          0.03411344938756772,
          0.03405137133193191,
          0.03398450341358584,
          0.03391291359235091,
          0.03383667545979183,
          0.0337558681842549,
          0.033670576438898314,
          0.03358089031278482,
          0.03348690520518334,
          0.0333887217032979,
          0.03328644544371281,
          0.03318018695791391,
          0.03307006150231107,
          0.032956188873253994,
          0.03283869320759183,
          0.032717702769392266,
          0.03259334972348373,
          0.032465769896544386,
          0.03233510252650487,
          0.03220149000108039,
          0.03206507758628662,
          0.03192601314583311,
          0.03178444685231863,
          0.03164053089118444,
          0.03149441915840305,
          0.03134626695290353,
          0.031196230664746995,
          0.03104446746008099,
          0.030891134963905588,
          0.030736390941690023,
          0.030580392980875427,
          0.030423298173294575,
          0.030265262799531425,
          0.03010644201622833,
          0.02994698954733231,
          0.029787057380252013,
          0.02962679546787085,
          0.029466351437334906,
          0.029305870306504514,
          0.029145494208920947,
          0.02898536212810588,
          0.028825609641969847,
          0.02866636867806356,
          0.028507767280361515,
          0.02834992938822044,
          0.028192974628106077,
          0.0280370181186315,
          0.027882170289397098,
          0.027728536714070825,
          0.027576217958090482,
          0.027425309441316353,
          0.027275901315904617,
          0.027128078359618123,
          0.02698191988473113,
          0.026837499662630843,
          0.026694885864160835,
          0.026554141015695462,
          0.026415321970880114,
          0.0262784798979163,
          0.026143660282219552,
          0.026010902944223337,
          0.02588024207205533,
          0.02575170626875988,
          0.025625318613697462,
          0.025501096737704152,
          0.025379052911553932,
          0.025259194147224665,
          0.025141522311433046,
          0.02502603425086706,
          0.024912721928513803,
          0.024801572570450816,
          0.024692568822442085,
          0.02458568891565888,
          0.024480906840823886,
          0.024378192530059444,
          0.02427751204571098,
          0.024178827775401767,
          0.024082098632571023,
          0.023987280261743057,
          0.023894325247773154,
          0.023803183328320293,
          0.023713801608800687,
          0.023626124779085468,
          0.0235400953312173,
          0.023455653777434488,
          0.02337273886780794,
          0.023291287806815983,
          0.02321123646820433,
          0.023132519607499867,
          0.023055071071576425,
          0.022978824004695406,
          0.02290371105047465,
          0.022829664549269955,
          0.022756616730485093,
          0.022684499899358647,
          0.02261324661781215,
          0.022542789878974553,
          0.022473063275037022,
          0.022404001158123917,
          0.022335538793901943,
          0.022267612507684973,
          0.0222001598228249,
          0.0221331195912138,
          0.02206643211575524,
          0.02200003926469485,
          0.02193388457773184,
          0.021867913363861465,
          0.02180207279093036,
          0.021736311966909373,
          0.021670582012918764,
          0.021604836128062486,
          0.02153902964615066,
          0.021473120084412024,
          0.0214070671843165,
          0.021340832944645397,
          0.021274381646963977,
          0.021207679873664818,
          0.02114069651876293,
          0.021073402791637028,
          0.021005772213917945,
          0.02093778060973731,
          0.020869406089554267,
          0.020800629027785608,
          0.020731432034469473,
          0.020661799921196045,
          0.02059171966154356,
          0.020521180346258324,
          0.020450173133422043,
          0.020378691193847845,
          0.020306729651951207,
          0.020234285522339107,
          0.02016135764236448,
          0.02008794660089127,
          0.02001405466351722,
          0.019939685694502555,
          0.019864845075652324,
          0.019789539622402156,
          0.019713777497359305,
          0.01963756812155103,
          0.01956092208363583,
          0.019483851047335365,
          0.019406367657346733,
          0.019328485443999677,
          0.019250218726925186,
          0.019171582518006696,
          0.019092592423888086,
          0.01901326454831842,
          0.018933615394614994,
          0.01885366176853234,
          0.018773420681827368,
          0.018692909256815413,
          0.018612144632213737,
          0.01853114387057285,
          0.018449923867597178,
          0.018368501263658334,
          0.018286892357803865,
          0.018205113024563867,
          0.01812317863385602,
          0.018041103974286318,
          0.017958903180137323,
          0.017876589662331348,
          0.017794176043646626,
          0.017711674098455716,
          0.017629094697244822,
          0.017546447756159447,
          0.017463742191806842,
          0.017380985881529958,
          0.017298185629348553,
          0.017215347137744277,
          0.01713247498544315,
          0.017049572611326214,
          0.016966642304574498,
          0.016883685201126625,
          0.016800701286500165,
          0.016717689404997967,
          0.016634647275290862,
          0.016551571512336164,
          0.01646845765555886,
          0.016385300203191202,
          0.01630209265263076,
          0.01621882754664614,
          0.016135496525224537,
          0.016052090382823507,
          0.01596859913075574,
          0.01588501206440562,
          0.015801317834944335,
          0.015717504525181284,
          0.015633559729162826,
          0.015549470635101608,
          0.015465224111197077,
          0.015380806793885312,
          0.015296205178036617,
          0.015211405708602728,
          0.0151263948732013,
          0.015041159295113756,
          0.014955685826164796,
          0.01486996163894621,
          0.014783974317846569,
          0.014697711948348903,
          0.014611163204064588,
          0.014524317430978352,
          0.014437164728392586,
          0.014349696026072839,
          0.01426190315711532,
          0.014173778926078464,
          0.014085317171945985,
          0.013996512825514692,
          0.013907361960833484,
          0.013817861840349797,
          0.01372801095345861,
          0.013637809048184771,
          0.01354725715576966,
          0.013456357607975372,
          0.0133651140469627,
          0.013273531427642413,
          0.013181616012446098,
          0.01308937535850781,
          0.012996818297293988,
          0.01290395490676581,
          0.012810796476204015,
          0.012717355463870948,
          0.012623645447730446,
          0.012529681069487566,
          0.012435477972254161,
          0.01234105273218429,
          0.012246422784462876,
          0.012151606344066288,
          0.012056622321746436,
          0.011961490235720797,
          0.011866230119578172,
          0.011770862426934318,
          0.011675407933392553,
          0.011579887636382203,
          0.011484322653461842,
          0.01138873411968455,
          0.01129314308462946,
          0.01119757040970675,
          0.011102036666342005,
          0.011006562035642943,
          0.010911166210140797,
          0.01081586829818983,
          0.010720686731590474,
          0.010625639176984725,
          0.010530742451549035,
          0.01043601244348543,
          0.010341464037783231,
          0.010247111047692423,
          0.010152966152316532,
          0.010059040840696533,
          0.009965345362719586,
          0.009871888687146127,
          0.009778678467007527,
          0.009685721012583547,
          0.009593021272124457,
          0.009500582820438737,
          0.009408407855421044,
          0.009316497202550353,
          0.009224850327342082,
          0.009133465355693468,
          0.009042339102016008,
          0.008951467105006411,
          0.008860843670863063,
          0.008770461923715743,
          0.008680313862994905,
          0.008590390427430209,
          0.008500681565331628,
          0.008411176310772619,
          0.008321862865264413,
          0.008232728684480975,
          0.008143760569568446,
          0.008054944762549981,
          0.007966267045316514,
          0.007877712841676406,
          0.007789267321923139,
          0.007700915509369281,
          0.00761264238828656,
          0.007524433012687365,
          0.007436272615382133,
          0.007348146716746917,
          0.007260041232641984,
          0.007171942580928661,
          0.0070838377860423804,
          0.006995714581093899,
          0.006907561506986013,
          0.006819368008052209,
          0.0067311245237449665,
          0.006642822575924476,
          0.006554454851324816,
          0.006466015278801752,
          0.0063774991009958315,
          0.006288902940075853,
          0.006200224857259844,
          0.006111464405844487,
          0.0060226226775089405,
          0.005933702341694031,
          0.005844707677894445,
          0.0057556446007376956,
          0.005666520677761015,
          0.00557734513983314,
          0.005488128884205672,
          0.005398884470213957,
          0.005309626107683664,
          0.005220369638133776,
          0.005131132508900789,
          0.005041933740341741,
          0.004952793886305309,
          0.004863734988090078,
          0.0047747805221385504,
          0.004685955341741237
         ],
         "yaxis": "y"
        }
       ],
       "layout": {
        "barmode": "overlay",
        "hovermode": "closest",
        "legend": {
         "traceorder": "reversed"
        },
        "plot_bgcolor": "#F5F5F8",
        "template": {
         "data": {
          "bar": [
           {
            "error_x": {
             "color": "#2a3f5f"
            },
            "error_y": {
             "color": "#2a3f5f"
            },
            "marker": {
             "line": {
              "color": "#E5ECF6",
              "width": 0.5
             },
             "pattern": {
              "fillmode": "overlay",
              "size": 10,
              "solidity": 0.2
             }
            },
            "type": "bar"
           }
          ],
          "barpolar": [
           {
            "marker": {
             "line": {
              "color": "#E5ECF6",
              "width": 0.5
             },
             "pattern": {
              "fillmode": "overlay",
              "size": 10,
              "solidity": 0.2
             }
            },
            "type": "barpolar"
           }
          ],
          "carpet": [
           {
            "aaxis": {
             "endlinecolor": "#2a3f5f",
             "gridcolor": "white",
             "linecolor": "white",
             "minorgridcolor": "white",
             "startlinecolor": "#2a3f5f"
            },
            "baxis": {
             "endlinecolor": "#2a3f5f",
             "gridcolor": "white",
             "linecolor": "white",
             "minorgridcolor": "white",
             "startlinecolor": "#2a3f5f"
            },
            "type": "carpet"
           }
          ],
          "choropleth": [
           {
            "colorbar": {
             "outlinewidth": 0,
             "ticks": ""
            },
            "type": "choropleth"
           }
          ],
          "contour": [
           {
            "colorbar": {
             "outlinewidth": 0,
             "ticks": ""
            },
            "colorscale": [
             [
              0,
              "#0d0887"
             ],
             [
              0.1111111111111111,
              "#46039f"
             ],
             [
              0.2222222222222222,
              "#7201a8"
             ],
             [
              0.3333333333333333,
              "#9c179e"
             ],
             [
              0.4444444444444444,
              "#bd3786"
             ],
             [
              0.5555555555555556,
              "#d8576b"
             ],
             [
              0.6666666666666666,
              "#ed7953"
             ],
             [
              0.7777777777777778,
              "#fb9f3a"
             ],
             [
              0.8888888888888888,
              "#fdca26"
             ],
             [
              1,
              "#f0f921"
             ]
            ],
            "type": "contour"
           }
          ],
          "contourcarpet": [
           {
            "colorbar": {
             "outlinewidth": 0,
             "ticks": ""
            },
            "type": "contourcarpet"
           }
          ],
          "heatmap": [
           {
            "colorbar": {
             "outlinewidth": 0,
             "ticks": ""
            },
            "colorscale": [
             [
              0,
              "#0d0887"
             ],
             [
              0.1111111111111111,
              "#46039f"
             ],
             [
              0.2222222222222222,
              "#7201a8"
             ],
             [
              0.3333333333333333,
              "#9c179e"
             ],
             [
              0.4444444444444444,
              "#bd3786"
             ],
             [
              0.5555555555555556,
              "#d8576b"
             ],
             [
              0.6666666666666666,
              "#ed7953"
             ],
             [
              0.7777777777777778,
              "#fb9f3a"
             ],
             [
              0.8888888888888888,
              "#fdca26"
             ],
             [
              1,
              "#f0f921"
             ]
            ],
            "type": "heatmap"
           }
          ],
          "heatmapgl": [
           {
            "colorbar": {
             "outlinewidth": 0,
             "ticks": ""
            },
            "colorscale": [
             [
              0,
              "#0d0887"
             ],
             [
              0.1111111111111111,
              "#46039f"
             ],
             [
              0.2222222222222222,
              "#7201a8"
             ],
             [
              0.3333333333333333,
              "#9c179e"
             ],
             [
              0.4444444444444444,
              "#bd3786"
             ],
             [
              0.5555555555555556,
              "#d8576b"
             ],
             [
              0.6666666666666666,
              "#ed7953"
             ],
             [
              0.7777777777777778,
              "#fb9f3a"
             ],
             [
              0.8888888888888888,
              "#fdca26"
             ],
             [
              1,
              "#f0f921"
             ]
            ],
            "type": "heatmapgl"
           }
          ],
          "histogram": [
           {
            "marker": {
             "pattern": {
              "fillmode": "overlay",
              "size": 10,
              "solidity": 0.2
             }
            },
            "type": "histogram"
           }
          ],
          "histogram2d": [
           {
            "colorbar": {
             "outlinewidth": 0,
             "ticks": ""
            },
            "colorscale": [
             [
              0,
              "#0d0887"
             ],
             [
              0.1111111111111111,
              "#46039f"
             ],
             [
              0.2222222222222222,
              "#7201a8"
             ],
             [
              0.3333333333333333,
              "#9c179e"
             ],
             [
              0.4444444444444444,
              "#bd3786"
             ],
             [
              0.5555555555555556,
              "#d8576b"
             ],
             [
              0.6666666666666666,
              "#ed7953"
             ],
             [
              0.7777777777777778,
              "#fb9f3a"
             ],
             [
              0.8888888888888888,
              "#fdca26"
             ],
             [
              1,
              "#f0f921"
             ]
            ],
            "type": "histogram2d"
           }
          ],
          "histogram2dcontour": [
           {
            "colorbar": {
             "outlinewidth": 0,
             "ticks": ""
            },
            "colorscale": [
             [
              0,
              "#0d0887"
             ],
             [
              0.1111111111111111,
              "#46039f"
             ],
             [
              0.2222222222222222,
              "#7201a8"
             ],
             [
              0.3333333333333333,
              "#9c179e"
             ],
             [
              0.4444444444444444,
              "#bd3786"
             ],
             [
              0.5555555555555556,
              "#d8576b"
             ],
             [
              0.6666666666666666,
              "#ed7953"
             ],
             [
              0.7777777777777778,
              "#fb9f3a"
             ],
             [
              0.8888888888888888,
              "#fdca26"
             ],
             [
              1,
              "#f0f921"
             ]
            ],
            "type": "histogram2dcontour"
           }
          ],
          "mesh3d": [
           {
            "colorbar": {
             "outlinewidth": 0,
             "ticks": ""
            },
            "type": "mesh3d"
           }
          ],
          "parcoords": [
           {
            "line": {
             "colorbar": {
              "outlinewidth": 0,
              "ticks": ""
             }
            },
            "type": "parcoords"
           }
          ],
          "pie": [
           {
            "automargin": true,
            "type": "pie"
           }
          ],
          "scatter": [
           {
            "fillpattern": {
             "fillmode": "overlay",
             "size": 10,
             "solidity": 0.2
            },
            "type": "scatter"
           }
          ],
          "scatter3d": [
           {
            "line": {
             "colorbar": {
              "outlinewidth": 0,
              "ticks": ""
             }
            },
            "marker": {
             "colorbar": {
              "outlinewidth": 0,
              "ticks": ""
             }
            },
            "type": "scatter3d"
           }
          ],
          "scattercarpet": [
           {
            "marker": {
             "colorbar": {
              "outlinewidth": 0,
              "ticks": ""
             }
            },
            "type": "scattercarpet"
           }
          ],
          "scattergeo": [
           {
            "marker": {
             "colorbar": {
              "outlinewidth": 0,
              "ticks": ""
             }
            },
            "type": "scattergeo"
           }
          ],
          "scattergl": [
           {
            "marker": {
             "colorbar": {
              "outlinewidth": 0,
              "ticks": ""
             }
            },
            "type": "scattergl"
           }
          ],
          "scattermapbox": [
           {
            "marker": {
             "colorbar": {
              "outlinewidth": 0,
              "ticks": ""
             }
            },
            "type": "scattermapbox"
           }
          ],
          "scatterpolar": [
           {
            "marker": {
             "colorbar": {
              "outlinewidth": 0,
              "ticks": ""
             }
            },
            "type": "scatterpolar"
           }
          ],
          "scatterpolargl": [
           {
            "marker": {
             "colorbar": {
              "outlinewidth": 0,
              "ticks": ""
             }
            },
            "type": "scatterpolargl"
           }
          ],
          "scatterternary": [
           {
            "marker": {
             "colorbar": {
              "outlinewidth": 0,
              "ticks": ""
             }
            },
            "type": "scatterternary"
           }
          ],
          "surface": [
           {
            "colorbar": {
             "outlinewidth": 0,
             "ticks": ""
            },
            "colorscale": [
             [
              0,
              "#0d0887"
             ],
             [
              0.1111111111111111,
              "#46039f"
             ],
             [
              0.2222222222222222,
              "#7201a8"
             ],
             [
              0.3333333333333333,
              "#9c179e"
             ],
             [
              0.4444444444444444,
              "#bd3786"
             ],
             [
              0.5555555555555556,
              "#d8576b"
             ],
             [
              0.6666666666666666,
              "#ed7953"
             ],
             [
              0.7777777777777778,
              "#fb9f3a"
             ],
             [
              0.8888888888888888,
              "#fdca26"
             ],
             [
              1,
              "#f0f921"
             ]
            ],
            "type": "surface"
           }
          ],
          "table": [
           {
            "cells": {
             "fill": {
              "color": "#EBF0F8"
             },
             "line": {
              "color": "white"
             }
            },
            "header": {
             "fill": {
              "color": "#C8D4E3"
             },
             "line": {
              "color": "white"
             }
            },
            "type": "table"
           }
          ]
         },
         "layout": {
          "annotationdefaults": {
           "arrowcolor": "#2a3f5f",
           "arrowhead": 0,
           "arrowwidth": 1
          },
          "autotypenumbers": "strict",
          "coloraxis": {
           "colorbar": {
            "outlinewidth": 0,
            "ticks": ""
           }
          },
          "colorscale": {
           "diverging": [
            [
             0,
             "#8e0152"
            ],
            [
             0.1,
             "#c51b7d"
            ],
            [
             0.2,
             "#de77ae"
            ],
            [
             0.3,
             "#f1b6da"
            ],
            [
             0.4,
             "#fde0ef"
            ],
            [
             0.5,
             "#f7f7f7"
            ],
            [
             0.6,
             "#e6f5d0"
            ],
            [
             0.7,
             "#b8e186"
            ],
            [
             0.8,
             "#7fbc41"
            ],
            [
             0.9,
             "#4d9221"
            ],
            [
             1,
             "#276419"
            ]
           ],
           "sequential": [
            [
             0,
             "#0d0887"
            ],
            [
             0.1111111111111111,
             "#46039f"
            ],
            [
             0.2222222222222222,
             "#7201a8"
            ],
            [
             0.3333333333333333,
             "#9c179e"
            ],
            [
             0.4444444444444444,
             "#bd3786"
            ],
            [
             0.5555555555555556,
             "#d8576b"
            ],
            [
             0.6666666666666666,
             "#ed7953"
            ],
            [
             0.7777777777777778,
             "#fb9f3a"
            ],
            [
             0.8888888888888888,
             "#fdca26"
            ],
            [
             1,
             "#f0f921"
            ]
           ],
           "sequentialminus": [
            [
             0,
             "#0d0887"
            ],
            [
             0.1111111111111111,
             "#46039f"
            ],
            [
             0.2222222222222222,
             "#7201a8"
            ],
            [
             0.3333333333333333,
             "#9c179e"
            ],
            [
             0.4444444444444444,
             "#bd3786"
            ],
            [
             0.5555555555555556,
             "#d8576b"
            ],
            [
             0.6666666666666666,
             "#ed7953"
            ],
            [
             0.7777777777777778,
             "#fb9f3a"
            ],
            [
             0.8888888888888888,
             "#fdca26"
            ],
            [
             1,
             "#f0f921"
            ]
           ]
          },
          "colorway": [
           "#636efa",
           "#EF553B",
           "#00cc96",
           "#ab63fa",
           "#FFA15A",
           "#19d3f3",
           "#FF6692",
           "#B6E880",
           "#FF97FF",
           "#FECB52"
          ],
          "font": {
           "color": "#2a3f5f"
          },
          "geo": {
           "bgcolor": "white",
           "lakecolor": "white",
           "landcolor": "#E5ECF6",
           "showlakes": true,
           "showland": true,
           "subunitcolor": "white"
          },
          "hoverlabel": {
           "align": "left"
          },
          "hovermode": "closest",
          "mapbox": {
           "style": "light"
          },
          "paper_bgcolor": "white",
          "plot_bgcolor": "#E5ECF6",
          "polar": {
           "angularaxis": {
            "gridcolor": "white",
            "linecolor": "white",
            "ticks": ""
           },
           "bgcolor": "#E5ECF6",
           "radialaxis": {
            "gridcolor": "white",
            "linecolor": "white",
            "ticks": ""
           }
          },
          "scene": {
           "xaxis": {
            "backgroundcolor": "#E5ECF6",
            "gridcolor": "white",
            "gridwidth": 2,
            "linecolor": "white",
            "showbackground": true,
            "ticks": "",
            "zerolinecolor": "white"
           },
           "yaxis": {
            "backgroundcolor": "#E5ECF6",
            "gridcolor": "white",
            "gridwidth": 2,
            "linecolor": "white",
            "showbackground": true,
            "ticks": "",
            "zerolinecolor": "white"
           },
           "zaxis": {
            "backgroundcolor": "#E5ECF6",
            "gridcolor": "white",
            "gridwidth": 2,
            "linecolor": "white",
            "showbackground": true,
            "ticks": "",
            "zerolinecolor": "white"
           }
          },
          "shapedefaults": {
           "line": {
            "color": "#2a3f5f"
           }
          },
          "ternary": {
           "aaxis": {
            "gridcolor": "white",
            "linecolor": "white",
            "ticks": ""
           },
           "baxis": {
            "gridcolor": "white",
            "linecolor": "white",
            "ticks": ""
           },
           "bgcolor": "#E5ECF6",
           "caxis": {
            "gridcolor": "white",
            "linecolor": "white",
            "ticks": ""
           }
          },
          "title": {
           "x": 0.05
          },
          "xaxis": {
           "automargin": true,
           "gridcolor": "white",
           "linecolor": "white",
           "ticks": "",
           "title": {
            "standoff": 15
           },
           "zerolinecolor": "white",
           "zerolinewidth": 2
          },
          "yaxis": {
           "automargin": true,
           "gridcolor": "white",
           "linecolor": "white",
           "ticks": "",
           "title": {
            "standoff": 15
           },
           "zerolinecolor": "white",
           "zerolinewidth": 2
          }
         }
        },
        "title": {
         "text": "Real vs. Synthetic Data for column age"
        },
        "xaxis": {
         "anchor": "y2",
         "domain": [
          0,
          1
         ],
         "title": {
          "text": "Value"
         },
         "zeroline": false
        },
        "yaxis": {
         "anchor": "free",
         "domain": [
          0,
          1
         ],
         "position": 0,
         "title": {
          "text": "Frequency"
         }
        }
       }
      }
     },
     "metadata": {},
     "output_type": "display_data"
    },
    {
     "data": {
      "application/vnd.plotly.v1+json": {
       "config": {
        "plotlyServerURL": "https://plot.ly"
       },
       "data": [
        {
         "alignmentgroup": "True",
         "bingroup": "x",
         "histnorm": "probability density",
         "hovertemplate": "<b>Real</b><br>Frequency: %{y}<extra></extra>",
         "legendgroup": "Real",
         "marker": {
          "color": "#000036",
          "pattern": {
           "shape": ""
          }
         },
         "name": "Real",
         "offsetgroup": "Real",
         "orientation": "v",
         "showlegend": true,
         "type": "histogram",
         "x": [
          1,
          1,
          1,
          1,
          0,
          1,
          0,
          0,
          1,
          1,
          1,
          0,
          1,
          1,
          1,
          1,
          1,
          1,
          0,
          1,
          1,
          0,
          1,
          1,
          1,
          0,
          0,
          0,
          1,
          1,
          0,
          1,
          1,
          1,
          1,
          1,
          1,
          1,
          1,
          1,
          0,
          1,
          0,
          1,
          0,
          1,
          1,
          1,
          0,
          1,
          0,
          1,
          1,
          1,
          1,
          1,
          1,
          1,
          1,
          1,
          0,
          0,
          1,
          0,
          1,
          1,
          1,
          1,
          1,
          1,
          0,
          1,
          1,
          1,
          1,
          0,
          1,
          0,
          1,
          1,
          1,
          0,
          1,
          1,
          1,
          1,
          1,
          0,
          0,
          1,
          0,
          1,
          0,
          0,
          1,
          1,
          0,
          1,
          1,
          1,
          1,
          0,
          0,
          1,
          1,
          1,
          1,
          1,
          1,
          0,
          1,
          1,
          0,
          0,
          1,
          1,
          0,
          1,
          1,
          1,
          0,
          1,
          1,
          1,
          0,
          0,
          1,
          1,
          0,
          1,
          1,
          1,
          1,
          0,
          0,
          1,
          1,
          1,
          1,
          1,
          1,
          1,
          1,
          1,
          1,
          1,
          1,
          1,
          0,
          1,
          0,
          0,
          1,
          1,
          1,
          1,
          1,
          1,
          1,
          1,
          1,
          0,
          0,
          1,
          1,
          0,
          1,
          0,
          1,
          1,
          0,
          0,
          1,
          1,
          1,
          1,
          1,
          1,
          1,
          0,
          1,
          1,
          0,
          0,
          1,
          1,
          1,
          1,
          1,
          1,
          0,
          0,
          1,
          1,
          0,
          0,
          1,
          0,
          0,
          1,
          0,
          1,
          1,
          1,
          1,
          1,
          0,
          0,
          1,
          1,
          0,
          1,
          1,
          0,
          0,
          0,
          1,
          0,
          0,
          0,
          1,
          0,
          0,
          1,
          0,
          1,
          1,
          0,
          0,
          1,
          0,
          0,
          1,
          1,
          1,
          0,
          1,
          1,
          0,
          0,
          1,
          0,
          1,
          1,
          1,
          1,
          1,
          1,
          1,
          1,
          0,
          1,
          0,
          0,
          0,
          1,
          1,
          0,
          0,
          0,
          1,
          1,
          1,
          1,
          1,
          1,
          1,
          1,
          1,
          0,
          1,
          1,
          0,
          0,
          1,
          0,
          1,
          1,
          0,
          1,
          1,
          1,
          0,
          1,
          1,
          1,
          0,
          1,
          1,
          0,
          1,
          1,
          0,
          1,
          1,
          1,
          0
         ],
         "xaxis": "x",
         "yaxis": "y"
        },
        {
         "alignmentgroup": "True",
         "bingroup": "x",
         "histnorm": "probability density",
         "hovertemplate": "<b>Synthetic</b><br>Frequency: %{y}<extra></extra>",
         "legendgroup": "Synthetic",
         "marker": {
          "color": "#01E0C9",
          "pattern": {
           "shape": "/"
          }
         },
         "name": "Synthetic",
         "offsetgroup": "Synthetic",
         "orientation": "v",
         "showlegend": true,
         "type": "histogram",
         "x": [
          1,
          0,
          1,
          0,
          0,
          0,
          1,
          0,
          1,
          1,
          0,
          1,
          1,
          0,
          1,
          1,
          0,
          0,
          1,
          1,
          0,
          1,
          0,
          1,
          1,
          0,
          1,
          1,
          0,
          1,
          1,
          0,
          0,
          1,
          0,
          1,
          1,
          1,
          0,
          0,
          0,
          0,
          1,
          0,
          0,
          0,
          1,
          1,
          0,
          0,
          0,
          1,
          1,
          1,
          1,
          1,
          0,
          1,
          0,
          1,
          1,
          1,
          1,
          0,
          1,
          0,
          1,
          0,
          1,
          0,
          1,
          0,
          0,
          0,
          0,
          1,
          0,
          1,
          0,
          1,
          1,
          0,
          0,
          1,
          1,
          0,
          1,
          0,
          1,
          1,
          1,
          0,
          0,
          1,
          0,
          0,
          1,
          1,
          1,
          0,
          1,
          0,
          0,
          0,
          0,
          1,
          1,
          0,
          0,
          1,
          0,
          0,
          1,
          1,
          1,
          0,
          0,
          0,
          1,
          0,
          1,
          0,
          1,
          0,
          0,
          0,
          1,
          1,
          1,
          1,
          1,
          1,
          0,
          1,
          0,
          0,
          1,
          1,
          1,
          0,
          1,
          1,
          0,
          0,
          0,
          1,
          0,
          0,
          1,
          0,
          1,
          1,
          1,
          0,
          0,
          1,
          0,
          1,
          0,
          1,
          1,
          0,
          1,
          1,
          1,
          1,
          0,
          1,
          1,
          1,
          1,
          0,
          1,
          1,
          1,
          0,
          1,
          1,
          0,
          1,
          0,
          0,
          1,
          1,
          1,
          0,
          0,
          0,
          1,
          1,
          1,
          1,
          0,
          0,
          0,
          0,
          1,
          0,
          1,
          0,
          1,
          0,
          1,
          1,
          1,
          1,
          1,
          1,
          0,
          1,
          0,
          0,
          1,
          1,
          1,
          0,
          0,
          0,
          1,
          1,
          0,
          0,
          1,
          0,
          0,
          1,
          1,
          0,
          1,
          0,
          1,
          0,
          1,
          0,
          0,
          0,
          0,
          0,
          1,
          1,
          0,
          0,
          1,
          1,
          1,
          1,
          1,
          0,
          1,
          0,
          1,
          0,
          0,
          0,
          0,
          0,
          0,
          0,
          1,
          1,
          0,
          0,
          1,
          0,
          1,
          0,
          1,
          1,
          1,
          1,
          1,
          0,
          1,
          1,
          1,
          0,
          1,
          0,
          1,
          1,
          1,
          1,
          1,
          0,
          1,
          1,
          0,
          1,
          1,
          0,
          0,
          1,
          1,
          0,
          1,
          1,
          1,
          0,
          0,
          0
         ],
         "xaxis": "x",
         "yaxis": "y"
        }
       ],
       "layout": {
        "barmode": "group",
        "legend": {
         "title": {
          "text": "Data"
         },
         "tracegroupgap": 0
        },
        "margin": {
         "t": 60
        },
        "plot_bgcolor": "#F5F5F8",
        "template": {
         "data": {
          "bar": [
           {
            "error_x": {
             "color": "#2a3f5f"
            },
            "error_y": {
             "color": "#2a3f5f"
            },
            "marker": {
             "line": {
              "color": "#E5ECF6",
              "width": 0.5
             },
             "pattern": {
              "fillmode": "overlay",
              "size": 10,
              "solidity": 0.2
             }
            },
            "type": "bar"
           }
          ],
          "barpolar": [
           {
            "marker": {
             "line": {
              "color": "#E5ECF6",
              "width": 0.5
             },
             "pattern": {
              "fillmode": "overlay",
              "size": 10,
              "solidity": 0.2
             }
            },
            "type": "barpolar"
           }
          ],
          "carpet": [
           {
            "aaxis": {
             "endlinecolor": "#2a3f5f",
             "gridcolor": "white",
             "linecolor": "white",
             "minorgridcolor": "white",
             "startlinecolor": "#2a3f5f"
            },
            "baxis": {
             "endlinecolor": "#2a3f5f",
             "gridcolor": "white",
             "linecolor": "white",
             "minorgridcolor": "white",
             "startlinecolor": "#2a3f5f"
            },
            "type": "carpet"
           }
          ],
          "choropleth": [
           {
            "colorbar": {
             "outlinewidth": 0,
             "ticks": ""
            },
            "type": "choropleth"
           }
          ],
          "contour": [
           {
            "colorbar": {
             "outlinewidth": 0,
             "ticks": ""
            },
            "colorscale": [
             [
              0,
              "#0d0887"
             ],
             [
              0.1111111111111111,
              "#46039f"
             ],
             [
              0.2222222222222222,
              "#7201a8"
             ],
             [
              0.3333333333333333,
              "#9c179e"
             ],
             [
              0.4444444444444444,
              "#bd3786"
             ],
             [
              0.5555555555555556,
              "#d8576b"
             ],
             [
              0.6666666666666666,
              "#ed7953"
             ],
             [
              0.7777777777777778,
              "#fb9f3a"
             ],
             [
              0.8888888888888888,
              "#fdca26"
             ],
             [
              1,
              "#f0f921"
             ]
            ],
            "type": "contour"
           }
          ],
          "contourcarpet": [
           {
            "colorbar": {
             "outlinewidth": 0,
             "ticks": ""
            },
            "type": "contourcarpet"
           }
          ],
          "heatmap": [
           {
            "colorbar": {
             "outlinewidth": 0,
             "ticks": ""
            },
            "colorscale": [
             [
              0,
              "#0d0887"
             ],
             [
              0.1111111111111111,
              "#46039f"
             ],
             [
              0.2222222222222222,
              "#7201a8"
             ],
             [
              0.3333333333333333,
              "#9c179e"
             ],
             [
              0.4444444444444444,
              "#bd3786"
             ],
             [
              0.5555555555555556,
              "#d8576b"
             ],
             [
              0.6666666666666666,
              "#ed7953"
             ],
             [
              0.7777777777777778,
              "#fb9f3a"
             ],
             [
              0.8888888888888888,
              "#fdca26"
             ],
             [
              1,
              "#f0f921"
             ]
            ],
            "type": "heatmap"
           }
          ],
          "heatmapgl": [
           {
            "colorbar": {
             "outlinewidth": 0,
             "ticks": ""
            },
            "colorscale": [
             [
              0,
              "#0d0887"
             ],
             [
              0.1111111111111111,
              "#46039f"
             ],
             [
              0.2222222222222222,
              "#7201a8"
             ],
             [
              0.3333333333333333,
              "#9c179e"
             ],
             [
              0.4444444444444444,
              "#bd3786"
             ],
             [
              0.5555555555555556,
              "#d8576b"
             ],
             [
              0.6666666666666666,
              "#ed7953"
             ],
             [
              0.7777777777777778,
              "#fb9f3a"
             ],
             [
              0.8888888888888888,
              "#fdca26"
             ],
             [
              1,
              "#f0f921"
             ]
            ],
            "type": "heatmapgl"
           }
          ],
          "histogram": [
           {
            "marker": {
             "pattern": {
              "fillmode": "overlay",
              "size": 10,
              "solidity": 0.2
             }
            },
            "type": "histogram"
           }
          ],
          "histogram2d": [
           {
            "colorbar": {
             "outlinewidth": 0,
             "ticks": ""
            },
            "colorscale": [
             [
              0,
              "#0d0887"
             ],
             [
              0.1111111111111111,
              "#46039f"
             ],
             [
              0.2222222222222222,
              "#7201a8"
             ],
             [
              0.3333333333333333,
              "#9c179e"
             ],
             [
              0.4444444444444444,
              "#bd3786"
             ],
             [
              0.5555555555555556,
              "#d8576b"
             ],
             [
              0.6666666666666666,
              "#ed7953"
             ],
             [
              0.7777777777777778,
              "#fb9f3a"
             ],
             [
              0.8888888888888888,
              "#fdca26"
             ],
             [
              1,
              "#f0f921"
             ]
            ],
            "type": "histogram2d"
           }
          ],
          "histogram2dcontour": [
           {
            "colorbar": {
             "outlinewidth": 0,
             "ticks": ""
            },
            "colorscale": [
             [
              0,
              "#0d0887"
             ],
             [
              0.1111111111111111,
              "#46039f"
             ],
             [
              0.2222222222222222,
              "#7201a8"
             ],
             [
              0.3333333333333333,
              "#9c179e"
             ],
             [
              0.4444444444444444,
              "#bd3786"
             ],
             [
              0.5555555555555556,
              "#d8576b"
             ],
             [
              0.6666666666666666,
              "#ed7953"
             ],
             [
              0.7777777777777778,
              "#fb9f3a"
             ],
             [
              0.8888888888888888,
              "#fdca26"
             ],
             [
              1,
              "#f0f921"
             ]
            ],
            "type": "histogram2dcontour"
           }
          ],
          "mesh3d": [
           {
            "colorbar": {
             "outlinewidth": 0,
             "ticks": ""
            },
            "type": "mesh3d"
           }
          ],
          "parcoords": [
           {
            "line": {
             "colorbar": {
              "outlinewidth": 0,
              "ticks": ""
             }
            },
            "type": "parcoords"
           }
          ],
          "pie": [
           {
            "automargin": true,
            "type": "pie"
           }
          ],
          "scatter": [
           {
            "fillpattern": {
             "fillmode": "overlay",
             "size": 10,
             "solidity": 0.2
            },
            "type": "scatter"
           }
          ],
          "scatter3d": [
           {
            "line": {
             "colorbar": {
              "outlinewidth": 0,
              "ticks": ""
             }
            },
            "marker": {
             "colorbar": {
              "outlinewidth": 0,
              "ticks": ""
             }
            },
            "type": "scatter3d"
           }
          ],
          "scattercarpet": [
           {
            "marker": {
             "colorbar": {
              "outlinewidth": 0,
              "ticks": ""
             }
            },
            "type": "scattercarpet"
           }
          ],
          "scattergeo": [
           {
            "marker": {
             "colorbar": {
              "outlinewidth": 0,
              "ticks": ""
             }
            },
            "type": "scattergeo"
           }
          ],
          "scattergl": [
           {
            "marker": {
             "colorbar": {
              "outlinewidth": 0,
              "ticks": ""
             }
            },
            "type": "scattergl"
           }
          ],
          "scattermapbox": [
           {
            "marker": {
             "colorbar": {
              "outlinewidth": 0,
              "ticks": ""
             }
            },
            "type": "scattermapbox"
           }
          ],
          "scatterpolar": [
           {
            "marker": {
             "colorbar": {
              "outlinewidth": 0,
              "ticks": ""
             }
            },
            "type": "scatterpolar"
           }
          ],
          "scatterpolargl": [
           {
            "marker": {
             "colorbar": {
              "outlinewidth": 0,
              "ticks": ""
             }
            },
            "type": "scatterpolargl"
           }
          ],
          "scatterternary": [
           {
            "marker": {
             "colorbar": {
              "outlinewidth": 0,
              "ticks": ""
             }
            },
            "type": "scatterternary"
           }
          ],
          "surface": [
           {
            "colorbar": {
             "outlinewidth": 0,
             "ticks": ""
            },
            "colorscale": [
             [
              0,
              "#0d0887"
             ],
             [
              0.1111111111111111,
              "#46039f"
             ],
             [
              0.2222222222222222,
              "#7201a8"
             ],
             [
              0.3333333333333333,
              "#9c179e"
             ],
             [
              0.4444444444444444,
              "#bd3786"
             ],
             [
              0.5555555555555556,
              "#d8576b"
             ],
             [
              0.6666666666666666,
              "#ed7953"
             ],
             [
              0.7777777777777778,
              "#fb9f3a"
             ],
             [
              0.8888888888888888,
              "#fdca26"
             ],
             [
              1,
              "#f0f921"
             ]
            ],
            "type": "surface"
           }
          ],
          "table": [
           {
            "cells": {
             "fill": {
              "color": "#EBF0F8"
             },
             "line": {
              "color": "white"
             }
            },
            "header": {
             "fill": {
              "color": "#C8D4E3"
             },
             "line": {
              "color": "white"
             }
            },
            "type": "table"
           }
          ]
         },
         "layout": {
          "annotationdefaults": {
           "arrowcolor": "#2a3f5f",
           "arrowhead": 0,
           "arrowwidth": 1
          },
          "autotypenumbers": "strict",
          "coloraxis": {
           "colorbar": {
            "outlinewidth": 0,
            "ticks": ""
           }
          },
          "colorscale": {
           "diverging": [
            [
             0,
             "#8e0152"
            ],
            [
             0.1,
             "#c51b7d"
            ],
            [
             0.2,
             "#de77ae"
            ],
            [
             0.3,
             "#f1b6da"
            ],
            [
             0.4,
             "#fde0ef"
            ],
            [
             0.5,
             "#f7f7f7"
            ],
            [
             0.6,
             "#e6f5d0"
            ],
            [
             0.7,
             "#b8e186"
            ],
            [
             0.8,
             "#7fbc41"
            ],
            [
             0.9,
             "#4d9221"
            ],
            [
             1,
             "#276419"
            ]
           ],
           "sequential": [
            [
             0,
             "#0d0887"
            ],
            [
             0.1111111111111111,
             "#46039f"
            ],
            [
             0.2222222222222222,
             "#7201a8"
            ],
            [
             0.3333333333333333,
             "#9c179e"
            ],
            [
             0.4444444444444444,
             "#bd3786"
            ],
            [
             0.5555555555555556,
             "#d8576b"
            ],
            [
             0.6666666666666666,
             "#ed7953"
            ],
            [
             0.7777777777777778,
             "#fb9f3a"
            ],
            [
             0.8888888888888888,
             "#fdca26"
            ],
            [
             1,
             "#f0f921"
            ]
           ],
           "sequentialminus": [
            [
             0,
             "#0d0887"
            ],
            [
             0.1111111111111111,
             "#46039f"
            ],
            [
             0.2222222222222222,
             "#7201a8"
            ],
            [
             0.3333333333333333,
             "#9c179e"
            ],
            [
             0.4444444444444444,
             "#bd3786"
            ],
            [
             0.5555555555555556,
             "#d8576b"
            ],
            [
             0.6666666666666666,
             "#ed7953"
            ],
            [
             0.7777777777777778,
             "#fb9f3a"
            ],
            [
             0.8888888888888888,
             "#fdca26"
            ],
            [
             1,
             "#f0f921"
            ]
           ]
          },
          "colorway": [
           "#636efa",
           "#EF553B",
           "#00cc96",
           "#ab63fa",
           "#FFA15A",
           "#19d3f3",
           "#FF6692",
           "#B6E880",
           "#FF97FF",
           "#FECB52"
          ],
          "font": {
           "color": "#2a3f5f"
          },
          "geo": {
           "bgcolor": "white",
           "lakecolor": "white",
           "landcolor": "#E5ECF6",
           "showlakes": true,
           "showland": true,
           "subunitcolor": "white"
          },
          "hoverlabel": {
           "align": "left"
          },
          "hovermode": "closest",
          "mapbox": {
           "style": "light"
          },
          "paper_bgcolor": "white",
          "plot_bgcolor": "#E5ECF6",
          "polar": {
           "angularaxis": {
            "gridcolor": "white",
            "linecolor": "white",
            "ticks": ""
           },
           "bgcolor": "#E5ECF6",
           "radialaxis": {
            "gridcolor": "white",
            "linecolor": "white",
            "ticks": ""
           }
          },
          "scene": {
           "xaxis": {
            "backgroundcolor": "#E5ECF6",
            "gridcolor": "white",
            "gridwidth": 2,
            "linecolor": "white",
            "showbackground": true,
            "ticks": "",
            "zerolinecolor": "white"
           },
           "yaxis": {
            "backgroundcolor": "#E5ECF6",
            "gridcolor": "white",
            "gridwidth": 2,
            "linecolor": "white",
            "showbackground": true,
            "ticks": "",
            "zerolinecolor": "white"
           },
           "zaxis": {
            "backgroundcolor": "#E5ECF6",
            "gridcolor": "white",
            "gridwidth": 2,
            "linecolor": "white",
            "showbackground": true,
            "ticks": "",
            "zerolinecolor": "white"
           }
          },
          "shapedefaults": {
           "line": {
            "color": "#2a3f5f"
           }
          },
          "ternary": {
           "aaxis": {
            "gridcolor": "white",
            "linecolor": "white",
            "ticks": ""
           },
           "baxis": {
            "gridcolor": "white",
            "linecolor": "white",
            "ticks": ""
           },
           "bgcolor": "#E5ECF6",
           "caxis": {
            "gridcolor": "white",
            "linecolor": "white",
            "ticks": ""
           }
          },
          "title": {
           "x": 0.05
          },
          "xaxis": {
           "automargin": true,
           "gridcolor": "white",
           "linecolor": "white",
           "ticks": "",
           "title": {
            "standoff": 15
           },
           "zerolinecolor": "white",
           "zerolinewidth": 2
          },
          "yaxis": {
           "automargin": true,
           "gridcolor": "white",
           "linecolor": "white",
           "ticks": "",
           "title": {
            "standoff": 15
           },
           "zerolinecolor": "white",
           "zerolinewidth": 2
          }
         }
        },
        "title": {
         "text": "Real vs. Synthetic Data for column 'sex'"
        },
        "xaxis": {
         "anchor": "y",
         "domain": [
          0,
          1
         ],
         "title": {
          "text": "Category"
         }
        },
        "yaxis": {
         "anchor": "x",
         "domain": [
          0,
          1
         ],
         "title": {
          "text": "Frequency"
         }
        }
       }
      }
     },
     "metadata": {},
     "output_type": "display_data"
    },
    {
     "data": {
      "application/vnd.plotly.v1+json": {
       "config": {
        "plotlyServerURL": "https://plot.ly"
       },
       "data": [
        {
         "alignmentgroup": "True",
         "bingroup": "x",
         "histnorm": "probability density",
         "hovertemplate": "<b>Real</b><br>Frequency: %{y}<extra></extra>",
         "legendgroup": "Real",
         "marker": {
          "color": "#000036",
          "pattern": {
           "shape": ""
          }
         },
         "name": "Real",
         "offsetgroup": "Real",
         "orientation": "v",
         "showlegend": true,
         "type": "histogram",
         "x": [
          1,
          4,
          4,
          3,
          2,
          2,
          4,
          4,
          4,
          4,
          4,
          2,
          3,
          2,
          3,
          3,
          2,
          4,
          3,
          2,
          1,
          1,
          2,
          3,
          4,
          3,
          3,
          1,
          4,
          4,
          1,
          4,
          3,
          4,
          3,
          4,
          4,
          4,
          4,
          3,
          4,
          1,
          2,
          3,
          4,
          3,
          3,
          4,
          3,
          3,
          2,
          4,
          4,
          2,
          4,
          4,
          3,
          4,
          3,
          1,
          4,
          3,
          4,
          3,
          4,
          4,
          3,
          3,
          4,
          3,
          3,
          4,
          4,
          4,
          4,
          3,
          4,
          3,
          2,
          4,
          4,
          4,
          3,
          3,
          2,
          3,
          3,
          4,
          3,
          4,
          4,
          3,
          3,
          3,
          4,
          4,
          4,
          2,
          4,
          4,
          1,
          4,
          3,
          3,
          2,
          4,
          3,
          4,
          4,
          4,
          4,
          1,
          4,
          3,
          2,
          3,
          4,
          4,
          4,
          4,
          4,
          3,
          4,
          1,
          2,
          4,
          4,
          2,
          4,
          3,
          3,
          2,
          4,
          3,
          2,
          4,
          2,
          4,
          3,
          2,
          1,
          2,
          3,
          3,
          3,
          4,
          3,
          2,
          3,
          1,
          4,
          3,
          4,
          4,
          4,
          4,
          4,
          4,
          3,
          2,
          4,
          3,
          4,
          3,
          4,
          2,
          4,
          2,
          3,
          4,
          4,
          4,
          4,
          4,
          4,
          4,
          3,
          3,
          4,
          4,
          1,
          1,
          4,
          2,
          3,
          2,
          2,
          3,
          3,
          4,
          4,
          3,
          4,
          1,
          4,
          2,
          1,
          4,
          4,
          3,
          3,
          4,
          4,
          4,
          4,
          2,
          4,
          3,
          1,
          3,
          4,
          4,
          1,
          2,
          4,
          4,
          4,
          3,
          3,
          3,
          4,
          4,
          2,
          4,
          3,
          4,
          4,
          3,
          4,
          3,
          2,
          3,
          4,
          4,
          4,
          2,
          2,
          2,
          2,
          4,
          1,
          3,
          4,
          4,
          4,
          4,
          2,
          4,
          4,
          4,
          3,
          4,
          3,
          4,
          3,
          2,
          2,
          3,
          2,
          1,
          3,
          4,
          4,
          3,
          4,
          3,
          4,
          4,
          4,
          4,
          1,
          1,
          3,
          3,
          2,
          4,
          4,
          3,
          4,
          2,
          4,
          4,
          4,
          2,
          2,
          3,
          2,
          4,
          4,
          4,
          2,
          4,
          4,
          1,
          4,
          4,
          2
         ],
         "xaxis": "x",
         "yaxis": "y"
        },
        {
         "alignmentgroup": "True",
         "bingroup": "x",
         "histnorm": "probability density",
         "hovertemplate": "<b>Synthetic</b><br>Frequency: %{y}<extra></extra>",
         "legendgroup": "Synthetic",
         "marker": {
          "color": "#01E0C9",
          "pattern": {
           "shape": "/"
          }
         },
         "name": "Synthetic",
         "offsetgroup": "Synthetic",
         "orientation": "v",
         "showlegend": true,
         "type": "histogram",
         "x": [
          4,
          2,
          4,
          4,
          3,
          2,
          4,
          4,
          1,
          3,
          3,
          4,
          4,
          3,
          4,
          4,
          3,
          3,
          4,
          4,
          2,
          3,
          3,
          4,
          4,
          4,
          4,
          3,
          4,
          2,
          4,
          4,
          1,
          3,
          2,
          4,
          4,
          4,
          2,
          4,
          2,
          4,
          3,
          4,
          3,
          2,
          4,
          1,
          2,
          4,
          2,
          4,
          4,
          4,
          4,
          3,
          2,
          4,
          4,
          1,
          4,
          2,
          4,
          2,
          3,
          2,
          2,
          3,
          4,
          3,
          4,
          3,
          4,
          1,
          2,
          4,
          3,
          2,
          3,
          4,
          4,
          3,
          4,
          3,
          4,
          3,
          3,
          2,
          1,
          4,
          4,
          2,
          3,
          4,
          3,
          2,
          3,
          3,
          2,
          2,
          3,
          2,
          4,
          1,
          4,
          3,
          4,
          2,
          3,
          1,
          4,
          3,
          3,
          4,
          3,
          4,
          2,
          1,
          4,
          3,
          1,
          4,
          2,
          3,
          1,
          3,
          3,
          4,
          2,
          4,
          3,
          2,
          2,
          2,
          4,
          2,
          4,
          4,
          4,
          4,
          4,
          4,
          2,
          4,
          4,
          4,
          4,
          4,
          4,
          3,
          4,
          4,
          4,
          2,
          3,
          3,
          4,
          4,
          4,
          4,
          4,
          2,
          4,
          4,
          4,
          4,
          4,
          3,
          4,
          4,
          4,
          4,
          2,
          2,
          4,
          3,
          2,
          4,
          4,
          4,
          4,
          1,
          2,
          4,
          4,
          4,
          4,
          2,
          4,
          2,
          3,
          3,
          3,
          2,
          2,
          2,
          3,
          2,
          4,
          4,
          3,
          4,
          1,
          2,
          4,
          4,
          3,
          4,
          3,
          2,
          1,
          2,
          4,
          2,
          4,
          3,
          4,
          4,
          4,
          1,
          4,
          3,
          4,
          3,
          4,
          4,
          1,
          3,
          4,
          4,
          1,
          4,
          3,
          1,
          4,
          2,
          3,
          3,
          4,
          4,
          2,
          4,
          4,
          4,
          3,
          2,
          2,
          4,
          4,
          2,
          2,
          2,
          1,
          3,
          2,
          3,
          4,
          3,
          4,
          4,
          1,
          2,
          3,
          4,
          4,
          4,
          4,
          1,
          3,
          4,
          1,
          1,
          4,
          2,
          4,
          4,
          3,
          2,
          4,
          4,
          2,
          4,
          4,
          3,
          3,
          2,
          1,
          4,
          4,
          4,
          2,
          3,
          3,
          4,
          4,
          4,
          4,
          3,
          2,
          2
         ],
         "xaxis": "x",
         "yaxis": "y"
        }
       ],
       "layout": {
        "barmode": "group",
        "legend": {
         "title": {
          "text": "Data"
         },
         "tracegroupgap": 0
        },
        "margin": {
         "t": 60
        },
        "plot_bgcolor": "#F5F5F8",
        "template": {
         "data": {
          "bar": [
           {
            "error_x": {
             "color": "#2a3f5f"
            },
            "error_y": {
             "color": "#2a3f5f"
            },
            "marker": {
             "line": {
              "color": "#E5ECF6",
              "width": 0.5
             },
             "pattern": {
              "fillmode": "overlay",
              "size": 10,
              "solidity": 0.2
             }
            },
            "type": "bar"
           }
          ],
          "barpolar": [
           {
            "marker": {
             "line": {
              "color": "#E5ECF6",
              "width": 0.5
             },
             "pattern": {
              "fillmode": "overlay",
              "size": 10,
              "solidity": 0.2
             }
            },
            "type": "barpolar"
           }
          ],
          "carpet": [
           {
            "aaxis": {
             "endlinecolor": "#2a3f5f",
             "gridcolor": "white",
             "linecolor": "white",
             "minorgridcolor": "white",
             "startlinecolor": "#2a3f5f"
            },
            "baxis": {
             "endlinecolor": "#2a3f5f",
             "gridcolor": "white",
             "linecolor": "white",
             "minorgridcolor": "white",
             "startlinecolor": "#2a3f5f"
            },
            "type": "carpet"
           }
          ],
          "choropleth": [
           {
            "colorbar": {
             "outlinewidth": 0,
             "ticks": ""
            },
            "type": "choropleth"
           }
          ],
          "contour": [
           {
            "colorbar": {
             "outlinewidth": 0,
             "ticks": ""
            },
            "colorscale": [
             [
              0,
              "#0d0887"
             ],
             [
              0.1111111111111111,
              "#46039f"
             ],
             [
              0.2222222222222222,
              "#7201a8"
             ],
             [
              0.3333333333333333,
              "#9c179e"
             ],
             [
              0.4444444444444444,
              "#bd3786"
             ],
             [
              0.5555555555555556,
              "#d8576b"
             ],
             [
              0.6666666666666666,
              "#ed7953"
             ],
             [
              0.7777777777777778,
              "#fb9f3a"
             ],
             [
              0.8888888888888888,
              "#fdca26"
             ],
             [
              1,
              "#f0f921"
             ]
            ],
            "type": "contour"
           }
          ],
          "contourcarpet": [
           {
            "colorbar": {
             "outlinewidth": 0,
             "ticks": ""
            },
            "type": "contourcarpet"
           }
          ],
          "heatmap": [
           {
            "colorbar": {
             "outlinewidth": 0,
             "ticks": ""
            },
            "colorscale": [
             [
              0,
              "#0d0887"
             ],
             [
              0.1111111111111111,
              "#46039f"
             ],
             [
              0.2222222222222222,
              "#7201a8"
             ],
             [
              0.3333333333333333,
              "#9c179e"
             ],
             [
              0.4444444444444444,
              "#bd3786"
             ],
             [
              0.5555555555555556,
              "#d8576b"
             ],
             [
              0.6666666666666666,
              "#ed7953"
             ],
             [
              0.7777777777777778,
              "#fb9f3a"
             ],
             [
              0.8888888888888888,
              "#fdca26"
             ],
             [
              1,
              "#f0f921"
             ]
            ],
            "type": "heatmap"
           }
          ],
          "heatmapgl": [
           {
            "colorbar": {
             "outlinewidth": 0,
             "ticks": ""
            },
            "colorscale": [
             [
              0,
              "#0d0887"
             ],
             [
              0.1111111111111111,
              "#46039f"
             ],
             [
              0.2222222222222222,
              "#7201a8"
             ],
             [
              0.3333333333333333,
              "#9c179e"
             ],
             [
              0.4444444444444444,
              "#bd3786"
             ],
             [
              0.5555555555555556,
              "#d8576b"
             ],
             [
              0.6666666666666666,
              "#ed7953"
             ],
             [
              0.7777777777777778,
              "#fb9f3a"
             ],
             [
              0.8888888888888888,
              "#fdca26"
             ],
             [
              1,
              "#f0f921"
             ]
            ],
            "type": "heatmapgl"
           }
          ],
          "histogram": [
           {
            "marker": {
             "pattern": {
              "fillmode": "overlay",
              "size": 10,
              "solidity": 0.2
             }
            },
            "type": "histogram"
           }
          ],
          "histogram2d": [
           {
            "colorbar": {
             "outlinewidth": 0,
             "ticks": ""
            },
            "colorscale": [
             [
              0,
              "#0d0887"
             ],
             [
              0.1111111111111111,
              "#46039f"
             ],
             [
              0.2222222222222222,
              "#7201a8"
             ],
             [
              0.3333333333333333,
              "#9c179e"
             ],
             [
              0.4444444444444444,
              "#bd3786"
             ],
             [
              0.5555555555555556,
              "#d8576b"
             ],
             [
              0.6666666666666666,
              "#ed7953"
             ],
             [
              0.7777777777777778,
              "#fb9f3a"
             ],
             [
              0.8888888888888888,
              "#fdca26"
             ],
             [
              1,
              "#f0f921"
             ]
            ],
            "type": "histogram2d"
           }
          ],
          "histogram2dcontour": [
           {
            "colorbar": {
             "outlinewidth": 0,
             "ticks": ""
            },
            "colorscale": [
             [
              0,
              "#0d0887"
             ],
             [
              0.1111111111111111,
              "#46039f"
             ],
             [
              0.2222222222222222,
              "#7201a8"
             ],
             [
              0.3333333333333333,
              "#9c179e"
             ],
             [
              0.4444444444444444,
              "#bd3786"
             ],
             [
              0.5555555555555556,
              "#d8576b"
             ],
             [
              0.6666666666666666,
              "#ed7953"
             ],
             [
              0.7777777777777778,
              "#fb9f3a"
             ],
             [
              0.8888888888888888,
              "#fdca26"
             ],
             [
              1,
              "#f0f921"
             ]
            ],
            "type": "histogram2dcontour"
           }
          ],
          "mesh3d": [
           {
            "colorbar": {
             "outlinewidth": 0,
             "ticks": ""
            },
            "type": "mesh3d"
           }
          ],
          "parcoords": [
           {
            "line": {
             "colorbar": {
              "outlinewidth": 0,
              "ticks": ""
             }
            },
            "type": "parcoords"
           }
          ],
          "pie": [
           {
            "automargin": true,
            "type": "pie"
           }
          ],
          "scatter": [
           {
            "fillpattern": {
             "fillmode": "overlay",
             "size": 10,
             "solidity": 0.2
            },
            "type": "scatter"
           }
          ],
          "scatter3d": [
           {
            "line": {
             "colorbar": {
              "outlinewidth": 0,
              "ticks": ""
             }
            },
            "marker": {
             "colorbar": {
              "outlinewidth": 0,
              "ticks": ""
             }
            },
            "type": "scatter3d"
           }
          ],
          "scattercarpet": [
           {
            "marker": {
             "colorbar": {
              "outlinewidth": 0,
              "ticks": ""
             }
            },
            "type": "scattercarpet"
           }
          ],
          "scattergeo": [
           {
            "marker": {
             "colorbar": {
              "outlinewidth": 0,
              "ticks": ""
             }
            },
            "type": "scattergeo"
           }
          ],
          "scattergl": [
           {
            "marker": {
             "colorbar": {
              "outlinewidth": 0,
              "ticks": ""
             }
            },
            "type": "scattergl"
           }
          ],
          "scattermapbox": [
           {
            "marker": {
             "colorbar": {
              "outlinewidth": 0,
              "ticks": ""
             }
            },
            "type": "scattermapbox"
           }
          ],
          "scatterpolar": [
           {
            "marker": {
             "colorbar": {
              "outlinewidth": 0,
              "ticks": ""
             }
            },
            "type": "scatterpolar"
           }
          ],
          "scatterpolargl": [
           {
            "marker": {
             "colorbar": {
              "outlinewidth": 0,
              "ticks": ""
             }
            },
            "type": "scatterpolargl"
           }
          ],
          "scatterternary": [
           {
            "marker": {
             "colorbar": {
              "outlinewidth": 0,
              "ticks": ""
             }
            },
            "type": "scatterternary"
           }
          ],
          "surface": [
           {
            "colorbar": {
             "outlinewidth": 0,
             "ticks": ""
            },
            "colorscale": [
             [
              0,
              "#0d0887"
             ],
             [
              0.1111111111111111,
              "#46039f"
             ],
             [
              0.2222222222222222,
              "#7201a8"
             ],
             [
              0.3333333333333333,
              "#9c179e"
             ],
             [
              0.4444444444444444,
              "#bd3786"
             ],
             [
              0.5555555555555556,
              "#d8576b"
             ],
             [
              0.6666666666666666,
              "#ed7953"
             ],
             [
              0.7777777777777778,
              "#fb9f3a"
             ],
             [
              0.8888888888888888,
              "#fdca26"
             ],
             [
              1,
              "#f0f921"
             ]
            ],
            "type": "surface"
           }
          ],
          "table": [
           {
            "cells": {
             "fill": {
              "color": "#EBF0F8"
             },
             "line": {
              "color": "white"
             }
            },
            "header": {
             "fill": {
              "color": "#C8D4E3"
             },
             "line": {
              "color": "white"
             }
            },
            "type": "table"
           }
          ]
         },
         "layout": {
          "annotationdefaults": {
           "arrowcolor": "#2a3f5f",
           "arrowhead": 0,
           "arrowwidth": 1
          },
          "autotypenumbers": "strict",
          "coloraxis": {
           "colorbar": {
            "outlinewidth": 0,
            "ticks": ""
           }
          },
          "colorscale": {
           "diverging": [
            [
             0,
             "#8e0152"
            ],
            [
             0.1,
             "#c51b7d"
            ],
            [
             0.2,
             "#de77ae"
            ],
            [
             0.3,
             "#f1b6da"
            ],
            [
             0.4,
             "#fde0ef"
            ],
            [
             0.5,
             "#f7f7f7"
            ],
            [
             0.6,
             "#e6f5d0"
            ],
            [
             0.7,
             "#b8e186"
            ],
            [
             0.8,
             "#7fbc41"
            ],
            [
             0.9,
             "#4d9221"
            ],
            [
             1,
             "#276419"
            ]
           ],
           "sequential": [
            [
             0,
             "#0d0887"
            ],
            [
             0.1111111111111111,
             "#46039f"
            ],
            [
             0.2222222222222222,
             "#7201a8"
            ],
            [
             0.3333333333333333,
             "#9c179e"
            ],
            [
             0.4444444444444444,
             "#bd3786"
            ],
            [
             0.5555555555555556,
             "#d8576b"
            ],
            [
             0.6666666666666666,
             "#ed7953"
            ],
            [
             0.7777777777777778,
             "#fb9f3a"
            ],
            [
             0.8888888888888888,
             "#fdca26"
            ],
            [
             1,
             "#f0f921"
            ]
           ],
           "sequentialminus": [
            [
             0,
             "#0d0887"
            ],
            [
             0.1111111111111111,
             "#46039f"
            ],
            [
             0.2222222222222222,
             "#7201a8"
            ],
            [
             0.3333333333333333,
             "#9c179e"
            ],
            [
             0.4444444444444444,
             "#bd3786"
            ],
            [
             0.5555555555555556,
             "#d8576b"
            ],
            [
             0.6666666666666666,
             "#ed7953"
            ],
            [
             0.7777777777777778,
             "#fb9f3a"
            ],
            [
             0.8888888888888888,
             "#fdca26"
            ],
            [
             1,
             "#f0f921"
            ]
           ]
          },
          "colorway": [
           "#636efa",
           "#EF553B",
           "#00cc96",
           "#ab63fa",
           "#FFA15A",
           "#19d3f3",
           "#FF6692",
           "#B6E880",
           "#FF97FF",
           "#FECB52"
          ],
          "font": {
           "color": "#2a3f5f"
          },
          "geo": {
           "bgcolor": "white",
           "lakecolor": "white",
           "landcolor": "#E5ECF6",
           "showlakes": true,
           "showland": true,
           "subunitcolor": "white"
          },
          "hoverlabel": {
           "align": "left"
          },
          "hovermode": "closest",
          "mapbox": {
           "style": "light"
          },
          "paper_bgcolor": "white",
          "plot_bgcolor": "#E5ECF6",
          "polar": {
           "angularaxis": {
            "gridcolor": "white",
            "linecolor": "white",
            "ticks": ""
           },
           "bgcolor": "#E5ECF6",
           "radialaxis": {
            "gridcolor": "white",
            "linecolor": "white",
            "ticks": ""
           }
          },
          "scene": {
           "xaxis": {
            "backgroundcolor": "#E5ECF6",
            "gridcolor": "white",
            "gridwidth": 2,
            "linecolor": "white",
            "showbackground": true,
            "ticks": "",
            "zerolinecolor": "white"
           },
           "yaxis": {
            "backgroundcolor": "#E5ECF6",
            "gridcolor": "white",
            "gridwidth": 2,
            "linecolor": "white",
            "showbackground": true,
            "ticks": "",
            "zerolinecolor": "white"
           },
           "zaxis": {
            "backgroundcolor": "#E5ECF6",
            "gridcolor": "white",
            "gridwidth": 2,
            "linecolor": "white",
            "showbackground": true,
            "ticks": "",
            "zerolinecolor": "white"
           }
          },
          "shapedefaults": {
           "line": {
            "color": "#2a3f5f"
           }
          },
          "ternary": {
           "aaxis": {
            "gridcolor": "white",
            "linecolor": "white",
            "ticks": ""
           },
           "baxis": {
            "gridcolor": "white",
            "linecolor": "white",
            "ticks": ""
           },
           "bgcolor": "#E5ECF6",
           "caxis": {
            "gridcolor": "white",
            "linecolor": "white",
            "ticks": ""
           }
          },
          "title": {
           "x": 0.05
          },
          "xaxis": {
           "automargin": true,
           "gridcolor": "white",
           "linecolor": "white",
           "ticks": "",
           "title": {
            "standoff": 15
           },
           "zerolinecolor": "white",
           "zerolinewidth": 2
          },
          "yaxis": {
           "automargin": true,
           "gridcolor": "white",
           "linecolor": "white",
           "ticks": "",
           "title": {
            "standoff": 15
           },
           "zerolinecolor": "white",
           "zerolinewidth": 2
          }
         }
        },
        "title": {
         "text": "Real vs. Synthetic Data for column 'cp'"
        },
        "xaxis": {
         "anchor": "y",
         "domain": [
          0,
          1
         ],
         "title": {
          "text": "Category"
         }
        },
        "yaxis": {
         "anchor": "x",
         "domain": [
          0,
          1
         ],
         "title": {
          "text": "Frequency"
         }
        }
       }
      }
     },
     "metadata": {},
     "output_type": "display_data"
    },
    {
     "data": {
      "application/vnd.plotly.v1+json": {
       "config": {
        "plotlyServerURL": "https://plot.ly"
       },
       "data": [
        {
         "fill": "tozeroy",
         "hovertemplate": "<b>Real</b><br>Value: %{x}<br>Frequency: %{y}<extra></extra>",
         "legendgroup": "Real",
         "marker": {
          "color": "#000036"
         },
         "mode": "lines",
         "name": "Real",
         "showlegend": true,
         "type": "scatter",
         "x": [
          94,
          94.212,
          94.424,
          94.636,
          94.848,
          95.06,
          95.272,
          95.484,
          95.696,
          95.908,
          96.12,
          96.332,
          96.544,
          96.756,
          96.968,
          97.18,
          97.392,
          97.604,
          97.816,
          98.028,
          98.24,
          98.452,
          98.664,
          98.876,
          99.088,
          99.3,
          99.512,
          99.724,
          99.936,
          100.148,
          100.36,
          100.572,
          100.784,
          100.996,
          101.208,
          101.42,
          101.632,
          101.844,
          102.056,
          102.268,
          102.48,
          102.69200000000001,
          102.904,
          103.116,
          103.328,
          103.53999999999999,
          103.752,
          103.964,
          104.176,
          104.388,
          104.6,
          104.812,
          105.024,
          105.236,
          105.44800000000001,
          105.66,
          105.872,
          106.084,
          106.29599999999999,
          106.508,
          106.72,
          106.932,
          107.144,
          107.356,
          107.568,
          107.78,
          107.992,
          108.20400000000001,
          108.416,
          108.628,
          108.84,
          109.05199999999999,
          109.264,
          109.476,
          109.688,
          109.9,
          110.112,
          110.324,
          110.536,
          110.748,
          110.96000000000001,
          111.172,
          111.384,
          111.596,
          111.80799999999999,
          112.02,
          112.232,
          112.444,
          112.656,
          112.868,
          113.08,
          113.292,
          113.504,
          113.71600000000001,
          113.928,
          114.14,
          114.352,
          114.564,
          114.776,
          114.988,
          115.2,
          115.412,
          115.624,
          115.836,
          116.048,
          116.26,
          116.47200000000001,
          116.684,
          116.896,
          117.108,
          117.32,
          117.532,
          117.744,
          117.956,
          118.168,
          118.38,
          118.592,
          118.804,
          119.01599999999999,
          119.22800000000001,
          119.44,
          119.652,
          119.864,
          120.076,
          120.288,
          120.5,
          120.712,
          120.924,
          121.136,
          121.348,
          121.56,
          121.77199999999999,
          121.98400000000001,
          122.196,
          122.408,
          122.62,
          122.832,
          123.044,
          123.256,
          123.468,
          123.68,
          123.892,
          124.104,
          124.316,
          124.52799999999999,
          124.74,
          124.952,
          125.164,
          125.376,
          125.588,
          125.8,
          126.012,
          126.22399999999999,
          126.436,
          126.648,
          126.86,
          127.072,
          127.28399999999999,
          127.49600000000001,
          127.708,
          127.92,
          128.132,
          128.344,
          128.55599999999998,
          128.768,
          128.98,
          129.192,
          129.404,
          129.61599999999999,
          129.828,
          130.04,
          130.252,
          130.464,
          130.676,
          130.888,
          131.1,
          131.312,
          131.524,
          131.736,
          131.948,
          132.16,
          132.372,
          132.584,
          132.796,
          133.008,
          133.22,
          133.43200000000002,
          133.644,
          133.856,
          134.06799999999998,
          134.28,
          134.492,
          134.704,
          134.916,
          135.128,
          135.34,
          135.552,
          135.764,
          135.976,
          136.188,
          136.4,
          136.612,
          136.824,
          137.036,
          137.248,
          137.46,
          137.672,
          137.88400000000001,
          138.096,
          138.308,
          138.52,
          138.732,
          138.94400000000002,
          139.156,
          139.368,
          139.57999999999998,
          139.792,
          140.004,
          140.216,
          140.428,
          140.64,
          140.852,
          141.064,
          141.276,
          141.488,
          141.7,
          141.912,
          142.124,
          142.336,
          142.548,
          142.76,
          142.972,
          143.184,
          143.39600000000002,
          143.608,
          143.82,
          144.03199999999998,
          144.244,
          144.45600000000002,
          144.668,
          144.88,
          145.09199999999998,
          145.304,
          145.516,
          145.728,
          145.94,
          146.152,
          146.364,
          146.576,
          146.788,
          147,
          147.212,
          147.424,
          147.636,
          147.848,
          148.06,
          148.272,
          148.484,
          148.696,
          148.90800000000002,
          149.12,
          149.332,
          149.54399999999998,
          149.756,
          149.96800000000002,
          150.18,
          150.392,
          150.60399999999998,
          150.816,
          151.028,
          151.24,
          151.452,
          151.664,
          151.876,
          152.088,
          152.3,
          152.512,
          152.724,
          152.936,
          153.148,
          153.36,
          153.572,
          153.784,
          153.996,
          154.208,
          154.42000000000002,
          154.632,
          154.844,
          155.05599999999998,
          155.268,
          155.48,
          155.692,
          155.904,
          156.11599999999999,
          156.328,
          156.54,
          156.752,
          156.964,
          157.176,
          157.388,
          157.6,
          157.812,
          158.024,
          158.236,
          158.44799999999998,
          158.66,
          158.872,
          159.084,
          159.296,
          159.50799999999998,
          159.72,
          159.93200000000002,
          160.144,
          160.356,
          160.56799999999998,
          160.78,
          160.99200000000002,
          161.204,
          161.416,
          161.628,
          161.84,
          162.05200000000002,
          162.264,
          162.476,
          162.688,
          162.9,
          163.112,
          163.324,
          163.536,
          163.748,
          163.95999999999998,
          164.172,
          164.38400000000001,
          164.596,
          164.808,
          165.01999999999998,
          165.232,
          165.44400000000002,
          165.656,
          165.868,
          166.07999999999998,
          166.292,
          166.50400000000002,
          166.716,
          166.928,
          167.14,
          167.352,
          167.564,
          167.776,
          167.988,
          168.2,
          168.412,
          168.624,
          168.836,
          169.048,
          169.26,
          169.47199999999998,
          169.684,
          169.89600000000002,
          170.108,
          170.32,
          170.53199999999998,
          170.744,
          170.95600000000002,
          171.168,
          171.38,
          171.59199999999998,
          171.804,
          172.01600000000002,
          172.228,
          172.44,
          172.652,
          172.864,
          173.076,
          173.288,
          173.5,
          173.712,
          173.924,
          174.136,
          174.348,
          174.56,
          174.772,
          174.98399999999998,
          175.196,
          175.40800000000002,
          175.62,
          175.832,
          176.04399999999998,
          176.256,
          176.46800000000002,
          176.68,
          176.892,
          177.10399999999998,
          177.316,
          177.52800000000002,
          177.74,
          177.952,
          178.164,
          178.376,
          178.588,
          178.8,
          179.012,
          179.224,
          179.436,
          179.648,
          179.86,
          180.072,
          180.284,
          180.49599999999998,
          180.708,
          180.92000000000002,
          181.132,
          181.344,
          181.55599999999998,
          181.768,
          181.98000000000002,
          182.192,
          182.404,
          182.61599999999999,
          182.828,
          183.04000000000002,
          183.252,
          183.464,
          183.676,
          183.888,
          184.1,
          184.312,
          184.524,
          184.736,
          184.94799999999998,
          185.16,
          185.372,
          185.584,
          185.796,
          186.00799999999998,
          186.22,
          186.43200000000002,
          186.644,
          186.856,
          187.06799999999998,
          187.28,
          187.49200000000002,
          187.704,
          187.916,
          188.128,
          188.34,
          188.55200000000002,
          188.764,
          188.976,
          189.188,
          189.4,
          189.612,
          189.824,
          190.036,
          190.248,
          190.45999999999998,
          190.672,
          190.88400000000001,
          191.096,
          191.308,
          191.51999999999998,
          191.732,
          191.94400000000002,
          192.156,
          192.368,
          192.57999999999998,
          192.792,
          193.00400000000002,
          193.216,
          193.428,
          193.64,
          193.852,
          194.064,
          194.276,
          194.488,
          194.7,
          194.912,
          195.124,
          195.336,
          195.548,
          195.76,
          195.97199999999998,
          196.184,
          196.39600000000002,
          196.608,
          196.82,
          197.03199999999998,
          197.244,
          197.45600000000002,
          197.668,
          197.88,
          198.09199999999998,
          198.304,
          198.51600000000002,
          198.728,
          198.94,
          199.152,
          199.364,
          199.576,
          199.788
         ],
         "xaxis": "x",
         "y": [
          0.0016557191345070367,
          0.0017226810486365466,
          0.0017916354919894823,
          0.0018626259005762836,
          0.0019356965587046559,
          0.0020108925439552457,
          0.0020882596567822907,
          0.002167844333378599,
          0.0022496935404514775,
          0.0023338546505864417,
          0.002420375296932172,
          0.0025093032060256337,
          0.0026006860076930745,
          0.002694571021113757,
          0.002791005016320014,
          0.0028900339506307132,
          0.002991702679776738,
          0.0030960546437762875,
          0.003203131527953666,
          0.003312972899866737,
          0.0034256158233118856,
          0.0035410944510092484,
          0.003659439598028515,
          0.003780678298494231,
          0.0039048333485997445,
          0.004031922839457413,
          0.004161959683807368,
          0.004294951141092912,
          0.004430898345876307,
          0.004569795845004582,
          0.004711631149331965,
          0.004856384306152248,
          0.005004027498781947,
          0.005154524679951345,
          0.005307831245798485,
          0.005463893757310035,
          0.005622649716005426,
          0.005784027400509279,
          0.005947945770397089,
          0.006114314443325102,
          0.006283033750965731,
          0.006453994878663134,
          0.006627080093001472,
          0.006802163060644791,
          0.006979109260865831,
          0.007157776493141885,
          0.007338015480066297,
          0.00751967056461819,
          0.007702580499563189,
          0.007886579325441295,
          0.008071497332251367,
          0.008257162098585584,
          0.008443399600619043,
          0.008630035382046495,
          0.008816895774795292,
          0.009003809159159333,
          0.009190607250911592,
          0.009377126401986869,
          0.009563208900501675,
          0.009748704255214253,
          0.009933470449043214,
          0.010117375145974473,
          0.01030029683560465,
          0.010482125899707867,
          0.010662765585578842,
          0.010842132871500118,
          0.011020159210510822,
          0.011196791139709278,
          0.011371990743600867,
          0.011545735961489754,
          0.011718020730598584,
          0.01188885495845983,
          0.012058264320142174,
          0.012226289878019296,
          0.012392987524038487,
          0.012558427246766046,
          0.012722692227842287,
          0.012885877774839108,
          0.013048090099839843,
          0.013209444955318242,
          0.013370066141043713,
          0.013530083897750185,
          0.01368963320513788,
          0.013848852003402076,
          0.014007879358867964,
          0.014166853595429987,
          0.014325910414324409,
          0.014485181025286615,
          0.014644790312342787,
          0.01480485505735388,
          0.014965482243958578,
          0.01512676746375645,
          0.01528879344543674,
          0.015451628726104841,
          0.015615326482304397,
          0.01577992353620191,
          0.015945439550117707,
          0.01611187642008836,
          0.016279217876460583,
          0.016447429296693614,
          0.01661645773261991,
          0.016786232151434037,
          0.016956663886690142,
          0.01712764729263622,
          0.01729906059234683,
          0.017470766907382043,
          0.017642615454137603,
          0.01781444288971365,
          0.017986074788039156,
          0.018157327225198486,
          0.01832800845143189,
          0.018497920626156506,
          0.01866686159159556,
          0.01883462666022333,
          0.0190010103912424,
          0.01916580833170561,
          0.01932881869867418,
          0.019489843979953292,
          0.019648692432446872,
          0.01980517945900319,
          0.019959128846748442,
          0.02011037385229344,
          0.02025875812180914,
          0.020404136436755566,
          0.020546375278968722,
          0.020685353211810607,
          0.020820961077124736,
          0.020953102010749763,
          0.021081691282287953,
          0.021206655967647352,
          0.021327934465528515,
          0.02144547587146645,
          0.021559239225222532,
          0.021669192649214186,
          0.021775312397237866,
          0.021877581833963305,
          0.02197599036652445,
          0.022070532350002205,
          0.02216120598867215,
          0.022248012254579026,
          0.0223309538443069,
          0.02241003419375339,
          0.022485256569305653,
          0.022556623252085996,
          0.022624134829913534,
          0.02268778960935565,
          0.022747583157760064,
          0.022803507982508263,
          0.022855553351965936,
          0.022903705259773078,
          0.022947946531267836,
          0.022988257068026298,
          0.023024614223776302,
          0.023056993302354258,
          0.023085368165968127,
          0.023109711939853207,
          0.023129997797494507,
          0.023146199808976194,
          0.023158293833740472,
          0.02316625843810676,
          0.023170075817344867,
          0.023169732701917085,
          0.023165221227709996,
          0.02315653975065918,
          0.023143693587128294,
          0.023126695662707048,
          0.02310556705373208,
          0.023080337407767028,
          0.023051045231483953,
          0.023017738036809773,
          0.022980472338814922,
          0.022939313501562794,
          0.022894335430970338,
          0.022845620116596733,
          0.022793257027123176,
          0.022737342367073338,
          0.022677978204984357,
          0.022615271485738,
          0.022549332942049683,
          0.02248027592214685,
          0.022408215152414535,
          0.022333265455209018,
          0.02225554044311796,
          0.022175151211652578,
          0.022092205052685065,
          0.02200680421088061,
          0.021919044704924683,
          0.021829015234510505,
          0.021736796192849708,
          0.021642458802917604,
          0.021546064393768563,
          0.02144766383108792,
          0.021347297113725933,
          0.021244993145317713,
          0.021140769687288775,
          0.021034633496609847,
          0.020926580648666548,
          0.020816597042578083,
          0.020704659083306137,
          0.020590734531975758,
          0.020474783513042483,
          0.02035675966432619,
          0.02023661141353994,
          0.02011428336280799,
          0.01998971776082684,
          0.019862856040812362,
          0.01973364040120991,
          0.019602015405352634,
          0.019467929575838587,
          0.019331336959373828,
          0.019192198638190848,
          0.019050484164895104,
          0.018906172898701584,
          0.018759255222485186,
          0.018609733621846272,
          0.018457623609472368,
          0.018302954480405514,
          0.018145769886382394,
          0.017986128220139407,
          0.017824102803441627,
          0.017659781875538478,
          0.017493268381737533,
          0.017324679564762004,
          0.017154146364475917,
          0.016981812634375357,
          0.0168078341859111,
          0.016632377674185284,
          0.016455619340817535,
          0.016277743631765935,
          0.01609894170959181,
          0.01591940988104529,
          0.0157393479619072,
          0.01555895760173423,
          0.01537844059151383,
          0.015197997177242916,
          0.015017824402099075,
          0.014838114499189509,
          0.014659053355855862,
          0.014480819069195872,
          0.01430358061087363,
          0.014127496617441719,
          0.013952714320337819,
          0.013779368627470876,
          0.013607581365920817,
          0.013437460692780732,
          0.013269100678607803,
          0.013102581065367163,
          0.012937967198185862,
          0.01277531012772614,
          0.012614646877574498,
          0.0124560008687641,
          0.012299382491432184,
          0.012144789811697223,
          0.01199220940014342,
          0.011841617266848972,
          0.011692979886706126,
          0.011546255297868223,
          0.01140139425553298,
          0.011258341422931391,
          0.011117036581344261,
          0.01097741584120006,
          0.010839412836815832,
          0.010702959888109063,
          0.010567989113614666,
          0.010434433480370268,
          0.010302227777653614,
          0.010171309503147766,
          0.010041619651837547,
          0.009913103399777407,
          0.00978571067678275,
          0.009659396624049877,
          0.009534121934675253,
          0.009409853076985506,
          0.009286562402479166,
          0.009164228141987014,
          0.009042834295354048,
          0.008922370421507191,
          0.008802831337176052,
          0.008684216733762691,
          0.008566530722890061,
          0.00844978132199032,
          0.008333979891912794,
          0.008219140538931162,
          0.00810527949371111,
          0.007992414479766534,
          0.007880564083686883,
          0.007769747138975195,
          0.007659982134702992,
          0.00755128665938552,
          0.007443676889520672,
          0.007337167131144078,
          0.007231769421547344,
          0.007127493197013508,
          0.007024345031066061,
          0.006922328446329238,
          0.006821443801685622,
          0.0067216882550114,
          0.006623055800400473,
          0.006525537377471091,
          0.006429121049110291,
          0.006333792242866508,
          0.006239534050168504,
          0.006146327576644732,
          0.0060541523360495945,
          0.0059629866796876855,
          0.005872808252762806,
          0.005783594468776843,
          0.005695322992958967,
          0.005607972225721712,
          0.005521521777308069,
          0.0054359529251105645,
          0.005351249045595472,
          0.0052673960133458155,
          0.005184382560428926,
          0.005102200590085941,
          0.005020845439613366,
          0.004940316088245936,
          0.004860615306835765,
          0.00478174974713877,
          0.00470372996954681,
          0.004626570409125196,
          0.004550289280813569,
          0.004474908425607174,
          0.004400453100440137,
          0.004326951715329407,
          0.004254435522094199,
          0.0041829382596326545,
          0.004112495761304193,
          0.004043145530428595,
          0.003974926290264051,
          0.0039078775150664016,
          0.003842038948957891,
          0.0037774501193484737,
          0.003714149851559484,
          0.0036521757911027112,
          0.003591563939774884,
          0.0035323482113460937,
          0.0034745600121603563,
          0.0034182278514373835,
          0.0033633769854788326,
          0.0033100290993505533,
          0.0032582020289478307,
          0.0032079095256656643,
          0.003159161065202246,
          0.003111961701334696,
          0.0030663119648312266,
          0.003022207807016495,
          0.0029796405868947663,
          0.002938597100169428,
          0.002899059647984657,
          0.0028610061427614725,
          0.0028244102481134376,
          0.0027892415495085103,
          0.0027554657520974216,
          0.002723044901955894,
          0.0026919376268876916,
          0.0026620993929070335,
          0.0026334827725590774,
          0.002606037721342123,
          0.0025797118586603886,
          0.002554450749954975,
          0.002530198186927415,
          0.00250689646307631,
          0.002484486642106611,
          0.002462908817133775,
          0.0024421023589839565,
          0.00242200615227765,
          0.0024025588183699776,
          0.00238369892459837,
          0.0023653651796499073,
          0.002347496615199768,
          0.002330032754282695,
          0.0023129137671356525,
          0.0022960806154876793,
          0.0022794751864686665,
          0.0022630404174597434,
          0.002246720413312514,
          0.002230460557422126,
          0.0022142076181500847,
          0.0021979098520584052,
          0.002181517105339393,
          0.002164980914707503,
          0.0021482546088662014,
          0.0021312934114766043,
          0.002114054546342279,
          0.002096497345290277,
          0.0020785833589787818,
          0.0020602764706021824,
          0.0020415430122013773,
          0.0020223518830264566,
          0.0020026746691466234,
          0.001982485763263996,
          0.0019617624834689777,
          0.0019404851894799975,
          0.0019186373947440714,
          0.001896205872640238,
          0.001873180754928692,
          0.0018495556205265938,
          0.0018253275726683638,
          0.0018004973025251305,
          0.0017750691374139968,
          0.0017490510718232164,
          0.00172245477961158,
          0.001695295605908267,
          0.0016675925374393075,
          0.001639368150235885,
          0.0016106485339338575,
          0.0015814631921485663,
          0.0015518449187000786,
          0.0015218296497658676,
          0.0014914562923462214,
          0.0014607665297365247,
          0.0014298046050055919,
          0.001398617083774766,
          0.0013672525978742577,
          0.0013357615717162754,
          0.0013041959334651402,
          0.001272608813298521,
          0.0012410542312385306,
          0.0012095867771832697,
          0.0011782612858868677,
          0.0011471325097172742,
          0.0011162547920648988,
          0.0010856817442816892,
          0.0010554659289989613,
          0.0010256585526046832,
          0.0009963091695576497,
          0.0009674654010796186,
          0.0009391726705986038,
          0.0009114739581204839,
          0.000884409575484772,
          0.0008580169642172711,
          0.0008323305174311519,
          0.0008073814269527143,
          0.0007831975565627397,
          0.000759803341952799,
          0.0007372197177027052,
          0.0007154640712940588,
          0.0006945502238896327,
          0.0006744884373331002,
          0.0006552854465613028,
          0.0006369445163757127,
          0.0006194655212932872,
          0.0006028450469926373,
          0.0005870765116908875,
          0.0005721503056321043,
          0.0005580539467406752,
          0.0005447722503935673,
          0.0005322875111945114,
          0.0005205796945907988,
          0.0005096266361592697,
          0.0004994042464013893,
          0.0004898867189270613,
          0.00048104673997147147,
          0.00047285569727693806,
          0.00046528388648067195,
          0.0004583007132769378,
          0.0004518748897661163,
          0.00044597462356081173,
          0.000440567798387755,
          0.0004356221451009949,
          0.00043110540220388027,
          0.000426985465161847,
          0.00042323052397223325,
          0.0004198091886386551,
          0.00041669060237329463,
          0.0004138445425185067,
          0.0004112415093372632,
          0.00040885280296820735,
          0.0004066505889738483,
          0.000404607953028275,
          0.0004026989453925895,
          0.0004008986159112845,
          0.00039918304033042135,
          0.0003975293387885566,
          0.0003959156873638986,
          0.00039432132357657883,
          0.0003927265467437166,
          0.0003911127140680698,
          0.00038946223330954294,
          0.00038775855284394677,
          0.0003859861498566631,
          0.0003841305173518332,
          0.0003821781505821012,
          0.00038011653342157265,
          0.0003779341251173982,
          0.0003756203477650433,
          0.00037316557476078124,
          0.00037056112039400205,
          0.0003677992306532759,
          0.00036487307523541045,
          0.0003617767406674233,
          0.00035850522437877366,
          0.0003550544294965197,
          0.0003514211600802732,
          0.000347603116467631,
          0.00034359889036485327,
          0.00033940795929214817,
          0.0003350306799783,
          0.0003304682802953763
         ],
         "yaxis": "y"
        },
        {
         "fill": "tozeroy",
         "hovertemplate": "<b>Synthetic</b><br>Value: %{x}<br>Frequency: %{y}<extra></extra>",
         "legendgroup": "Synthetic",
         "marker": {
          "color": "#01E0C9"
         },
         "mode": "lines",
         "name": "Synthetic",
         "showlegend": true,
         "type": "scatter",
         "x": [
          94,
          94.212,
          94.424,
          94.636,
          94.848,
          95.06,
          95.272,
          95.484,
          95.696,
          95.908,
          96.12,
          96.332,
          96.544,
          96.756,
          96.968,
          97.18,
          97.392,
          97.604,
          97.816,
          98.028,
          98.24,
          98.452,
          98.664,
          98.876,
          99.088,
          99.3,
          99.512,
          99.724,
          99.936,
          100.148,
          100.36,
          100.572,
          100.784,
          100.996,
          101.208,
          101.42,
          101.632,
          101.844,
          102.056,
          102.268,
          102.48,
          102.69200000000001,
          102.904,
          103.116,
          103.328,
          103.53999999999999,
          103.752,
          103.964,
          104.176,
          104.388,
          104.6,
          104.812,
          105.024,
          105.236,
          105.44800000000001,
          105.66,
          105.872,
          106.084,
          106.29599999999999,
          106.508,
          106.72,
          106.932,
          107.144,
          107.356,
          107.568,
          107.78,
          107.992,
          108.20400000000001,
          108.416,
          108.628,
          108.84,
          109.05199999999999,
          109.264,
          109.476,
          109.688,
          109.9,
          110.112,
          110.324,
          110.536,
          110.748,
          110.96000000000001,
          111.172,
          111.384,
          111.596,
          111.80799999999999,
          112.02,
          112.232,
          112.444,
          112.656,
          112.868,
          113.08,
          113.292,
          113.504,
          113.71600000000001,
          113.928,
          114.14,
          114.352,
          114.564,
          114.776,
          114.988,
          115.2,
          115.412,
          115.624,
          115.836,
          116.048,
          116.26,
          116.47200000000001,
          116.684,
          116.896,
          117.108,
          117.32,
          117.532,
          117.744,
          117.956,
          118.168,
          118.38,
          118.592,
          118.804,
          119.01599999999999,
          119.22800000000001,
          119.44,
          119.652,
          119.864,
          120.076,
          120.288,
          120.5,
          120.712,
          120.924,
          121.136,
          121.348,
          121.56,
          121.77199999999999,
          121.98400000000001,
          122.196,
          122.408,
          122.62,
          122.832,
          123.044,
          123.256,
          123.468,
          123.68,
          123.892,
          124.104,
          124.316,
          124.52799999999999,
          124.74,
          124.952,
          125.164,
          125.376,
          125.588,
          125.8,
          126.012,
          126.22399999999999,
          126.436,
          126.648,
          126.86,
          127.072,
          127.28399999999999,
          127.49600000000001,
          127.708,
          127.92,
          128.132,
          128.344,
          128.55599999999998,
          128.768,
          128.98,
          129.192,
          129.404,
          129.61599999999999,
          129.828,
          130.04,
          130.252,
          130.464,
          130.676,
          130.888,
          131.1,
          131.312,
          131.524,
          131.736,
          131.948,
          132.16,
          132.372,
          132.584,
          132.796,
          133.008,
          133.22,
          133.43200000000002,
          133.644,
          133.856,
          134.06799999999998,
          134.28,
          134.492,
          134.704,
          134.916,
          135.128,
          135.34,
          135.552,
          135.764,
          135.976,
          136.188,
          136.4,
          136.612,
          136.824,
          137.036,
          137.248,
          137.46,
          137.672,
          137.88400000000001,
          138.096,
          138.308,
          138.52,
          138.732,
          138.94400000000002,
          139.156,
          139.368,
          139.57999999999998,
          139.792,
          140.004,
          140.216,
          140.428,
          140.64,
          140.852,
          141.064,
          141.276,
          141.488,
          141.7,
          141.912,
          142.124,
          142.336,
          142.548,
          142.76,
          142.972,
          143.184,
          143.39600000000002,
          143.608,
          143.82,
          144.03199999999998,
          144.244,
          144.45600000000002,
          144.668,
          144.88,
          145.09199999999998,
          145.304,
          145.516,
          145.728,
          145.94,
          146.152,
          146.364,
          146.576,
          146.788,
          147,
          147.212,
          147.424,
          147.636,
          147.848,
          148.06,
          148.272,
          148.484,
          148.696,
          148.90800000000002,
          149.12,
          149.332,
          149.54399999999998,
          149.756,
          149.96800000000002,
          150.18,
          150.392,
          150.60399999999998,
          150.816,
          151.028,
          151.24,
          151.452,
          151.664,
          151.876,
          152.088,
          152.3,
          152.512,
          152.724,
          152.936,
          153.148,
          153.36,
          153.572,
          153.784,
          153.996,
          154.208,
          154.42000000000002,
          154.632,
          154.844,
          155.05599999999998,
          155.268,
          155.48,
          155.692,
          155.904,
          156.11599999999999,
          156.328,
          156.54,
          156.752,
          156.964,
          157.176,
          157.388,
          157.6,
          157.812,
          158.024,
          158.236,
          158.44799999999998,
          158.66,
          158.872,
          159.084,
          159.296,
          159.50799999999998,
          159.72,
          159.93200000000002,
          160.144,
          160.356,
          160.56799999999998,
          160.78,
          160.99200000000002,
          161.204,
          161.416,
          161.628,
          161.84,
          162.05200000000002,
          162.264,
          162.476,
          162.688,
          162.9,
          163.112,
          163.324,
          163.536,
          163.748,
          163.95999999999998,
          164.172,
          164.38400000000001,
          164.596,
          164.808,
          165.01999999999998,
          165.232,
          165.44400000000002,
          165.656,
          165.868,
          166.07999999999998,
          166.292,
          166.50400000000002,
          166.716,
          166.928,
          167.14,
          167.352,
          167.564,
          167.776,
          167.988,
          168.2,
          168.412,
          168.624,
          168.836,
          169.048,
          169.26,
          169.47199999999998,
          169.684,
          169.89600000000002,
          170.108,
          170.32,
          170.53199999999998,
          170.744,
          170.95600000000002,
          171.168,
          171.38,
          171.59199999999998,
          171.804,
          172.01600000000002,
          172.228,
          172.44,
          172.652,
          172.864,
          173.076,
          173.288,
          173.5,
          173.712,
          173.924,
          174.136,
          174.348,
          174.56,
          174.772,
          174.98399999999998,
          175.196,
          175.40800000000002,
          175.62,
          175.832,
          176.04399999999998,
          176.256,
          176.46800000000002,
          176.68,
          176.892,
          177.10399999999998,
          177.316,
          177.52800000000002,
          177.74,
          177.952,
          178.164,
          178.376,
          178.588,
          178.8,
          179.012,
          179.224,
          179.436,
          179.648,
          179.86,
          180.072,
          180.284,
          180.49599999999998,
          180.708,
          180.92000000000002,
          181.132,
          181.344,
          181.55599999999998,
          181.768,
          181.98000000000002,
          182.192,
          182.404,
          182.61599999999999,
          182.828,
          183.04000000000002,
          183.252,
          183.464,
          183.676,
          183.888,
          184.1,
          184.312,
          184.524,
          184.736,
          184.94799999999998,
          185.16,
          185.372,
          185.584,
          185.796,
          186.00799999999998,
          186.22,
          186.43200000000002,
          186.644,
          186.856,
          187.06799999999998,
          187.28,
          187.49200000000002,
          187.704,
          187.916,
          188.128,
          188.34,
          188.55200000000002,
          188.764,
          188.976,
          189.188,
          189.4,
          189.612,
          189.824,
          190.036,
          190.248,
          190.45999999999998,
          190.672,
          190.88400000000001,
          191.096,
          191.308,
          191.51999999999998,
          191.732,
          191.94400000000002,
          192.156,
          192.368,
          192.57999999999998,
          192.792,
          193.00400000000002,
          193.216,
          193.428,
          193.64,
          193.852,
          194.064,
          194.276,
          194.488,
          194.7,
          194.912,
          195.124,
          195.336,
          195.548,
          195.76,
          195.97199999999998,
          196.184,
          196.39600000000002,
          196.608,
          196.82,
          197.03199999999998,
          197.244,
          197.45600000000002,
          197.668,
          197.88,
          198.09199999999998,
          198.304,
          198.51600000000002,
          198.728,
          198.94,
          199.152,
          199.364,
          199.576,
          199.788
         ],
         "xaxis": "x",
         "y": [
          0.01268924784169507,
          0.012806587200211687,
          0.012920234912288305,
          0.013030126140432521,
          0.013136201969862473,
          0.01323840948959026,
          0.013336701857281315,
          0.013431038347796916,
          0.013521384385391506,
          0.013607711559599738,
          0.013689997624909526,
          0.013768226484381441,
          0.013842388157432998,
          0.01391247873206647,
          0.013978500301876084,
          0.014040460888225045,
          0.01409837434803588,
          0.014152260267686796,
          0.014202143843555679,
          0.014248055749795428,
          0.014290031993966983,
          0.014328113761192654,
          0.014362347247526797,
          0.014392783483271512,
          0.014419478146990218,
          0.014442491370995762,
          0.01446188753910729,
          0.014477735077485636,
          0.01449010623936642,
          0.014499076884517412,
          0.01450472625424937,
          0.014507136742808083,
          0.014506393665969848,
          0.014502585027654896,
          0.014495801285360014,
          0.014486135115196096,
          0.01447368117729704,
          0.014458535882344963,
          0.014440797159929984,
          0.014420564229436926,
          0.01439793737411862,
          0.01437301771898502,
          0.014345907013100593,
          0.014316707416847593,
          0.01428552129467279,
          0.014252451013797648,
          0.014217598749329749,
          0.014181066296173276,
          0.01414295488809281,
          0.014103365024244134,
          0.014062396303441995,
          0.014020147266393498,
          0.013976715246082771,
          0.013932196226453608,
          0.013886684709493127,
          0.013840273590783563,
          0.01379305404354805,
          0.013745115411182276,
          0.013696545108225771,
          0.013647428529696205,
          0.013597848968675,
          0.013547887542005836,
          0.01349762312393749,
          0.013447132287518595,
          0.013396489253526898,
          0.013345765846696216,
          0.013295031458983213,
          0.013244353019601533,
          0.01319379497153545,
          0.013143419254233164,
          0.013093285292170763,
          0.013043449988969365,
          0.012993967726744321,
          0.012944890370360063,
          0.012896267276264596,
          0.012848145305578323,
          0.012800568841113455,
          0.012753579808006302,
          0.012707217697649632,
          0.012661519594620543,
          0.01261652020630836,
          0.01257225189495734,
          0.012528744711850285,
          0.012486026433372406,
          0.012444122598707672,
          0.012403056548934158,
          0.012362849467300157,
          0.012323520420478193,
          0.012285086400609112,
          0.012247562367965129,
          0.012210961294077134,
          0.012175294205186447,
          0.012140570225898241,
          0.01210679662292983,
          0.012073978848861017,
          0.012042120585810839,
          0.012011223788977654,
          0.01198128872999483,
          0.011952314040066962,
          0.011924296752864197,
          0.011897232347164208,
          0.011871114789242005,
          0.011845936575018694,
          0.011821688771987695,
          0.011798361060947778,
          0.011775941777576569,
          0.011754417953887498,
          0.011733775359615343,
          0.011713998543583255,
          0.011695070875104057,
          0.011676974585473907,
          0.011659690809616272,
          0.011643199627934806,
          0.011627480108434358,
          0.01161251034916694,
          0.01159826752105822,
          0.01158472791116713,
          0.011571866966427547,
          0.011559659337917094,
          0.011548078925692724,
          0.011537098924228236,
          0.011526691868481714,
          0.011516829680615594,
          0.011507483717384462,
          0.011498624818199235,
          0.011490223353867526,
          0.011482249276004131,
          0.011474672167096078,
          0.01146746129119905,
          0.011460585645234542,
          0.01145401401084783,
          0.011447715006779558,
          0.011441657141695257,
          0.011435808867409601,
          0.011430138632433851,
          0.011424614935768263,
          0.011419206380853352,
          0.011413881729587384,
          0.011408609956311148,
          0.011403360301654123,
          0.011398102326131917,
          0.011392805963378065,
          0.011387441572889925,
          0.011381979992163564,
          0.011376392588089526,
          0.011370651307477428,
          0.0113647287265766,
          0.011358598099456498,
          0.011352233405110997,
          0.011345609393149426,
          0.01133870162793806,
          0.011331486531056333,
          0.01132394142193367,
          0.011316044556536032,
          0.011307775163972912,
          0.011299113480900545,
          0.01129004078360065,
          0.011280539417619535,
          0.01127059282485787,
          0.011260185568007883,
          0.011249303352241533,
          0.011237933044061179,
          0.011226062687231475,
          0.011213681515721196,
          0.011200779963591256,
          0.011187349671776153,
          0.011173383491714976,
          0.011158875485799682,
          0.01114382092461753,
          0.011128216280977165,
          0.01111205922071818,
          0.011095348590315477,
          0.011078084401301657,
          0.011060267811542422,
          0.011041901103411262,
          0.011022987658921787,
          0.011003531931887382,
          0.010983539417189922,
          0.010963016617249823,
          0.01094197100580145,
          0.010920410989087853,
          0.01089834586460055,
          0.010875785777498224,
          0.010852741674849321,
          0.010829225257851629,
          0.010805248932190594,
          0.010780825756705836,
          0.01075596939054287,
          0.010730694038972477,
          0.010705014398067423,
          0.010678945598429223,
          0.01065250314816391,
          0.010625702875306797,
          0.01059856086990073,
          0.010571093425932291,
          0.010543316983332133,
          0.010515248070244723,
          0.010486903245772079,
          0.010458299043393997,
          0.010429451915263909,
          0.010400378177576575,
          0.010371093957198324,
          0.010341615139745524,
          0.010311957319290577,
          0.010282135749867619,
          0.01025216529894205,
          0.010222060402999918,
          0.010191835025403299,
          0.01016150261664875,
          0.010131076077154416,
          0.010100567722691687,
          0.010069989252564724,
          0.0100393517206297,
          0.010008665509234078,
          0.009977940306142474,
          0.009947185084504175,
          0.00991640808590366,
          0.0098856168065231,
          0.009854817986432224,
          0.009824017602008715,
          0.009793220861478626,
          0.009762432203554196,
          0.009731655299133874,
          0.009700893056016667,
          0.009670147626571791,
          0.00963942041829273,
          0.009608712107153456,
          0.009578022653674979,
          0.009547351321599151,
          0.009516696699058403,
          0.00948605672212055,
          0.009455428700579797,
          0.009424809345857724,
          0.009394194800871287,
          0.009363580671718816,
          0.009332962061029388,
          0.009302333602816988,
          0.009271689498676659,
          0.009241023555157222,
          0.00921032922214228,
          0.00917959963207067,
          0.009148827639826237,
          0.009118005863126763,
          0.009087126723243135,
          0.009056182485881088,
          0.00902516530205975,
          0.008994067248824707,
          0.008962880369636099,
          0.008931596714276787,
          0.008900208378130102,
          0.008868707540681921,
          0.008837086503107282,
          0.00880533772480844,
          0.008773453858776982,
          0.00874142778566033,
          0.008709252646419828,
          0.00867692187347516,
          0.008644429220237998,
          0.008611768788945293,
          0.008578935056711418,
          0.008545922899726197,
          0.008512727615534753,
          0.008479344943343087,
          0.008445771082302576,
          0.008412002707734024,
          0.008378036985261626,
          0.00834387158283424,
          0.00830950468062093,
          0.008274934978774696,
          0.008240161703067206,
          0.008205184608404385,
          0.008170003980240812,
          0.008134620633917716,
          0.008099035911956952,
          0.008063251679349445,
          0.00802727031688366,
          0.00799109471256564,
          0.007954728251187834,
          0.007918174802109776,
          0.007881438705318839,
          0.007844524755843758,
          0.007807438186598932,
          0.007770184649740717,
          0.007732770196621737,
          0.007695201256431811,
          0.007657484613617926,
          0.007619627384177898,
          0.007581636990925094,
          0.007543521137823776,
          0.007505287783495659,
          0.007466945114000627,
          0.007428501514994661,
          0.007389965543369414,
          0.007351345898477825,
          0.0073126513930503925,
          0.0072738909239065995,
          0.0072350734425649585,
          0.007196207925854927,
          0.00715730334663216,
          0.007118368644697771,
          0.007079412698019856,
          0.007040444294354229,
          0.007001472103358665,
          0.006962504649292623,
          0.006923550284391766,
          0.006884617163003451,
          0.006845713216566541,
          0.006806846129515164,
          0.006768023316182741,
          0.006729251898778809,
          0.0066905386865071985,
          0.0066518901558900575,
          0.006613312432358024,
          0.006574811273162562,
          0.006536392051661567,
          0.006498059743025618,
          0.006459818911406378,
          0.006421673698604922,
          0.0063836278142722,
          0.006345684527669187,
          0.006307846661009435,
          0.006270116584401308,
          0.006232496212402607,
          0.006194987002194901,
          0.0061575899533802304,
          0.006120305609397271,
          0.006083134060549877,
          0.006046074948635156,
          0.0060091274731540745,
          0.005972290399082311,
          0.005935562066174797,
          0.005898940399772538,
          0.005862422923075773,
          0.0058260067708437654,
          0.005789688704476367,
          0.0057534651284294035,
          0.0057173321079115455,
          0.005681285387806558,
          0.005645320412761662,
          0.0056094323483791165,
          0.005573616103444943,
          0.0055378663531262294,
          0.005502177563064942,
          0.005466544014294603,
          0.005430959828903062,
          0.00539541899636305,
          0.005359915400450331,
          0.005324442846667308,
          0.0052889950900889765,
          0.0052535658635469275,
          0.005218148906065847,
          0.00518273799146678,
          0.005147326957050819,
          0.0051119097322763814,
          0.005076480367343757,
          0.005041033061600575,
          0.005005562191682304,
          0.004970062339302802,
          0.004934528318610544,
          0.0048989552030275834,
          0.004863338351489317,
          0.0048276734340050005,
          0.004791956456460277,
          0.004756183784585238,
          0.004720352167013308,
          0.004684458757358781,
          0.0046485011352430244,
          0.004612477326202061,
          0.004576385820411011,
          0.0045402255901636,
          0.004503996106048145,
          0.0044676973517645486,
          0.00443132983752993,
          0.0043948946120242844,
          0.004358393272830744,
          0.004321827975328881,
          0.004285201440003121,
          0.004248516958132223,
          0.004211778395829702,
          0.004174990196409061,
          0.004138157381051786,
          0.004101285547760391,
          0.004064380868582698,
          0.0040274500850982,
          0.003990500502161528,
          0.003953539979902305,
          0.003916576923985507,
          0.0038796202741404784,
          0.0038426794909716894,
          0.0038057645410683586,
          0.0037688858804351853,
          0.003732054436270469,
          0.0036952815871227392,
          0.0036585791414615013,
          0.0036219593147021334,
          0.0035854347047296784,
          0.0035490182659702954,
          0.0035127232820641795,
          0.0034765633371975388,
          0.0034405522861557626,
          0.0034047042231641366,
          0.0033690334495864067,
          0.0033335544405557697,
          0.003298281810616459,
          0.003263230278458077,
          0.0032284146308283624,
          0.003193849685713562,
          0.0031595502548789293,
          0.003125531105864879,
          0.003091806923537424,
          0.003058392271294046,
          0.0030253015520288386,
          0.002992548968962857,
          0.0029601484864477195,
          0.0029281137908523168,
          0.0028964582516437178,
          0.002865194882774773,
          0.0028343363044917406,
          0.002803894705675808,
          0.002773881806832553,
          0.002744308823843512,
          0.002715186432593325,
          0.0026865247345853713,
          0.0026583332236575223,
          0.0026306207539081926,
          0.002603395508941007,
          0.00257666497253405,
          0.0025504359008371833,
          0.0025247142961977186,
          0.0024995053827115165,
          0.002474813583592709,
          0.002450642500451111,
          0.0024269948945618747,
          0.002403872670207097,
          0.0023812768601637942,
          0.00235920761340716,
          0.0023376641850919983,
          0.002316644928869082,
          0.0022961472915866516,
          0.002276167810420344,
          0.0022567021124678646,
          0.002237744916837309,
          0.0022192900392504237,
          0.0022013303991744457,
          0.002183858029488079,
          0.002166864088679147,
          0.0021503388755631423,
          0.0021342718465036897,
          0.0021186516351073977,
          0.0021034660743573155,
          0.0020887022211406427,
          0.0020743463831180524,
          0.0020603841478735695,
          0.0020468004142758602,
          0.0020335794259735145,
          0.0020207048069391586,
          0.0020081595989694277,
          0.0019959263010403535,
          0.0019839869104105855,
          0.001972322965357887,
          0.0019609155894278548,
          0.0019497455370676548,
          0.001938793240511706,
          0.0019280388577809595,
          0.0019174623216525633,
          0.0019070433894522818,
          0.0018967616935181312,
          0.001886596792180431,
          0.0018765282211006297,
          0.0018665355448090671,
          0.0018565984082802404,
          0.0018466965883831197,
          0.0018368100450436593,
          0.0018269189719568773,
          0.001817003846686807,
          0.0018070454799939527,
          0.0017970250642322502,
          0.001786924220660036,
          0.0017767250455130582,
          0.0017664101546915458,
          0.0017559627269177972,
          0.001745366545226124,
          0.0017346060366525342,
          0.001723666309997907,
          0.0017125331915451621,
          0.001701193258618244,
          0.0016896338708784658,
          0.0016778431992618813,
          0.0016658102524700056,
          0.0016535249009350767,
          0.0016409778981902603,
          0.0016281608995847875,
          0.0016150664782937545,
          0.001601688138582196,
          0.0015880203262932289,
          0.0015740584365402299,
          0.0015597988185932629,
          0.0015452387779602542,
          0.0015303765756736636,
          0.0015152114248035001
         ],
         "yaxis": "y"
        }
       ],
       "layout": {
        "barmode": "overlay",
        "hovermode": "closest",
        "legend": {
         "traceorder": "reversed"
        },
        "plot_bgcolor": "#F5F5F8",
        "template": {
         "data": {
          "bar": [
           {
            "error_x": {
             "color": "#2a3f5f"
            },
            "error_y": {
             "color": "#2a3f5f"
            },
            "marker": {
             "line": {
              "color": "#E5ECF6",
              "width": 0.5
             },
             "pattern": {
              "fillmode": "overlay",
              "size": 10,
              "solidity": 0.2
             }
            },
            "type": "bar"
           }
          ],
          "barpolar": [
           {
            "marker": {
             "line": {
              "color": "#E5ECF6",
              "width": 0.5
             },
             "pattern": {
              "fillmode": "overlay",
              "size": 10,
              "solidity": 0.2
             }
            },
            "type": "barpolar"
           }
          ],
          "carpet": [
           {
            "aaxis": {
             "endlinecolor": "#2a3f5f",
             "gridcolor": "white",
             "linecolor": "white",
             "minorgridcolor": "white",
             "startlinecolor": "#2a3f5f"
            },
            "baxis": {
             "endlinecolor": "#2a3f5f",
             "gridcolor": "white",
             "linecolor": "white",
             "minorgridcolor": "white",
             "startlinecolor": "#2a3f5f"
            },
            "type": "carpet"
           }
          ],
          "choropleth": [
           {
            "colorbar": {
             "outlinewidth": 0,
             "ticks": ""
            },
            "type": "choropleth"
           }
          ],
          "contour": [
           {
            "colorbar": {
             "outlinewidth": 0,
             "ticks": ""
            },
            "colorscale": [
             [
              0,
              "#0d0887"
             ],
             [
              0.1111111111111111,
              "#46039f"
             ],
             [
              0.2222222222222222,
              "#7201a8"
             ],
             [
              0.3333333333333333,
              "#9c179e"
             ],
             [
              0.4444444444444444,
              "#bd3786"
             ],
             [
              0.5555555555555556,
              "#d8576b"
             ],
             [
              0.6666666666666666,
              "#ed7953"
             ],
             [
              0.7777777777777778,
              "#fb9f3a"
             ],
             [
              0.8888888888888888,
              "#fdca26"
             ],
             [
              1,
              "#f0f921"
             ]
            ],
            "type": "contour"
           }
          ],
          "contourcarpet": [
           {
            "colorbar": {
             "outlinewidth": 0,
             "ticks": ""
            },
            "type": "contourcarpet"
           }
          ],
          "heatmap": [
           {
            "colorbar": {
             "outlinewidth": 0,
             "ticks": ""
            },
            "colorscale": [
             [
              0,
              "#0d0887"
             ],
             [
              0.1111111111111111,
              "#46039f"
             ],
             [
              0.2222222222222222,
              "#7201a8"
             ],
             [
              0.3333333333333333,
              "#9c179e"
             ],
             [
              0.4444444444444444,
              "#bd3786"
             ],
             [
              0.5555555555555556,
              "#d8576b"
             ],
             [
              0.6666666666666666,
              "#ed7953"
             ],
             [
              0.7777777777777778,
              "#fb9f3a"
             ],
             [
              0.8888888888888888,
              "#fdca26"
             ],
             [
              1,
              "#f0f921"
             ]
            ],
            "type": "heatmap"
           }
          ],
          "heatmapgl": [
           {
            "colorbar": {
             "outlinewidth": 0,
             "ticks": ""
            },
            "colorscale": [
             [
              0,
              "#0d0887"
             ],
             [
              0.1111111111111111,
              "#46039f"
             ],
             [
              0.2222222222222222,
              "#7201a8"
             ],
             [
              0.3333333333333333,
              "#9c179e"
             ],
             [
              0.4444444444444444,
              "#bd3786"
             ],
             [
              0.5555555555555556,
              "#d8576b"
             ],
             [
              0.6666666666666666,
              "#ed7953"
             ],
             [
              0.7777777777777778,
              "#fb9f3a"
             ],
             [
              0.8888888888888888,
              "#fdca26"
             ],
             [
              1,
              "#f0f921"
             ]
            ],
            "type": "heatmapgl"
           }
          ],
          "histogram": [
           {
            "marker": {
             "pattern": {
              "fillmode": "overlay",
              "size": 10,
              "solidity": 0.2
             }
            },
            "type": "histogram"
           }
          ],
          "histogram2d": [
           {
            "colorbar": {
             "outlinewidth": 0,
             "ticks": ""
            },
            "colorscale": [
             [
              0,
              "#0d0887"
             ],
             [
              0.1111111111111111,
              "#46039f"
             ],
             [
              0.2222222222222222,
              "#7201a8"
             ],
             [
              0.3333333333333333,
              "#9c179e"
             ],
             [
              0.4444444444444444,
              "#bd3786"
             ],
             [
              0.5555555555555556,
              "#d8576b"
             ],
             [
              0.6666666666666666,
              "#ed7953"
             ],
             [
              0.7777777777777778,
              "#fb9f3a"
             ],
             [
              0.8888888888888888,
              "#fdca26"
             ],
             [
              1,
              "#f0f921"
             ]
            ],
            "type": "histogram2d"
           }
          ],
          "histogram2dcontour": [
           {
            "colorbar": {
             "outlinewidth": 0,
             "ticks": ""
            },
            "colorscale": [
             [
              0,
              "#0d0887"
             ],
             [
              0.1111111111111111,
              "#46039f"
             ],
             [
              0.2222222222222222,
              "#7201a8"
             ],
             [
              0.3333333333333333,
              "#9c179e"
             ],
             [
              0.4444444444444444,
              "#bd3786"
             ],
             [
              0.5555555555555556,
              "#d8576b"
             ],
             [
              0.6666666666666666,
              "#ed7953"
             ],
             [
              0.7777777777777778,
              "#fb9f3a"
             ],
             [
              0.8888888888888888,
              "#fdca26"
             ],
             [
              1,
              "#f0f921"
             ]
            ],
            "type": "histogram2dcontour"
           }
          ],
          "mesh3d": [
           {
            "colorbar": {
             "outlinewidth": 0,
             "ticks": ""
            },
            "type": "mesh3d"
           }
          ],
          "parcoords": [
           {
            "line": {
             "colorbar": {
              "outlinewidth": 0,
              "ticks": ""
             }
            },
            "type": "parcoords"
           }
          ],
          "pie": [
           {
            "automargin": true,
            "type": "pie"
           }
          ],
          "scatter": [
           {
            "fillpattern": {
             "fillmode": "overlay",
             "size": 10,
             "solidity": 0.2
            },
            "type": "scatter"
           }
          ],
          "scatter3d": [
           {
            "line": {
             "colorbar": {
              "outlinewidth": 0,
              "ticks": ""
             }
            },
            "marker": {
             "colorbar": {
              "outlinewidth": 0,
              "ticks": ""
             }
            },
            "type": "scatter3d"
           }
          ],
          "scattercarpet": [
           {
            "marker": {
             "colorbar": {
              "outlinewidth": 0,
              "ticks": ""
             }
            },
            "type": "scattercarpet"
           }
          ],
          "scattergeo": [
           {
            "marker": {
             "colorbar": {
              "outlinewidth": 0,
              "ticks": ""
             }
            },
            "type": "scattergeo"
           }
          ],
          "scattergl": [
           {
            "marker": {
             "colorbar": {
              "outlinewidth": 0,
              "ticks": ""
             }
            },
            "type": "scattergl"
           }
          ],
          "scattermapbox": [
           {
            "marker": {
             "colorbar": {
              "outlinewidth": 0,
              "ticks": ""
             }
            },
            "type": "scattermapbox"
           }
          ],
          "scatterpolar": [
           {
            "marker": {
             "colorbar": {
              "outlinewidth": 0,
              "ticks": ""
             }
            },
            "type": "scatterpolar"
           }
          ],
          "scatterpolargl": [
           {
            "marker": {
             "colorbar": {
              "outlinewidth": 0,
              "ticks": ""
             }
            },
            "type": "scatterpolargl"
           }
          ],
          "scatterternary": [
           {
            "marker": {
             "colorbar": {
              "outlinewidth": 0,
              "ticks": ""
             }
            },
            "type": "scatterternary"
           }
          ],
          "surface": [
           {
            "colorbar": {
             "outlinewidth": 0,
             "ticks": ""
            },
            "colorscale": [
             [
              0,
              "#0d0887"
             ],
             [
              0.1111111111111111,
              "#46039f"
             ],
             [
              0.2222222222222222,
              "#7201a8"
             ],
             [
              0.3333333333333333,
              "#9c179e"
             ],
             [
              0.4444444444444444,
              "#bd3786"
             ],
             [
              0.5555555555555556,
              "#d8576b"
             ],
             [
              0.6666666666666666,
              "#ed7953"
             ],
             [
              0.7777777777777778,
              "#fb9f3a"
             ],
             [
              0.8888888888888888,
              "#fdca26"
             ],
             [
              1,
              "#f0f921"
             ]
            ],
            "type": "surface"
           }
          ],
          "table": [
           {
            "cells": {
             "fill": {
              "color": "#EBF0F8"
             },
             "line": {
              "color": "white"
             }
            },
            "header": {
             "fill": {
              "color": "#C8D4E3"
             },
             "line": {
              "color": "white"
             }
            },
            "type": "table"
           }
          ]
         },
         "layout": {
          "annotationdefaults": {
           "arrowcolor": "#2a3f5f",
           "arrowhead": 0,
           "arrowwidth": 1
          },
          "autotypenumbers": "strict",
          "coloraxis": {
           "colorbar": {
            "outlinewidth": 0,
            "ticks": ""
           }
          },
          "colorscale": {
           "diverging": [
            [
             0,
             "#8e0152"
            ],
            [
             0.1,
             "#c51b7d"
            ],
            [
             0.2,
             "#de77ae"
            ],
            [
             0.3,
             "#f1b6da"
            ],
            [
             0.4,
             "#fde0ef"
            ],
            [
             0.5,
             "#f7f7f7"
            ],
            [
             0.6,
             "#e6f5d0"
            ],
            [
             0.7,
             "#b8e186"
            ],
            [
             0.8,
             "#7fbc41"
            ],
            [
             0.9,
             "#4d9221"
            ],
            [
             1,
             "#276419"
            ]
           ],
           "sequential": [
            [
             0,
             "#0d0887"
            ],
            [
             0.1111111111111111,
             "#46039f"
            ],
            [
             0.2222222222222222,
             "#7201a8"
            ],
            [
             0.3333333333333333,
             "#9c179e"
            ],
            [
             0.4444444444444444,
             "#bd3786"
            ],
            [
             0.5555555555555556,
             "#d8576b"
            ],
            [
             0.6666666666666666,
             "#ed7953"
            ],
            [
             0.7777777777777778,
             "#fb9f3a"
            ],
            [
             0.8888888888888888,
             "#fdca26"
            ],
            [
             1,
             "#f0f921"
            ]
           ],
           "sequentialminus": [
            [
             0,
             "#0d0887"
            ],
            [
             0.1111111111111111,
             "#46039f"
            ],
            [
             0.2222222222222222,
             "#7201a8"
            ],
            [
             0.3333333333333333,
             "#9c179e"
            ],
            [
             0.4444444444444444,
             "#bd3786"
            ],
            [
             0.5555555555555556,
             "#d8576b"
            ],
            [
             0.6666666666666666,
             "#ed7953"
            ],
            [
             0.7777777777777778,
             "#fb9f3a"
            ],
            [
             0.8888888888888888,
             "#fdca26"
            ],
            [
             1,
             "#f0f921"
            ]
           ]
          },
          "colorway": [
           "#636efa",
           "#EF553B",
           "#00cc96",
           "#ab63fa",
           "#FFA15A",
           "#19d3f3",
           "#FF6692",
           "#B6E880",
           "#FF97FF",
           "#FECB52"
          ],
          "font": {
           "color": "#2a3f5f"
          },
          "geo": {
           "bgcolor": "white",
           "lakecolor": "white",
           "landcolor": "#E5ECF6",
           "showlakes": true,
           "showland": true,
           "subunitcolor": "white"
          },
          "hoverlabel": {
           "align": "left"
          },
          "hovermode": "closest",
          "mapbox": {
           "style": "light"
          },
          "paper_bgcolor": "white",
          "plot_bgcolor": "#E5ECF6",
          "polar": {
           "angularaxis": {
            "gridcolor": "white",
            "linecolor": "white",
            "ticks": ""
           },
           "bgcolor": "#E5ECF6",
           "radialaxis": {
            "gridcolor": "white",
            "linecolor": "white",
            "ticks": ""
           }
          },
          "scene": {
           "xaxis": {
            "backgroundcolor": "#E5ECF6",
            "gridcolor": "white",
            "gridwidth": 2,
            "linecolor": "white",
            "showbackground": true,
            "ticks": "",
            "zerolinecolor": "white"
           },
           "yaxis": {
            "backgroundcolor": "#E5ECF6",
            "gridcolor": "white",
            "gridwidth": 2,
            "linecolor": "white",
            "showbackground": true,
            "ticks": "",
            "zerolinecolor": "white"
           },
           "zaxis": {
            "backgroundcolor": "#E5ECF6",
            "gridcolor": "white",
            "gridwidth": 2,
            "linecolor": "white",
            "showbackground": true,
            "ticks": "",
            "zerolinecolor": "white"
           }
          },
          "shapedefaults": {
           "line": {
            "color": "#2a3f5f"
           }
          },
          "ternary": {
           "aaxis": {
            "gridcolor": "white",
            "linecolor": "white",
            "ticks": ""
           },
           "baxis": {
            "gridcolor": "white",
            "linecolor": "white",
            "ticks": ""
           },
           "bgcolor": "#E5ECF6",
           "caxis": {
            "gridcolor": "white",
            "linecolor": "white",
            "ticks": ""
           }
          },
          "title": {
           "x": 0.05
          },
          "xaxis": {
           "automargin": true,
           "gridcolor": "white",
           "linecolor": "white",
           "ticks": "",
           "title": {
            "standoff": 15
           },
           "zerolinecolor": "white",
           "zerolinewidth": 2
          },
          "yaxis": {
           "automargin": true,
           "gridcolor": "white",
           "linecolor": "white",
           "ticks": "",
           "title": {
            "standoff": 15
           },
           "zerolinecolor": "white",
           "zerolinewidth": 2
          }
         }
        },
        "title": {
         "text": "Real vs. Synthetic Data for column trestbps"
        },
        "xaxis": {
         "anchor": "y2",
         "domain": [
          0,
          1
         ],
         "title": {
          "text": "Value"
         },
         "zeroline": false
        },
        "yaxis": {
         "anchor": "free",
         "domain": [
          0,
          1
         ],
         "position": 0,
         "title": {
          "text": "Frequency"
         }
        }
       }
      }
     },
     "metadata": {},
     "output_type": "display_data"
    },
    {
     "data": {
      "application/vnd.plotly.v1+json": {
       "config": {
        "plotlyServerURL": "https://plot.ly"
       },
       "data": [
        {
         "fill": "tozeroy",
         "hovertemplate": "<b>Real</b><br>Value: %{x}<br>Frequency: %{y}<extra></extra>",
         "legendgroup": "Real",
         "marker": {
          "color": "#000036"
         },
         "mode": "lines",
         "name": "Real",
         "showlegend": true,
         "type": "scatter",
         "x": [
          126,
          126.876,
          127.752,
          128.628,
          129.504,
          130.38,
          131.256,
          132.132,
          133.008,
          133.88400000000001,
          134.76,
          135.636,
          136.512,
          137.388,
          138.264,
          139.14,
          140.016,
          140.892,
          141.768,
          142.644,
          143.52,
          144.39600000000002,
          145.272,
          146.148,
          147.024,
          147.9,
          148.776,
          149.652,
          150.528,
          151.404,
          152.28,
          153.156,
          154.032,
          154.90800000000002,
          155.784,
          156.66,
          157.536,
          158.412,
          159.288,
          160.164,
          161.04,
          161.916,
          162.792,
          163.668,
          164.54399999999998,
          165.42000000000002,
          166.296,
          167.172,
          168.048,
          168.924,
          169.8,
          170.676,
          171.552,
          172.428,
          173.304,
          174.18,
          175.05599999999998,
          175.93200000000002,
          176.808,
          177.684,
          178.56,
          179.436,
          180.312,
          181.188,
          182.064,
          182.94,
          183.816,
          184.692,
          185.56799999999998,
          186.44400000000002,
          187.32,
          188.196,
          189.072,
          189.948,
          190.824,
          191.7,
          192.576,
          193.452,
          194.328,
          195.204,
          196.07999999999998,
          196.95600000000002,
          197.832,
          198.708,
          199.584,
          200.45999999999998,
          201.336,
          202.212,
          203.088,
          203.964,
          204.84,
          205.716,
          206.59199999999998,
          207.46800000000002,
          208.344,
          209.22,
          210.096,
          210.97199999999998,
          211.848,
          212.724,
          213.6,
          214.476,
          215.352,
          216.228,
          217.10399999999998,
          217.98000000000002,
          218.856,
          219.732,
          220.608,
          221.48399999999998,
          222.36,
          223.236,
          224.112,
          224.988,
          225.864,
          226.74,
          227.61599999999999,
          228.49200000000002,
          229.368,
          230.244,
          231.12,
          231.99599999999998,
          232.872,
          233.748,
          234.624,
          235.5,
          236.376,
          237.252,
          238.128,
          239.00400000000002,
          239.88,
          240.756,
          241.632,
          242.50799999999998,
          243.38400000000001,
          244.26,
          245.136,
          246.012,
          246.888,
          247.764,
          248.64,
          249.51600000000002,
          250.392,
          251.268,
          252.144,
          253.01999999999998,
          253.89600000000002,
          254.772,
          255.648,
          256.524,
          257.4,
          258.276,
          259.152,
          260.028,
          260.904,
          261.78,
          262.656,
          263.53200000000004,
          264.408,
          265.284,
          266.15999999999997,
          267.036,
          267.91200000000003,
          268.788,
          269.664,
          270.53999999999996,
          271.416,
          272.29200000000003,
          273.168,
          274.044,
          274.91999999999996,
          275.796,
          276.672,
          277.548,
          278.424,
          279.3,
          280.176,
          281.052,
          281.928,
          282.804,
          283.68,
          284.55600000000004,
          285.432,
          286.308,
          287.18399999999997,
          288.06,
          288.93600000000004,
          289.812,
          290.688,
          291.56399999999996,
          292.44,
          293.31600000000003,
          294.192,
          295.068,
          295.94399999999996,
          296.82,
          297.696,
          298.572,
          299.448,
          300.324,
          301.2,
          302.076,
          302.952,
          303.828,
          304.704,
          305.58000000000004,
          306.456,
          307.332,
          308.20799999999997,
          309.084,
          309.96000000000004,
          310.836,
          311.712,
          312.58799999999997,
          313.464,
          314.34000000000003,
          315.216,
          316.092,
          316.96799999999996,
          317.844,
          318.72,
          319.596,
          320.472,
          321.348,
          322.224,
          323.1,
          323.976,
          324.852,
          325.728,
          326.60400000000004,
          327.48,
          328.356,
          329.23199999999997,
          330.108,
          330.98400000000004,
          331.86,
          332.736,
          333.61199999999997,
          334.488,
          335.36400000000003,
          336.24,
          337.116,
          337.99199999999996,
          338.868,
          339.744,
          340.62,
          341.496,
          342.372,
          343.248,
          344.124,
          345,
          345.876,
          346.752,
          347.628,
          348.504,
          349.38,
          350.256,
          351.132,
          352.00800000000004,
          352.884,
          353.76,
          354.63599999999997,
          355.512,
          356.38800000000003,
          357.264,
          358.14,
          359.01599999999996,
          359.892,
          360.76800000000003,
          361.644,
          362.52,
          363.39599999999996,
          364.272,
          365.148,
          366.024,
          366.9,
          367.776,
          368.652,
          369.528,
          370.404,
          371.28,
          372.156,
          373.03200000000004,
          373.908,
          374.784,
          375.65999999999997,
          376.536,
          377.41200000000003,
          378.288,
          379.164,
          380.03999999999996,
          380.916,
          381.79200000000003,
          382.668,
          383.544,
          384.42,
          385.296,
          386.172,
          387.048,
          387.924,
          388.8,
          389.676,
          390.552,
          391.428,
          392.304,
          393.18,
          394.056,
          394.932,
          395.808,
          396.684,
          397.56,
          398.436,
          399.312,
          400.188,
          401.064,
          401.94,
          402.816,
          403.692,
          404.568,
          405.444,
          406.32,
          407.196,
          408.072,
          408.948,
          409.824,
          410.7,
          411.576,
          412.452,
          413.328,
          414.204,
          415.08,
          415.956,
          416.832,
          417.708,
          418.584,
          419.46,
          420.336,
          421.212,
          422.088,
          422.964,
          423.84,
          424.716,
          425.592,
          426.468,
          427.344,
          428.22,
          429.096,
          429.972,
          430.848,
          431.724,
          432.6,
          433.476,
          434.352,
          435.228,
          436.104,
          436.98,
          437.856,
          438.732,
          439.608,
          440.484,
          441.36,
          442.236,
          443.112,
          443.988,
          444.864,
          445.74,
          446.616,
          447.492,
          448.368,
          449.244,
          450.12,
          450.996,
          451.872,
          452.748,
          453.624,
          454.5,
          455.376,
          456.252,
          457.128,
          458.004,
          458.88,
          459.756,
          460.632,
          461.508,
          462.384,
          463.26,
          464.136,
          465.012,
          465.888,
          466.764,
          467.64,
          468.516,
          469.392,
          470.268,
          471.144,
          472.02,
          472.896,
          473.772,
          474.648,
          475.524,
          476.4,
          477.276,
          478.152,
          479.028,
          479.904,
          480.78,
          481.656,
          482.532,
          483.408,
          484.284,
          485.16,
          486.036,
          486.912,
          487.788,
          488.664,
          489.54,
          490.416,
          491.292,
          492.168,
          493.044,
          493.92,
          494.796,
          495.672,
          496.548,
          497.424,
          498.3,
          499.176,
          500.052,
          500.928,
          501.804,
          502.68,
          503.556,
          504.432,
          505.308,
          506.184,
          507.06,
          507.936,
          508.812,
          509.688,
          510.564,
          511.44,
          512.316,
          513.192,
          514.068,
          514.944,
          515.8199999999999,
          516.696,
          517.572,
          518.448,
          519.3240000000001,
          520.2,
          521.076,
          521.952,
          522.828,
          523.704,
          524.5799999999999,
          525.456,
          526.332,
          527.2080000000001,
          528.0840000000001,
          528.96,
          529.836,
          530.712,
          531.588,
          532.4639999999999,
          533.3399999999999,
          534.216,
          535.092,
          535.9680000000001,
          536.844,
          537.72,
          538.596,
          539.472,
          540.348,
          541.2239999999999,
          542.1,
          542.976,
          543.852,
          544.7280000000001,
          545.604,
          546.48,
          547.356,
          548.232,
          549.108,
          549.9839999999999,
          550.86,
          551.736,
          552.6120000000001,
          553.488,
          554.364,
          555.24,
          556.116,
          556.992,
          557.8679999999999,
          558.744,
          559.62,
          560.496,
          561.3720000000001,
          562.248,
          563.124
         ],
         "xaxis": "x",
         "y": [
          0.00032905891937334576,
          0.0003443451692154721,
          0.00036007237662810166,
          0.0003762640752511833,
          0.00039294713061356997,
          0.0004101517837150464,
          0.00042791165364257247,
          0.00044626369784396384,
          0.00046524812930659194,
          0.00048490829054081904,
          0.0005052904849390075,
          0.0005264437667620267,
          0.0005484196916870057,
          0.0005712720305231835,
          0.0005950564493573676,
          0.0006198301600167311,
          0.0006456515453240621,
          0.000672579764158346,
          0.0007006743418106183,
          0.0007299947515298255,
          0.0007605999934742347,
          0.0007925481775090466,
          0.0008258961164085175,
          0.0008606989360201095,
          0.0008970097088186765,
          0.0009348791170117447,
          0.0009743551509454881,
          0.0010154828480009054,
          0.0010583040764593063,
          0.0011028573679581423,
          0.0011491778011586931,
          0.0011972969381174345,
          0.0012472428136089057,
          0.001299039976311016,
          0.0013527095793600306,
          0.0014082695163434302,
          0.001465734597360295,
          0.0015251167583804775,
          0.001586425295818571,
          0.0016496671170511054,
          0.001714846996591269,
          0.0017819678268388964,
          0.0018510308517872291,
          0.001922035871829702,
          0.001994981407902208,
          0.0020698648136439997,
          0.0021466823250791767,
          0.002225429038516307,
          0.00230609880893025,
          0.002388684063009467,
          0.0024731755232934053,
          0.002559561842344287,
          0.0026478291486407065,
          0.0027379605087795114,
          0.002829935313551652,
          0.0029237285984314923,
          0.003019310311898459,
          0.0031166445477001704,
          0.003215688759574859,
          0.0033163929789867,
          0.003418699058005995,
          0.003522539960512007,
          0.0036278391253458074,
          0.0037345099248463054,
          0.00384245524133301,
          0.00395156718254331,
          0.004061726954798824,
          0.004172804909795039,
          0.0042846607774330615,
          0.004397144093114984,
          0.004510094823495036,
          0.004623344189928945,
          0.004736715683914205,
          0.004850026263800463,
          0.004963087717111818,
          0.005075708168105789,
          0.005187693705840037,
          0.00529885010416191,
          0.005408984601805335,
          0.005517907708282301,
          0.0056254349995860445,
          0.005731388866948051,
          0.005835600182055662,
          0.005937909843260618,
          0.006038170169378793,
          0.0061362461106611406,
          0.006232016250338801,
          0.006325373574719251,
          0.0064162259950208515,
          0.00650449660984362,
          0.006590123703233509,
          0.006673060479541187,
          0.006753274542534332,
          0.00683074713232165,
          0.006905472139418028,
          0.006977454920563742,
          0.007046710945557829,
          0.007113264308249718,
          0.007177146137845274,
          0.007238392948742936,
          0.007297044968168207,
          0.007353144480895841,
          0.007406734229343785,
          0.007457855905326316,
          0.007506548766829183,
          0.007552848409406244,
          0.007596785717308944,
          0.007638386014378789,
          0.00767766842920844,
          0.0077146454832677566,
          0.007749322904762812,
          0.007781699665115918,
          0.007811768229283999,
          0.007839515005826804,
          0.007864920977835076,
          0.00788796249165484,
          0.007908612176901805,
          0.007926839968627324,
          0.007942614200730762,
          0.007955902738839473,
          0.007966674120899962,
          0.007974898674618236,
          0.00798054958260545,
          0.007983603868556021,
          0.007984043280919905,
          0.007981855054220163,
          0.007977032532293012,
          0.007969575642160222,
          0.0079594912118483,
          0.007946793130112366,
          0.00793150235056907,
          0.007913646747070189,
          0.007893260831138463,
          0.00787038534583677,
          0.007845066753466282,
          0.0078173566369144,
          0.007787311036251919,
          0.007754989743277049,
          0.0077204555771102435,
          0.007683773663667103,
          0.007645010740901624,
          0.007604234510164035,
          0.007561513051915064,
          0.007516914321453401,
          0.007470505737331592,
          0.007422353871846958,
          0.0073725242494987325,
          0.007321081255699843,
          0.007268088154424497,
          0.00721360720995819,
          0.0071576999045912275,
          0.007100427241045723,
          0.007041850115728949,
          0.006982029746629216,
          0.006921028137870666,
          0.006858908561660781,
          0.006795736037630384,
          0.006731577789390629,
          0.00666650365851819,
          0.006600586457112627,
          0.006533902241521749,
          0.006466530491762144,
          0.006398554183521502,
          0.006330059742356852,
          0.006261136872728308,
          0.006191878257756309,
          0.006122379128981439,
          0.006052736708855443,
          0.005983049532117392,
          0.00591341665552489,
          0.005843936768538603,
          0.005774707220420813,
          0.005705822981738015,
          0.005637375560389877,
          0.0055694518939712325,
          0.0055021332414659134,
          0.005435494097941903,
          0.005369601156045009,
          0.005304512337668704,
          0.005240275918213411,
          0.005176929764361452,
          0.005114500704310377,
          0.005053004046973132,
          0.004992443263819079,
          0.004932809843858452,
          0.004874083328834949,
          0.004816231532064863,
          0.004759210940627896,
          0.004702967296860901,
          0.004647436351417647,
          0.004592544776620318,
          0.004538211225525396,
          0.004484347519133139,
          0.004430859941558477,
          0.004377650620810148,
          0.004324618971146387,
          0.004271663171826653,
          0.004218681656485154,
          0.004165574587323707,
          0.00411224528885673,
          0.0040586016170208634,
          0.004004557241056305,
          0.003950032817630856,
          0.0038949570391560153,
          0.0038392675410702333,
          0.0037829116559646827,
          0.003725847005719492,
          0.0036680419262209167,
          0.0036094757226557543,
          0.00355013875674431,
          0.0034900323704971136,
          0.003429168654087879,
          0.003367570068158924,
          0.003305268933258957,
          0.0032423068011091087,
          0.0031787337239696785,
          0.0031146074395141613,
          0.0030499924893027624,
          0.002984959289188996,
          0.0029195831698076947,
          0.002853943404709924,
          0.002788122242768196,
          0.0027222039602211676,
          0.0026562739462135587,
          0.002590417833972951,
          0.0025247206879089414,
          0.0024592662549841895,
          0.0023941362867470942,
          0.0023294099364902,
          0.00226516323415394,
          0.0022014686398776372,
          0.002138394675543216,
          0.00207600563229054,
          0.0020143613508245535,
          0.0019535170703956556,
          0.0018935233416158697,
          0.001834425997771202,
          0.0017762661789902086,
          0.0017190804035135594,
          0.0016629006803548384,
          0.0016077546578232547,
          0.0015536658026647722,
          0.001500653604941008,
          0.0014487338041747875,
          0.001397918632721635,
          0.0013482170727516503,
          0.0012996351236263274,
          0.00125217607681151,
          0.0012058407957695558,
          0.0011606279985119604,
          0.0011165345406658012,
          0.0010735556970140885,
          0.0010316854395171242,
          0.0009909167098179686,
          0.0009512416841914613,
          0.0009126520288272868,
          0.0008751391432571572,
          0.0008386943896608861,
          0.0008033093057297078,
          0.0007689757987423851,
          0.000735686318531919,
          0.0007034340070981351,
          0.0006722128227606094,
          0.000642017636951824,
          0.0006128443020221977,
          0.0005846896887650425,
          0.0005575516927644955,
          0.0005314292091154218,
          0.000506322075550304,
          0.0004822309845221469,
          0.0004591573653203153,
          0.00043710323782385153,
          0.000416071040009037,
          0.00039606343181086337,
          0.0003770830783778521,
          0.0003591324161447915,
          0.0003422134054678822,
          0.0003263272738140148,
          0.000311474253664527,
          0.0002976533193812558,
          0.00028486192728815714,
          0.0002730957631476927,
          0.0002623485010616858,
          0.0002526115776079432,
          0.00024387398474482502,
          0.0002361220846854696,
          0.00022933944957202754,
          0.00022350672837884966,
          0.00021860154305301937,
          0.0002145984154714612,
          0.00021146872636589498,
          0.0002091807069488326,
          0.00020769946357307518,
          0.00020698703537957378,
          0.0002070024845383686,
          0.00020770201836714194,
          0.00020903914232271243,
          0.00021096484260200765,
          0.00021342779685884033,
          0.00021637461133828273,
          0.00021975008254786877,
          0.00022349748142013918,
          0.00022755885776984963,
          0.00023187536270739923,
          0.00023638758653410081,
          0.0002410359095119473,
          0.0002457608627687046,
          0.0002505034964678533,
          0.00025520575224265943,
          0.0002598108367665499,
          0.00026426359321117505,
          0.0002685108672335369,
          0.00027250186403988003,
          0.00027618849300284256,
          0.00027952569626656933,
          0.00028247175776890016,
          0.0002849885891473383,
          0.0002870419890823732,
          0.00028860187277346736,
          0.00028964246844364493,
          0.00029014247803099463,
          0.0002900851995503586,
          0.00028945860899515924,
          0.00028825540009463354,
          0.0002864729807407156,
          0.0002841134254443012,
          0.00028118338376371336,
          0.00027769394525820876,
          0.00027366046214428644,
          0.00026910233145929416,
          0.0002640427391515558,
          0.0002585083691049726,
          0.00025252908065490857,
          0.0002461375586479198,
          0.0002393689405283552,
          0.00023226042528930678,
          0.00022485086939484785,
          0.00021718037495813695,
          0.0002092898755411371,
          0.00020122072492443477,
          0.00019301429408010492,
          0.0001847115813699131,
          0.00017635284069040624,
          0.00016797723190328686,
          0.00015962249743334112,
          0.00015132466839814964,
          0.00014311780306655572,
          0.00013503375983956424,
          0.00012710200632226498,
          0.0001193494654223803,
          0.00011180039878421384,
          0.00010447632725922466,
          0.0000973959875385137,
          0.00009057532353915425,
          0.00008402751065503636,
          0.00007776301056144189,
          0.00007178965390698586,
          0.00006611274794070844,
          0.00006073520590832789,
          0.00005565769491001868,
          0.000050878798841290585,
          0.00004639519303533774,
          0.000042201827285243956,
          0.00003829211404186405,
          0.00003465811875141906,
          0.00003129074950843584,
          0.000028179943446766595,
          0.00002531484756593057,
          0.000022683991983894946,
          0.000020275453912710375,
          0.000018077010962781843,
          0.000016076282687997126,
          0.000014260859581361599,
          0.000012618419013720514,
          0.000011136827872115653,
          0.000009804231895657873,
          0.000008609131922753566,
          0.00000754044745227938,
          0.000006587568081790105,
          0.000005740393517859433,
          0.000004989362957613859,
          0.0000043254747174906455,
          0.00000374029703678901,
          0.0000032259710116628127,
          0.0000027752066220997735,
          0.000002381272802651412,
          0.0000020379824798236776,
          0.0000017396734577859536,
          0.0000014811859820155304,
          0.0000012578377502102242,
          0.0000010653970736436312,
          9.000548223079085e-7,
          7.583957156568616e-7,
          6.373694492661608e-7,
          5.342620777541038e-7,
          4.4666800709254045e-7,
          3.724628859740407e-7,
          3.0977762694778776e-7,
          2.5697373413105505e-7,
          2.126200657915607e-7,
          1.7547111714381928e-7,
          1.4444687132897238e-7,
          1.1861423464007132e-7,
          9.717004540084719e-8,
          7.942562421013805e-8,
          6.479281617239188e-8,
          5.277146285234616e-8,
          4.293823260056932e-8,
          3.4936732169040894e-8,
          2.846881974769724e-8,
          2.328703929216039e-8,
          1.9188097887482775e-8,
          1.600731153523728e-8,
          1.3613949821884383e-8,
          1.1907416114165388e-8,
          1.081420694989655e-8,
          1.0285601894471728e-8,
          1.0296043083166994e-8,
          1.084217175627888e-8,
          1.1942497124007546e-8,
          1.3637680688943042e-8,
          1.5991426531945543e-8,
          1.9091974861665873e-8,
          2.3054202168179415e-8,
          2.8022336432880114e-8,
          3.417329984951842e-8,
          4.17206942170535e-8,
          5.09194453779203e-8,
          6.207112259228307e-8,
          7.552994635240404e-8,
          9.170949364286647e-8,
          1.1109010283893744e-7,
          1.3422697111544083e-7,
          1.6175892524228528e-7,
          1.9441783183181313e-7,
          2.3303859538261567e-7,
          2.785696717963922e-7,
          3.320840014610052e-7,
          3.947902396120419e-7,
          4.680441327229869e-7,
          5.533598584603989e-7,
          6.524211137292349e-7,
          7.670917011137236e-7,
          8.9942532932166e-7,
          0.000001051674308940044,
          0.000001226296791925803,
          0.0000014259621729420234,
          0.0000016535542441826853,
          0.0000019121716740895983,
          0.000002205125365802925,
          0.000002535932244801794,
          0.000002908305028470505,
          0.0000033261375447135503,
          0.0000037934851935744647,
          0.0000043145401862614586,
          0.000004893601250987278,
          0.000005535037565248708,
          0.000006243246759890311,
          0.000007022606941409613,
          0.000007877422794861212,
          0.000008811865959328332,
          0.000009829910009574201,
          0.000010935260528984323,
          0.000012131280917461716,
          0.000013420914740247416,
          0.000014806605585873538,
          0.000016290215559368384,
          0.000017872943685813227,
          0.000019555245634548304,
          0.000021336756290758098,
          0.000023216216793941807,
          0.000025191407727081952,
          0.00002725909017185206,
          0.000029414956340040345,
          0.00003165359144641826,
          0.00003396844840122817,
          0.0000363518367700792,
          0.000038794927275176784,
          0.000041287772895592375,
          0.00004381934736810419,
          0.000046377601597745734,
          0.000048949538163559785,
          0.00005152130375648281,
          0.00005407829902004073,
          0.00005660530488899598,
          0.000059086624145241034,
          0.0000615062365436817,
          0.00006384796551335364,
          0.00006609565412032409,
          0.00006823334769844459,
          0.00007024548032042643,
          0.00007211706210279299,
          0.00007383386422052543,
          0.00007538259845568971,
          0.00007675108812236983,
          0.00007792842729930112,
          0.0000789051254612836,
          0.00007967323482829553,
          0.000080226458042885,
          0.00008056023413562891
         ],
         "yaxis": "y"
        },
        {
         "fill": "tozeroy",
         "hovertemplate": "<b>Synthetic</b><br>Value: %{x}<br>Frequency: %{y}<extra></extra>",
         "legendgroup": "Synthetic",
         "marker": {
          "color": "#01E0C9"
         },
         "mode": "lines",
         "name": "Synthetic",
         "showlegend": true,
         "type": "scatter",
         "x": [
          126,
          126.666,
          127.332,
          127.998,
          128.664,
          129.33,
          129.996,
          130.662,
          131.328,
          131.994,
          132.66,
          133.326,
          133.992,
          134.658,
          135.324,
          135.99,
          136.656,
          137.322,
          137.988,
          138.654,
          139.32,
          139.986,
          140.652,
          141.318,
          141.984,
          142.65,
          143.316,
          143.982,
          144.648,
          145.314,
          145.98,
          146.64600000000002,
          147.312,
          147.978,
          148.644,
          149.31,
          149.976,
          150.642,
          151.308,
          151.974,
          152.64,
          153.306,
          153.972,
          154.638,
          155.304,
          155.97,
          156.636,
          157.302,
          157.968,
          158.63400000000001,
          159.3,
          159.966,
          160.632,
          161.298,
          161.964,
          162.63,
          163.296,
          163.962,
          164.628,
          165.29399999999998,
          165.96,
          166.626,
          167.292,
          167.958,
          168.624,
          169.29,
          169.95600000000002,
          170.622,
          171.288,
          171.954,
          172.62,
          173.286,
          173.952,
          174.618,
          175.284,
          175.95,
          176.61599999999999,
          177.28199999999998,
          177.948,
          178.614,
          179.28,
          179.946,
          180.612,
          181.278,
          181.94400000000002,
          182.61,
          183.276,
          183.942,
          184.608,
          185.274,
          185.94,
          186.606,
          187.272,
          187.938,
          188.60399999999998,
          189.27,
          189.936,
          190.602,
          191.268,
          191.934,
          192.6,
          193.26600000000002,
          193.93200000000002,
          194.598,
          195.264,
          195.93,
          196.596,
          197.262,
          197.928,
          198.594,
          199.26,
          199.926,
          200.59199999999998,
          201.25799999999998,
          201.924,
          202.59,
          203.256,
          203.922,
          204.588,
          205.25400000000002,
          205.92000000000002,
          206.586,
          207.252,
          207.918,
          208.584,
          209.25,
          209.916,
          210.582,
          211.248,
          211.914,
          212.57999999999998,
          213.24599999999998,
          213.912,
          214.578,
          215.244,
          215.91,
          216.576,
          217.24200000000002,
          217.90800000000002,
          218.574,
          219.24,
          219.906,
          220.572,
          221.238,
          221.904,
          222.57,
          223.236,
          223.902,
          224.56799999999998,
          225.23399999999998,
          225.9,
          226.566,
          227.232,
          227.898,
          228.564,
          229.23000000000002,
          229.89600000000002,
          230.562,
          231.228,
          231.894,
          232.56,
          233.226,
          233.892,
          234.558,
          235.224,
          235.89,
          236.55599999999998,
          237.22199999999998,
          237.888,
          238.554,
          239.22,
          239.886,
          240.55200000000002,
          241.21800000000002,
          241.88400000000001,
          242.55,
          243.216,
          243.882,
          244.548,
          245.214,
          245.88,
          246.546,
          247.212,
          247.878,
          248.54399999999998,
          249.20999999999998,
          249.876,
          250.542,
          251.208,
          251.874,
          252.54000000000002,
          253.20600000000002,
          253.872,
          254.538,
          255.204,
          255.87,
          256.536,
          257.202,
          257.868,
          258.534,
          259.2,
          259.866,
          260.53200000000004,
          261.198,
          261.86400000000003,
          262.53,
          263.196,
          263.86199999999997,
          264.528,
          265.19399999999996,
          265.86,
          266.526,
          267.192,
          267.858,
          268.524,
          269.19,
          269.856,
          270.522,
          271.188,
          271.85400000000004,
          272.52,
          273.18600000000004,
          273.852,
          274.51800000000003,
          275.18399999999997,
          275.85,
          276.51599999999996,
          277.182,
          277.848,
          278.514,
          279.18,
          279.846,
          280.512,
          281.178,
          281.844,
          282.51,
          283.176,
          283.842,
          284.50800000000004,
          285.174,
          285.84000000000003,
          286.506,
          287.172,
          287.83799999999997,
          288.504,
          289.16999999999996,
          289.836,
          290.502,
          291.168,
          291.834,
          292.5,
          293.166,
          293.832,
          294.498,
          295.164,
          295.83000000000004,
          296.496,
          297.16200000000003,
          297.828,
          298.494,
          299.15999999999997,
          299.826,
          300.49199999999996,
          301.158,
          301.824,
          302.49,
          303.156,
          303.822,
          304.488,
          305.154,
          305.82,
          306.486,
          307.152,
          307.818,
          308.48400000000004,
          309.15,
          309.81600000000003,
          310.48199999999997,
          311.148,
          311.81399999999996,
          312.48,
          313.14599999999996,
          313.812,
          314.478,
          315.144,
          315.81,
          316.476,
          317.142,
          317.808,
          318.474,
          319.14,
          319.80600000000004,
          320.472,
          321.13800000000003,
          321.804,
          322.47,
          323.13599999999997,
          323.802,
          324.46799999999996,
          325.134,
          325.8,
          326.466,
          327.132,
          327.798,
          328.464,
          329.13,
          329.796,
          330.462,
          331.128,
          331.794,
          332.46000000000004,
          333.126,
          333.79200000000003,
          334.45799999999997,
          335.124,
          335.78999999999996,
          336.456,
          337.122,
          337.788,
          338.454,
          339.12,
          339.786,
          340.452,
          341.118,
          341.784,
          342.45,
          343.116,
          343.78200000000004,
          344.448,
          345.11400000000003,
          345.78,
          346.446,
          347.11199999999997,
          347.778,
          348.44399999999996,
          349.11,
          349.776,
          350.442,
          351.108,
          351.774,
          352.44,
          353.106,
          353.772,
          354.438,
          355.10400000000004,
          355.77,
          356.43600000000004,
          357.102,
          357.76800000000003,
          358.43399999999997,
          359.1,
          359.76599999999996,
          360.432,
          361.098,
          361.764,
          362.43,
          363.096,
          363.762,
          364.428,
          365.094,
          365.76,
          366.426,
          367.092,
          367.75800000000004,
          368.424,
          369.09000000000003,
          369.756,
          370.422,
          371.08799999999997,
          371.754,
          372.41999999999996,
          373.086,
          373.752,
          374.418,
          375.084,
          375.75,
          376.416,
          377.082,
          377.748,
          378.414,
          379.08000000000004,
          379.746,
          380.41200000000003,
          381.078,
          381.744,
          382.41,
          383.076,
          383.742,
          384.408,
          385.074,
          385.74,
          386.406,
          387.072,
          387.738,
          388.404,
          389.07,
          389.736,
          390.402,
          391.068,
          391.734,
          392.4,
          393.066,
          393.732,
          394.398,
          395.064,
          395.73,
          396.396,
          397.062,
          397.728,
          398.394,
          399.06,
          399.726,
          400.392,
          401.058,
          401.724,
          402.39,
          403.056,
          403.722,
          404.388,
          405.054,
          405.72,
          406.386,
          407.052,
          407.718,
          408.384,
          409.05,
          409.716,
          410.382,
          411.048,
          411.714,
          412.38,
          413.046,
          413.712,
          414.378,
          415.044,
          415.71,
          416.376,
          417.042,
          417.708,
          418.374,
          419.04,
          419.706,
          420.372,
          421.038,
          421.704,
          422.37,
          423.036,
          423.702,
          424.368,
          425.034,
          425.7,
          426.366,
          427.032,
          427.698,
          428.364,
          429.03,
          429.696,
          430.362,
          431.028,
          431.694,
          432.36,
          433.026,
          433.692,
          434.358,
          435.024,
          435.69,
          436.356,
          437.022,
          437.688,
          438.354,
          439.02,
          439.686,
          440.352,
          441.018,
          441.684,
          442.35,
          443.016,
          443.682,
          444.348,
          445.014,
          445.68,
          446.346,
          447.012,
          447.678,
          448.344,
          449.01,
          449.676,
          450.342,
          451.008,
          451.674,
          452.34,
          453.006,
          453.672,
          454.338,
          455.004,
          455.67,
          456.336,
          457.002,
          457.668,
          458.334
         ],
         "xaxis": "x",
         "y": [
          0.0007220270917495741,
          0.0007383344672583159,
          0.0007547798398062254,
          0.0007713584498044866,
          0.0007880654026959919,
          0.0008048956696173378,
          0.000821844088259898,
          0.0008389053639575987,
          0.0008560740710287681,
          0.0008733446543989991,
          0.0008907114315311494,
          0.0009081685946875655,
          0.0009257102135483159,
          0.000943330238207611,
          0.0009610225025687435,
          0.0009787807281558204,
          0.0009965985283582667,
          0.001014469413121536,
          0.0010323867940948478,
          0.0010503439902438847,
          0.0010683342339334624,
          0.0010863506774820772,
          0.001104386400187171,
          0.0011224344158166975,
          0.001140487680559451,
          0.0011585391014234355,
          0.0011765815450684284,
          0.0011946078470558598,
          0.0012126108214962304,
          0.001230583271071504,
          0.0012485179974072514,
          0.0012664078117670002,
          0.0012842455460389207,
          0.0013020240639831304,
          0.0013197362727060792,
          0.0013373751343271271,
          0.0013549336778012088,
          0.0013724050108606305,
          0.0013897823320384865,
          0.001407058942735918,
          0.0014242282592954387,
          0.0014412838250428975,
          0.001458219322261261,
          0.001475028584060303,
          0.00149170560610735,
          0.0015082445581857354,
          0.0015246397955491243,
          0.0015408858700417306,
          0.0015569775409563767,
          0.0015729097856045187,
          0.0015886778095745228,
          0.0016042770566568455,
          0.0016197032184171207,
          0.0016349522434004893,
          0.0016500203459529417,
          0.001664904014647727,
          0.0016796000203070942,
          0.0016941054236118114,
          0.0017084175822928355,
          0.0017225341579014052,
          0.0017364531221553746,
          0.0017501727628610707,
          0.0017636916894111358,
          0.0017770088378597387,
          0.0017901234755771922,
          0.0018030352054864943,
          0.001815743969884269,
          0.0018282500538486638,
          0.0018405540882360653,
          0.0018526570522680362,
          0.0018645602757087817,
          0.0018762654406322748,
          0.0018877745827768264,
          0.0018990900924831557,
          0.0019102147152103668,
          0.001921151551622149,
          0.0019319040572335915,
          0.001942476041606824,
          0.0019528716670815138,
          0.0019630954470241588,
          0.0019731522435778516,
          0.0019830472648923137,
          0.0019927860618118623,
          0.002002374523997411,
          0.002011818875456848,
          0.0020211256694569295,
          0.00203030178278869,
          0.0020393544093577033,
          0.002048291053070042,
          0.002057119519984829,
          0.0020658479097046276,
          0.002074484605975706,
          0.002083038266471481,
          0.0020915178117341033,
          0.0020999324132513542,
          0.002108291480648644,
          0.0021166046479789247,
          0.0021248817590970672,
          0.002133132852109029,
          0.0021413681428907954,
          0.0021495980076767685,
          0.0021578329647226526,
          0.0021660836550533554,
          0.002174360822312393,
          0.002182675291735485,
          0.0021910379482773827,
          0.002199459713927592,
          0.0022079515242574036,
          0.002216524304247362,
          0.002225188943451214,
          0.0022339562705590414,
          0.002242837027429048,
          0.0022518418426639296,
          0.002260981204814002,
          0.0022702654352953337,
          0.002279704661116715,
          0.0022893087875146046,
          0.002299087470599866,
          0.0023090500901245654,
          0.002319205722480637,
          0.002329563114045401,
          0.0023401306549914328,
          0.002350916353679924,
          0.0023619278117577957,
          0.0023731722000791366,
          0.002384656235570978,
          0.0023963861591622506,
          0.0024083677148926705,
          0.0024206061303154083,
          0.0024331060983038065,
          0.0024458717603679865,
          0.0024589066915818507,
          0.0024722138872152306,
          0.0024857957511590333,
          0.0024996540862240934,
          0.00251379008638623,
          0.002528204331041547,
          0.002542896781326781,
          0.0025578667785498208,
          0.002573113044765535,
          0.0025886336855214078,
          0.0026044261947868624,
          0.00262048746206906,
          0.0026368137817067492,
          0.002653400864322539,
          0.0026702438504025996,
          0.002687337325961603,
          0.002704675340239543,
          0.002722251425366232,
          0.0027400586179185706,
          0.0027580894822854234,
          0.002776336135745098,
          0.0027947902751509616,
          0.002813443205111961,
          0.002832285867546526,
          0.002851308872480797,
          0.0028705025299552247,
          0.0028898568828974723,
          0.0029093617408143054,
          0.002929006714150594,
          0.0029487812491599936,
          0.00296867466312908,
          0.0029886761797949823,
          0.0030087749647954997,
          0.0030289601609908116,
          0.0030492209234967526,
          0.0030695464542713903,
          0.003089926036099504,
          0.0031103490658229795,
          0.0031308050866697143,
          0.0031512838195387935,
          0.003171775193105796,
          0.0031922693726188374,
          0.003212756787263445,
          0.003233228155982427,
          0.0032536745116457685,
          0.0032740872234745546,
          0.0032944580176329638,
          0.0033147789959121574,
          0.0033350426524407215,
          0.003355241888366661,
          0.003375370024467274,
          0.0033954208116540657,
          0.0034153884393510864,
          0.0034352675417362944,
          0.003455053201846586,
          0.003474740953558004,
          0.0034943267814635617,
          0.0035138071186813996,
          0.0035331788426363007,
          0.003552439268867245,
          0.0035715861429230513,
          0.003590617630416957,
          0.0036095323053193028,
          0.0036283291365750724,
          0.0036470074731402495,
          0.003665567027537252,
          0.0036840078580353875,
          0.003702330349567342,
          0.003720535193496868,
          0.0037386233663564412,
          0.0037565961076761957,
          0.003774454897027615,
          0.0037922014304064217,
          0.003809837596079755,
          0.0038273654500221113,
          0.0038447871910637366,
          0.0038621051358731086,
          0.0038793216938928757,
          0.003896439342345271,
          0.003913460601419414,
          0.003930388009748372,
          0.0039472241002791175,
          0.003963971376632867,
          0.00398063229004762,
          0.0039972092169882015,
          0.00401370443750269,
          0.004030120114396875,
          0.0040464582732915345,
          0.0040627207836195466,
          0.004078909340612636,
          0.004095025448319862,
          0.004111070403692214,
          0.004127045281760298,
          0.004142950921924568,
          0.0041587879153701475,
          0.004174556593611255,
          0.004190257018163375,
          0.0042058889713347215,
          0.004221451948122341,
          0.004236945149192416,
          0.004252367474918812,
          0.004267717520449162,
          0.004282993571763172,
          0.004298193602683919,
          0.00431331527279968,
          0.004328355926250738,
          0.00434331259133365,
          0.0043581819808733305,
          0.004372960493312773,
          0.004387644214469078,
          0.004402228919904883,
          0.004416710077864638,
          0.004431082852726399,
          0.004445342108921349,
          0.004459482415275284,
          0.004473498049728988,
          0.004487383004397301,
          0.004501130990930049,
          0.004514735446141605,
          0.004528189537880032,
          0.004541486171110721,
          0.004554617994194093,
          0.0045675774053413176,
          0.004580356559236892,
          0.004592947373821291,
          0.00460534153723202,
          0.0046175305149057265,
          0.004629505556848553,
          0.004641257705086565,
          0.004652777801311808,
          0.004664056494743793,
          0.004675084250229454,
          0.004685851356608088,
          0.004696347935370456,
          0.0047065639496436645,
          0.004716489213535318,
          0.004726113401872026,
          0.004735426060368092,
          0.004744416616260758,
          0.004753074389448248,
          0.0047613886041661104,
          0.004769348401236183,
          0.0047769428509207325,
          0.004784160966412091,
          0.004790991717985047,
          0.004797424047836313,
          0.0048034468856310965,
          0.004809049164773003,
          0.0048142198394084965,
          0.0048189479021720555,
          0.00482322240267314,
          0.0048270324667197394,
          0.0048303673162679965,
          0.0048332162900805945,
          0.00483556886507078,
          0.0048374146783022294,
          0.004838743549608584,
          0.004839545504789995,
          0.004839810799337894,
          0.0048395299426325965,
          0.0048386937225527865,
          0.00483729323042968,
          0.004835319886273543,
          0.004832765464194887,
          0.004829622117937968,
          0.004825882406439855,
          0.004821539319324609,
          0.004816586302238664,
          0.004811017281930651,
          0.004804826690977,
          0.004798009492052635,
          0.004790561201645404,
          0.004782477913112299,
          0.004773756318975892,
          0.004764393732360236,
          0.004754388107467011,
          0.0047437380589949,
          0.004732442880407743,
          0.004720502560960638,
          0.004707917801396723,
          0.004694690028232119,
          0.0046808214065511425,
          0.00466631485123961,
          0.0046511740365896125,
          0.004635403404215463,
          0.004619008169227091,
          0.0046019943246139155,
          0.004584368643799312,
          0.004566138681333063,
          0.004547312771696525,
          0.004527900026202811,
          0.004507910327981569,
          0.004487354325045711,
          0.0044662434214445546,
          0.004444589766515351,
          0.004422406242252068,
          0.004399706448817521,
          0.0043765046882311915,
          0.004352815946271775,
          0.0043286558726394085,
          0.004304040759428206,
          0.004278987517965112,
          0.004253513654075898,
          0.00422763724184378,
          0.004201376895930011,
          0.004174751742529662,
          0.004147781389038722,
          0.004120485892511676,
          0.004092885726990774,
          0.004065001749790342,
          0.0040368551668206205,
          0.0040084674970370816,
          0.003979860536101497,
          0.0039510563193415164,
          0.003922077084095557,
          0.0038929452315293518,
          0.003863683288010024,
          0.0038343138661225636,
          0.0038048596254128364,
          0.0037753432329395106,
          0.0037457873237164516,
          0.0037162144611251613,
          0.0036866470973756604,
          0.0036571075340920424,
          0.0036276178830978237,
          0.003598200027474045,
          0.003568875582961762,
          0.0035396658597786393,
          0.0035105918249181637,
          0.003481674064998158,
          0.003452932749724195,
          0.0034243875960320784,
          0.00339605783297242,
          0.0033679621673993686,
          0.003340118750524523,
          0.003312545145396307,
          0.0032852582953642826,
          0.0032582744935874077,
          0.00323160935364437,
          0.0032052777813040977,
          0.0031792939475135695,
          0.0031536712626600532,
          0.0031284223521641204,
          0.0031035590334595148,
          0.003079092294415255,
          0.00305503227325484,
          0.0030313882400265567,
          0.0030081685796780207,
          0.002985380776787018,
          0.0029630314019994048,
          0.0029411261002232065,
          0.0029196695806263852,
          0.002898665608483659,
          0.002878116998915168,
          0.002858025612557356,
          0.002838392353203181,
          0.002819217167445367,
          0.002800499046352739,
          0.0027822360292053877,
          0.0027644252093099995,
          0.002747062741911722,
          0.0027301438542137214,
          0.0027136628575099467,
          0.0026976131614307045,
          0.002681987290294375,
          0.002666776901552053,
          0.0026519728063050855,
          0.002637564991868483,
          0.002623542646345873,
          0.0026098941851743626,
          0.0025966072795901413,
          0.0025836688869581167,
          0.0025710652829012914,
          0.002558782095158082,
          0.0025468043390882876,
          0.002535116454741158,
          0.0025237023453918476,
          0.0025125454174456797,
          0.0025016286216030885,
          0.002490934495171873,
          0.0024804452054075286,
          0.002470142593757152,
          0.002460008220877411,
          0.002450023412292826,
          0.0024401693045568,
          0.002430426891774704,
          0.0024207770723458305,
          0.0024112006957791618,
          0.002401678609436876,
          0.0023921917050589232,
          0.002382720964922524,
          0.002373247507491337,
          0.0023637526324108817,
          0.0023542178647093185,
          0.002344624998065934,
          0.0023349561370135906,
          0.0023251937379460243,
          0.002315320648806222,
          0.002305320147337954,
          0.0022951759777890437,
          0.002284872385962084,
          0.002274394152515788,
          0.002263726624428196,
          0.002252855744541472,
          0.002241768079116616,
          0.0022304508433356736,
          0.002218891924698171,
          0.0022070799042680895,
          0.002195004075737102,
          0.002182654462279648,
          0.0021700218311847645,
          0.00215709770625932,
          0.002143874378006555,
          0.0021303449115931297,
          0.002116503152626625,
          0.002102343730774323,
          0.002087862061262096,
          0.002073054344300271,
          0.0020579175624906394,
          0.0020424494762757415,
          0.0020266486174978764,
          0.002010514281141233,
          0.0019940465153356346,
          0.00197724610970517,
          0.0019601145821489204,
          0.0019426541641444609,
          0.0019248677846675317,
          0.001906759052823438,
          0.0018883322392873045,
          0.0018695922566511053,
          0.0018505446387757987,
          0.0018311955192465527,
          0.0018115516090282825,
          0.0017916201734172659,
          0.00177140900838288,
          0.0017509264163910571,
          0.0017301811817984237,
          0.001709182545902897,
          0.0016879401817330947,
          0.0016664641686551444,
          0.0016447649668714088,
          0.0016228533918815162,
          0.0016007405889716395,
          0.0015784380077933883,
          0.0015559573770893098,
          0.0015333106796170846,
          0.0015105101273201792,
          0.0014875681367880053,
          0.001464497305044177,
          0.0014413103856971694,
          0.0014180202654834988,
          0.0013946399412294646,
          0.001371182497253814,
          0.0013476610832300463,
          0.0013240888925238243,
          0.0013004791410179538,
          0.0012768450464345764,
          0.0012531998081618265,
          0.0012295565875900724,
          0.0012059284889609466,
          0.0011823285407308432,
          0.0011587696774493393,
          0.0011352647221519513,
          0.0011118263692660017,
          0.001088467168027886,
          0.0010651995064098604,
          0.0010420355955545152,
          0.0010189874547152633,
          0.0009960668967017423
         ],
         "yaxis": "y"
        }
       ],
       "layout": {
        "barmode": "overlay",
        "hovermode": "closest",
        "legend": {
         "traceorder": "reversed"
        },
        "plot_bgcolor": "#F5F5F8",
        "template": {
         "data": {
          "bar": [
           {
            "error_x": {
             "color": "#2a3f5f"
            },
            "error_y": {
             "color": "#2a3f5f"
            },
            "marker": {
             "line": {
              "color": "#E5ECF6",
              "width": 0.5
             },
             "pattern": {
              "fillmode": "overlay",
              "size": 10,
              "solidity": 0.2
             }
            },
            "type": "bar"
           }
          ],
          "barpolar": [
           {
            "marker": {
             "line": {
              "color": "#E5ECF6",
              "width": 0.5
             },
             "pattern": {
              "fillmode": "overlay",
              "size": 10,
              "solidity": 0.2
             }
            },
            "type": "barpolar"
           }
          ],
          "carpet": [
           {
            "aaxis": {
             "endlinecolor": "#2a3f5f",
             "gridcolor": "white",
             "linecolor": "white",
             "minorgridcolor": "white",
             "startlinecolor": "#2a3f5f"
            },
            "baxis": {
             "endlinecolor": "#2a3f5f",
             "gridcolor": "white",
             "linecolor": "white",
             "minorgridcolor": "white",
             "startlinecolor": "#2a3f5f"
            },
            "type": "carpet"
           }
          ],
          "choropleth": [
           {
            "colorbar": {
             "outlinewidth": 0,
             "ticks": ""
            },
            "type": "choropleth"
           }
          ],
          "contour": [
           {
            "colorbar": {
             "outlinewidth": 0,
             "ticks": ""
            },
            "colorscale": [
             [
              0,
              "#0d0887"
             ],
             [
              0.1111111111111111,
              "#46039f"
             ],
             [
              0.2222222222222222,
              "#7201a8"
             ],
             [
              0.3333333333333333,
              "#9c179e"
             ],
             [
              0.4444444444444444,
              "#bd3786"
             ],
             [
              0.5555555555555556,
              "#d8576b"
             ],
             [
              0.6666666666666666,
              "#ed7953"
             ],
             [
              0.7777777777777778,
              "#fb9f3a"
             ],
             [
              0.8888888888888888,
              "#fdca26"
             ],
             [
              1,
              "#f0f921"
             ]
            ],
            "type": "contour"
           }
          ],
          "contourcarpet": [
           {
            "colorbar": {
             "outlinewidth": 0,
             "ticks": ""
            },
            "type": "contourcarpet"
           }
          ],
          "heatmap": [
           {
            "colorbar": {
             "outlinewidth": 0,
             "ticks": ""
            },
            "colorscale": [
             [
              0,
              "#0d0887"
             ],
             [
              0.1111111111111111,
              "#46039f"
             ],
             [
              0.2222222222222222,
              "#7201a8"
             ],
             [
              0.3333333333333333,
              "#9c179e"
             ],
             [
              0.4444444444444444,
              "#bd3786"
             ],
             [
              0.5555555555555556,
              "#d8576b"
             ],
             [
              0.6666666666666666,
              "#ed7953"
             ],
             [
              0.7777777777777778,
              "#fb9f3a"
             ],
             [
              0.8888888888888888,
              "#fdca26"
             ],
             [
              1,
              "#f0f921"
             ]
            ],
            "type": "heatmap"
           }
          ],
          "heatmapgl": [
           {
            "colorbar": {
             "outlinewidth": 0,
             "ticks": ""
            },
            "colorscale": [
             [
              0,
              "#0d0887"
             ],
             [
              0.1111111111111111,
              "#46039f"
             ],
             [
              0.2222222222222222,
              "#7201a8"
             ],
             [
              0.3333333333333333,
              "#9c179e"
             ],
             [
              0.4444444444444444,
              "#bd3786"
             ],
             [
              0.5555555555555556,
              "#d8576b"
             ],
             [
              0.6666666666666666,
              "#ed7953"
             ],
             [
              0.7777777777777778,
              "#fb9f3a"
             ],
             [
              0.8888888888888888,
              "#fdca26"
             ],
             [
              1,
              "#f0f921"
             ]
            ],
            "type": "heatmapgl"
           }
          ],
          "histogram": [
           {
            "marker": {
             "pattern": {
              "fillmode": "overlay",
              "size": 10,
              "solidity": 0.2
             }
            },
            "type": "histogram"
           }
          ],
          "histogram2d": [
           {
            "colorbar": {
             "outlinewidth": 0,
             "ticks": ""
            },
            "colorscale": [
             [
              0,
              "#0d0887"
             ],
             [
              0.1111111111111111,
              "#46039f"
             ],
             [
              0.2222222222222222,
              "#7201a8"
             ],
             [
              0.3333333333333333,
              "#9c179e"
             ],
             [
              0.4444444444444444,
              "#bd3786"
             ],
             [
              0.5555555555555556,
              "#d8576b"
             ],
             [
              0.6666666666666666,
              "#ed7953"
             ],
             [
              0.7777777777777778,
              "#fb9f3a"
             ],
             [
              0.8888888888888888,
              "#fdca26"
             ],
             [
              1,
              "#f0f921"
             ]
            ],
            "type": "histogram2d"
           }
          ],
          "histogram2dcontour": [
           {
            "colorbar": {
             "outlinewidth": 0,
             "ticks": ""
            },
            "colorscale": [
             [
              0,
              "#0d0887"
             ],
             [
              0.1111111111111111,
              "#46039f"
             ],
             [
              0.2222222222222222,
              "#7201a8"
             ],
             [
              0.3333333333333333,
              "#9c179e"
             ],
             [
              0.4444444444444444,
              "#bd3786"
             ],
             [
              0.5555555555555556,
              "#d8576b"
             ],
             [
              0.6666666666666666,
              "#ed7953"
             ],
             [
              0.7777777777777778,
              "#fb9f3a"
             ],
             [
              0.8888888888888888,
              "#fdca26"
             ],
             [
              1,
              "#f0f921"
             ]
            ],
            "type": "histogram2dcontour"
           }
          ],
          "mesh3d": [
           {
            "colorbar": {
             "outlinewidth": 0,
             "ticks": ""
            },
            "type": "mesh3d"
           }
          ],
          "parcoords": [
           {
            "line": {
             "colorbar": {
              "outlinewidth": 0,
              "ticks": ""
             }
            },
            "type": "parcoords"
           }
          ],
          "pie": [
           {
            "automargin": true,
            "type": "pie"
           }
          ],
          "scatter": [
           {
            "fillpattern": {
             "fillmode": "overlay",
             "size": 10,
             "solidity": 0.2
            },
            "type": "scatter"
           }
          ],
          "scatter3d": [
           {
            "line": {
             "colorbar": {
              "outlinewidth": 0,
              "ticks": ""
             }
            },
            "marker": {
             "colorbar": {
              "outlinewidth": 0,
              "ticks": ""
             }
            },
            "type": "scatter3d"
           }
          ],
          "scattercarpet": [
           {
            "marker": {
             "colorbar": {
              "outlinewidth": 0,
              "ticks": ""
             }
            },
            "type": "scattercarpet"
           }
          ],
          "scattergeo": [
           {
            "marker": {
             "colorbar": {
              "outlinewidth": 0,
              "ticks": ""
             }
            },
            "type": "scattergeo"
           }
          ],
          "scattergl": [
           {
            "marker": {
             "colorbar": {
              "outlinewidth": 0,
              "ticks": ""
             }
            },
            "type": "scattergl"
           }
          ],
          "scattermapbox": [
           {
            "marker": {
             "colorbar": {
              "outlinewidth": 0,
              "ticks": ""
             }
            },
            "type": "scattermapbox"
           }
          ],
          "scatterpolar": [
           {
            "marker": {
             "colorbar": {
              "outlinewidth": 0,
              "ticks": ""
             }
            },
            "type": "scatterpolar"
           }
          ],
          "scatterpolargl": [
           {
            "marker": {
             "colorbar": {
              "outlinewidth": 0,
              "ticks": ""
             }
            },
            "type": "scatterpolargl"
           }
          ],
          "scatterternary": [
           {
            "marker": {
             "colorbar": {
              "outlinewidth": 0,
              "ticks": ""
             }
            },
            "type": "scatterternary"
           }
          ],
          "surface": [
           {
            "colorbar": {
             "outlinewidth": 0,
             "ticks": ""
            },
            "colorscale": [
             [
              0,
              "#0d0887"
             ],
             [
              0.1111111111111111,
              "#46039f"
             ],
             [
              0.2222222222222222,
              "#7201a8"
             ],
             [
              0.3333333333333333,
              "#9c179e"
             ],
             [
              0.4444444444444444,
              "#bd3786"
             ],
             [
              0.5555555555555556,
              "#d8576b"
             ],
             [
              0.6666666666666666,
              "#ed7953"
             ],
             [
              0.7777777777777778,
              "#fb9f3a"
             ],
             [
              0.8888888888888888,
              "#fdca26"
             ],
             [
              1,
              "#f0f921"
             ]
            ],
            "type": "surface"
           }
          ],
          "table": [
           {
            "cells": {
             "fill": {
              "color": "#EBF0F8"
             },
             "line": {
              "color": "white"
             }
            },
            "header": {
             "fill": {
              "color": "#C8D4E3"
             },
             "line": {
              "color": "white"
             }
            },
            "type": "table"
           }
          ]
         },
         "layout": {
          "annotationdefaults": {
           "arrowcolor": "#2a3f5f",
           "arrowhead": 0,
           "arrowwidth": 1
          },
          "autotypenumbers": "strict",
          "coloraxis": {
           "colorbar": {
            "outlinewidth": 0,
            "ticks": ""
           }
          },
          "colorscale": {
           "diverging": [
            [
             0,
             "#8e0152"
            ],
            [
             0.1,
             "#c51b7d"
            ],
            [
             0.2,
             "#de77ae"
            ],
            [
             0.3,
             "#f1b6da"
            ],
            [
             0.4,
             "#fde0ef"
            ],
            [
             0.5,
             "#f7f7f7"
            ],
            [
             0.6,
             "#e6f5d0"
            ],
            [
             0.7,
             "#b8e186"
            ],
            [
             0.8,
             "#7fbc41"
            ],
            [
             0.9,
             "#4d9221"
            ],
            [
             1,
             "#276419"
            ]
           ],
           "sequential": [
            [
             0,
             "#0d0887"
            ],
            [
             0.1111111111111111,
             "#46039f"
            ],
            [
             0.2222222222222222,
             "#7201a8"
            ],
            [
             0.3333333333333333,
             "#9c179e"
            ],
            [
             0.4444444444444444,
             "#bd3786"
            ],
            [
             0.5555555555555556,
             "#d8576b"
            ],
            [
             0.6666666666666666,
             "#ed7953"
            ],
            [
             0.7777777777777778,
             "#fb9f3a"
            ],
            [
             0.8888888888888888,
             "#fdca26"
            ],
            [
             1,
             "#f0f921"
            ]
           ],
           "sequentialminus": [
            [
             0,
             "#0d0887"
            ],
            [
             0.1111111111111111,
             "#46039f"
            ],
            [
             0.2222222222222222,
             "#7201a8"
            ],
            [
             0.3333333333333333,
             "#9c179e"
            ],
            [
             0.4444444444444444,
             "#bd3786"
            ],
            [
             0.5555555555555556,
             "#d8576b"
            ],
            [
             0.6666666666666666,
             "#ed7953"
            ],
            [
             0.7777777777777778,
             "#fb9f3a"
            ],
            [
             0.8888888888888888,
             "#fdca26"
            ],
            [
             1,
             "#f0f921"
            ]
           ]
          },
          "colorway": [
           "#636efa",
           "#EF553B",
           "#00cc96",
           "#ab63fa",
           "#FFA15A",
           "#19d3f3",
           "#FF6692",
           "#B6E880",
           "#FF97FF",
           "#FECB52"
          ],
          "font": {
           "color": "#2a3f5f"
          },
          "geo": {
           "bgcolor": "white",
           "lakecolor": "white",
           "landcolor": "#E5ECF6",
           "showlakes": true,
           "showland": true,
           "subunitcolor": "white"
          },
          "hoverlabel": {
           "align": "left"
          },
          "hovermode": "closest",
          "mapbox": {
           "style": "light"
          },
          "paper_bgcolor": "white",
          "plot_bgcolor": "#E5ECF6",
          "polar": {
           "angularaxis": {
            "gridcolor": "white",
            "linecolor": "white",
            "ticks": ""
           },
           "bgcolor": "#E5ECF6",
           "radialaxis": {
            "gridcolor": "white",
            "linecolor": "white",
            "ticks": ""
           }
          },
          "scene": {
           "xaxis": {
            "backgroundcolor": "#E5ECF6",
            "gridcolor": "white",
            "gridwidth": 2,
            "linecolor": "white",
            "showbackground": true,
            "ticks": "",
            "zerolinecolor": "white"
           },
           "yaxis": {
            "backgroundcolor": "#E5ECF6",
            "gridcolor": "white",
            "gridwidth": 2,
            "linecolor": "white",
            "showbackground": true,
            "ticks": "",
            "zerolinecolor": "white"
           },
           "zaxis": {
            "backgroundcolor": "#E5ECF6",
            "gridcolor": "white",
            "gridwidth": 2,
            "linecolor": "white",
            "showbackground": true,
            "ticks": "",
            "zerolinecolor": "white"
           }
          },
          "shapedefaults": {
           "line": {
            "color": "#2a3f5f"
           }
          },
          "ternary": {
           "aaxis": {
            "gridcolor": "white",
            "linecolor": "white",
            "ticks": ""
           },
           "baxis": {
            "gridcolor": "white",
            "linecolor": "white",
            "ticks": ""
           },
           "bgcolor": "#E5ECF6",
           "caxis": {
            "gridcolor": "white",
            "linecolor": "white",
            "ticks": ""
           }
          },
          "title": {
           "x": 0.05
          },
          "xaxis": {
           "automargin": true,
           "gridcolor": "white",
           "linecolor": "white",
           "ticks": "",
           "title": {
            "standoff": 15
           },
           "zerolinecolor": "white",
           "zerolinewidth": 2
          },
          "yaxis": {
           "automargin": true,
           "gridcolor": "white",
           "linecolor": "white",
           "ticks": "",
           "title": {
            "standoff": 15
           },
           "zerolinecolor": "white",
           "zerolinewidth": 2
          }
         }
        },
        "title": {
         "text": "Real vs. Synthetic Data for column chol"
        },
        "xaxis": {
         "anchor": "y2",
         "domain": [
          0,
          1
         ],
         "title": {
          "text": "Value"
         },
         "zeroline": false
        },
        "yaxis": {
         "anchor": "free",
         "domain": [
          0,
          1
         ],
         "position": 0,
         "title": {
          "text": "Frequency"
         }
        }
       }
      }
     },
     "metadata": {},
     "output_type": "display_data"
    },
    {
     "data": {
      "application/vnd.plotly.v1+json": {
       "config": {
        "plotlyServerURL": "https://plot.ly"
       },
       "data": [
        {
         "alignmentgroup": "True",
         "bingroup": "x",
         "histnorm": "probability density",
         "hovertemplate": "<b>Real</b><br>Frequency: %{y}<extra></extra>",
         "legendgroup": "Real",
         "marker": {
          "color": "#000036",
          "pattern": {
           "shape": ""
          }
         },
         "name": "Real",
         "offsetgroup": "Real",
         "orientation": "v",
         "showlegend": true,
         "type": "histogram",
         "x": [
          1,
          0,
          0,
          0,
          0,
          0,
          0,
          0,
          0,
          1,
          0,
          0,
          1,
          0,
          1,
          0,
          0,
          0,
          0,
          0,
          0,
          1,
          0,
          0,
          0,
          0,
          0,
          0,
          0,
          0,
          0,
          1,
          0,
          0,
          0,
          0,
          0,
          0,
          0,
          1,
          0,
          0,
          0,
          1,
          0,
          0,
          0,
          0,
          1,
          1,
          0,
          0,
          0,
          0,
          0,
          0,
          0,
          0,
          0,
          0,
          0,
          0,
          0,
          1,
          0,
          0,
          0,
          0,
          0,
          0,
          0,
          1,
          0,
          0,
          0,
          0,
          0,
          0,
          0,
          0,
          0,
          0,
          0,
          1,
          0,
          0,
          0,
          0,
          0,
          0,
          0,
          0,
          0,
          0,
          0,
          0,
          0,
          0,
          0,
          0,
          0,
          0,
          1,
          0,
          0,
          0,
          0,
          0,
          0,
          0,
          1,
          0,
          1,
          0,
          0,
          1,
          0,
          1,
          0,
          1,
          0,
          0,
          0,
          1,
          0,
          1,
          0,
          0,
          0,
          0,
          0,
          0,
          0,
          0,
          0,
          0,
          0,
          0,
          1,
          0,
          0,
          1,
          0,
          0,
          0,
          1,
          0,
          0,
          0,
          1,
          0,
          0,
          0,
          0,
          0,
          0,
          0,
          0,
          0,
          1,
          0,
          0,
          0,
          1,
          0,
          1,
          0,
          0,
          0,
          0,
          0,
          0,
          0,
          0,
          1,
          0,
          0,
          1,
          0,
          0,
          0,
          0,
          0,
          0,
          1,
          0,
          0,
          0,
          0,
          0,
          1,
          0,
          0,
          1,
          0,
          0,
          0,
          0,
          0,
          1,
          0,
          0,
          0,
          0,
          0,
          0,
          0,
          0,
          0,
          0,
          1,
          0,
          0,
          0,
          0,
          0,
          0,
          0,
          0,
          0,
          0,
          0,
          0,
          0,
          0,
          0,
          0,
          0,
          0,
          0,
          0,
          0,
          0,
          1,
          0,
          0,
          0,
          0,
          0,
          0,
          0,
          1,
          0,
          0,
          0,
          0,
          1,
          0,
          0,
          0,
          0,
          0,
          0,
          0,
          0,
          0,
          0,
          0,
          1,
          0,
          0,
          0,
          0,
          1,
          0,
          0,
          0,
          0,
          0,
          0,
          0,
          0,
          0,
          0,
          0,
          0,
          0,
          0,
          0,
          0,
          0,
          0,
          1,
          0,
          0,
          0,
          0,
          0,
          0,
          0,
          0,
          1,
          0,
          0,
          1,
          0,
          0
         ],
         "xaxis": "x",
         "yaxis": "y"
        },
        {
         "alignmentgroup": "True",
         "bingroup": "x",
         "histnorm": "probability density",
         "hovertemplate": "<b>Synthetic</b><br>Frequency: %{y}<extra></extra>",
         "legendgroup": "Synthetic",
         "marker": {
          "color": "#01E0C9",
          "pattern": {
           "shape": "/"
          }
         },
         "name": "Synthetic",
         "offsetgroup": "Synthetic",
         "orientation": "v",
         "showlegend": true,
         "type": "histogram",
         "x": [
          0,
          1,
          0,
          0,
          0,
          0,
          0,
          1,
          0,
          0,
          0,
          1,
          0,
          0,
          0,
          0,
          0,
          0,
          0,
          0,
          1,
          0,
          0,
          0,
          1,
          0,
          0,
          0,
          0,
          0,
          0,
          0,
          1,
          0,
          0,
          1,
          0,
          0,
          0,
          0,
          0,
          0,
          0,
          0,
          0,
          0,
          0,
          0,
          0,
          0,
          0,
          0,
          0,
          0,
          0,
          0,
          0,
          0,
          0,
          0,
          0,
          0,
          0,
          0,
          0,
          0,
          0,
          0,
          0,
          0,
          0,
          0,
          0,
          0,
          0,
          0,
          0,
          0,
          1,
          1,
          0,
          0,
          0,
          0,
          0,
          0,
          0,
          0,
          1,
          1,
          0,
          0,
          0,
          0,
          0,
          0,
          0,
          1,
          0,
          0,
          0,
          0,
          0,
          0,
          1,
          0,
          0,
          0,
          0,
          0,
          0,
          0,
          1,
          0,
          0,
          0,
          0,
          0,
          0,
          0,
          0,
          0,
          0,
          0,
          0,
          1,
          0,
          0,
          1,
          0,
          0,
          0,
          0,
          1,
          0,
          0,
          0,
          0,
          0,
          0,
          0,
          0,
          0,
          0,
          0,
          1,
          1,
          1,
          0,
          0,
          0,
          0,
          0,
          0,
          0,
          1,
          0,
          0,
          0,
          0,
          0,
          0,
          0,
          0,
          0,
          0,
          0,
          0,
          0,
          0,
          0,
          0,
          1,
          0,
          0,
          0,
          0,
          0,
          0,
          1,
          0,
          0,
          0,
          1,
          0,
          0,
          0,
          0,
          0,
          0,
          0,
          0,
          0,
          1,
          0,
          0,
          1,
          0,
          0,
          0,
          0,
          0,
          0,
          0,
          0,
          0,
          0,
          0,
          0,
          0,
          0,
          0,
          1,
          0,
          0,
          1,
          0,
          0,
          0,
          0,
          0,
          0,
          0,
          0,
          0,
          0,
          0,
          0,
          0,
          0,
          0,
          0,
          0,
          0,
          0,
          0,
          0,
          0,
          0,
          0,
          0,
          0,
          0,
          0,
          0,
          0,
          0,
          0,
          0,
          0,
          0,
          0,
          0,
          0,
          0,
          1,
          0,
          0,
          0,
          1,
          0,
          1,
          1,
          1,
          0,
          0,
          1,
          0,
          1,
          0,
          0,
          0,
          0,
          0,
          0,
          0,
          0,
          0,
          0,
          0,
          0,
          1,
          0,
          0,
          0,
          0,
          0,
          0,
          0,
          0,
          1,
          0,
          0,
          0,
          0,
          0,
          1,
          0,
          0,
          0
         ],
         "xaxis": "x",
         "yaxis": "y"
        }
       ],
       "layout": {
        "barmode": "group",
        "legend": {
         "title": {
          "text": "Data"
         },
         "tracegroupgap": 0
        },
        "margin": {
         "t": 60
        },
        "plot_bgcolor": "#F5F5F8",
        "template": {
         "data": {
          "bar": [
           {
            "error_x": {
             "color": "#2a3f5f"
            },
            "error_y": {
             "color": "#2a3f5f"
            },
            "marker": {
             "line": {
              "color": "#E5ECF6",
              "width": 0.5
             },
             "pattern": {
              "fillmode": "overlay",
              "size": 10,
              "solidity": 0.2
             }
            },
            "type": "bar"
           }
          ],
          "barpolar": [
           {
            "marker": {
             "line": {
              "color": "#E5ECF6",
              "width": 0.5
             },
             "pattern": {
              "fillmode": "overlay",
              "size": 10,
              "solidity": 0.2
             }
            },
            "type": "barpolar"
           }
          ],
          "carpet": [
           {
            "aaxis": {
             "endlinecolor": "#2a3f5f",
             "gridcolor": "white",
             "linecolor": "white",
             "minorgridcolor": "white",
             "startlinecolor": "#2a3f5f"
            },
            "baxis": {
             "endlinecolor": "#2a3f5f",
             "gridcolor": "white",
             "linecolor": "white",
             "minorgridcolor": "white",
             "startlinecolor": "#2a3f5f"
            },
            "type": "carpet"
           }
          ],
          "choropleth": [
           {
            "colorbar": {
             "outlinewidth": 0,
             "ticks": ""
            },
            "type": "choropleth"
           }
          ],
          "contour": [
           {
            "colorbar": {
             "outlinewidth": 0,
             "ticks": ""
            },
            "colorscale": [
             [
              0,
              "#0d0887"
             ],
             [
              0.1111111111111111,
              "#46039f"
             ],
             [
              0.2222222222222222,
              "#7201a8"
             ],
             [
              0.3333333333333333,
              "#9c179e"
             ],
             [
              0.4444444444444444,
              "#bd3786"
             ],
             [
              0.5555555555555556,
              "#d8576b"
             ],
             [
              0.6666666666666666,
              "#ed7953"
             ],
             [
              0.7777777777777778,
              "#fb9f3a"
             ],
             [
              0.8888888888888888,
              "#fdca26"
             ],
             [
              1,
              "#f0f921"
             ]
            ],
            "type": "contour"
           }
          ],
          "contourcarpet": [
           {
            "colorbar": {
             "outlinewidth": 0,
             "ticks": ""
            },
            "type": "contourcarpet"
           }
          ],
          "heatmap": [
           {
            "colorbar": {
             "outlinewidth": 0,
             "ticks": ""
            },
            "colorscale": [
             [
              0,
              "#0d0887"
             ],
             [
              0.1111111111111111,
              "#46039f"
             ],
             [
              0.2222222222222222,
              "#7201a8"
             ],
             [
              0.3333333333333333,
              "#9c179e"
             ],
             [
              0.4444444444444444,
              "#bd3786"
             ],
             [
              0.5555555555555556,
              "#d8576b"
             ],
             [
              0.6666666666666666,
              "#ed7953"
             ],
             [
              0.7777777777777778,
              "#fb9f3a"
             ],
             [
              0.8888888888888888,
              "#fdca26"
             ],
             [
              1,
              "#f0f921"
             ]
            ],
            "type": "heatmap"
           }
          ],
          "heatmapgl": [
           {
            "colorbar": {
             "outlinewidth": 0,
             "ticks": ""
            },
            "colorscale": [
             [
              0,
              "#0d0887"
             ],
             [
              0.1111111111111111,
              "#46039f"
             ],
             [
              0.2222222222222222,
              "#7201a8"
             ],
             [
              0.3333333333333333,
              "#9c179e"
             ],
             [
              0.4444444444444444,
              "#bd3786"
             ],
             [
              0.5555555555555556,
              "#d8576b"
             ],
             [
              0.6666666666666666,
              "#ed7953"
             ],
             [
              0.7777777777777778,
              "#fb9f3a"
             ],
             [
              0.8888888888888888,
              "#fdca26"
             ],
             [
              1,
              "#f0f921"
             ]
            ],
            "type": "heatmapgl"
           }
          ],
          "histogram": [
           {
            "marker": {
             "pattern": {
              "fillmode": "overlay",
              "size": 10,
              "solidity": 0.2
             }
            },
            "type": "histogram"
           }
          ],
          "histogram2d": [
           {
            "colorbar": {
             "outlinewidth": 0,
             "ticks": ""
            },
            "colorscale": [
             [
              0,
              "#0d0887"
             ],
             [
              0.1111111111111111,
              "#46039f"
             ],
             [
              0.2222222222222222,
              "#7201a8"
             ],
             [
              0.3333333333333333,
              "#9c179e"
             ],
             [
              0.4444444444444444,
              "#bd3786"
             ],
             [
              0.5555555555555556,
              "#d8576b"
             ],
             [
              0.6666666666666666,
              "#ed7953"
             ],
             [
              0.7777777777777778,
              "#fb9f3a"
             ],
             [
              0.8888888888888888,
              "#fdca26"
             ],
             [
              1,
              "#f0f921"
             ]
            ],
            "type": "histogram2d"
           }
          ],
          "histogram2dcontour": [
           {
            "colorbar": {
             "outlinewidth": 0,
             "ticks": ""
            },
            "colorscale": [
             [
              0,
              "#0d0887"
             ],
             [
              0.1111111111111111,
              "#46039f"
             ],
             [
              0.2222222222222222,
              "#7201a8"
             ],
             [
              0.3333333333333333,
              "#9c179e"
             ],
             [
              0.4444444444444444,
              "#bd3786"
             ],
             [
              0.5555555555555556,
              "#d8576b"
             ],
             [
              0.6666666666666666,
              "#ed7953"
             ],
             [
              0.7777777777777778,
              "#fb9f3a"
             ],
             [
              0.8888888888888888,
              "#fdca26"
             ],
             [
              1,
              "#f0f921"
             ]
            ],
            "type": "histogram2dcontour"
           }
          ],
          "mesh3d": [
           {
            "colorbar": {
             "outlinewidth": 0,
             "ticks": ""
            },
            "type": "mesh3d"
           }
          ],
          "parcoords": [
           {
            "line": {
             "colorbar": {
              "outlinewidth": 0,
              "ticks": ""
             }
            },
            "type": "parcoords"
           }
          ],
          "pie": [
           {
            "automargin": true,
            "type": "pie"
           }
          ],
          "scatter": [
           {
            "fillpattern": {
             "fillmode": "overlay",
             "size": 10,
             "solidity": 0.2
            },
            "type": "scatter"
           }
          ],
          "scatter3d": [
           {
            "line": {
             "colorbar": {
              "outlinewidth": 0,
              "ticks": ""
             }
            },
            "marker": {
             "colorbar": {
              "outlinewidth": 0,
              "ticks": ""
             }
            },
            "type": "scatter3d"
           }
          ],
          "scattercarpet": [
           {
            "marker": {
             "colorbar": {
              "outlinewidth": 0,
              "ticks": ""
             }
            },
            "type": "scattercarpet"
           }
          ],
          "scattergeo": [
           {
            "marker": {
             "colorbar": {
              "outlinewidth": 0,
              "ticks": ""
             }
            },
            "type": "scattergeo"
           }
          ],
          "scattergl": [
           {
            "marker": {
             "colorbar": {
              "outlinewidth": 0,
              "ticks": ""
             }
            },
            "type": "scattergl"
           }
          ],
          "scattermapbox": [
           {
            "marker": {
             "colorbar": {
              "outlinewidth": 0,
              "ticks": ""
             }
            },
            "type": "scattermapbox"
           }
          ],
          "scatterpolar": [
           {
            "marker": {
             "colorbar": {
              "outlinewidth": 0,
              "ticks": ""
             }
            },
            "type": "scatterpolar"
           }
          ],
          "scatterpolargl": [
           {
            "marker": {
             "colorbar": {
              "outlinewidth": 0,
              "ticks": ""
             }
            },
            "type": "scatterpolargl"
           }
          ],
          "scatterternary": [
           {
            "marker": {
             "colorbar": {
              "outlinewidth": 0,
              "ticks": ""
             }
            },
            "type": "scatterternary"
           }
          ],
          "surface": [
           {
            "colorbar": {
             "outlinewidth": 0,
             "ticks": ""
            },
            "colorscale": [
             [
              0,
              "#0d0887"
             ],
             [
              0.1111111111111111,
              "#46039f"
             ],
             [
              0.2222222222222222,
              "#7201a8"
             ],
             [
              0.3333333333333333,
              "#9c179e"
             ],
             [
              0.4444444444444444,
              "#bd3786"
             ],
             [
              0.5555555555555556,
              "#d8576b"
             ],
             [
              0.6666666666666666,
              "#ed7953"
             ],
             [
              0.7777777777777778,
              "#fb9f3a"
             ],
             [
              0.8888888888888888,
              "#fdca26"
             ],
             [
              1,
              "#f0f921"
             ]
            ],
            "type": "surface"
           }
          ],
          "table": [
           {
            "cells": {
             "fill": {
              "color": "#EBF0F8"
             },
             "line": {
              "color": "white"
             }
            },
            "header": {
             "fill": {
              "color": "#C8D4E3"
             },
             "line": {
              "color": "white"
             }
            },
            "type": "table"
           }
          ]
         },
         "layout": {
          "annotationdefaults": {
           "arrowcolor": "#2a3f5f",
           "arrowhead": 0,
           "arrowwidth": 1
          },
          "autotypenumbers": "strict",
          "coloraxis": {
           "colorbar": {
            "outlinewidth": 0,
            "ticks": ""
           }
          },
          "colorscale": {
           "diverging": [
            [
             0,
             "#8e0152"
            ],
            [
             0.1,
             "#c51b7d"
            ],
            [
             0.2,
             "#de77ae"
            ],
            [
             0.3,
             "#f1b6da"
            ],
            [
             0.4,
             "#fde0ef"
            ],
            [
             0.5,
             "#f7f7f7"
            ],
            [
             0.6,
             "#e6f5d0"
            ],
            [
             0.7,
             "#b8e186"
            ],
            [
             0.8,
             "#7fbc41"
            ],
            [
             0.9,
             "#4d9221"
            ],
            [
             1,
             "#276419"
            ]
           ],
           "sequential": [
            [
             0,
             "#0d0887"
            ],
            [
             0.1111111111111111,
             "#46039f"
            ],
            [
             0.2222222222222222,
             "#7201a8"
            ],
            [
             0.3333333333333333,
             "#9c179e"
            ],
            [
             0.4444444444444444,
             "#bd3786"
            ],
            [
             0.5555555555555556,
             "#d8576b"
            ],
            [
             0.6666666666666666,
             "#ed7953"
            ],
            [
             0.7777777777777778,
             "#fb9f3a"
            ],
            [
             0.8888888888888888,
             "#fdca26"
            ],
            [
             1,
             "#f0f921"
            ]
           ],
           "sequentialminus": [
            [
             0,
             "#0d0887"
            ],
            [
             0.1111111111111111,
             "#46039f"
            ],
            [
             0.2222222222222222,
             "#7201a8"
            ],
            [
             0.3333333333333333,
             "#9c179e"
            ],
            [
             0.4444444444444444,
             "#bd3786"
            ],
            [
             0.5555555555555556,
             "#d8576b"
            ],
            [
             0.6666666666666666,
             "#ed7953"
            ],
            [
             0.7777777777777778,
             "#fb9f3a"
            ],
            [
             0.8888888888888888,
             "#fdca26"
            ],
            [
             1,
             "#f0f921"
            ]
           ]
          },
          "colorway": [
           "#636efa",
           "#EF553B",
           "#00cc96",
           "#ab63fa",
           "#FFA15A",
           "#19d3f3",
           "#FF6692",
           "#B6E880",
           "#FF97FF",
           "#FECB52"
          ],
          "font": {
           "color": "#2a3f5f"
          },
          "geo": {
           "bgcolor": "white",
           "lakecolor": "white",
           "landcolor": "#E5ECF6",
           "showlakes": true,
           "showland": true,
           "subunitcolor": "white"
          },
          "hoverlabel": {
           "align": "left"
          },
          "hovermode": "closest",
          "mapbox": {
           "style": "light"
          },
          "paper_bgcolor": "white",
          "plot_bgcolor": "#E5ECF6",
          "polar": {
           "angularaxis": {
            "gridcolor": "white",
            "linecolor": "white",
            "ticks": ""
           },
           "bgcolor": "#E5ECF6",
           "radialaxis": {
            "gridcolor": "white",
            "linecolor": "white",
            "ticks": ""
           }
          },
          "scene": {
           "xaxis": {
            "backgroundcolor": "#E5ECF6",
            "gridcolor": "white",
            "gridwidth": 2,
            "linecolor": "white",
            "showbackground": true,
            "ticks": "",
            "zerolinecolor": "white"
           },
           "yaxis": {
            "backgroundcolor": "#E5ECF6",
            "gridcolor": "white",
            "gridwidth": 2,
            "linecolor": "white",
            "showbackground": true,
            "ticks": "",
            "zerolinecolor": "white"
           },
           "zaxis": {
            "backgroundcolor": "#E5ECF6",
            "gridcolor": "white",
            "gridwidth": 2,
            "linecolor": "white",
            "showbackground": true,
            "ticks": "",
            "zerolinecolor": "white"
           }
          },
          "shapedefaults": {
           "line": {
            "color": "#2a3f5f"
           }
          },
          "ternary": {
           "aaxis": {
            "gridcolor": "white",
            "linecolor": "white",
            "ticks": ""
           },
           "baxis": {
            "gridcolor": "white",
            "linecolor": "white",
            "ticks": ""
           },
           "bgcolor": "#E5ECF6",
           "caxis": {
            "gridcolor": "white",
            "linecolor": "white",
            "ticks": ""
           }
          },
          "title": {
           "x": 0.05
          },
          "xaxis": {
           "automargin": true,
           "gridcolor": "white",
           "linecolor": "white",
           "ticks": "",
           "title": {
            "standoff": 15
           },
           "zerolinecolor": "white",
           "zerolinewidth": 2
          },
          "yaxis": {
           "automargin": true,
           "gridcolor": "white",
           "linecolor": "white",
           "ticks": "",
           "title": {
            "standoff": 15
           },
           "zerolinecolor": "white",
           "zerolinewidth": 2
          }
         }
        },
        "title": {
         "text": "Real vs. Synthetic Data for column 'fbs'"
        },
        "xaxis": {
         "anchor": "y",
         "domain": [
          0,
          1
         ],
         "title": {
          "text": "Category"
         }
        },
        "yaxis": {
         "anchor": "x",
         "domain": [
          0,
          1
         ],
         "title": {
          "text": "Frequency"
         }
        }
       }
      }
     },
     "metadata": {},
     "output_type": "display_data"
    },
    {
     "data": {
      "application/vnd.plotly.v1+json": {
       "config": {
        "plotlyServerURL": "https://plot.ly"
       },
       "data": [
        {
         "alignmentgroup": "True",
         "bingroup": "x",
         "histnorm": "probability density",
         "hovertemplate": "<b>Real</b><br>Frequency: %{y}<extra></extra>",
         "legendgroup": "Real",
         "marker": {
          "color": "#000036",
          "pattern": {
           "shape": ""
          }
         },
         "name": "Real",
         "offsetgroup": "Real",
         "orientation": "v",
         "showlegend": true,
         "type": "histogram",
         "x": [
          2,
          2,
          2,
          0,
          2,
          0,
          2,
          0,
          2,
          2,
          0,
          2,
          2,
          0,
          0,
          0,
          0,
          0,
          0,
          0,
          2,
          2,
          2,
          2,
          2,
          0,
          0,
          0,
          0,
          2,
          0,
          0,
          0,
          0,
          0,
          0,
          2,
          2,
          0,
          0,
          2,
          0,
          0,
          0,
          2,
          2,
          0,
          2,
          2,
          2,
          0,
          0,
          2,
          2,
          0,
          2,
          0,
          2,
          2,
          2,
          0,
          2,
          2,
          0,
          0,
          2,
          2,
          2,
          2,
          0,
          0,
          0,
          0,
          2,
          2,
          2,
          2,
          2,
          2,
          2,
          2,
          2,
          2,
          2,
          0,
          2,
          2,
          2,
          2,
          2,
          2,
          0,
          0,
          2,
          0,
          2,
          2,
          0,
          2,
          2,
          2,
          2,
          2,
          0,
          0,
          0,
          2,
          0,
          0,
          2,
          2,
          2,
          2,
          0,
          0,
          2,
          0,
          2,
          2,
          2,
          2,
          0,
          0,
          2,
          2,
          2,
          0,
          0,
          0,
          2,
          0,
          2,
          2,
          0,
          2,
          0,
          2,
          0,
          2,
          0,
          2,
          0,
          0,
          2,
          0,
          2,
          0,
          2,
          0,
          0,
          2,
          2,
          2,
          2,
          2,
          0,
          2,
          2,
          0,
          0,
          2,
          0,
          2,
          0,
          0,
          2,
          2,
          0,
          0,
          2,
          0,
          2,
          2,
          0,
          0,
          2,
          0,
          2,
          2,
          2,
          2,
          2,
          2,
          0,
          0,
          0,
          2,
          2,
          0,
          0,
          0,
          2,
          2,
          2,
          2,
          0,
          2,
          2,
          0,
          0,
          0,
          0,
          2,
          2,
          2,
          0,
          0,
          0,
          0,
          2,
          0,
          0,
          2,
          0,
          2,
          0,
          2,
          2,
          2,
          0,
          0,
          0,
          0,
          0,
          0,
          2,
          2,
          2,
          1,
          2,
          2,
          0,
          2,
          2,
          2,
          0,
          0,
          0,
          0,
          0,
          0,
          0,
          0,
          0,
          2,
          0,
          2,
          0,
          0,
          0,
          2,
          0,
          0,
          0,
          1,
          2,
          0,
          0,
          2,
          0,
          0,
          2,
          0,
          0,
          0,
          0,
          2,
          2,
          0,
          0,
          0,
          2,
          2,
          0,
          2,
          0,
          0,
          0,
          1,
          0,
          0,
          1,
          2,
          2,
          0,
          2,
          0,
          0,
          2,
          0,
          0,
          2,
          0,
          0,
          0,
          0,
          2
         ],
         "xaxis": "x",
         "yaxis": "y"
        },
        {
         "alignmentgroup": "True",
         "bingroup": "x",
         "histnorm": "probability density",
         "hovertemplate": "<b>Synthetic</b><br>Frequency: %{y}<extra></extra>",
         "legendgroup": "Synthetic",
         "marker": {
          "color": "#01E0C9",
          "pattern": {
           "shape": "/"
          }
         },
         "name": "Synthetic",
         "offsetgroup": "Synthetic",
         "orientation": "v",
         "showlegend": true,
         "type": "histogram",
         "x": [
          2,
          0,
          0,
          0,
          0,
          1,
          2,
          0,
          0,
          2,
          2,
          2,
          2,
          0,
          2,
          2,
          2,
          2,
          2,
          0,
          2,
          0,
          2,
          2,
          2,
          2,
          2,
          2,
          2,
          0,
          0,
          2,
          2,
          2,
          1,
          2,
          2,
          2,
          2,
          0,
          0,
          2,
          0,
          2,
          0,
          2,
          2,
          0,
          2,
          0,
          0,
          2,
          2,
          2,
          0,
          0,
          2,
          0,
          0,
          2,
          2,
          2,
          2,
          0,
          0,
          2,
          2,
          0,
          0,
          0,
          2,
          0,
          0,
          2,
          0,
          2,
          0,
          2,
          2,
          2,
          0,
          0,
          2,
          0,
          0,
          2,
          2,
          0,
          2,
          2,
          2,
          2,
          0,
          2,
          2,
          2,
          0,
          0,
          2,
          2,
          0,
          2,
          2,
          2,
          2,
          2,
          0,
          0,
          0,
          2,
          2,
          2,
          0,
          2,
          0,
          2,
          0,
          0,
          0,
          0,
          2,
          2,
          0,
          2,
          0,
          0,
          0,
          2,
          2,
          2,
          2,
          1,
          2,
          2,
          0,
          2,
          2,
          2,
          0,
          0,
          2,
          0,
          0,
          0,
          2,
          2,
          2,
          0,
          2,
          0,
          2,
          0,
          2,
          2,
          0,
          2,
          1,
          2,
          0,
          2,
          2,
          0,
          2,
          2,
          2,
          2,
          2,
          2,
          2,
          2,
          0,
          0,
          2,
          1,
          2,
          0,
          2,
          2,
          2,
          2,
          0,
          2,
          0,
          2,
          2,
          0,
          2,
          2,
          2,
          0,
          2,
          2,
          0,
          0,
          0,
          1,
          0,
          0,
          2,
          2,
          2,
          0,
          0,
          0,
          2,
          2,
          2,
          0,
          0,
          2,
          2,
          2,
          2,
          2,
          2,
          2,
          0,
          2,
          0,
          0,
          0,
          0,
          2,
          1,
          2,
          2,
          2,
          0,
          0,
          0,
          2,
          0,
          2,
          0,
          0,
          0,
          0,
          0,
          2,
          2,
          0,
          0,
          2,
          2,
          2,
          0,
          2,
          2,
          2,
          2,
          2,
          0,
          2,
          0,
          2,
          0,
          2,
          0,
          2,
          2,
          0,
          0,
          2,
          0,
          0,
          2,
          2,
          2,
          2,
          2,
          0,
          0,
          2,
          0,
          2,
          0,
          0,
          2,
          2,
          2,
          2,
          2,
          0,
          0,
          2,
          2,
          2,
          2,
          2,
          0,
          0,
          0,
          0,
          2,
          0,
          0,
          2,
          2,
          0,
          0
         ],
         "xaxis": "x",
         "yaxis": "y"
        }
       ],
       "layout": {
        "barmode": "group",
        "legend": {
         "title": {
          "text": "Data"
         },
         "tracegroupgap": 0
        },
        "margin": {
         "t": 60
        },
        "plot_bgcolor": "#F5F5F8",
        "template": {
         "data": {
          "bar": [
           {
            "error_x": {
             "color": "#2a3f5f"
            },
            "error_y": {
             "color": "#2a3f5f"
            },
            "marker": {
             "line": {
              "color": "#E5ECF6",
              "width": 0.5
             },
             "pattern": {
              "fillmode": "overlay",
              "size": 10,
              "solidity": 0.2
             }
            },
            "type": "bar"
           }
          ],
          "barpolar": [
           {
            "marker": {
             "line": {
              "color": "#E5ECF6",
              "width": 0.5
             },
             "pattern": {
              "fillmode": "overlay",
              "size": 10,
              "solidity": 0.2
             }
            },
            "type": "barpolar"
           }
          ],
          "carpet": [
           {
            "aaxis": {
             "endlinecolor": "#2a3f5f",
             "gridcolor": "white",
             "linecolor": "white",
             "minorgridcolor": "white",
             "startlinecolor": "#2a3f5f"
            },
            "baxis": {
             "endlinecolor": "#2a3f5f",
             "gridcolor": "white",
             "linecolor": "white",
             "minorgridcolor": "white",
             "startlinecolor": "#2a3f5f"
            },
            "type": "carpet"
           }
          ],
          "choropleth": [
           {
            "colorbar": {
             "outlinewidth": 0,
             "ticks": ""
            },
            "type": "choropleth"
           }
          ],
          "contour": [
           {
            "colorbar": {
             "outlinewidth": 0,
             "ticks": ""
            },
            "colorscale": [
             [
              0,
              "#0d0887"
             ],
             [
              0.1111111111111111,
              "#46039f"
             ],
             [
              0.2222222222222222,
              "#7201a8"
             ],
             [
              0.3333333333333333,
              "#9c179e"
             ],
             [
              0.4444444444444444,
              "#bd3786"
             ],
             [
              0.5555555555555556,
              "#d8576b"
             ],
             [
              0.6666666666666666,
              "#ed7953"
             ],
             [
              0.7777777777777778,
              "#fb9f3a"
             ],
             [
              0.8888888888888888,
              "#fdca26"
             ],
             [
              1,
              "#f0f921"
             ]
            ],
            "type": "contour"
           }
          ],
          "contourcarpet": [
           {
            "colorbar": {
             "outlinewidth": 0,
             "ticks": ""
            },
            "type": "contourcarpet"
           }
          ],
          "heatmap": [
           {
            "colorbar": {
             "outlinewidth": 0,
             "ticks": ""
            },
            "colorscale": [
             [
              0,
              "#0d0887"
             ],
             [
              0.1111111111111111,
              "#46039f"
             ],
             [
              0.2222222222222222,
              "#7201a8"
             ],
             [
              0.3333333333333333,
              "#9c179e"
             ],
             [
              0.4444444444444444,
              "#bd3786"
             ],
             [
              0.5555555555555556,
              "#d8576b"
             ],
             [
              0.6666666666666666,
              "#ed7953"
             ],
             [
              0.7777777777777778,
              "#fb9f3a"
             ],
             [
              0.8888888888888888,
              "#fdca26"
             ],
             [
              1,
              "#f0f921"
             ]
            ],
            "type": "heatmap"
           }
          ],
          "heatmapgl": [
           {
            "colorbar": {
             "outlinewidth": 0,
             "ticks": ""
            },
            "colorscale": [
             [
              0,
              "#0d0887"
             ],
             [
              0.1111111111111111,
              "#46039f"
             ],
             [
              0.2222222222222222,
              "#7201a8"
             ],
             [
              0.3333333333333333,
              "#9c179e"
             ],
             [
              0.4444444444444444,
              "#bd3786"
             ],
             [
              0.5555555555555556,
              "#d8576b"
             ],
             [
              0.6666666666666666,
              "#ed7953"
             ],
             [
              0.7777777777777778,
              "#fb9f3a"
             ],
             [
              0.8888888888888888,
              "#fdca26"
             ],
             [
              1,
              "#f0f921"
             ]
            ],
            "type": "heatmapgl"
           }
          ],
          "histogram": [
           {
            "marker": {
             "pattern": {
              "fillmode": "overlay",
              "size": 10,
              "solidity": 0.2
             }
            },
            "type": "histogram"
           }
          ],
          "histogram2d": [
           {
            "colorbar": {
             "outlinewidth": 0,
             "ticks": ""
            },
            "colorscale": [
             [
              0,
              "#0d0887"
             ],
             [
              0.1111111111111111,
              "#46039f"
             ],
             [
              0.2222222222222222,
              "#7201a8"
             ],
             [
              0.3333333333333333,
              "#9c179e"
             ],
             [
              0.4444444444444444,
              "#bd3786"
             ],
             [
              0.5555555555555556,
              "#d8576b"
             ],
             [
              0.6666666666666666,
              "#ed7953"
             ],
             [
              0.7777777777777778,
              "#fb9f3a"
             ],
             [
              0.8888888888888888,
              "#fdca26"
             ],
             [
              1,
              "#f0f921"
             ]
            ],
            "type": "histogram2d"
           }
          ],
          "histogram2dcontour": [
           {
            "colorbar": {
             "outlinewidth": 0,
             "ticks": ""
            },
            "colorscale": [
             [
              0,
              "#0d0887"
             ],
             [
              0.1111111111111111,
              "#46039f"
             ],
             [
              0.2222222222222222,
              "#7201a8"
             ],
             [
              0.3333333333333333,
              "#9c179e"
             ],
             [
              0.4444444444444444,
              "#bd3786"
             ],
             [
              0.5555555555555556,
              "#d8576b"
             ],
             [
              0.6666666666666666,
              "#ed7953"
             ],
             [
              0.7777777777777778,
              "#fb9f3a"
             ],
             [
              0.8888888888888888,
              "#fdca26"
             ],
             [
              1,
              "#f0f921"
             ]
            ],
            "type": "histogram2dcontour"
           }
          ],
          "mesh3d": [
           {
            "colorbar": {
             "outlinewidth": 0,
             "ticks": ""
            },
            "type": "mesh3d"
           }
          ],
          "parcoords": [
           {
            "line": {
             "colorbar": {
              "outlinewidth": 0,
              "ticks": ""
             }
            },
            "type": "parcoords"
           }
          ],
          "pie": [
           {
            "automargin": true,
            "type": "pie"
           }
          ],
          "scatter": [
           {
            "fillpattern": {
             "fillmode": "overlay",
             "size": 10,
             "solidity": 0.2
            },
            "type": "scatter"
           }
          ],
          "scatter3d": [
           {
            "line": {
             "colorbar": {
              "outlinewidth": 0,
              "ticks": ""
             }
            },
            "marker": {
             "colorbar": {
              "outlinewidth": 0,
              "ticks": ""
             }
            },
            "type": "scatter3d"
           }
          ],
          "scattercarpet": [
           {
            "marker": {
             "colorbar": {
              "outlinewidth": 0,
              "ticks": ""
             }
            },
            "type": "scattercarpet"
           }
          ],
          "scattergeo": [
           {
            "marker": {
             "colorbar": {
              "outlinewidth": 0,
              "ticks": ""
             }
            },
            "type": "scattergeo"
           }
          ],
          "scattergl": [
           {
            "marker": {
             "colorbar": {
              "outlinewidth": 0,
              "ticks": ""
             }
            },
            "type": "scattergl"
           }
          ],
          "scattermapbox": [
           {
            "marker": {
             "colorbar": {
              "outlinewidth": 0,
              "ticks": ""
             }
            },
            "type": "scattermapbox"
           }
          ],
          "scatterpolar": [
           {
            "marker": {
             "colorbar": {
              "outlinewidth": 0,
              "ticks": ""
             }
            },
            "type": "scatterpolar"
           }
          ],
          "scatterpolargl": [
           {
            "marker": {
             "colorbar": {
              "outlinewidth": 0,
              "ticks": ""
             }
            },
            "type": "scatterpolargl"
           }
          ],
          "scatterternary": [
           {
            "marker": {
             "colorbar": {
              "outlinewidth": 0,
              "ticks": ""
             }
            },
            "type": "scatterternary"
           }
          ],
          "surface": [
           {
            "colorbar": {
             "outlinewidth": 0,
             "ticks": ""
            },
            "colorscale": [
             [
              0,
              "#0d0887"
             ],
             [
              0.1111111111111111,
              "#46039f"
             ],
             [
              0.2222222222222222,
              "#7201a8"
             ],
             [
              0.3333333333333333,
              "#9c179e"
             ],
             [
              0.4444444444444444,
              "#bd3786"
             ],
             [
              0.5555555555555556,
              "#d8576b"
             ],
             [
              0.6666666666666666,
              "#ed7953"
             ],
             [
              0.7777777777777778,
              "#fb9f3a"
             ],
             [
              0.8888888888888888,
              "#fdca26"
             ],
             [
              1,
              "#f0f921"
             ]
            ],
            "type": "surface"
           }
          ],
          "table": [
           {
            "cells": {
             "fill": {
              "color": "#EBF0F8"
             },
             "line": {
              "color": "white"
             }
            },
            "header": {
             "fill": {
              "color": "#C8D4E3"
             },
             "line": {
              "color": "white"
             }
            },
            "type": "table"
           }
          ]
         },
         "layout": {
          "annotationdefaults": {
           "arrowcolor": "#2a3f5f",
           "arrowhead": 0,
           "arrowwidth": 1
          },
          "autotypenumbers": "strict",
          "coloraxis": {
           "colorbar": {
            "outlinewidth": 0,
            "ticks": ""
           }
          },
          "colorscale": {
           "diverging": [
            [
             0,
             "#8e0152"
            ],
            [
             0.1,
             "#c51b7d"
            ],
            [
             0.2,
             "#de77ae"
            ],
            [
             0.3,
             "#f1b6da"
            ],
            [
             0.4,
             "#fde0ef"
            ],
            [
             0.5,
             "#f7f7f7"
            ],
            [
             0.6,
             "#e6f5d0"
            ],
            [
             0.7,
             "#b8e186"
            ],
            [
             0.8,
             "#7fbc41"
            ],
            [
             0.9,
             "#4d9221"
            ],
            [
             1,
             "#276419"
            ]
           ],
           "sequential": [
            [
             0,
             "#0d0887"
            ],
            [
             0.1111111111111111,
             "#46039f"
            ],
            [
             0.2222222222222222,
             "#7201a8"
            ],
            [
             0.3333333333333333,
             "#9c179e"
            ],
            [
             0.4444444444444444,
             "#bd3786"
            ],
            [
             0.5555555555555556,
             "#d8576b"
            ],
            [
             0.6666666666666666,
             "#ed7953"
            ],
            [
             0.7777777777777778,
             "#fb9f3a"
            ],
            [
             0.8888888888888888,
             "#fdca26"
            ],
            [
             1,
             "#f0f921"
            ]
           ],
           "sequentialminus": [
            [
             0,
             "#0d0887"
            ],
            [
             0.1111111111111111,
             "#46039f"
            ],
            [
             0.2222222222222222,
             "#7201a8"
            ],
            [
             0.3333333333333333,
             "#9c179e"
            ],
            [
             0.4444444444444444,
             "#bd3786"
            ],
            [
             0.5555555555555556,
             "#d8576b"
            ],
            [
             0.6666666666666666,
             "#ed7953"
            ],
            [
             0.7777777777777778,
             "#fb9f3a"
            ],
            [
             0.8888888888888888,
             "#fdca26"
            ],
            [
             1,
             "#f0f921"
            ]
           ]
          },
          "colorway": [
           "#636efa",
           "#EF553B",
           "#00cc96",
           "#ab63fa",
           "#FFA15A",
           "#19d3f3",
           "#FF6692",
           "#B6E880",
           "#FF97FF",
           "#FECB52"
          ],
          "font": {
           "color": "#2a3f5f"
          },
          "geo": {
           "bgcolor": "white",
           "lakecolor": "white",
           "landcolor": "#E5ECF6",
           "showlakes": true,
           "showland": true,
           "subunitcolor": "white"
          },
          "hoverlabel": {
           "align": "left"
          },
          "hovermode": "closest",
          "mapbox": {
           "style": "light"
          },
          "paper_bgcolor": "white",
          "plot_bgcolor": "#E5ECF6",
          "polar": {
           "angularaxis": {
            "gridcolor": "white",
            "linecolor": "white",
            "ticks": ""
           },
           "bgcolor": "#E5ECF6",
           "radialaxis": {
            "gridcolor": "white",
            "linecolor": "white",
            "ticks": ""
           }
          },
          "scene": {
           "xaxis": {
            "backgroundcolor": "#E5ECF6",
            "gridcolor": "white",
            "gridwidth": 2,
            "linecolor": "white",
            "showbackground": true,
            "ticks": "",
            "zerolinecolor": "white"
           },
           "yaxis": {
            "backgroundcolor": "#E5ECF6",
            "gridcolor": "white",
            "gridwidth": 2,
            "linecolor": "white",
            "showbackground": true,
            "ticks": "",
            "zerolinecolor": "white"
           },
           "zaxis": {
            "backgroundcolor": "#E5ECF6",
            "gridcolor": "white",
            "gridwidth": 2,
            "linecolor": "white",
            "showbackground": true,
            "ticks": "",
            "zerolinecolor": "white"
           }
          },
          "shapedefaults": {
           "line": {
            "color": "#2a3f5f"
           }
          },
          "ternary": {
           "aaxis": {
            "gridcolor": "white",
            "linecolor": "white",
            "ticks": ""
           },
           "baxis": {
            "gridcolor": "white",
            "linecolor": "white",
            "ticks": ""
           },
           "bgcolor": "#E5ECF6",
           "caxis": {
            "gridcolor": "white",
            "linecolor": "white",
            "ticks": ""
           }
          },
          "title": {
           "x": 0.05
          },
          "xaxis": {
           "automargin": true,
           "gridcolor": "white",
           "linecolor": "white",
           "ticks": "",
           "title": {
            "standoff": 15
           },
           "zerolinecolor": "white",
           "zerolinewidth": 2
          },
          "yaxis": {
           "automargin": true,
           "gridcolor": "white",
           "linecolor": "white",
           "ticks": "",
           "title": {
            "standoff": 15
           },
           "zerolinecolor": "white",
           "zerolinewidth": 2
          }
         }
        },
        "title": {
         "text": "Real vs. Synthetic Data for column 'restecg'"
        },
        "xaxis": {
         "anchor": "y",
         "domain": [
          0,
          1
         ],
         "title": {
          "text": "Category"
         }
        },
        "yaxis": {
         "anchor": "x",
         "domain": [
          0,
          1
         ],
         "title": {
          "text": "Frequency"
         }
        }
       }
      }
     },
     "metadata": {},
     "output_type": "display_data"
    },
    {
     "data": {
      "application/vnd.plotly.v1+json": {
       "config": {
        "plotlyServerURL": "https://plot.ly"
       },
       "data": [
        {
         "fill": "tozeroy",
         "hovertemplate": "<b>Real</b><br>Value: %{x}<br>Frequency: %{y}<extra></extra>",
         "legendgroup": "Real",
         "marker": {
          "color": "#000036"
         },
         "mode": "lines",
         "name": "Real",
         "showlegend": true,
         "type": "scatter",
         "x": [
          71,
          71.262,
          71.524,
          71.786,
          72.048,
          72.31,
          72.572,
          72.834,
          73.096,
          73.358,
          73.62,
          73.882,
          74.144,
          74.406,
          74.668,
          74.93,
          75.19200000000001,
          75.454,
          75.716,
          75.978,
          76.24,
          76.502,
          76.764,
          77.026,
          77.288,
          77.55,
          77.812,
          78.074,
          78.336,
          78.598,
          78.86,
          79.122,
          79.384,
          79.646,
          79.908,
          80.17,
          80.432,
          80.694,
          80.956,
          81.218,
          81.48,
          81.742,
          82.004,
          82.266,
          82.528,
          82.78999999999999,
          83.05199999999999,
          83.314,
          83.576,
          83.838,
          84.1,
          84.362,
          84.624,
          84.886,
          85.148,
          85.41,
          85.672,
          85.934,
          86.196,
          86.458,
          86.72,
          86.982,
          87.244,
          87.506,
          87.768,
          88.03,
          88.292,
          88.554,
          88.816,
          89.078,
          89.34,
          89.602,
          89.864,
          90.126,
          90.388,
          90.65,
          90.912,
          91.174,
          91.436,
          91.69800000000001,
          91.96000000000001,
          92.22200000000001,
          92.48400000000001,
          92.746,
          93.008,
          93.27,
          93.532,
          93.794,
          94.056,
          94.318,
          94.58,
          94.842,
          95.104,
          95.366,
          95.628,
          95.89,
          96.152,
          96.414,
          96.676,
          96.938,
          97.2,
          97.462,
          97.724,
          97.986,
          98.248,
          98.51,
          98.77199999999999,
          99.03399999999999,
          99.29599999999999,
          99.55799999999999,
          99.82,
          100.082,
          100.344,
          100.606,
          100.868,
          101.13,
          101.392,
          101.654,
          101.916,
          102.178,
          102.44,
          102.702,
          102.964,
          103.226,
          103.488,
          103.75,
          104.012,
          104.274,
          104.536,
          104.798,
          105.06,
          105.322,
          105.584,
          105.846,
          106.108,
          106.37,
          106.632,
          106.894,
          107.156,
          107.418,
          107.68,
          107.94200000000001,
          108.20400000000001,
          108.46600000000001,
          108.72800000000001,
          108.99000000000001,
          109.25200000000001,
          109.51400000000001,
          109.77600000000001,
          110.038,
          110.3,
          110.562,
          110.824,
          111.086,
          111.348,
          111.61,
          111.872,
          112.134,
          112.396,
          112.658,
          112.92,
          113.182,
          113.444,
          113.706,
          113.968,
          114.22999999999999,
          114.49199999999999,
          114.75399999999999,
          115.01599999999999,
          115.27799999999999,
          115.53999999999999,
          115.80199999999999,
          116.064,
          116.326,
          116.588,
          116.85,
          117.112,
          117.374,
          117.636,
          117.898,
          118.16,
          118.422,
          118.684,
          118.946,
          119.208,
          119.47,
          119.732,
          119.994,
          120.256,
          120.518,
          120.78,
          121.042,
          121.304,
          121.566,
          121.828,
          122.09,
          122.352,
          122.614,
          122.876,
          123.138,
          123.4,
          123.662,
          123.924,
          124.186,
          124.44800000000001,
          124.71000000000001,
          124.97200000000001,
          125.23400000000001,
          125.49600000000001,
          125.75800000000001,
          126.02000000000001,
          126.282,
          126.544,
          126.806,
          127.068,
          127.33,
          127.592,
          127.854,
          128.11599999999999,
          128.378,
          128.64,
          128.902,
          129.164,
          129.426,
          129.688,
          129.95,
          130.212,
          130.474,
          130.736,
          130.998,
          131.26,
          131.522,
          131.784,
          132.046,
          132.308,
          132.57,
          132.832,
          133.094,
          133.356,
          133.618,
          133.88,
          134.142,
          134.404,
          134.666,
          134.928,
          135.19,
          135.452,
          135.714,
          135.976,
          136.238,
          136.5,
          136.762,
          137.024,
          137.286,
          137.548,
          137.81,
          138.072,
          138.334,
          138.596,
          138.858,
          139.12,
          139.382,
          139.644,
          139.906,
          140.168,
          140.43,
          140.692,
          140.954,
          141.216,
          141.478,
          141.74,
          142.002,
          142.264,
          142.526,
          142.788,
          143.05,
          143.312,
          143.574,
          143.836,
          144.098,
          144.36,
          144.622,
          144.88400000000001,
          145.14600000000002,
          145.40800000000002,
          145.67000000000002,
          145.93200000000002,
          146.19400000000002,
          146.45600000000002,
          146.71800000000002,
          146.98000000000002,
          147.24200000000002,
          147.50400000000002,
          147.76600000000002,
          148.02800000000002,
          148.29000000000002,
          148.55200000000002,
          148.814,
          149.076,
          149.338,
          149.6,
          149.862,
          150.124,
          150.386,
          150.648,
          150.91,
          151.172,
          151.434,
          151.696,
          151.958,
          152.22,
          152.482,
          152.744,
          153.006,
          153.268,
          153.53,
          153.792,
          154.054,
          154.316,
          154.578,
          154.84,
          155.102,
          155.364,
          155.626,
          155.888,
          156.15,
          156.412,
          156.674,
          156.936,
          157.19799999999998,
          157.45999999999998,
          157.72199999999998,
          157.98399999999998,
          158.24599999999998,
          158.50799999999998,
          158.76999999999998,
          159.03199999999998,
          159.29399999999998,
          159.55599999999998,
          159.81799999999998,
          160.07999999999998,
          160.34199999999998,
          160.60399999999998,
          160.86599999999999,
          161.128,
          161.39,
          161.652,
          161.914,
          162.176,
          162.438,
          162.7,
          162.962,
          163.224,
          163.486,
          163.748,
          164.01,
          164.272,
          164.534,
          164.796,
          165.058,
          165.32,
          165.582,
          165.844,
          166.106,
          166.368,
          166.63,
          166.892,
          167.154,
          167.416,
          167.678,
          167.94,
          168.202,
          168.464,
          168.726,
          168.988,
          169.25,
          169.512,
          169.774,
          170.036,
          170.298,
          170.56,
          170.822,
          171.084,
          171.346,
          171.608,
          171.87,
          172.132,
          172.394,
          172.656,
          172.918,
          173.18,
          173.442,
          173.704,
          173.966,
          174.228,
          174.49,
          174.752,
          175.014,
          175.276,
          175.538,
          175.8,
          176.062,
          176.324,
          176.586,
          176.848,
          177.11,
          177.372,
          177.63400000000001,
          177.89600000000002,
          178.15800000000002,
          178.42000000000002,
          178.68200000000002,
          178.94400000000002,
          179.20600000000002,
          179.46800000000002,
          179.73000000000002,
          179.99200000000002,
          180.25400000000002,
          180.51600000000002,
          180.77800000000002,
          181.04000000000002,
          181.30200000000002,
          181.564,
          181.826,
          182.088,
          182.35,
          182.612,
          182.874,
          183.136,
          183.398,
          183.66,
          183.922,
          184.184,
          184.446,
          184.708,
          184.97,
          185.232,
          185.494,
          185.756,
          186.018,
          186.28,
          186.542,
          186.804,
          187.066,
          187.328,
          187.59,
          187.852,
          188.114,
          188.376,
          188.638,
          188.9,
          189.162,
          189.424,
          189.686,
          189.94799999999998,
          190.20999999999998,
          190.47199999999998,
          190.73399999999998,
          190.99599999999998,
          191.25799999999998,
          191.51999999999998,
          191.78199999999998,
          192.04399999999998,
          192.30599999999998,
          192.56799999999998,
          192.82999999999998,
          193.09199999999998,
          193.35399999999998,
          193.61599999999999,
          193.878,
          194.14,
          194.402,
          194.664,
          194.926,
          195.188,
          195.45,
          195.712,
          195.974,
          196.236,
          196.498,
          196.76,
          197.022,
          197.284,
          197.546,
          197.808,
          198.07,
          198.332,
          198.594,
          198.856,
          199.118,
          199.38,
          199.642,
          199.904,
          200.166,
          200.428,
          200.69,
          200.952,
          201.214,
          201.476,
          201.738
         ],
         "xaxis": "x",
         "y": [
          0.00020438152695635364,
          0.0002062809921241519,
          0.00020810849581966203,
          0.0002098752254514718,
          0.00021159359369759677,
          0.00021327721539788908,
          0.0002149408769632439,
          0.0002166004984151094,
          0.0002182730882267326,
          0.00021997669119416327,
          0.00022173032961976516,
          0.0002235539381432992,
          0.00022546829260507758,
          0.0002274949333717804,
          0.000229656083597848,
          0.00023197456293357863,
          0.00023447369722481463,
          0.00023717722477816324,
          0.00024010919978983928,
          0.0002432938935552839,
          0.00024675569409063293,
          0.00025051900480580966,
          0.00025460814287254157,
          0.00025904723792902657,
          0.0002638601317563942,
          0.00026907027955073873,
          0.0002747006533985385,
          0.00028077364854297074,
          0.0002873109930043332,
          0.00029433366108975686,
          0.0003018617912960352,
          0.0003099146090751047,
          0.00031851035489479935,
          0.0003276662179884807,
          0.00033739827614632546,
          0.0003477214418588814,
          0.0003586494150804051,
          0.0003701946428357502,
          0.00038236828585070114,
          0.0003951801923418207,
          0.0004086388790585442,
          0.000422751519627645,
          0.00043752394020853553,
          0.0004529606224274508,
          0.00046906471351950487,
          0.00048583804357006975,
          0.0005032811497110954,
          0.0005213933070937479,
          0.0005401725664264201,
          0.0005596157978364575,
          0.0005797187407850715,
          0.0006004760597377271,
          0.0006218814052666849,
          0.0006439274802384194,
          0.0006666061107160476,
          0.00068990832118569,
          0.0007138244136958145,
          0.0007383440504797677,
          0.0007634563396140321,
          0.0007891499232480801,
          0.0008154130679259363,
          0.0008422337565047756,
          0.0008695997811620888,
          0.0008974988369699998,
          0.0009259186155036218,
          0.0009548468979396288,
          0.0009842716470919602,
          0.0010141810978237576,
          0.001044563845268546,
          0.0010754089302896178,
          0.0011067059216047076,
          0.0011384449940038599,
          0.0011706170020919988,
          0.0012032135489946395,
          0.001236227049475715,
          0.0012696507869308594,
          0.0013034789637382598,
          0.0013377067444724166,
          0.001372330291514276,
          0.0014073467926244314,
          0.0014427544800845369,
          0.0014785526410559537,
          0.001514741618854009,
          0.0015513228048909629,
          0.0015882986211009816,
          0.001625672492725569,
          0.0016634488114082514,
          0.0017016328886218068,
          0.0017402308995302076,
          0.0017792498174696255,
          0.0018186973393179936,
          0.0018585818021097148,
          0.0018989120913408537,
          0.0019396975414987501,
          0.0019809478294387415,
          0.002022672861317247,
          0.0020648826538748623,
          0.0021075872109436898,
          0.0021507963961288957,
          0.0021945198026846057,
          0.0022387666216671744,
          0.0022835455095041447,
          0.0023288644561633236,
          0.0023747306551428213,
          0.002421150376528478,
          0.0024681288443793776,
          0.002515670119704182,
          0.0025637769902806294,
          0.002612450868546874,
          0.0026616916987567364,
          0.0027114978745406914,
          0.002761866167950943,
          0.002812791670992444,
          0.002864267750552205,
          0.002916286017537757,
          0.0029688363109222743,
          0.003021906697270005,
          0.0030754834861817758,
          0.003129551261957843,
          0.0031840929316254056,
          0.0032390897893219838,
          0.0032945215968649597,
          0.0033503666801737884,
          0.003406602041045736,
          0.00346320348362071,
          0.003520145754707369,
          0.00357740269698262,
          0.0036349474139222362,
          0.0036927524451729637,
          0.0037507899509377413,
          0.003809031903817731,
          0.0038674502864389075,
          0.003926017293088482,
          0.0039847055334994675,
          0.004043488236850587,
          0.004102339453995756,
          0.004161234255902522,
          0.0042201489262639206,
          0.004279061146253263,
          0.004337950169417203,
          0.004396796984749421,
          0.004455584466055373,
          0.004514297505807696,
          0.0045729231318019205,
          0.00463145060505236,
          0.004689871497517673,
          0.004748179748413978,
          0.004806371698058606,
          0.004864446098389313,
          0.004922404099518917,
          0.004980249211913781,
          0.005037987244022478,
          0.0050956262154279435,
          0.005153176245848631,
          0.005210649420570014,
          0.005268059633144637,
          0.005325422406453491,
          0.005382754693471904,
          0.005440074659326032,
          0.005497401446459117,
          0.0055547549249465086,
          0.005612155430203849,
          0.005669623490518996,
          0.005727179547005407,
          0.0057848436687183745,
          0.00584263526579469,
          0.005900572803569665,
          0.005958673520689284,
          0.006016953154271447,
          0.006075425675174542,
          0.006134103036405363,
          0.006192994937640637,
          0.00625210860874654,
          0.0063114486150598215,
          0.006371016687042385,
          0.0064308115767393054,
          0.00649082894326078,
          0.006551061269270507,
          0.006611497810202034,
          0.006672124577638873,
          0.006732924357989685,
          0.0067938767672666095,
          0.006854958342438072,
          0.00691614266947798,
          0.006977400547876468,
          0.007038700191015562,
          0.007100007461449542,
          0.007161286139769267,
          0.007222498225373979,
          0.0072836042671283584,
          0.0073445637215492346,
          0.007405335335849095,
          0.007465877552865735,
          0.007526148934631645,
          0.007586108601086971,
          0.00764571668021725,
          0.0077049347657058625,
          0.007763726378031646,
          0.00782205742481819,
          0.007879896656152704,
          0.007937216110542196,
          0.00799399154716237,
          0.00805020286008258,
          0.008105834470216828,
          0.008160875690858192,
          0.008215321062800348,
          0.008269170655235273,
          0.0083224303288398,
          0.008375111957723344,
          0.008427233607204905,
          0.008478819664715012,
          0.008529900921478336,
          0.008580514603019779,
          0.008630704346950326,
          0.008680520126924673,
          0.008730018122117315,
          0.008779260532033971,
          0.008828315336957352,
          0.008877256004815174,
          0.008926161145751501,
          0.008975114116173792,
          0.009024202574534037,
          0.009073517991578697,
          0.009123155118262187,
          0.00917321141496104,
          0.009223786446042905,
          0.009274981244232922,
          0.009326897649576156,
          0.009379637628112586,
          0.009433302575658711,
          0.009487992612320669,
          0.00954380587354879,
          0.009600837803674097,
          0.009659180457946228,
          0.00971892181911387,
          0.009780145134553412,
          0.00984292827985663,
          0.009907343154635808,
          0.009973455116091783,
          0.010041322455621109,
          0.010110995923411383,
          0.010182518305594647,
          0.010255924058095486,
          0.010331239000832463,
          0.01040848007540741,
          0.0104876551688564,
          0.010568763005439467,
          0.010651793107824364,
          0.010736725828374065,
          0.010823532450588497,
          0.010912175360083287,
          0.011002608283819661,
          0.011094776595637451,
          0.01118861768549424,
          0.011284061389185971,
          0.011381030474724038,
          0.01147944118097828,
          0.011579203803671192,
          0.011680223323331494,
          0.011782400069390419,
          0.011885630414237732,
          0.011989807490750097,
          0.012094821926564504,
          0.012200562588200676,
          0.012306917328034713,
          0.012413773727100483,
          0.012521019826737593,
          0.012628544842222943,
          0.012736239851708554,
          0.012843998454044598,
          0.012951717389386894,
          0.01305929711687247,
          0.0131666423440868,
          0.013273662503540739,
          0.013380272171916355,
          0.013486391428423679,
          0.01359194614922809,
          0.013696868235554042,
          0.013801095773738942,
          0.013904573126192463,
          0.014007250952905687,
          0.014109086163844332,
          0.014210041803241745,
          0.01431008686747619,
          0.014409196058865136,
          0.014507349478330545,
          0.01460453226047708,
          0.01470073415517756,
          0.014795949060264973,
          0.014890174510393409,
          0.01498341112753532,
          0.015075662038938776,
          0.015166932268661995,
          0.015257228109039211,
          0.015346556478605718,
          0.01543492427312014,
          0.015522337716371843,
          0.01560880171744468,
          0.015694319241031218,
          0.015778890697252818,
          0.015862513357241807,
          0.01594518080048585,
          0.01602688239962302,
          0.01610760284801265,
          0.016187321734995246,
          0.016266013173297084,
          0.016343645482537913,
          0.01642018093226567,
          0.01649557554737631,
          0.01656977897818458,
          0.01664273443679683,
          0.016714378700807848,
          0.016784642184701756,
          0.01685344907869223,
          0.016920717554092086,
          0.016986360033664313,
          0.017050283524781513,
          0.01711239001261254,
          0.01717257690997423,
          0.017230737559930206,
          0.01728676178670421,
          0.017340536489995142,
          0.017391946277350925,
          0.017440874128876915,
          0.017487202088225906,
          0.01753081197354907,
          0.017571586101879443,
          0.01760940802027607,
          0.01764416323697965,
          0.017675739945823495,
          0.01770402973720041,
          0.017728928289017298,
          0.017750336031263955,
          0.017768158778086574,
          0.01778230832158376,
          0.017792702981931165,
          0.017799268108887583,
          0.017801936530235096,
          0.0178006489432521,
          0.01779535424590779,
          0.01778600980509179,
          0.017772581659844598,
          0.01775504465823031,
          0.01773338252717925,
          0.017707587875322808,
          0.017677662129531424,
          0.01764361540654723,
          0.01760546632176216,
          0.017563241737826134,
          0.017516976456368467,
          0.01746671285667198,
          0.01741250048564869,
          0.017354395603919857,
          0.0172924606931969,
          0.017226763930491284,
          0.017157378634942964,
          0.017084382693249626,
          0.017007857969798715,
          0.0169278897076513,
          0.016844565926501215,
          0.016757976823636184,
          0.01666821418376112,
          0.01657537080331235,
          0.016479539934597665,
          0.01638081475474585,
          0.01627928786404771,
          0.016175050817823066,
          0.01606819369546202,
          0.01595880470977266,
          0.015846969859225537,
          0.015732772625129256,
          0.015616293715205433,
          0.015497610854465724,
          0.015376798623734148,
          0.015253928345611598,
          0.015129068017155594,
          0.015002282288049418,
          0.01487363248256901,
          0.014743176663228367,
          0.014610969733597858,
          0.014477063577448036,
          0.01434150723107984,
          0.014204347085458069,
          0.014065627114573624,
          0.013925389126319201,
          0.013783673032073774,
          0.013640517131150292,
          0.013495958406269935,
          0.013350032826278084,
          0.013202775652412528,
          0.013054221744568247,
          0.012904405864171239,
          0.012753362970472156,
          0.012601128507295549,
          0.012447738677526238,
          0.012293230702876847,
          0.012137643066755365,
          0.011981015738334235,
          0.01182339037620799,
          0.011664810510311428,
          0.011505321701052208,
          0.011344971674883098,
          0.01118381043580362,
          0.011021890352528119,
          0.010859266221292827,
          0.010695995304490218,
          0.010532137345517981,
          0.010367754560409899,
          0.01020291160697493,
          0.010037675532312343,
          0.009872115699691104,
          0.00970630369588476,
          0.009540313220137512,
          0.009374219956005129,
          0.009208101427367032,
          0.009042036839944007,
          0.00887610690968121,
          0.008710393679371485,
          0.00854498032489729,
          0.00837995095246674,
          0.008215390388207806,
          0.00805138396146834,
          0.00788801728314796,
          0.007725376020363293,
          0.007563545668719302,
          0.007402611323429964,
          0.007242657450498651,
          0.007083767659135673,
          0.006926024476555491,
          0.0067695091262593605,
          0.006614301310872959,
          0.006460479000568369,
          0.006308118228060046,
          0.006157292891121217,
          0.0060080745635223394,
          0.005860532315245215,
          0.005714732542775399,
          0.005570738810221792,
          0.005428611701953795,
          0.005288408687385005,
          0.0051501839984673635,
          0.0050139885203895895,
          0.004879869695901164,
          0.004747871443606496,
          0.004618034090493841,
          0.004490394318881307,
          0.004364985127877337,
          0.00424183580936695,
          0.004120971938447469,
          0.004002415378150497,
          0.00388618429820008,
          0.0037722932074723274,
          0.003660752999738534,
          0.003551571012195722,
          0.003444751096212658,
          0.0033402936996498145,
          0.003238195960047944,
          0.003138451807921758,
          0.0030410520793452433,
          0.002945984636972011,
          0.002853234498599625,
          0.0027627839723602305,
          0.0026746127976021226,
          0.0025886982905176967,
          0.0025050154935726413,
          0.0024235373277988435,
          0.00234423474702935,
          0.002267076893177397,
          0.0021920312516919564,
          0.002119063806359635,
          0.002048139192665925,
          0.0019792208489772764,
          0.0019122711648578757,
          0.0018472516258918217,
          0.001784122954440153,
          0.0017228452458232467,
          0.0016633780994812994,
          0.0016056807447278696,
          0.0015497121607733406,
          0.001495431190755744,
          0.0014427966495753539,
          0.001391767425385541,
          0.0013423025746457954,
          0.0012943614106927194,
          0.001247903585830886,
          0.0012028891669874212,
          0.001159278705012116,
          0.0011170332977382103,
          0.001076114646948162,
          0.0010364851094134008,
          0.000998107742197801,
          0.0009609463424310727,
          0.0009249654817710683,
          0.0008901305357834927,
          0.0008564077084734764,
          0.0008237640522069247,
          0.0007921674832604669,
          0.000761586793237602,
          0.0007319916565857349,
          0.0007033526344446527
         ],
         "yaxis": "y"
        },
        {
         "fill": "tozeroy",
         "hovertemplate": "<b>Synthetic</b><br>Value: %{x}<br>Frequency: %{y}<extra></extra>",
         "legendgroup": "Synthetic",
         "marker": {
          "color": "#01E0C9"
         },
         "mode": "lines",
         "name": "Synthetic",
         "showlegend": true,
         "type": "scatter",
         "x": [
          71,
          71.262,
          71.524,
          71.786,
          72.048,
          72.31,
          72.572,
          72.834,
          73.096,
          73.358,
          73.62,
          73.882,
          74.144,
          74.406,
          74.668,
          74.93,
          75.19200000000001,
          75.454,
          75.716,
          75.978,
          76.24,
          76.502,
          76.764,
          77.026,
          77.288,
          77.55,
          77.812,
          78.074,
          78.336,
          78.598,
          78.86,
          79.122,
          79.384,
          79.646,
          79.908,
          80.17,
          80.432,
          80.694,
          80.956,
          81.218,
          81.48,
          81.742,
          82.004,
          82.266,
          82.528,
          82.78999999999999,
          83.05199999999999,
          83.314,
          83.576,
          83.838,
          84.1,
          84.362,
          84.624,
          84.886,
          85.148,
          85.41,
          85.672,
          85.934,
          86.196,
          86.458,
          86.72,
          86.982,
          87.244,
          87.506,
          87.768,
          88.03,
          88.292,
          88.554,
          88.816,
          89.078,
          89.34,
          89.602,
          89.864,
          90.126,
          90.388,
          90.65,
          90.912,
          91.174,
          91.436,
          91.69800000000001,
          91.96000000000001,
          92.22200000000001,
          92.48400000000001,
          92.746,
          93.008,
          93.27,
          93.532,
          93.794,
          94.056,
          94.318,
          94.58,
          94.842,
          95.104,
          95.366,
          95.628,
          95.89,
          96.152,
          96.414,
          96.676,
          96.938,
          97.2,
          97.462,
          97.724,
          97.986,
          98.248,
          98.51,
          98.77199999999999,
          99.03399999999999,
          99.29599999999999,
          99.55799999999999,
          99.82,
          100.082,
          100.344,
          100.606,
          100.868,
          101.13,
          101.392,
          101.654,
          101.916,
          102.178,
          102.44,
          102.702,
          102.964,
          103.226,
          103.488,
          103.75,
          104.012,
          104.274,
          104.536,
          104.798,
          105.06,
          105.322,
          105.584,
          105.846,
          106.108,
          106.37,
          106.632,
          106.894,
          107.156,
          107.418,
          107.68,
          107.94200000000001,
          108.20400000000001,
          108.46600000000001,
          108.72800000000001,
          108.99000000000001,
          109.25200000000001,
          109.51400000000001,
          109.77600000000001,
          110.038,
          110.3,
          110.562,
          110.824,
          111.086,
          111.348,
          111.61,
          111.872,
          112.134,
          112.396,
          112.658,
          112.92,
          113.182,
          113.444,
          113.706,
          113.968,
          114.22999999999999,
          114.49199999999999,
          114.75399999999999,
          115.01599999999999,
          115.27799999999999,
          115.53999999999999,
          115.80199999999999,
          116.064,
          116.326,
          116.588,
          116.85,
          117.112,
          117.374,
          117.636,
          117.898,
          118.16,
          118.422,
          118.684,
          118.946,
          119.208,
          119.47,
          119.732,
          119.994,
          120.256,
          120.518,
          120.78,
          121.042,
          121.304,
          121.566,
          121.828,
          122.09,
          122.352,
          122.614,
          122.876,
          123.138,
          123.4,
          123.662,
          123.924,
          124.186,
          124.44800000000001,
          124.71000000000001,
          124.97200000000001,
          125.23400000000001,
          125.49600000000001,
          125.75800000000001,
          126.02000000000001,
          126.282,
          126.544,
          126.806,
          127.068,
          127.33,
          127.592,
          127.854,
          128.11599999999999,
          128.378,
          128.64,
          128.902,
          129.164,
          129.426,
          129.688,
          129.95,
          130.212,
          130.474,
          130.736,
          130.998,
          131.26,
          131.522,
          131.784,
          132.046,
          132.308,
          132.57,
          132.832,
          133.094,
          133.356,
          133.618,
          133.88,
          134.142,
          134.404,
          134.666,
          134.928,
          135.19,
          135.452,
          135.714,
          135.976,
          136.238,
          136.5,
          136.762,
          137.024,
          137.286,
          137.548,
          137.81,
          138.072,
          138.334,
          138.596,
          138.858,
          139.12,
          139.382,
          139.644,
          139.906,
          140.168,
          140.43,
          140.692,
          140.954,
          141.216,
          141.478,
          141.74,
          142.002,
          142.264,
          142.526,
          142.788,
          143.05,
          143.312,
          143.574,
          143.836,
          144.098,
          144.36,
          144.622,
          144.88400000000001,
          145.14600000000002,
          145.40800000000002,
          145.67000000000002,
          145.93200000000002,
          146.19400000000002,
          146.45600000000002,
          146.71800000000002,
          146.98000000000002,
          147.24200000000002,
          147.50400000000002,
          147.76600000000002,
          148.02800000000002,
          148.29000000000002,
          148.55200000000002,
          148.814,
          149.076,
          149.338,
          149.6,
          149.862,
          150.124,
          150.386,
          150.648,
          150.91,
          151.172,
          151.434,
          151.696,
          151.958,
          152.22,
          152.482,
          152.744,
          153.006,
          153.268,
          153.53,
          153.792,
          154.054,
          154.316,
          154.578,
          154.84,
          155.102,
          155.364,
          155.626,
          155.888,
          156.15,
          156.412,
          156.674,
          156.936,
          157.19799999999998,
          157.45999999999998,
          157.72199999999998,
          157.98399999999998,
          158.24599999999998,
          158.50799999999998,
          158.76999999999998,
          159.03199999999998,
          159.29399999999998,
          159.55599999999998,
          159.81799999999998,
          160.07999999999998,
          160.34199999999998,
          160.60399999999998,
          160.86599999999999,
          161.128,
          161.39,
          161.652,
          161.914,
          162.176,
          162.438,
          162.7,
          162.962,
          163.224,
          163.486,
          163.748,
          164.01,
          164.272,
          164.534,
          164.796,
          165.058,
          165.32,
          165.582,
          165.844,
          166.106,
          166.368,
          166.63,
          166.892,
          167.154,
          167.416,
          167.678,
          167.94,
          168.202,
          168.464,
          168.726,
          168.988,
          169.25,
          169.512,
          169.774,
          170.036,
          170.298,
          170.56,
          170.822,
          171.084,
          171.346,
          171.608,
          171.87,
          172.132,
          172.394,
          172.656,
          172.918,
          173.18,
          173.442,
          173.704,
          173.966,
          174.228,
          174.49,
          174.752,
          175.014,
          175.276,
          175.538,
          175.8,
          176.062,
          176.324,
          176.586,
          176.848,
          177.11,
          177.372,
          177.63400000000001,
          177.89600000000002,
          178.15800000000002,
          178.42000000000002,
          178.68200000000002,
          178.94400000000002,
          179.20600000000002,
          179.46800000000002,
          179.73000000000002,
          179.99200000000002,
          180.25400000000002,
          180.51600000000002,
          180.77800000000002,
          181.04000000000002,
          181.30200000000002,
          181.564,
          181.826,
          182.088,
          182.35,
          182.612,
          182.874,
          183.136,
          183.398,
          183.66,
          183.922,
          184.184,
          184.446,
          184.708,
          184.97,
          185.232,
          185.494,
          185.756,
          186.018,
          186.28,
          186.542,
          186.804,
          187.066,
          187.328,
          187.59,
          187.852,
          188.114,
          188.376,
          188.638,
          188.9,
          189.162,
          189.424,
          189.686,
          189.94799999999998,
          190.20999999999998,
          190.47199999999998,
          190.73399999999998,
          190.99599999999998,
          191.25799999999998,
          191.51999999999998,
          191.78199999999998,
          192.04399999999998,
          192.30599999999998,
          192.56799999999998,
          192.82999999999998,
          193.09199999999998,
          193.35399999999998,
          193.61599999999999,
          193.878,
          194.14,
          194.402,
          194.664,
          194.926,
          195.188,
          195.45,
          195.712,
          195.974,
          196.236,
          196.498,
          196.76,
          197.022,
          197.284,
          197.546,
          197.808,
          198.07,
          198.332,
          198.594,
          198.856,
          199.118,
          199.38,
          199.642,
          199.904,
          200.166,
          200.428,
          200.69,
          200.952,
          201.214,
          201.476,
          201.738
         ],
         "xaxis": "x",
         "y": [
          0.006256466767315303,
          0.006291760755444665,
          0.006325496424365019,
          0.0063576617817452845,
          0.006388246599081305,
          0.006417242419004055,
          0.006444642559355501,
          0.006470442114049651,
          0.00649463795074475,
          0.006517228705361316,
          0.006538214773488829,
          0.006557598298732212,
          0.006575383158056975,
          0.006591574944199493,
          0.0066061809452162955,
          0.006619210121252924,
          0.006630673078619762,
          0.0066405820412684955,
          0.0066489508197682635,
          0.006655794777886469,
          0.006661130796884097,
          0.006664977237639394,
          0.006667353900718896,
          0.006668281984517218,
          0.006667784041591107,
          0.006665883933315463,
          0.006662606782991329,
          0.006657978927537605,
          0.006652027867899544,
          0.006644782218307466,
          0.006636271654520213,
          0.006626526861186625,
          0.006615579478458799,
          0.006603462047988811,
          0.006590207958439972,
          0.00657585139064102,
          0.006560427262510012,
          0.006543971173871316,
          0.006526519351286651,
          0.006508108593017311,
          0.0064887762142312715,
          0.006468559992564475,
          0.006447498114141946,
          0.006425629120159023,
          0.006402991854118996,
          0.00637962540981801,
          0.0063555690801629745,
          0.00633086230690336,
          0.006305544631351667,
          0.006279655646162491,
          0.006253234948234287,
          0.006226322092792009,
          0.006198956548703997,
          0.006171177655079757,
          0.006143024579190799,
          0.006114536275750266,
          0.006085751447582248,
          0.006056708507705949,
          0.006027445542854714,
          0.005998000278445146,
          0.0059684100450059395,
          0.0059387117460720385,
          0.005908941827544509,
          0.0058791362485128215,
          0.005849330453531101,
          0.005819559346337307,
          0.005789857264999263,
          0.005760257958469122,
          0.005730794564523833,
          0.005701499589066934,
          0.00567240488676392,
          0.005643541642981006,
          0.005614940356995525,
          0.005586630826443488,
          0.005558642132969098,
          0.005531002629039194,
          0.005503739925884499,
          0.005476880882529102,
          0.005450451595868743,
          0.00542447739175806,
          0.005398982817067295,
          0.005373991632668445,
          0.005349526807311886,
          0.005325610512354266,
          0.005302264117299815,
          0.005279508186117736,
          0.005257362474299527,
          0.0052358459266210475,
          0.005214976675575904,
          0.005194772040447618,
          0.005175248526989981,
          0.005156421827686448,
          0.005138306822561061,
          0.005120917580515259,
          0.005104267361166764,
          0.005088368617168265,
          0.005073232996985804,
          0.0050588713481184554,
          0.005045293720742641,
          0.005032509371766349,
          0.0050205267692802116,
          0.005009353597394187,
          0.004998996761450182,
          0.004989462393602591,
          0.004980755858760135,
          0.004972881760884128,
          0.004965843949639116,
          0.004959645527393589,
          0.004954288856569383,
          0.004949775567339164,
          0.004946106565672812,
          0.004943282041733936,
          0.004941301478628442,
          0.004940163661507693,
          0.004939866687029371,
          0.004940407973179111,
          0.004941784269456357,
          0.004943991667427997,
          0.004947025611653049,
          0.004950880910981721,
          0.004955551750231667,
          0.0049610317022439916,
          0.0049673137403208785,
          0.004974390251046389,
          0.004982253047490984,
          0.004990893382799531,
          0.0050003019641620345,
          0.005010468967164879,
          0.005021384050519819,
          0.005033036371166486,
          0.005045414599743385,
          0.005058506936420919,
          0.005072301127088969,
          0.005086784479890223,
          0.005101943882089211,
          0.005117765817265805,
          0.005134236382820514,
          0.005151341307777873,
          0.005169065970872801,
          0.0051873954189036045,
          0.005206314385334158,
          0.005225807309126607,
          0.005245858353784774,
          0.005266451426587324,
          0.005287570197988876,
          0.005309198121166177,
          0.00533131845168544,
          0.005353914267266348,
          0.00537696848761724,
          0.005400463894315451,
          0.005424383150706047,
          0.005448708821791912,
          0.005473423394087192,
          0.005498509295406528,
          0.005523948914561386,
          0.005549724620935255,
          0.005575818783909238,
          0.005602213792109315,
          0.005628892072447047,
          0.005655836108925346,
          0.0056830284611815345,
          0.005710451782739912,
          0.005738088838946953,
          0.005765922524562331,
          0.005793935880979924,
          0.005822112113053675,
          0.005850434605503506,
          0.005878886938878053,
          0.0059074529050511405,
          0.005936116522230685,
          0.0059648620494589175,
          0.005993674000584735,
          0.006022537157689459,
          0.0060514365839490405,
          0.006080357635916581,
          0.006109285975210439,
          0.0061382075795947,
          0.00616710875343994,
          0.006195976137553387,
          0.006224796718369561,
          0.00625355783649322,
          0.0062822471945882,
          0.006310852864607244,
          0.00633936329435877,
          0.0063677673134087875,
          0.0063960541383166975,
          0.006424213377205707,
          0.006452235033669563,
          0.006480109510018928,
          0.006507827609871929,
          0.006535380540094321,
          0.006562759912096811,
          0.006589957742497239,
          0.006616966453157435,
          0.006643778870604877,
          0.00667038822485095,
          0.006696788147618432,
          0.006722972669991487,
          0.006748936219503001,
          0.0067746736166742335,
          0.0068001800710233515,
          0.006825451176559253,
          0.006850482906778646,
          0.006875271609184479,
          0.006899813999344232,
          0.006924107154507823,
          0.006948148506804339,
          0.006971935836038124,
          0.006995467262104248,
          0.007018741237044469,
          0.007041756536764081,
          0.007064512252430991,
          0.007087007781578201,
          0.007109242818930439,
          0.0071312173469764385,
          0.007152931626307749,
          0.007174386185744722,
          0.00719558181227088,
          0.00721651954079569,
          0.007237200643766277,
          0.007257626620647421,
          0.007277799187290281,
          0.007297720265207887,
          0.007317391970776919,
          0.0073368166043834785,
          0.007355996639530857,
          0.007374934711926378,
          0.007393633608563731,
          0.007412096256817416,
          0.007430325713563989,
          0.0074483251543456105,
          0.00746609786258991,
          0.0074836472188993764,
          0.007500976690423937,
          0.0075180898203283135,
          0.007534990217366262,
          0.007551681545572297,
          0.007568167514081789,
          0.007584451867088256,
          0.00760053837394794,
          0.007616430819439123,
          0.007632132994184552,
          0.00764764868524418,
          0.007662981666884431,
          0.007678135691530499,
          0.007693114480906889,
          0.007707921717371353,
          0.007722561035446479,
          0.007737036013553368,
          0.0077513501659504155,
          0.007765506934880752,
          0.0077795096829309995,
          0.007793361685603488,
          0.007807066124104443,
          0.007820626078349381,
          0.007834044520187588,
          0.007847324306846787,
          0.007860468174598904,
          0.007873478732647992,
          0.00788635845724084,
          0.007899109686001065,
          0.007911734612486754,
          0.007924235280972781,
          0.007936613581457449,
          0.007948871244894322,
          0.007961009838649686,
          0.007973030762185668,
          0.007984935242970137,
          0.007996724332613298,
          0.008008398903232475,
          0.008019959644045175,
          0.008031407058191954,
          0.008042741459789756,
          0.00805396297121762,
          0.008065071520635327,
          0.008076066839737606,
          0.008086948461744757,
          0.008097715719632585,
          0.008108367744602924,
          0.008118903464797994,
          0.008129321604260288,
          0.008139620682141387,
          0.008149799012161962,
          0.008159854702326549,
          0.008169785654895548,
          0.00817958956661837,
          0.008189263929230568,
          0.008198806030218641,
          0.008208212953855626,
          0.008217481582511578,
          0.008226608598241697,
          0.00823559048465608,
          0.008244423529074249,
          0.008253103824967824,
          0.008261627274694388,
          0.008269989592526006,
          0.008278186307974554,
          0.00828621276941695,
          0.008294064148022555,
          0.008301735441984637,
          0.008309221481057652,
          0.008316516931401785,
          0.008323616300735503,
          0.008330513943796697,
          0.008337204068112464,
          0.00834368074007666,
          0.00834993789133476,
          0.008355969325473665,
          0.008361768725014726,
          0.008367329658706742,
          0.008372645589115407,
          0.00837770988050499,
          0.008382515807007097,
          0.008387056561070633,
          0.008391325262186713,
          0.008395314965880894,
          0.008399018672964609,
          0.008402429339036762,
          0.00840553988422607,
          0.008408343203162796,
          0.008410832175168992,
          0.008412999674654607,
          0.008414838581706328,
          0.008416341792855121,
          0.008417502232007632,
          0.0084183128615257,
          0.00841876669343761,
          0.008418856800763718,
          0.008418576328938408,
          0.008417918507309611,
          0.00841687666069648,
          0.008415444220984745,
          0.008413614738739295,
          0.008411381894812315,
          0.008408739511924845,
          0.008405681566199528,
          0.008402202198621199,
          0.008398295726402006,
          0.008393956654227066,
          0.008389179685356704,
          0.00838395973256043,
          0.008378291928858264,
          0.00837217163804451,
          0.008365594464968729,
          0.008358556265549402,
          0.008351053156494924,
          0.0083430815247072,
          0.008334638036343186,
          0.008325719645509783,
          0.008316323602568025,
          0.008306447462022647,
          0.008296089089973705,
          0.008285246671107381,
          0.008273918715203605,
          0.008262104063138953,
          0.00824980189236382,
          0.00823701172183357,
          0.008223733416374673,
          0.008209967190467102,
          0.008195713611425692,
          0.00818097360196407,
          0.008165748442125911,
          0.008150039770569311,
          0.008133849585191264,
          0.008117180243081038,
          0.008100034459791537,
          0.008082415307920086,
          0.008064326214991169,
          0.008045770960634729,
          0.008026753673055921,
          0.008007278824792918,
          0.007987351227761747,
          0.007966976027587913,
          0.007946158697227203,
          0.007924905029878736,
          0.007903221131195636,
          0.0078811134108003,
          0.007858588573112838,
          0.007835653607502975,
          0.007812315777777691,
          0.00778858261101828,
          0.007764461885782452,
          0.007739961619688772,
          0.007715090056402504,
          0.007689855652043326,
          0.007664267061037767,
          0.007638333121439781,
          0.007612062839745692,
          0.007585465375230361,
          0.007558550023833605,
          0.007531326201627024,
          0.007503803427893047,
          0.007475991307849444,
          0.007447899515053728,
          0.007419537773523273,
          0.00739091583960831,
          0.007362043483655791,
          0.00733293047150369,
          0.007303586545845655,
          0.007274021407507838,
          0.007244244696679076,
          0.007214265974138259,
          0.007184094702521506,
          0.00715374022767364,
          0.0071232117601284905,
          0.007092518356762504,
          0.007061668902667235,
          0.007030672093285702,
          0.006999536416857954,
          0.006968270137221221,
          0.006936881277009383,
          0.0069053776012968525,
          0.006873766601730721,
          0.0068420554811953905,
          0.006810251139052282,
          0.0067783601569972735,
          0.0067463887855769376,
          0.00671434293140406,
          0.006682228145111502,
          0.006650049610082323,
          0.006617812131992565,
          0.006585520129201631,
          0.00655317762402361,
          0.00652078823491093,
          0.0064883551695802694,
          0.006455881219107947,
          0.00642336875302086,
          0.006390819715405992,
          0.006358235622059746,
          0.0063256175586957905,
          0.00629296618022765,
          0.006260281711139541,
          0.00622756394695684,
          0.006194812256824032,
          0.006162025587196189,
          0.006129202466646102,
          0.006096341011787463,
          0.006063438934310494,
          0.006030493549124262,
          0.0059975017835963715,
          0.005964460187878104,
          0.005931364946299789,
          0.005898211889818244,
          0.005864996509495174,
          0.005831713970982294,
          0.0057983591299861125,
          0.005764926548682156,
          0.005731410513045772,
          0.005697805051063705,
          0.005664103951787665,
          0.00563030078518885,
          0.005596388922769391,
          0.0055623615588842905,
          0.005528211732725075,
          0.005493932350914005,
          0.005459516210655561,
          0.005424956023389783,
          0.005390244438890315,
          0.0053553740697479665,
          0.005320337516179276,
          0.005285127391098035,
          0.005249736345386223,
          0.005214157093300095,
          0.005178382437945983,
          0.005142405296759681,
          0.0051062187269227495,
          0.005069815950648821,
          0.005033190380272647,
          0.004996335643074931,
          0.004959245605775917,
          0.0049219143986315725,
          0.0048843364390664355,
          0.004846506454778372,
          0.004808419506251506,
          0.004770071008614638,
          0.004731456752784329,
          0.004692572925833013,
          0.004653416130524915,
          0.00461398340396398,
          0.004574272235300858,
          0.004534280582447835,
          0.0044940068877536475,
          0.00445345009259252,
          0.004412609650824721,
          0.004371485541089166,
          0.004330078277891418,
          0.004288388921454007,
          0.004246419086299257,
          0.00420417094853828,
          0.004161647251843558,
          0.0041188513120860165,
          0.004075787020621276,
          0.004032458846213726,
          0.003988871835590657,
          0.00394503161262273,
          0.0039009443761308473,
          0.0038566168963234527,
          0.0038120565098720277,
          0.003767271113636621,
          0.003722269157056756
         ],
         "yaxis": "y"
        }
       ],
       "layout": {
        "barmode": "overlay",
        "hovermode": "closest",
        "legend": {
         "traceorder": "reversed"
        },
        "plot_bgcolor": "#F5F5F8",
        "template": {
         "data": {
          "bar": [
           {
            "error_x": {
             "color": "#2a3f5f"
            },
            "error_y": {
             "color": "#2a3f5f"
            },
            "marker": {
             "line": {
              "color": "#E5ECF6",
              "width": 0.5
             },
             "pattern": {
              "fillmode": "overlay",
              "size": 10,
              "solidity": 0.2
             }
            },
            "type": "bar"
           }
          ],
          "barpolar": [
           {
            "marker": {
             "line": {
              "color": "#E5ECF6",
              "width": 0.5
             },
             "pattern": {
              "fillmode": "overlay",
              "size": 10,
              "solidity": 0.2
             }
            },
            "type": "barpolar"
           }
          ],
          "carpet": [
           {
            "aaxis": {
             "endlinecolor": "#2a3f5f",
             "gridcolor": "white",
             "linecolor": "white",
             "minorgridcolor": "white",
             "startlinecolor": "#2a3f5f"
            },
            "baxis": {
             "endlinecolor": "#2a3f5f",
             "gridcolor": "white",
             "linecolor": "white",
             "minorgridcolor": "white",
             "startlinecolor": "#2a3f5f"
            },
            "type": "carpet"
           }
          ],
          "choropleth": [
           {
            "colorbar": {
             "outlinewidth": 0,
             "ticks": ""
            },
            "type": "choropleth"
           }
          ],
          "contour": [
           {
            "colorbar": {
             "outlinewidth": 0,
             "ticks": ""
            },
            "colorscale": [
             [
              0,
              "#0d0887"
             ],
             [
              0.1111111111111111,
              "#46039f"
             ],
             [
              0.2222222222222222,
              "#7201a8"
             ],
             [
              0.3333333333333333,
              "#9c179e"
             ],
             [
              0.4444444444444444,
              "#bd3786"
             ],
             [
              0.5555555555555556,
              "#d8576b"
             ],
             [
              0.6666666666666666,
              "#ed7953"
             ],
             [
              0.7777777777777778,
              "#fb9f3a"
             ],
             [
              0.8888888888888888,
              "#fdca26"
             ],
             [
              1,
              "#f0f921"
             ]
            ],
            "type": "contour"
           }
          ],
          "contourcarpet": [
           {
            "colorbar": {
             "outlinewidth": 0,
             "ticks": ""
            },
            "type": "contourcarpet"
           }
          ],
          "heatmap": [
           {
            "colorbar": {
             "outlinewidth": 0,
             "ticks": ""
            },
            "colorscale": [
             [
              0,
              "#0d0887"
             ],
             [
              0.1111111111111111,
              "#46039f"
             ],
             [
              0.2222222222222222,
              "#7201a8"
             ],
             [
              0.3333333333333333,
              "#9c179e"
             ],
             [
              0.4444444444444444,
              "#bd3786"
             ],
             [
              0.5555555555555556,
              "#d8576b"
             ],
             [
              0.6666666666666666,
              "#ed7953"
             ],
             [
              0.7777777777777778,
              "#fb9f3a"
             ],
             [
              0.8888888888888888,
              "#fdca26"
             ],
             [
              1,
              "#f0f921"
             ]
            ],
            "type": "heatmap"
           }
          ],
          "heatmapgl": [
           {
            "colorbar": {
             "outlinewidth": 0,
             "ticks": ""
            },
            "colorscale": [
             [
              0,
              "#0d0887"
             ],
             [
              0.1111111111111111,
              "#46039f"
             ],
             [
              0.2222222222222222,
              "#7201a8"
             ],
             [
              0.3333333333333333,
              "#9c179e"
             ],
             [
              0.4444444444444444,
              "#bd3786"
             ],
             [
              0.5555555555555556,
              "#d8576b"
             ],
             [
              0.6666666666666666,
              "#ed7953"
             ],
             [
              0.7777777777777778,
              "#fb9f3a"
             ],
             [
              0.8888888888888888,
              "#fdca26"
             ],
             [
              1,
              "#f0f921"
             ]
            ],
            "type": "heatmapgl"
           }
          ],
          "histogram": [
           {
            "marker": {
             "pattern": {
              "fillmode": "overlay",
              "size": 10,
              "solidity": 0.2
             }
            },
            "type": "histogram"
           }
          ],
          "histogram2d": [
           {
            "colorbar": {
             "outlinewidth": 0,
             "ticks": ""
            },
            "colorscale": [
             [
              0,
              "#0d0887"
             ],
             [
              0.1111111111111111,
              "#46039f"
             ],
             [
              0.2222222222222222,
              "#7201a8"
             ],
             [
              0.3333333333333333,
              "#9c179e"
             ],
             [
              0.4444444444444444,
              "#bd3786"
             ],
             [
              0.5555555555555556,
              "#d8576b"
             ],
             [
              0.6666666666666666,
              "#ed7953"
             ],
             [
              0.7777777777777778,
              "#fb9f3a"
             ],
             [
              0.8888888888888888,
              "#fdca26"
             ],
             [
              1,
              "#f0f921"
             ]
            ],
            "type": "histogram2d"
           }
          ],
          "histogram2dcontour": [
           {
            "colorbar": {
             "outlinewidth": 0,
             "ticks": ""
            },
            "colorscale": [
             [
              0,
              "#0d0887"
             ],
             [
              0.1111111111111111,
              "#46039f"
             ],
             [
              0.2222222222222222,
              "#7201a8"
             ],
             [
              0.3333333333333333,
              "#9c179e"
             ],
             [
              0.4444444444444444,
              "#bd3786"
             ],
             [
              0.5555555555555556,
              "#d8576b"
             ],
             [
              0.6666666666666666,
              "#ed7953"
             ],
             [
              0.7777777777777778,
              "#fb9f3a"
             ],
             [
              0.8888888888888888,
              "#fdca26"
             ],
             [
              1,
              "#f0f921"
             ]
            ],
            "type": "histogram2dcontour"
           }
          ],
          "mesh3d": [
           {
            "colorbar": {
             "outlinewidth": 0,
             "ticks": ""
            },
            "type": "mesh3d"
           }
          ],
          "parcoords": [
           {
            "line": {
             "colorbar": {
              "outlinewidth": 0,
              "ticks": ""
             }
            },
            "type": "parcoords"
           }
          ],
          "pie": [
           {
            "automargin": true,
            "type": "pie"
           }
          ],
          "scatter": [
           {
            "fillpattern": {
             "fillmode": "overlay",
             "size": 10,
             "solidity": 0.2
            },
            "type": "scatter"
           }
          ],
          "scatter3d": [
           {
            "line": {
             "colorbar": {
              "outlinewidth": 0,
              "ticks": ""
             }
            },
            "marker": {
             "colorbar": {
              "outlinewidth": 0,
              "ticks": ""
             }
            },
            "type": "scatter3d"
           }
          ],
          "scattercarpet": [
           {
            "marker": {
             "colorbar": {
              "outlinewidth": 0,
              "ticks": ""
             }
            },
            "type": "scattercarpet"
           }
          ],
          "scattergeo": [
           {
            "marker": {
             "colorbar": {
              "outlinewidth": 0,
              "ticks": ""
             }
            },
            "type": "scattergeo"
           }
          ],
          "scattergl": [
           {
            "marker": {
             "colorbar": {
              "outlinewidth": 0,
              "ticks": ""
             }
            },
            "type": "scattergl"
           }
          ],
          "scattermapbox": [
           {
            "marker": {
             "colorbar": {
              "outlinewidth": 0,
              "ticks": ""
             }
            },
            "type": "scattermapbox"
           }
          ],
          "scatterpolar": [
           {
            "marker": {
             "colorbar": {
              "outlinewidth": 0,
              "ticks": ""
             }
            },
            "type": "scatterpolar"
           }
          ],
          "scatterpolargl": [
           {
            "marker": {
             "colorbar": {
              "outlinewidth": 0,
              "ticks": ""
             }
            },
            "type": "scatterpolargl"
           }
          ],
          "scatterternary": [
           {
            "marker": {
             "colorbar": {
              "outlinewidth": 0,
              "ticks": ""
             }
            },
            "type": "scatterternary"
           }
          ],
          "surface": [
           {
            "colorbar": {
             "outlinewidth": 0,
             "ticks": ""
            },
            "colorscale": [
             [
              0,
              "#0d0887"
             ],
             [
              0.1111111111111111,
              "#46039f"
             ],
             [
              0.2222222222222222,
              "#7201a8"
             ],
             [
              0.3333333333333333,
              "#9c179e"
             ],
             [
              0.4444444444444444,
              "#bd3786"
             ],
             [
              0.5555555555555556,
              "#d8576b"
             ],
             [
              0.6666666666666666,
              "#ed7953"
             ],
             [
              0.7777777777777778,
              "#fb9f3a"
             ],
             [
              0.8888888888888888,
              "#fdca26"
             ],
             [
              1,
              "#f0f921"
             ]
            ],
            "type": "surface"
           }
          ],
          "table": [
           {
            "cells": {
             "fill": {
              "color": "#EBF0F8"
             },
             "line": {
              "color": "white"
             }
            },
            "header": {
             "fill": {
              "color": "#C8D4E3"
             },
             "line": {
              "color": "white"
             }
            },
            "type": "table"
           }
          ]
         },
         "layout": {
          "annotationdefaults": {
           "arrowcolor": "#2a3f5f",
           "arrowhead": 0,
           "arrowwidth": 1
          },
          "autotypenumbers": "strict",
          "coloraxis": {
           "colorbar": {
            "outlinewidth": 0,
            "ticks": ""
           }
          },
          "colorscale": {
           "diverging": [
            [
             0,
             "#8e0152"
            ],
            [
             0.1,
             "#c51b7d"
            ],
            [
             0.2,
             "#de77ae"
            ],
            [
             0.3,
             "#f1b6da"
            ],
            [
             0.4,
             "#fde0ef"
            ],
            [
             0.5,
             "#f7f7f7"
            ],
            [
             0.6,
             "#e6f5d0"
            ],
            [
             0.7,
             "#b8e186"
            ],
            [
             0.8,
             "#7fbc41"
            ],
            [
             0.9,
             "#4d9221"
            ],
            [
             1,
             "#276419"
            ]
           ],
           "sequential": [
            [
             0,
             "#0d0887"
            ],
            [
             0.1111111111111111,
             "#46039f"
            ],
            [
             0.2222222222222222,
             "#7201a8"
            ],
            [
             0.3333333333333333,
             "#9c179e"
            ],
            [
             0.4444444444444444,
             "#bd3786"
            ],
            [
             0.5555555555555556,
             "#d8576b"
            ],
            [
             0.6666666666666666,
             "#ed7953"
            ],
            [
             0.7777777777777778,
             "#fb9f3a"
            ],
            [
             0.8888888888888888,
             "#fdca26"
            ],
            [
             1,
             "#f0f921"
            ]
           ],
           "sequentialminus": [
            [
             0,
             "#0d0887"
            ],
            [
             0.1111111111111111,
             "#46039f"
            ],
            [
             0.2222222222222222,
             "#7201a8"
            ],
            [
             0.3333333333333333,
             "#9c179e"
            ],
            [
             0.4444444444444444,
             "#bd3786"
            ],
            [
             0.5555555555555556,
             "#d8576b"
            ],
            [
             0.6666666666666666,
             "#ed7953"
            ],
            [
             0.7777777777777778,
             "#fb9f3a"
            ],
            [
             0.8888888888888888,
             "#fdca26"
            ],
            [
             1,
             "#f0f921"
            ]
           ]
          },
          "colorway": [
           "#636efa",
           "#EF553B",
           "#00cc96",
           "#ab63fa",
           "#FFA15A",
           "#19d3f3",
           "#FF6692",
           "#B6E880",
           "#FF97FF",
           "#FECB52"
          ],
          "font": {
           "color": "#2a3f5f"
          },
          "geo": {
           "bgcolor": "white",
           "lakecolor": "white",
           "landcolor": "#E5ECF6",
           "showlakes": true,
           "showland": true,
           "subunitcolor": "white"
          },
          "hoverlabel": {
           "align": "left"
          },
          "hovermode": "closest",
          "mapbox": {
           "style": "light"
          },
          "paper_bgcolor": "white",
          "plot_bgcolor": "#E5ECF6",
          "polar": {
           "angularaxis": {
            "gridcolor": "white",
            "linecolor": "white",
            "ticks": ""
           },
           "bgcolor": "#E5ECF6",
           "radialaxis": {
            "gridcolor": "white",
            "linecolor": "white",
            "ticks": ""
           }
          },
          "scene": {
           "xaxis": {
            "backgroundcolor": "#E5ECF6",
            "gridcolor": "white",
            "gridwidth": 2,
            "linecolor": "white",
            "showbackground": true,
            "ticks": "",
            "zerolinecolor": "white"
           },
           "yaxis": {
            "backgroundcolor": "#E5ECF6",
            "gridcolor": "white",
            "gridwidth": 2,
            "linecolor": "white",
            "showbackground": true,
            "ticks": "",
            "zerolinecolor": "white"
           },
           "zaxis": {
            "backgroundcolor": "#E5ECF6",
            "gridcolor": "white",
            "gridwidth": 2,
            "linecolor": "white",
            "showbackground": true,
            "ticks": "",
            "zerolinecolor": "white"
           }
          },
          "shapedefaults": {
           "line": {
            "color": "#2a3f5f"
           }
          },
          "ternary": {
           "aaxis": {
            "gridcolor": "white",
            "linecolor": "white",
            "ticks": ""
           },
           "baxis": {
            "gridcolor": "white",
            "linecolor": "white",
            "ticks": ""
           },
           "bgcolor": "#E5ECF6",
           "caxis": {
            "gridcolor": "white",
            "linecolor": "white",
            "ticks": ""
           }
          },
          "title": {
           "x": 0.05
          },
          "xaxis": {
           "automargin": true,
           "gridcolor": "white",
           "linecolor": "white",
           "ticks": "",
           "title": {
            "standoff": 15
           },
           "zerolinecolor": "white",
           "zerolinewidth": 2
          },
          "yaxis": {
           "automargin": true,
           "gridcolor": "white",
           "linecolor": "white",
           "ticks": "",
           "title": {
            "standoff": 15
           },
           "zerolinecolor": "white",
           "zerolinewidth": 2
          }
         }
        },
        "title": {
         "text": "Real vs. Synthetic Data for column thalach"
        },
        "xaxis": {
         "anchor": "y2",
         "domain": [
          0,
          1
         ],
         "title": {
          "text": "Value"
         },
         "zeroline": false
        },
        "yaxis": {
         "anchor": "free",
         "domain": [
          0,
          1
         ],
         "position": 0,
         "title": {
          "text": "Frequency"
         }
        }
       }
      }
     },
     "metadata": {},
     "output_type": "display_data"
    },
    {
     "data": {
      "application/vnd.plotly.v1+json": {
       "config": {
        "plotlyServerURL": "https://plot.ly"
       },
       "data": [
        {
         "alignmentgroup": "True",
         "bingroup": "x",
         "histnorm": "probability density",
         "hovertemplate": "<b>Real</b><br>Frequency: %{y}<extra></extra>",
         "legendgroup": "Real",
         "marker": {
          "color": "#000036",
          "pattern": {
           "shape": ""
          }
         },
         "name": "Real",
         "offsetgroup": "Real",
         "orientation": "v",
         "showlegend": true,
         "type": "histogram",
         "x": [
          0,
          1,
          1,
          0,
          0,
          0,
          0,
          1,
          0,
          1,
          0,
          0,
          1,
          0,
          0,
          0,
          0,
          0,
          0,
          0,
          1,
          0,
          0,
          0,
          1,
          0,
          0,
          0,
          0,
          1,
          0,
          1,
          0,
          0,
          1,
          0,
          1,
          1,
          1,
          1,
          0,
          1,
          0,
          0,
          0,
          0,
          0,
          0,
          0,
          0,
          0,
          0,
          0,
          0,
          1,
          1,
          0,
          0,
          0,
          1,
          1,
          1,
          1,
          0,
          0,
          1,
          0,
          0,
          1,
          0,
          0,
          0,
          1,
          0,
          0,
          0,
          1,
          0,
          0,
          1,
          1,
          0,
          0,
          1,
          0,
          0,
          0,
          0,
          0,
          0,
          0,
          0,
          0,
          0,
          1,
          1,
          0,
          0,
          0,
          0,
          0,
          0,
          0,
          0,
          0,
          1,
          0,
          1,
          0,
          1,
          1,
          0,
          1,
          0,
          0,
          0,
          0,
          1,
          0,
          1,
          0,
          1,
          1,
          0,
          0,
          1,
          1,
          0,
          0,
          0,
          1,
          0,
          1,
          0,
          0,
          1,
          0,
          1,
          0,
          1,
          0,
          0,
          1,
          1,
          0,
          0,
          0,
          0,
          0,
          0,
          0,
          0,
          1,
          1,
          0,
          1,
          0,
          0,
          0,
          0,
          1,
          0,
          0,
          0,
          1,
          1,
          1,
          0,
          1,
          1,
          1,
          0,
          0,
          1,
          0,
          1,
          0,
          0,
          0,
          1,
          0,
          0,
          0,
          0,
          0,
          1,
          0,
          0,
          0,
          1,
          0,
          0,
          1,
          0,
          1,
          0,
          0,
          0,
          1,
          0,
          0,
          0,
          1,
          1,
          1,
          0,
          1,
          0,
          1,
          0,
          1,
          0,
          0,
          0,
          1,
          0,
          0,
          1,
          0,
          0,
          1,
          1,
          0,
          0,
          0,
          1,
          1,
          0,
          1,
          0,
          1,
          0,
          1,
          1,
          0,
          0,
          0,
          0,
          0,
          0,
          0,
          0,
          0,
          0,
          1,
          0,
          0,
          1,
          0,
          1,
          0,
          0,
          0,
          0,
          0,
          0,
          0,
          0,
          0,
          0,
          0,
          1,
          1,
          0,
          0,
          0,
          1,
          0,
          1,
          0,
          0,
          0,
          0,
          0,
          0,
          0,
          1,
          0,
          1,
          0,
          0,
          0,
          1,
          0,
          0,
          0,
          0,
          1,
          1,
          1,
          0,
          0,
          1,
          0,
          0,
          1,
          0
         ],
         "xaxis": "x",
         "yaxis": "y"
        },
        {
         "alignmentgroup": "True",
         "bingroup": "x",
         "histnorm": "probability density",
         "hovertemplate": "<b>Synthetic</b><br>Frequency: %{y}<extra></extra>",
         "legendgroup": "Synthetic",
         "marker": {
          "color": "#01E0C9",
          "pattern": {
           "shape": "/"
          }
         },
         "name": "Synthetic",
         "offsetgroup": "Synthetic",
         "orientation": "v",
         "showlegend": true,
         "type": "histogram",
         "x": [
          1,
          0,
          0,
          1,
          0,
          0,
          0,
          0,
          0,
          1,
          0,
          1,
          1,
          0,
          1,
          1,
          0,
          0,
          1,
          0,
          1,
          0,
          0,
          1,
          1,
          0,
          1,
          0,
          1,
          0,
          0,
          0,
          1,
          0,
          0,
          1,
          0,
          0,
          1,
          0,
          0,
          1,
          0,
          1,
          0,
          0,
          1,
          0,
          0,
          0,
          0,
          0,
          0,
          1,
          1,
          0,
          0,
          0,
          0,
          0,
          1,
          0,
          0,
          0,
          0,
          0,
          1,
          0,
          1,
          0,
          0,
          0,
          0,
          0,
          0,
          0,
          0,
          1,
          0,
          0,
          0,
          0,
          0,
          0,
          0,
          0,
          0,
          0,
          0,
          1,
          1,
          0,
          0,
          1,
          0,
          0,
          0,
          0,
          1,
          0,
          0,
          0,
          1,
          0,
          0,
          0,
          1,
          0,
          0,
          0,
          0,
          0,
          0,
          0,
          0,
          1,
          0,
          0,
          1,
          0,
          0,
          0,
          0,
          0,
          0,
          0,
          0,
          0,
          1,
          0,
          0,
          0,
          1,
          0,
          0,
          0,
          1,
          0,
          0,
          0,
          0,
          0,
          0,
          0,
          0,
          0,
          0,
          1,
          1,
          0,
          0,
          0,
          1,
          0,
          0,
          1,
          0,
          1,
          0,
          1,
          0,
          0,
          1,
          1,
          1,
          0,
          1,
          0,
          0,
          0,
          0,
          0,
          0,
          0,
          0,
          0,
          0,
          0,
          0,
          1,
          0,
          1,
          0,
          0,
          1,
          0,
          1,
          1,
          1,
          1,
          0,
          0,
          0,
          0,
          0,
          0,
          0,
          0,
          1,
          1,
          0,
          0,
          0,
          0,
          1,
          1,
          0,
          0,
          0,
          0,
          0,
          0,
          1,
          1,
          1,
          0,
          0,
          0,
          1,
          1,
          1,
          0,
          1,
          0,
          1,
          1,
          0,
          0,
          1,
          1,
          0,
          0,
          0,
          0,
          0,
          0,
          0,
          0,
          1,
          0,
          0,
          0,
          1,
          0,
          0,
          0,
          1,
          0,
          0,
          0,
          0,
          0,
          0,
          0,
          0,
          0,
          1,
          1,
          1,
          0,
          0,
          0,
          1,
          1,
          1,
          1,
          0,
          1,
          0,
          1,
          0,
          0,
          1,
          0,
          1,
          0,
          0,
          0,
          0,
          1,
          0,
          1,
          0,
          0,
          0,
          0,
          0,
          1,
          1,
          1,
          0,
          0,
          0,
          0,
          1,
          0,
          1,
          0,
          0,
          0
         ],
         "xaxis": "x",
         "yaxis": "y"
        }
       ],
       "layout": {
        "barmode": "group",
        "legend": {
         "title": {
          "text": "Data"
         },
         "tracegroupgap": 0
        },
        "margin": {
         "t": 60
        },
        "plot_bgcolor": "#F5F5F8",
        "template": {
         "data": {
          "bar": [
           {
            "error_x": {
             "color": "#2a3f5f"
            },
            "error_y": {
             "color": "#2a3f5f"
            },
            "marker": {
             "line": {
              "color": "#E5ECF6",
              "width": 0.5
             },
             "pattern": {
              "fillmode": "overlay",
              "size": 10,
              "solidity": 0.2
             }
            },
            "type": "bar"
           }
          ],
          "barpolar": [
           {
            "marker": {
             "line": {
              "color": "#E5ECF6",
              "width": 0.5
             },
             "pattern": {
              "fillmode": "overlay",
              "size": 10,
              "solidity": 0.2
             }
            },
            "type": "barpolar"
           }
          ],
          "carpet": [
           {
            "aaxis": {
             "endlinecolor": "#2a3f5f",
             "gridcolor": "white",
             "linecolor": "white",
             "minorgridcolor": "white",
             "startlinecolor": "#2a3f5f"
            },
            "baxis": {
             "endlinecolor": "#2a3f5f",
             "gridcolor": "white",
             "linecolor": "white",
             "minorgridcolor": "white",
             "startlinecolor": "#2a3f5f"
            },
            "type": "carpet"
           }
          ],
          "choropleth": [
           {
            "colorbar": {
             "outlinewidth": 0,
             "ticks": ""
            },
            "type": "choropleth"
           }
          ],
          "contour": [
           {
            "colorbar": {
             "outlinewidth": 0,
             "ticks": ""
            },
            "colorscale": [
             [
              0,
              "#0d0887"
             ],
             [
              0.1111111111111111,
              "#46039f"
             ],
             [
              0.2222222222222222,
              "#7201a8"
             ],
             [
              0.3333333333333333,
              "#9c179e"
             ],
             [
              0.4444444444444444,
              "#bd3786"
             ],
             [
              0.5555555555555556,
              "#d8576b"
             ],
             [
              0.6666666666666666,
              "#ed7953"
             ],
             [
              0.7777777777777778,
              "#fb9f3a"
             ],
             [
              0.8888888888888888,
              "#fdca26"
             ],
             [
              1,
              "#f0f921"
             ]
            ],
            "type": "contour"
           }
          ],
          "contourcarpet": [
           {
            "colorbar": {
             "outlinewidth": 0,
             "ticks": ""
            },
            "type": "contourcarpet"
           }
          ],
          "heatmap": [
           {
            "colorbar": {
             "outlinewidth": 0,
             "ticks": ""
            },
            "colorscale": [
             [
              0,
              "#0d0887"
             ],
             [
              0.1111111111111111,
              "#46039f"
             ],
             [
              0.2222222222222222,
              "#7201a8"
             ],
             [
              0.3333333333333333,
              "#9c179e"
             ],
             [
              0.4444444444444444,
              "#bd3786"
             ],
             [
              0.5555555555555556,
              "#d8576b"
             ],
             [
              0.6666666666666666,
              "#ed7953"
             ],
             [
              0.7777777777777778,
              "#fb9f3a"
             ],
             [
              0.8888888888888888,
              "#fdca26"
             ],
             [
              1,
              "#f0f921"
             ]
            ],
            "type": "heatmap"
           }
          ],
          "heatmapgl": [
           {
            "colorbar": {
             "outlinewidth": 0,
             "ticks": ""
            },
            "colorscale": [
             [
              0,
              "#0d0887"
             ],
             [
              0.1111111111111111,
              "#46039f"
             ],
             [
              0.2222222222222222,
              "#7201a8"
             ],
             [
              0.3333333333333333,
              "#9c179e"
             ],
             [
              0.4444444444444444,
              "#bd3786"
             ],
             [
              0.5555555555555556,
              "#d8576b"
             ],
             [
              0.6666666666666666,
              "#ed7953"
             ],
             [
              0.7777777777777778,
              "#fb9f3a"
             ],
             [
              0.8888888888888888,
              "#fdca26"
             ],
             [
              1,
              "#f0f921"
             ]
            ],
            "type": "heatmapgl"
           }
          ],
          "histogram": [
           {
            "marker": {
             "pattern": {
              "fillmode": "overlay",
              "size": 10,
              "solidity": 0.2
             }
            },
            "type": "histogram"
           }
          ],
          "histogram2d": [
           {
            "colorbar": {
             "outlinewidth": 0,
             "ticks": ""
            },
            "colorscale": [
             [
              0,
              "#0d0887"
             ],
             [
              0.1111111111111111,
              "#46039f"
             ],
             [
              0.2222222222222222,
              "#7201a8"
             ],
             [
              0.3333333333333333,
              "#9c179e"
             ],
             [
              0.4444444444444444,
              "#bd3786"
             ],
             [
              0.5555555555555556,
              "#d8576b"
             ],
             [
              0.6666666666666666,
              "#ed7953"
             ],
             [
              0.7777777777777778,
              "#fb9f3a"
             ],
             [
              0.8888888888888888,
              "#fdca26"
             ],
             [
              1,
              "#f0f921"
             ]
            ],
            "type": "histogram2d"
           }
          ],
          "histogram2dcontour": [
           {
            "colorbar": {
             "outlinewidth": 0,
             "ticks": ""
            },
            "colorscale": [
             [
              0,
              "#0d0887"
             ],
             [
              0.1111111111111111,
              "#46039f"
             ],
             [
              0.2222222222222222,
              "#7201a8"
             ],
             [
              0.3333333333333333,
              "#9c179e"
             ],
             [
              0.4444444444444444,
              "#bd3786"
             ],
             [
              0.5555555555555556,
              "#d8576b"
             ],
             [
              0.6666666666666666,
              "#ed7953"
             ],
             [
              0.7777777777777778,
              "#fb9f3a"
             ],
             [
              0.8888888888888888,
              "#fdca26"
             ],
             [
              1,
              "#f0f921"
             ]
            ],
            "type": "histogram2dcontour"
           }
          ],
          "mesh3d": [
           {
            "colorbar": {
             "outlinewidth": 0,
             "ticks": ""
            },
            "type": "mesh3d"
           }
          ],
          "parcoords": [
           {
            "line": {
             "colorbar": {
              "outlinewidth": 0,
              "ticks": ""
             }
            },
            "type": "parcoords"
           }
          ],
          "pie": [
           {
            "automargin": true,
            "type": "pie"
           }
          ],
          "scatter": [
           {
            "fillpattern": {
             "fillmode": "overlay",
             "size": 10,
             "solidity": 0.2
            },
            "type": "scatter"
           }
          ],
          "scatter3d": [
           {
            "line": {
             "colorbar": {
              "outlinewidth": 0,
              "ticks": ""
             }
            },
            "marker": {
             "colorbar": {
              "outlinewidth": 0,
              "ticks": ""
             }
            },
            "type": "scatter3d"
           }
          ],
          "scattercarpet": [
           {
            "marker": {
             "colorbar": {
              "outlinewidth": 0,
              "ticks": ""
             }
            },
            "type": "scattercarpet"
           }
          ],
          "scattergeo": [
           {
            "marker": {
             "colorbar": {
              "outlinewidth": 0,
              "ticks": ""
             }
            },
            "type": "scattergeo"
           }
          ],
          "scattergl": [
           {
            "marker": {
             "colorbar": {
              "outlinewidth": 0,
              "ticks": ""
             }
            },
            "type": "scattergl"
           }
          ],
          "scattermapbox": [
           {
            "marker": {
             "colorbar": {
              "outlinewidth": 0,
              "ticks": ""
             }
            },
            "type": "scattermapbox"
           }
          ],
          "scatterpolar": [
           {
            "marker": {
             "colorbar": {
              "outlinewidth": 0,
              "ticks": ""
             }
            },
            "type": "scatterpolar"
           }
          ],
          "scatterpolargl": [
           {
            "marker": {
             "colorbar": {
              "outlinewidth": 0,
              "ticks": ""
             }
            },
            "type": "scatterpolargl"
           }
          ],
          "scatterternary": [
           {
            "marker": {
             "colorbar": {
              "outlinewidth": 0,
              "ticks": ""
             }
            },
            "type": "scatterternary"
           }
          ],
          "surface": [
           {
            "colorbar": {
             "outlinewidth": 0,
             "ticks": ""
            },
            "colorscale": [
             [
              0,
              "#0d0887"
             ],
             [
              0.1111111111111111,
              "#46039f"
             ],
             [
              0.2222222222222222,
              "#7201a8"
             ],
             [
              0.3333333333333333,
              "#9c179e"
             ],
             [
              0.4444444444444444,
              "#bd3786"
             ],
             [
              0.5555555555555556,
              "#d8576b"
             ],
             [
              0.6666666666666666,
              "#ed7953"
             ],
             [
              0.7777777777777778,
              "#fb9f3a"
             ],
             [
              0.8888888888888888,
              "#fdca26"
             ],
             [
              1,
              "#f0f921"
             ]
            ],
            "type": "surface"
           }
          ],
          "table": [
           {
            "cells": {
             "fill": {
              "color": "#EBF0F8"
             },
             "line": {
              "color": "white"
             }
            },
            "header": {
             "fill": {
              "color": "#C8D4E3"
             },
             "line": {
              "color": "white"
             }
            },
            "type": "table"
           }
          ]
         },
         "layout": {
          "annotationdefaults": {
           "arrowcolor": "#2a3f5f",
           "arrowhead": 0,
           "arrowwidth": 1
          },
          "autotypenumbers": "strict",
          "coloraxis": {
           "colorbar": {
            "outlinewidth": 0,
            "ticks": ""
           }
          },
          "colorscale": {
           "diverging": [
            [
             0,
             "#8e0152"
            ],
            [
             0.1,
             "#c51b7d"
            ],
            [
             0.2,
             "#de77ae"
            ],
            [
             0.3,
             "#f1b6da"
            ],
            [
             0.4,
             "#fde0ef"
            ],
            [
             0.5,
             "#f7f7f7"
            ],
            [
             0.6,
             "#e6f5d0"
            ],
            [
             0.7,
             "#b8e186"
            ],
            [
             0.8,
             "#7fbc41"
            ],
            [
             0.9,
             "#4d9221"
            ],
            [
             1,
             "#276419"
            ]
           ],
           "sequential": [
            [
             0,
             "#0d0887"
            ],
            [
             0.1111111111111111,
             "#46039f"
            ],
            [
             0.2222222222222222,
             "#7201a8"
            ],
            [
             0.3333333333333333,
             "#9c179e"
            ],
            [
             0.4444444444444444,
             "#bd3786"
            ],
            [
             0.5555555555555556,
             "#d8576b"
            ],
            [
             0.6666666666666666,
             "#ed7953"
            ],
            [
             0.7777777777777778,
             "#fb9f3a"
            ],
            [
             0.8888888888888888,
             "#fdca26"
            ],
            [
             1,
             "#f0f921"
            ]
           ],
           "sequentialminus": [
            [
             0,
             "#0d0887"
            ],
            [
             0.1111111111111111,
             "#46039f"
            ],
            [
             0.2222222222222222,
             "#7201a8"
            ],
            [
             0.3333333333333333,
             "#9c179e"
            ],
            [
             0.4444444444444444,
             "#bd3786"
            ],
            [
             0.5555555555555556,
             "#d8576b"
            ],
            [
             0.6666666666666666,
             "#ed7953"
            ],
            [
             0.7777777777777778,
             "#fb9f3a"
            ],
            [
             0.8888888888888888,
             "#fdca26"
            ],
            [
             1,
             "#f0f921"
            ]
           ]
          },
          "colorway": [
           "#636efa",
           "#EF553B",
           "#00cc96",
           "#ab63fa",
           "#FFA15A",
           "#19d3f3",
           "#FF6692",
           "#B6E880",
           "#FF97FF",
           "#FECB52"
          ],
          "font": {
           "color": "#2a3f5f"
          },
          "geo": {
           "bgcolor": "white",
           "lakecolor": "white",
           "landcolor": "#E5ECF6",
           "showlakes": true,
           "showland": true,
           "subunitcolor": "white"
          },
          "hoverlabel": {
           "align": "left"
          },
          "hovermode": "closest",
          "mapbox": {
           "style": "light"
          },
          "paper_bgcolor": "white",
          "plot_bgcolor": "#E5ECF6",
          "polar": {
           "angularaxis": {
            "gridcolor": "white",
            "linecolor": "white",
            "ticks": ""
           },
           "bgcolor": "#E5ECF6",
           "radialaxis": {
            "gridcolor": "white",
            "linecolor": "white",
            "ticks": ""
           }
          },
          "scene": {
           "xaxis": {
            "backgroundcolor": "#E5ECF6",
            "gridcolor": "white",
            "gridwidth": 2,
            "linecolor": "white",
            "showbackground": true,
            "ticks": "",
            "zerolinecolor": "white"
           },
           "yaxis": {
            "backgroundcolor": "#E5ECF6",
            "gridcolor": "white",
            "gridwidth": 2,
            "linecolor": "white",
            "showbackground": true,
            "ticks": "",
            "zerolinecolor": "white"
           },
           "zaxis": {
            "backgroundcolor": "#E5ECF6",
            "gridcolor": "white",
            "gridwidth": 2,
            "linecolor": "white",
            "showbackground": true,
            "ticks": "",
            "zerolinecolor": "white"
           }
          },
          "shapedefaults": {
           "line": {
            "color": "#2a3f5f"
           }
          },
          "ternary": {
           "aaxis": {
            "gridcolor": "white",
            "linecolor": "white",
            "ticks": ""
           },
           "baxis": {
            "gridcolor": "white",
            "linecolor": "white",
            "ticks": ""
           },
           "bgcolor": "#E5ECF6",
           "caxis": {
            "gridcolor": "white",
            "linecolor": "white",
            "ticks": ""
           }
          },
          "title": {
           "x": 0.05
          },
          "xaxis": {
           "automargin": true,
           "gridcolor": "white",
           "linecolor": "white",
           "ticks": "",
           "title": {
            "standoff": 15
           },
           "zerolinecolor": "white",
           "zerolinewidth": 2
          },
          "yaxis": {
           "automargin": true,
           "gridcolor": "white",
           "linecolor": "white",
           "ticks": "",
           "title": {
            "standoff": 15
           },
           "zerolinecolor": "white",
           "zerolinewidth": 2
          }
         }
        },
        "title": {
         "text": "Real vs. Synthetic Data for column 'exang'"
        },
        "xaxis": {
         "anchor": "y",
         "domain": [
          0,
          1
         ],
         "title": {
          "text": "Category"
         }
        },
        "yaxis": {
         "anchor": "x",
         "domain": [
          0,
          1
         ],
         "title": {
          "text": "Frequency"
         }
        }
       }
      }
     },
     "metadata": {},
     "output_type": "display_data"
    },
    {
     "data": {
      "application/vnd.plotly.v1+json": {
       "config": {
        "plotlyServerURL": "https://plot.ly"
       },
       "data": [
        {
         "fill": "tozeroy",
         "hovertemplate": "<b>Real</b><br>Value: %{x}<br>Frequency: %{y}<extra></extra>",
         "legendgroup": "Real",
         "marker": {
          "color": "#000036"
         },
         "mode": "lines",
         "name": "Real",
         "showlegend": true,
         "type": "scatter",
         "x": [
          0,
          0.0124,
          0.0248,
          0.037200000000000004,
          0.0496,
          0.062,
          0.07440000000000001,
          0.0868,
          0.0992,
          0.1116,
          0.124,
          0.1364,
          0.14880000000000002,
          0.1612,
          0.1736,
          0.186,
          0.1984,
          0.21080000000000002,
          0.2232,
          0.2356,
          0.248,
          0.2604,
          0.2728,
          0.2852,
          0.29760000000000003,
          0.31,
          0.3224,
          0.3348,
          0.3472,
          0.35960000000000003,
          0.372,
          0.3844,
          0.3968,
          0.4092,
          0.42160000000000003,
          0.434,
          0.4464,
          0.4588,
          0.4712,
          0.48360000000000003,
          0.496,
          0.5084000000000001,
          0.5208,
          0.5332,
          0.5456,
          0.558,
          0.5704,
          0.5828000000000001,
          0.5952000000000001,
          0.6076,
          0.62,
          0.6324,
          0.6448,
          0.6572,
          0.6696,
          0.682,
          0.6944,
          0.7068000000000001,
          0.7192000000000001,
          0.7316,
          0.744,
          0.7564,
          0.7688,
          0.7812,
          0.7936,
          0.806,
          0.8184,
          0.8308000000000001,
          0.8432000000000001,
          0.8556,
          0.868,
          0.8804,
          0.8928,
          0.9052,
          0.9176,
          0.93,
          0.9424,
          0.9548000000000001,
          0.9672000000000001,
          0.9796,
          0.992,
          1.0044,
          1.0168000000000001,
          1.0292000000000001,
          1.0416,
          1.054,
          1.0664,
          1.0788,
          1.0912,
          1.1036000000000001,
          1.116,
          1.1284,
          1.1408,
          1.1532,
          1.1656000000000002,
          1.178,
          1.1904000000000001,
          1.2027999999999999,
          1.2152,
          1.2276000000000002,
          1.24,
          1.2524000000000002,
          1.2648,
          1.2772000000000001,
          1.2896,
          1.302,
          1.3144,
          1.3268,
          1.3392,
          1.3516000000000001,
          1.364,
          1.3764,
          1.3888,
          1.4012,
          1.4136000000000002,
          1.426,
          1.4384000000000001,
          1.4507999999999999,
          1.4632,
          1.4756000000000002,
          1.488,
          1.5004000000000002,
          1.5128,
          1.5252000000000001,
          1.5376,
          1.55,
          1.5624,
          1.5748,
          1.5872,
          1.5996000000000001,
          1.612,
          1.6244,
          1.6368,
          1.6492,
          1.6616000000000002,
          1.674,
          1.6864000000000001,
          1.6987999999999999,
          1.7112,
          1.7236000000000002,
          1.736,
          1.7484000000000002,
          1.7608,
          1.7732,
          1.7856,
          1.798,
          1.8104,
          1.8228,
          1.8352,
          1.8476000000000001,
          1.86,
          1.8724,
          1.8848,
          1.8972,
          1.9096000000000002,
          1.922,
          1.9344000000000001,
          1.9467999999999999,
          1.9592,
          1.9716000000000002,
          1.984,
          1.9964000000000002,
          2.0088,
          2.0212,
          2.0336000000000003,
          2.046,
          2.0584000000000002,
          2.0708,
          2.0832,
          2.0956,
          2.108,
          2.1204,
          2.1328,
          2.1452000000000004,
          2.1576,
          2.17,
          2.1824,
          2.1948000000000003,
          2.2072000000000003,
          2.2196,
          2.232,
          2.2444,
          2.2568,
          2.2692,
          2.2816,
          2.294,
          2.3064,
          2.3188,
          2.3312000000000004,
          2.3436,
          2.356,
          2.3684000000000003,
          2.3808000000000002,
          2.3932,
          2.4055999999999997,
          2.418,
          2.4304,
          2.4428,
          2.4552000000000005,
          2.4676,
          2.48,
          2.4924,
          2.5048000000000004,
          2.5172000000000003,
          2.5296,
          2.542,
          2.5544000000000002,
          2.5668,
          2.5792,
          2.5916,
          2.604,
          2.6164,
          2.6288,
          2.6412000000000004,
          2.6536,
          2.666,
          2.6784,
          2.6908000000000003,
          2.7032000000000003,
          2.7156,
          2.728,
          2.7404,
          2.7528,
          2.7652,
          2.7776,
          2.79,
          2.8024,
          2.8148,
          2.8272000000000004,
          2.8396,
          2.852,
          2.8644000000000003,
          2.8768000000000002,
          2.8892,
          2.9015999999999997,
          2.914,
          2.9264,
          2.9388,
          2.9512000000000005,
          2.9636,
          2.976,
          2.9884,
          3.0008000000000004,
          3.0132000000000003,
          3.0256,
          3.038,
          3.0504000000000002,
          3.0628,
          3.0752,
          3.0876,
          3.1,
          3.1124,
          3.1248,
          3.1372000000000004,
          3.1496,
          3.162,
          3.1744,
          3.1868000000000003,
          3.1992000000000003,
          3.2116,
          3.224,
          3.2364,
          3.2488,
          3.2612,
          3.2736,
          3.286,
          3.2984,
          3.3108,
          3.3232000000000004,
          3.3356,
          3.348,
          3.3604000000000003,
          3.3728000000000002,
          3.3852,
          3.3975999999999997,
          3.41,
          3.4224,
          3.4348,
          3.4472000000000005,
          3.4596,
          3.472,
          3.4844,
          3.4968000000000004,
          3.5092000000000003,
          3.5216,
          3.534,
          3.5464,
          3.5588,
          3.5712,
          3.5836,
          3.596,
          3.6084,
          3.6208,
          3.6332000000000004,
          3.6456,
          3.658,
          3.6704,
          3.6828000000000003,
          3.6952000000000003,
          3.7076,
          3.72,
          3.7324,
          3.7448,
          3.7572,
          3.7696,
          3.782,
          3.7944,
          3.8068,
          3.8192000000000004,
          3.8316,
          3.844,
          3.8564000000000003,
          3.8688000000000002,
          3.8812,
          3.8935999999999997,
          3.906,
          3.9184,
          3.9308,
          3.9432000000000005,
          3.9556,
          3.968,
          3.9804,
          3.9928000000000003,
          4.0052,
          4.0176,
          4.03,
          4.0424,
          4.0548,
          4.067200000000001,
          4.0796,
          4.092,
          4.104400000000001,
          4.1168000000000005,
          4.1292,
          4.1416,
          4.154,
          4.1664,
          4.1788,
          4.1912,
          4.203600000000001,
          4.216,
          4.228400000000001,
          4.2408,
          4.2532,
          4.2656,
          4.278,
          4.290400000000001,
          4.3028,
          4.3152,
          4.3276,
          4.34,
          4.3524,
          4.3648,
          4.3772,
          4.389600000000001,
          4.402,
          4.4144000000000005,
          4.4268,
          4.4392,
          4.4516,
          4.464,
          4.476400000000001,
          4.4888,
          4.5012,
          4.5136,
          4.526,
          4.5384,
          4.550800000000001,
          4.5632,
          4.5756000000000006,
          4.588,
          4.6004000000000005,
          4.6128,
          4.6251999999999995,
          4.6376,
          4.65,
          4.662400000000001,
          4.6748,
          4.6872,
          4.6996,
          4.712,
          4.7244,
          4.736800000000001,
          4.7492,
          4.7616000000000005,
          4.774,
          4.7864,
          4.7988,
          4.8111999999999995,
          4.823600000000001,
          4.836,
          4.848400000000001,
          4.8608,
          4.8732,
          4.8856,
          4.898,
          4.910400000000001,
          4.9228000000000005,
          4.9352,
          4.9476,
          4.96,
          4.9724,
          4.9848,
          4.997199999999999,
          5.009600000000001,
          5.022,
          5.034400000000001,
          5.0468,
          5.0592,
          5.0716,
          5.084,
          5.096400000000001,
          5.1088000000000005,
          5.1212,
          5.1336,
          5.146,
          5.1584,
          5.1708,
          5.1832,
          5.195600000000001,
          5.208,
          5.220400000000001,
          5.2328,
          5.2452,
          5.2576,
          5.27,
          5.282400000000001,
          5.2948,
          5.3072,
          5.3196,
          5.332,
          5.3444,
          5.3568,
          5.3692,
          5.381600000000001,
          5.394,
          5.4064000000000005,
          5.4188,
          5.4312,
          5.4436,
          5.456,
          5.468400000000001,
          5.4808,
          5.4932,
          5.5056,
          5.518,
          5.5304,
          5.542800000000001,
          5.5552,
          5.5676000000000005,
          5.58,
          5.5924000000000005,
          5.6048,
          5.6171999999999995,
          5.6296,
          5.642,
          5.654400000000001,
          5.6668,
          5.6792,
          5.6916,
          5.704,
          5.7164,
          5.728800000000001,
          5.7412,
          5.7536000000000005,
          5.766,
          5.7784,
          5.7908,
          5.8031999999999995,
          5.815600000000001,
          5.828,
          5.840400000000001,
          5.8528,
          5.8652,
          5.8776,
          5.89,
          5.902400000000001,
          5.9148000000000005,
          5.9272,
          5.9396,
          5.952,
          5.9644,
          5.9768,
          5.989199999999999,
          6.001600000000001,
          6.014,
          6.026400000000001,
          6.0388,
          6.0512,
          6.0636,
          6.076,
          6.088400000000001,
          6.1008000000000004,
          6.1132,
          6.1256,
          6.138,
          6.1504,
          6.1628,
          6.1752,
          6.187600000000001
         ],
         "xaxis": "x",
         "y": [
          0.45649082607539077,
          0.4595998010404645,
          0.46234239108542846,
          0.46471709390032684,
          0.4667236354006231,
          0.46836296388289195,
          0.46963723747404823,
          0.47054980499292903,
          0.47110518039302013,
          0.47130901100331823,
          0.4711680398302243,
          0.470690062226617,
          0.46988387727436076,
          0.4687592342631554,
          0.46732677468153827,
          0.46559797016460275,
          0.4635850568674803,
          0.4613009667536979,
          0.4587592563027886,
          0.4559740331523776,
          0.45295988119581687,
          0.4497317846577915,
          0.44630505166702594,
          0.442695237837393,
          0.4389180703566518,
          0.4349893730658727,
          0.4309249929925973,
          0.426740728777285,
          0.4224522614058383,
          0.4180750876314175,
          0.413624456436742,
          0.4091153088538919,
          0.40456222142280507,
          0.39997935353259323,
          0.39538039885180476,
          0.3907785410153388,
          0.38618641369725215,
          0.38161606516048596,
          0.37707892733708465,
          0.3725857894559958,
          0.36814677620045727,
          0.363771330343463,
          0.3594681997782789,
          0.3552454288315237,
          0.3511103537191921,
          0.3470696019814586,
          0.3431290957100187,
          0.33929405836249094,
          0.33556902494188273,
          0.33195785530537125,
          0.3284637503557336,
          0.32508927086053907,
          0.3218363586387554,
          0.3187063598513939,
          0.3157000501324523,
          0.31281766129821476,
          0.31005890937701586,
          0.3074230237076383,
          0.30490877686232737,
          0.3025145151598895,
          0.30023818954529363,
          0.298077386624193,
          0.29602935965403965,
          0.2940910593073428,
          0.2922591640371473,
          0.2905301098898882,
          0.2889001196258844,
          0.2873652310230928,
          0.28592132425489597,
          0.2845641482476527,
          0.283289345938316,
          0.28209247836646273,
          0.2809690475485741,
          0.27991451809516543,
          0.27892433754336393,
          0.2779939553887406,
          0.27711884081048627,
          0.27629449909347253,
          0.2755164867592186,
          0.27478042542539993,
          0.27408201442018654,
          0.273417042183537,
          0.27278139649246974,
          0.2721710735514807,
          0.27158218599259226,
          0.2710109698321437,
          0.2704537904333718,
          0.26990714752513645,
          0.26936767932794375,
          0.2688321658386724,
          0.2682975313252638,
          0.2677608460821302,
          0.26721932749615346,
          0.2666703404721233,
          0.26611139726511984,
          0.26554015676592607,
          0.26495442328401647,
          0.2643521448710509,
          0.2637314112261499,
          0.26309045122261776,
          0.2624276300941489,
          0.26174144631699064,
          0.26103052822307954,
          0.26029363037768355,
          0.25952962975379706,
          0.25873752173425385,
          0.2579164159713758,
          0.25706553213283256,
          0.2561841955613861,
          0.2552718328752402,
          0.2543279675347222,
          0.2533522154001659,
          0.25234428030495243,
          0.25130394966676955,
          0.2502310901592056,
          0.24912564346484908,
          0.247987622130058,
          0.24681710554041808,
          0.24561423603479013,
          0.2443792151745704,
          0.24311230018337715,
          0.24181380057094892,
          0.2404840749534213,
          0.23912352808043638,
          0.23773260807775373,
          0.23631180391208245,
          0.23486164308284463,
          0.23338268954349872,
          0.23187554185283224,
          0.23034083155445373,
          0.22877922178040966,
          0.22719140607258118,
          0.22557810741326112,
          0.22394007745404426,
          0.22227809592998296,
          0.2205929702438758,
          0.21888553520354603,
          0.217156652893122,
          0.2154072126576371,
          0.21363813117873282,
          0.2118503526179897,
          0.21004484880330287,
          0.2082226194329137,
          0.2063846922711478,
          0.20453212330963882,
          0.20266599686782613,
          0.2007874256068122,
          0.1988975504313043,
          0.19699754025526273,
          0.19508859160805744,
          0.19317192805951106,
          0.19124879944388098,
          0.18932048086497727,
          0.18738827146681047,
          0.18545349295674238,
          0.18351748787077157,
          0.18158161757349536,
          0.17964725998829303,
          0.17771580705641363,
          0.17578866192684625,
          0.17386723588209763,
          0.17195294500825356,
          0.1700472066208933,
          0.16815143546160694,
          0.1662670396828566,
          0.16439541664186635,
          0.16253794852691825,
          0.1606959978419749,
          0.15887090277782318,
          0.15706397249997117,
          0.15527648238525968,
          0.15350966924060544,
          0.151764726538406,
          0.15004279970390624,
          0.14834498149029013,
          0.14667230747733623,
          0.145025751729213,
          0.14340622264640474,
          0.14181455904577378,
          0.14025152650150616,
          0.138717813978083,
          0.1372140307845043,
          0.135740703876808,
          0.13429827553349033,
          0.13288710142573432,
          0.13150744910148218,
          0.13015949689930117,
          0.12884333330480127,
          0.1275589567590046,
          0.1263062759246817,
          0.1250851104131837,
          0.12389519197083805,
          0.1227361661204794,
          0.12160759425031124,
          0.12050895613889492,
          0.11943965290187569,
          0.11839901034292047,
          0.11738628268839933,
          0.11640065668258759,
          0.11544125601761204,
          0.11450714606999951,
          0.11359733891363076,
          0.1127107985770244,
          0.11184644651131743,
          0.11100316723399978,
          0.11017981411243113,
          0.10937521525043904,
          0.10858817944082702,
          0.10781750214646461,
          0.10706197147272487,
          0.10632037409443816,
          0.10559150110115409,
          0.10487415372543245,
          0.10416714892004715,
          0.10346932475132971,
          0.10277954557754702,
          0.1020967069829811,
          0.10141974044037984,
          0.10074761767664045,
          0.10007935471888588,
          0.09941401560056237,
          0.09875071570975281,
          0.09808862476455996,
          0.09742696940315454,
          0.09676503537887518,
          0.09610216935358125,
          0.09543778028531033,
          0.0947713404091075,
          0.09410238581271493,
          0.09343051661154356,
          0.09275539673007,
          0.09207675329937937,
          0.09139437568311172,
          0.09070811414643082,
          0.09001787818491724,
          0.08932363453235977,
          0.08862540486839059,
          0.08792326324864129,
          0.08721733328170117,
          0.08650778507849412,
          0.08579483200088871,
          0.08507872723727065,
          0.08435976023354752,
          0.08363825300853168,
          0.08291455638291745,
          0.08218904615109585,
          0.0814621192248311,
          0.08073418977740926,
          0.08000568541620144,
          0.07927704341069908,
          0.07854870700200736,
          0.07782112181848991,
          0.07709473242078467,
          0.07636997899776223,
          0.07564729423320705,
          0.07492710036104183,
          0.07420980642486456,
          0.07349580575539008,
          0.07278547367715237,
          0.07207916545350666,
          0.0713772144766375,
          0.07067993070692101,
          0.06998759936364396,
          0.06930047986677453,
          0.06861880502722373,
          0.0679427804808584,
          0.06727258435945523,
          0.0666083671898238,
          0.06595025201051528,
          0.06529833469386984,
          0.06465268445966868,
          0.0640133445653564,
          0.06338033315668962,
          0.0627536442617738,
          0.06213324891075863,
          0.061519096362995566,
          0.060911115423207395,
          0.060309215828183556,
          0.05971328968569188,
          0.05912321294768609,
          0.05853884690046102,
          0.05796003965518311,
          0.05738662762316017,
          0.05681843696131397,
          0.05625528497455657,
          0.05569698146313232,
          0.05514333000444557,
          0.05459412916043848,
          0.05404917360317936,
          0.05350825515295682,
          0.05297116372482469,
          0.0524376881811797,
          0.05190761708956173,
          0.05138073938642297,
          0.05085684494909683,
          0.050335725079588785,
          0.04981717290509888,
          0.04930098370134709,
          0.04878695514579968,
          0.04827488750877214,
          0.04776458379110807,
          0.047255849817690515,
          0.0467484942964354,
          0.04624232885263939,
          0.04573716804860719,
          0.04523282939837544,
          0.04472913338707659,
          0.0442259035040648,
          0.04372296629836006,
          0.043220151464266984,
          0.04271729196421174,
          0.04221422419491909,
          0.041710788202042166,
          0.04120682794728082,
          0.040702191630886286,
          0.04019673207128348,
          0.03969030714234792,
          0.03918278026768798,
          0.03867402097010752,
          0.03816390547328388,
          0.03765231735160591,
          0.03713914822309193,
          0.03662429847935806,
          0.03610767804575266,
          0.0355892071640185,
          0.035068817189198756,
          0.03454645139198254,
          0.0340220657572796,
          0.033495629769549395,
          0.032967127175261894,
          0.03243655671286077,
          0.0319039328007168,
          0.03136928617380346,
          0.03083266446019081,
          0.030294132688935816,
          0.029753773721529864,
          0.029211688599750645,
          0.028667996803534986,
          0.028122836413337172,
          0.02757636417234988,
          0.027028755444926944,
          0.026480204068552986,
          0.025930922097734798,
          0.025381139439230403,
          0.0248311033790794,
          0.024281078002928547,
          0.023731343512155306,
          0.02318219543926639,
          0.022633943766973242,
          0.022086911956220503,
          0.021541435889247444,
          0.020997862734496463,
          0.02045654974083791,
          0.019917862969147253,
          0.019382175969751742,
          0.018849868414647603,
          0.01832132469368091,
          0.017796932484080576,
          0.01727708130282885,
          0.016762161051361343,
          0.01625256056199998,
          0.015748666155345658,
          0.015250860217597433,
          0.014759519806424579,
          0.01427501529360455,
          0.013797709052159267,
          0.013327954195182378,
          0.012866093372957872,
          0.012412457634332843,
          0.01196736535763465,
          0.011531121255722447,
          0.01110401545904018,
          0.010686322679808458,
          0.0102783014597552,
          0.009880193503055634,
          0.009492223095432854,
          0.009114596609670934,
          0.008747502097120264,
          0.008391108964133434,
          0.008045567731768262,
          0.007711009876535134,
          0.007387547749453645,
          0.007075274570224452,
          0.006774264492915237,
          0.006484572739211259,
          0.006206235794990002,
          0.0059392716657475425,
          0.005683680186232693,
          0.005439443379530855,
          0.005206525860784611,
          0.00498487528073792,
          0.004774422804344025,
          0.00457508361978225,
          0.004386757473378389,
          0.004209329226118274,
          0.0040426694276756115,
          0.003886634904141276,
          0.003741069355936137,
          0.003605803962706657,
          0.003480657992339195,
          0.0033654394115764366,
          0.0032599454960745337,
          0.003163963438095932,
          0.003077270950384551,
          0.0029996368651128095,
          0.002930821727118156,
          0.00287057838095539,
          0.0028186525515771633,
          0.0027747834187123463,
          0.00273870418523951,
          0.002710142640045459,
          0.002688821716015589,
          0.002674460043921104,
          0.002666772503046823,
          0.0026654707694418567,
          0.002670263862673514,
          0.0026808586919231376,
          0.002696960602182473,
          0.0027182739211920747,
          0.0027445025076119163,
          0.0027753503007313823,
          0.002810521871814945,
          0.002849722976944496,
          0.0028926611109645227,
          0.002939046061865864,
          0.002988590464663611,
          0.0030410103535391383,
          0.0030960257107311446,
          0.003153361010381378,
          0.0032127457552722496,
          0.003273915004142042,
          0.0033366098870332844,
          0.0034005781059262556,
          0.0034655744177376213,
          0.003531361096626841,
          0.003597708372455811,
          0.0036643948421914395,
          0.0037312078510307995,
          0.00379794384006526,
          0.003864408657385036,
          0.003930417829659893,
          0.003995796791414891,
          0.004060381069451155,
          0.004124016420139568,
          0.004186558917637128,
          0.004247874991438995,
          0.00430784141207995,
          0.004366345224232653,
          0.00442328362691246,
          0.004478563800983176,
          0.004532102684659908,
          0.0045838266982176756,
          0.004633671419630399,
          0.004681581213378885,
          0.004727508815169843,
          0.004771414875795576,
          0.004813267467827796,
          0.004853041559272924,
          0.004890718458713722,
          0.004926285236817574,
          0.004959734129398934,
          0.004991061927478534,
          0.00502026935997949,
          0.0050473604748377835,
          0.005072342024378385,
          0.005095222860816641,
          0.005116013347686377,
          0.005134724792871243,
          0.005151368908724368,
          0.005165957304505556,
          0.005178501016046687,
          0.005189010077178557,
          0.005197493137019563,
          0.00520395712674361,
          0.0052084069789167945,
          0.005210845401925684,
          0.005211272711421334,
          0.005209686720079568,
          0.0052060826863368275,
          0.005200453322110118,
          0.005192788858856804,
          0.005183077170683403,
          0.005171303952579794,
          0.005157452951244327,
          0.005141506245383222,
          0.005123444571821866,
          0.005103247693262311,
          0.005080894803066937,
          0.005056364962047488,
          0.00502963756189712,
          0.005000692809623686,
          0.004969512227129082,
          0.0049360791599335225,
          0.004900379288967225,
          0.004862401139344964,
          0.004822136580101245,
          0.004779581308993936,
          0.004734735316680057,
          0.004687603324825915,
          0.004638195193031486
         ],
         "yaxis": "y"
        },
        {
         "fill": "tozeroy",
         "hovertemplate": "<b>Synthetic</b><br>Value: %{x}<br>Frequency: %{y}<extra></extra>",
         "legendgroup": "Synthetic",
         "marker": {
          "color": "#01E0C9"
         },
         "mode": "lines",
         "name": "Synthetic",
         "showlegend": true,
         "type": "scatter",
         "x": [
          0,
          0.0124,
          0.0248,
          0.037200000000000004,
          0.0496,
          0.062,
          0.07440000000000001,
          0.0868,
          0.0992,
          0.1116,
          0.124,
          0.1364,
          0.14880000000000002,
          0.1612,
          0.1736,
          0.186,
          0.1984,
          0.21080000000000002,
          0.2232,
          0.2356,
          0.248,
          0.2604,
          0.2728,
          0.2852,
          0.29760000000000003,
          0.31,
          0.3224,
          0.3348,
          0.3472,
          0.35960000000000003,
          0.372,
          0.3844,
          0.3968,
          0.4092,
          0.42160000000000003,
          0.434,
          0.4464,
          0.4588,
          0.4712,
          0.48360000000000003,
          0.496,
          0.5084000000000001,
          0.5208,
          0.5332,
          0.5456,
          0.558,
          0.5704,
          0.5828000000000001,
          0.5952000000000001,
          0.6076,
          0.62,
          0.6324,
          0.6448,
          0.6572,
          0.6696,
          0.682,
          0.6944,
          0.7068000000000001,
          0.7192000000000001,
          0.7316,
          0.744,
          0.7564,
          0.7688,
          0.7812,
          0.7936,
          0.806,
          0.8184,
          0.8308000000000001,
          0.8432000000000001,
          0.8556,
          0.868,
          0.8804,
          0.8928,
          0.9052,
          0.9176,
          0.93,
          0.9424,
          0.9548000000000001,
          0.9672000000000001,
          0.9796,
          0.992,
          1.0044,
          1.0168000000000001,
          1.0292000000000001,
          1.0416,
          1.054,
          1.0664,
          1.0788,
          1.0912,
          1.1036000000000001,
          1.116,
          1.1284,
          1.1408,
          1.1532,
          1.1656000000000002,
          1.178,
          1.1904000000000001,
          1.2027999999999999,
          1.2152,
          1.2276000000000002,
          1.24,
          1.2524000000000002,
          1.2648,
          1.2772000000000001,
          1.2896,
          1.302,
          1.3144,
          1.3268,
          1.3392,
          1.3516000000000001,
          1.364,
          1.3764,
          1.3888,
          1.4012,
          1.4136000000000002,
          1.426,
          1.4384000000000001,
          1.4507999999999999,
          1.4632,
          1.4756000000000002,
          1.488,
          1.5004000000000002,
          1.5128,
          1.5252000000000001,
          1.5376,
          1.55,
          1.5624,
          1.5748,
          1.5872,
          1.5996000000000001,
          1.612,
          1.6244,
          1.6368,
          1.6492,
          1.6616000000000002,
          1.674,
          1.6864000000000001,
          1.6987999999999999,
          1.7112,
          1.7236000000000002,
          1.736,
          1.7484000000000002,
          1.7608,
          1.7732,
          1.7856,
          1.798,
          1.8104,
          1.8228,
          1.8352,
          1.8476000000000001,
          1.86,
          1.8724,
          1.8848,
          1.8972,
          1.9096000000000002,
          1.922,
          1.9344000000000001,
          1.9467999999999999,
          1.9592,
          1.9716000000000002,
          1.984,
          1.9964000000000002,
          2.0088,
          2.0212,
          2.0336000000000003,
          2.046,
          2.0584000000000002,
          2.0708,
          2.0832,
          2.0956,
          2.108,
          2.1204,
          2.1328,
          2.1452000000000004,
          2.1576,
          2.17,
          2.1824,
          2.1948000000000003,
          2.2072000000000003,
          2.2196,
          2.232,
          2.2444,
          2.2568,
          2.2692,
          2.2816,
          2.294,
          2.3064,
          2.3188,
          2.3312000000000004,
          2.3436,
          2.356,
          2.3684000000000003,
          2.3808000000000002,
          2.3932,
          2.4055999999999997,
          2.418,
          2.4304,
          2.4428,
          2.4552000000000005,
          2.4676,
          2.48,
          2.4924,
          2.5048000000000004,
          2.5172000000000003,
          2.5296,
          2.542,
          2.5544000000000002,
          2.5668,
          2.5792,
          2.5916,
          2.604,
          2.6164,
          2.6288,
          2.6412000000000004,
          2.6536,
          2.666,
          2.6784,
          2.6908000000000003,
          2.7032000000000003,
          2.7156,
          2.728,
          2.7404,
          2.7528,
          2.7652,
          2.7776,
          2.79,
          2.8024,
          2.8148,
          2.8272000000000004,
          2.8396,
          2.852,
          2.8644000000000003,
          2.8768000000000002,
          2.8892,
          2.9015999999999997,
          2.914,
          2.9264,
          2.9388,
          2.9512000000000005,
          2.9636,
          2.976,
          2.9884,
          3.0008000000000004,
          3.0132000000000003,
          3.0256,
          3.038,
          3.0504000000000002,
          3.0628,
          3.0752,
          3.0876,
          3.1,
          3.1124,
          3.1248,
          3.1372000000000004,
          3.1496,
          3.162,
          3.1744,
          3.1868000000000003,
          3.1992000000000003,
          3.2116,
          3.224,
          3.2364,
          3.2488,
          3.2612,
          3.2736,
          3.286,
          3.2984,
          3.3108,
          3.3232000000000004,
          3.3356,
          3.348,
          3.3604000000000003,
          3.3728000000000002,
          3.3852,
          3.3975999999999997,
          3.41,
          3.4224,
          3.4348,
          3.4472000000000005,
          3.4596,
          3.472,
          3.4844,
          3.4968000000000004,
          3.5092000000000003,
          3.5216,
          3.534,
          3.5464,
          3.5588,
          3.5712,
          3.5836,
          3.596,
          3.6084,
          3.6208,
          3.6332000000000004,
          3.6456,
          3.658,
          3.6704,
          3.6828000000000003,
          3.6952000000000003,
          3.7076,
          3.72,
          3.7324,
          3.7448,
          3.7572,
          3.7696,
          3.782,
          3.7944,
          3.8068,
          3.8192000000000004,
          3.8316,
          3.844,
          3.8564000000000003,
          3.8688000000000002,
          3.8812,
          3.8935999999999997,
          3.906,
          3.9184,
          3.9308,
          3.9432000000000005,
          3.9556,
          3.968,
          3.9804,
          3.9928000000000003,
          4.0052,
          4.0176,
          4.03,
          4.0424,
          4.0548,
          4.067200000000001,
          4.0796,
          4.092,
          4.104400000000001,
          4.1168000000000005,
          4.1292,
          4.1416,
          4.154,
          4.1664,
          4.1788,
          4.1912,
          4.203600000000001,
          4.216,
          4.228400000000001,
          4.2408,
          4.2532,
          4.2656,
          4.278,
          4.290400000000001,
          4.3028,
          4.3152,
          4.3276,
          4.34,
          4.3524,
          4.3648,
          4.3772,
          4.389600000000001,
          4.402,
          4.4144000000000005,
          4.4268,
          4.4392,
          4.4516,
          4.464,
          4.476400000000001,
          4.4888,
          4.5012,
          4.5136,
          4.526,
          4.5384,
          4.550800000000001,
          4.5632,
          4.5756000000000006,
          4.588,
          4.6004000000000005,
          4.6128,
          4.6251999999999995,
          4.6376,
          4.65,
          4.662400000000001,
          4.6748,
          4.6872,
          4.6996,
          4.712,
          4.7244,
          4.736800000000001,
          4.7492,
          4.7616000000000005,
          4.774,
          4.7864,
          4.7988,
          4.8111999999999995,
          4.823600000000001,
          4.836,
          4.848400000000001,
          4.8608,
          4.8732,
          4.8856,
          4.898,
          4.910400000000001,
          4.9228000000000005,
          4.9352,
          4.9476,
          4.96,
          4.9724,
          4.9848,
          4.997199999999999,
          5.009600000000001,
          5.022,
          5.034400000000001,
          5.0468,
          5.0592,
          5.0716,
          5.084,
          5.096400000000001,
          5.1088000000000005,
          5.1212,
          5.1336,
          5.146,
          5.1584,
          5.1708,
          5.1832,
          5.195600000000001,
          5.208,
          5.220400000000001,
          5.2328,
          5.2452,
          5.2576,
          5.27,
          5.282400000000001,
          5.2948,
          5.3072,
          5.3196,
          5.332,
          5.3444,
          5.3568,
          5.3692,
          5.381600000000001,
          5.394,
          5.4064000000000005,
          5.4188,
          5.4312,
          5.4436,
          5.456,
          5.468400000000001,
          5.4808,
          5.4932,
          5.5056,
          5.518,
          5.5304,
          5.542800000000001,
          5.5552,
          5.5676000000000005,
          5.58,
          5.5924000000000005,
          5.6048,
          5.6171999999999995,
          5.6296,
          5.642,
          5.654400000000001,
          5.6668,
          5.6792,
          5.6916,
          5.704,
          5.7164,
          5.728800000000001,
          5.7412,
          5.7536000000000005,
          5.766,
          5.7784,
          5.7908,
          5.8031999999999995,
          5.815600000000001,
          5.828,
          5.840400000000001,
          5.8528,
          5.8652,
          5.8776,
          5.89,
          5.902400000000001,
          5.9148000000000005,
          5.9272,
          5.9396,
          5.952,
          5.9644,
          5.9768,
          5.989199999999999,
          6.001600000000001,
          6.014,
          6.026400000000001,
          6.0388,
          6.0512,
          6.0636,
          6.076,
          6.088400000000001,
          6.1008000000000004,
          6.1132,
          6.1256,
          6.138,
          6.1504,
          6.1628,
          6.1752,
          6.187600000000001
         ],
         "xaxis": "x",
         "y": [
          0.3961325418859647,
          0.39808359364424484,
          0.3998756652705926,
          0.40150735822967937,
          0.4029775059952991,
          0.4042851761566973,
          0.4054296719604488,
          0.40641053328422616,
          0.4072275370406509,
          0.4078806970113852,
          0.4083702631135453,
          0.40869672010234664,
          0.40886078571587775,
          0.40886340826963147,
          0.4087057637103007,
          0.40838925214009475,
          0.40791549382450243,
          0.4072863246981356,
          0.40650379138478043,
          0.4055701457493826,
          0.4044878390010547,
          0.4032595153675213,
          0.4018880053627497,
          0.40037631867056656,
          0.39872763666818706,
          0.39694530461451566,
          0.3950328235289231,
          0.39299384178695246,
          0.39083214646004094,
          0.38855165442684814,
          0.3861564032842363,
          0.3836505420861988,
          0.3810383219392359,
          0.3783240864827791,
          0.37551226228320334,
          0.3726073491698337,
          0.3696139105411226,
          0.3665365636688206,
          0.3633799700274941,
          0.360148825676249,
          0.35684785171886296,
          0.35348178486777465,
          0.3500553681366569,
          0.34657334168534276,
          0.3430404338399663,
          0.33946135231014407,
          0.33584077562397097,
          0.3321833448004015,
          0.3284936552775201,
          0.3247762491138362,
          0.3210356074786049,
          0.31727614344578664,
          0.3135021951050007,
          0.3097180190014358,
          0.305927783915396,
          0.3021355649907292,
          0.29834533822008424,
          0.294560975293562,
          0.2907862388159934,
          0.28702477789673125,
          0.28328012411457976,
          0.27955568785913093,
          0.2758547550486143,
          0.27218048422307894,
          0.2685359040105763,
          0.26492391096288653,
          0.26134726775622524,
          0.25780860175131776,
          0.2543104039062743,
          0.25085502803471804,
          0.24744469040077616,
          0.24408146964169272,
          0.24076730700809362,
          0.23750400691118817,
          0.23429323776559755,
          0.2311365331158945,
          0.22803529303442666,
          0.22499078577755846,
          0.2220041496870449,
          0.21907639532296913,
          0.21620840781435208,
          0.2134009494133754,
          0.210654662238987,
          0.20797007119557645,
          0.2053475870523534,
          0.20278750966910222,
          0.20029003135402054,
          0.1978552403394896,
          0.1954831243617823,
          0.19317357433089552,
          0.19092638807699502,
          0.18874127416018405,
          0.18661785573068249,
          0.184555674426837,
          0.18255419429877506,
          0.18061280574593672,
          0.17873082945715754,
          0.1769075203424526,
          0.1751420714461226,
          0.17343361783130737,
          0.1717812404266629,
          0.17018396982631187,
          0.16864079003480772,
          0.16715064214938058,
          0.16571242797227842,
          0.1643250135465833,
          0.16298723260942383,
          0.16169788995708045,
          0.1604557647169947,
          0.15925961352226475,
          0.15810817358472223,
          0.1570001656632374,
          0.15593429692436608,
          0.15490926369301347,
          0.1539237540912106,
          0.1529764505636366,
          0.15206603228890536,
          0.15119117747614041,
          0.1503505655467187,
          0.14954287920151077,
          0.14876680637429107,
          0.1480210420723728,
          0.1473042901058417,
          0.1466152647070916,
          0.1459526920426496,
          0.1453153116195641,
          0.14470187758885728,
          0.1441111599487917,
          0.14354194565090547,
          0.1429930396119311,
          0.14246326563491116,
          0.14195146724293953,
          0.14145650842908236,
          0.1409772743261376,
          0.14051267179997726,
          0.14006162997024996,
          0.13962310066230513,
          0.13919605879417996,
          0.13877950270252762,
          0.13837245441133103,
          0.13797395984724795,
          0.13758308900534658,
          0.1371989360689803,
          0.13682061948744986,
          0.13644728201502374,
          0.13607809071479474,
          0.13571223693074716,
          0.13534893623128325,
          0.1349874283273367,
          0.13462697696807108,
          0.13426686981700903,
          0.1339064183112994,
          0.1335449575066703,
          0.1331818459104625,
          0.1328164653049683,
          0.13244822056314623,
          0.13207653945860678,
          0.1317008724716004,
          0.1313206925925643,
          0.130935495124635,
          0.13054479748634018,
          0.13014813901554334,
          0.12974508077553396,
          0.12933520536401683,
          0.12891811672558012,
          0.128493439968085,
          0.128060821183274,
          0.12761992727175375,
          0.12717044577237582,
          0.126712084695912,
          0.12624457236281575,
          0.1257676572447323,
          0.12528110780932677,
          0.12478471236791,
          0.12427827892524397,
          0.12376163503084762,
          0.12323462763103535,
          0.12269712292088787,
          0.1221490061952685,
          0.12159018169800273,
          0.12102057246826212,
          0.12044012018319837,
          0.11984878499585032,
          0.1192465453673412,
          0.11863339789238359,
          0.1180093571171242,
          0.11737445534838058,
          0.11672874245333824,
          0.11607228564882732,
          0.11540516927932128,
          0.11472749458285487,
          0.11403937944412122,
          0.11334095813404144,
          0.11263238103519042,
          0.1119138143525205,
          0.11118543980888826,
          0.11044745432497942,
          0.10970006968330548,
          0.1089435121760088,
          0.10817802223632503,
          0.10740385405361356,
          0.10662127517196156,
          0.10583056607244909,
          0.1050320197392658,
          0.10422594120991617,
          0.10341264710988379,
          0.10259246517216299,
          0.10176573374217625,
          0.10093280126864779,
          0.10009402578111018,
          0.09924977435474881,
          0.09840042256339532,
          0.0975463539215175,
          0.09668795931611948,
          0.09582563642951858,
          0.09495978915401414,
          0.09409082699950037,
          0.09321916449511439,
          0.09234522058604643,
          0.09146941802665622,
          0.090592182771065,
          0.08971394336240615,
          0.08883513032191623,
          0.0879561755390677,
          0.08707751166392526,
          0.08619957150290175,
          0.08532278741908472,
          0.08444759073827274,
          0.08357441116184107,
          0.0827036761875326,
          0.08183581053921891,
          0.08097123560666357,
          0.08011036889625014,
          0.07925362349361566,
          0.07840140753906283,
          0.07755412371658685,
          0.07671216875728623,
          0.07587593295788508,
          0.07504579971501504,
          0.07422214507587331,
          0.0734053373057854,
          0.07259573647316195,
          0.07179369405226114,
          0.07099955254412327,
          0.07021364511596836,
          0.0694362952592984,
          0.06866781646688748,
          0.06790851192877688,
          0.06715867424735199,
          0.06641858517151113,
          0.06568851534989628,
          0.06496872410310467,
          0.06425945921475382,
          0.06356095674123237,
          0.06287344083993315,
          0.06219712361572584,
          0.0615322049853963,
          0.06087887255975381,
          0.06023730154307878,
          0.05960765464956418,
          0.058990082036391236,
          0.05838472125305507,
          0.05779169720655758,
          0.057211122142069686,
          0.056643095638663835,
          0.056087704619716953,
          0.05554502337758941,
          0.05501511361218048,
          0.05449802448298539,
          0.053993792674267176,
          0.05350244247299497,
          0.05302398585918561,
          0.052558422608329415,
          0.0521057404055733,
          0.051665914971374016,
          0.05123891019833674,
          0.05082467829898342,
          0.05042315996421458,
          0.05003428453224371,
          0.04965797016780969,
          0.04929412405148547,
          0.048942642578926415,
          0.0486034115699143,
          0.04827630648707158,
          0.04796119266413662,
          0.047657925543700554,
          0.04736635092432241,
          0.04708630521694347,
          0.04681761571053321,
          0.046560100846903214,
          0.0463135705046263,
          0.04607782629199823,
          0.045852661848979,
          0.04563786315804469,
          0.04543320886386904,
          0.045238470601747995,
          0.04505341333466663,
          0.044877795698886815,
          0.044711370357922435,
          0.044553884364742585,
          0.044405079532020074,
          0.04426469281022221,
          0.044132456673303636,
          0.04400809951173911,
          0.04389134603259884,
          0.04378191766633483,
          0.043679532979916016,
          0.04358390809590739,
          0.04349475711705787,
          0.043411792555921036,
          0.043334725768994366,
          0.043263267394824965,
          0.04319712779549414,
          0.043136017500847994,
          0.04307964765481425,
          0.043027730463099156,
          0.042979979641530004,
          0.042936110864270786,
          0.04289584221110848,
          0.04285889461297511,
          0.04282499229484433,
          0.04279386321511521,
          0.04276523950056947,
          0.04273885787597267,
          0.042714460087367664,
          0.04269179331809962,
          0.04267061059659335,
          0.042650671194904725,
          0.042631741017055594,
          0.04261359297617038,
          0.04259600735942467,
          0.042578772179838464,
          0.04256168351394003,
          0.04254454582436113,
          0.04252717226642679,
          0.04250938497783688,
          0.04249101535056004,
          0.04247190428409081,
          0.04245190241925969,
          0.04243087035181914,
          0.04240867882507529,
          0.042385208900879184,
          0.04236035210833984,
          0.04233401056967669,
          0.04230609710267803,
          0.04227653529929934,
          0.042245259579986184,
          0.042212215223378105,
          0.04217735837110762,
          0.04214065600748193,
          0.04210208591389874,
          0.04206163659791982,
          0.04201930719699659,
          0.041975107356914024,
          0.04192905708509,
          0.04188118657894349,
          0.041831536029611614,
          0.0417801554013738,
          0.04172710418720764,
          0.0416724511409774,
          0.041616273986816506,
          0.04155865910634469,
          0.04149970120441576,
          0.041439502954163515,
          0.0413781746221712,
          0.041315833674651206,
          0.04125260436557765,
          0.041188617307767135,
          0.04112400902795656,
          0.04105892150696906,
          0.04099350170611006,
          0.040927901080967215,
          0.04086227508383199,
          0.040796782655986595,
          0.04073158571113405,
          0.040666848611269214,
          0.04060273763631048,
          0.04053942044882805,
          0.04047706555521635,
          0.04041584176466431,
          0.04035591764728243,
          0.040297460992743006,
          0.040240638270785674,
          0.04018561409493083,
          0.04013255069072983,
          0.04008160736986478,
          0.04003294001138771,
          0.03998670055136722,
          0.03994303648217837,
          0.039902090362643854,
          0.03986399934019682,
          0.03982889468619799,
          0.03979690134550104,
          0.039768137501312514,
          0.03974271415635072,
          0.039720734731256375,
          0.03970229468115905,
          0.039687481131250216,
          0.03967637253216062,
          0.03966903833588312,
          0.039665538692926446,
          0.039665924171327534,
          0.039670235498091816,
          0.039678503323571535,
          0.03969074800923388,
          0.03970697943921086,
          0.03972719685596355,
          0.03975138872033499,
          0.03977953259620719,
          0.039811595059920005,
          0.03984753163455298,
          0.03988728674911427,
          0.03993079372262777,
          0.039977974773053246,
          0.04002874105092509,
          0.04008299269754142,
          0.04014061892748844,
          0.040201498135235984,
          0.04026549802549487,
          0.04033247576698203,
          0.04040227816919796,
          0.040474741881779366,
          0.040549693615952585,
          0.04062695038757549,
          0.040706319781221266,
          0.040787600234724185,
          0.04087058134357682,
          0.04095504418453779,
          0.0410407616577819,
          0.04112749884689879,
          0.041215013396021585,
          0.04130305590334337,
          0.04139137033026037,
          0.04147969442535721,
          0.041567760162434894,
          0.041655294191762275,
          0.04174201830371649,
          0.04182764990396329,
          0.04191190249931396,
          0.04199448619338293,
          0.042075108191157284,
          0.04215347331158007,
          0.042229284507237126,
          0.042302243390229484,
          0.04237205076330214,
          0.042438407155295274,
          0.0425010133599733,
          0.04255957097728267,
          0.0426137829560815,
          0.042663354137380156,
          0.042707991797126595,
          0.04274740618756504,
          0.042781311076195164,
          0.04280942428135457,
          0.04283146820344708,
          0.0428471703508372,
          0.04285626385943146,
          0.042858488004969574,
          0.042853588707048494,
          0.04284131902390826,
          0.04282143963701122,
          0.0427937193244535,
          0.04275793542225539,
          0.0427138742725857,
          0.042661331657987446,
          0.042600113220684,
          0.04253003486606054,
          0.042450923149432156,
          0.04236261564522906,
          0.04226496129775104,
          0.04215782075266635,
          0.042041066668457194,
          0.04191458400704172,
          0.041778270302833896,
          0.04163203590953701,
          0.04147580422400161,
          0.04130951188651873,
          0.04113310895696084,
          0.04094655906622685,
          0.040749839542494184,
          0.040542941511832103,
          0.040325869972779746,
          0.04009864384454969,
          0.03986129598857193,
          0.03961387320315436,
          0.03935643619109606,
          0.03908905950015129,
          0.03881183143631008,
          0.03852485394992414,
          0.03822824249477657,
          0.037922125860263035,
          0.03760664597691941,
          0.037281957695604384,
          0.03694822854071424,
          0.036605638437878917,
          0.03625437941665922,
          0.035894655288835474,
          0.03552668130294787,
          0.03515068377581687,
          0.034766899701840714
         ],
         "yaxis": "y"
        }
       ],
       "layout": {
        "barmode": "overlay",
        "hovermode": "closest",
        "legend": {
         "traceorder": "reversed"
        },
        "plot_bgcolor": "#F5F5F8",
        "template": {
         "data": {
          "bar": [
           {
            "error_x": {
             "color": "#2a3f5f"
            },
            "error_y": {
             "color": "#2a3f5f"
            },
            "marker": {
             "line": {
              "color": "#E5ECF6",
              "width": 0.5
             },
             "pattern": {
              "fillmode": "overlay",
              "size": 10,
              "solidity": 0.2
             }
            },
            "type": "bar"
           }
          ],
          "barpolar": [
           {
            "marker": {
             "line": {
              "color": "#E5ECF6",
              "width": 0.5
             },
             "pattern": {
              "fillmode": "overlay",
              "size": 10,
              "solidity": 0.2
             }
            },
            "type": "barpolar"
           }
          ],
          "carpet": [
           {
            "aaxis": {
             "endlinecolor": "#2a3f5f",
             "gridcolor": "white",
             "linecolor": "white",
             "minorgridcolor": "white",
             "startlinecolor": "#2a3f5f"
            },
            "baxis": {
             "endlinecolor": "#2a3f5f",
             "gridcolor": "white",
             "linecolor": "white",
             "minorgridcolor": "white",
             "startlinecolor": "#2a3f5f"
            },
            "type": "carpet"
           }
          ],
          "choropleth": [
           {
            "colorbar": {
             "outlinewidth": 0,
             "ticks": ""
            },
            "type": "choropleth"
           }
          ],
          "contour": [
           {
            "colorbar": {
             "outlinewidth": 0,
             "ticks": ""
            },
            "colorscale": [
             [
              0,
              "#0d0887"
             ],
             [
              0.1111111111111111,
              "#46039f"
             ],
             [
              0.2222222222222222,
              "#7201a8"
             ],
             [
              0.3333333333333333,
              "#9c179e"
             ],
             [
              0.4444444444444444,
              "#bd3786"
             ],
             [
              0.5555555555555556,
              "#d8576b"
             ],
             [
              0.6666666666666666,
              "#ed7953"
             ],
             [
              0.7777777777777778,
              "#fb9f3a"
             ],
             [
              0.8888888888888888,
              "#fdca26"
             ],
             [
              1,
              "#f0f921"
             ]
            ],
            "type": "contour"
           }
          ],
          "contourcarpet": [
           {
            "colorbar": {
             "outlinewidth": 0,
             "ticks": ""
            },
            "type": "contourcarpet"
           }
          ],
          "heatmap": [
           {
            "colorbar": {
             "outlinewidth": 0,
             "ticks": ""
            },
            "colorscale": [
             [
              0,
              "#0d0887"
             ],
             [
              0.1111111111111111,
              "#46039f"
             ],
             [
              0.2222222222222222,
              "#7201a8"
             ],
             [
              0.3333333333333333,
              "#9c179e"
             ],
             [
              0.4444444444444444,
              "#bd3786"
             ],
             [
              0.5555555555555556,
              "#d8576b"
             ],
             [
              0.6666666666666666,
              "#ed7953"
             ],
             [
              0.7777777777777778,
              "#fb9f3a"
             ],
             [
              0.8888888888888888,
              "#fdca26"
             ],
             [
              1,
              "#f0f921"
             ]
            ],
            "type": "heatmap"
           }
          ],
          "heatmapgl": [
           {
            "colorbar": {
             "outlinewidth": 0,
             "ticks": ""
            },
            "colorscale": [
             [
              0,
              "#0d0887"
             ],
             [
              0.1111111111111111,
              "#46039f"
             ],
             [
              0.2222222222222222,
              "#7201a8"
             ],
             [
              0.3333333333333333,
              "#9c179e"
             ],
             [
              0.4444444444444444,
              "#bd3786"
             ],
             [
              0.5555555555555556,
              "#d8576b"
             ],
             [
              0.6666666666666666,
              "#ed7953"
             ],
             [
              0.7777777777777778,
              "#fb9f3a"
             ],
             [
              0.8888888888888888,
              "#fdca26"
             ],
             [
              1,
              "#f0f921"
             ]
            ],
            "type": "heatmapgl"
           }
          ],
          "histogram": [
           {
            "marker": {
             "pattern": {
              "fillmode": "overlay",
              "size": 10,
              "solidity": 0.2
             }
            },
            "type": "histogram"
           }
          ],
          "histogram2d": [
           {
            "colorbar": {
             "outlinewidth": 0,
             "ticks": ""
            },
            "colorscale": [
             [
              0,
              "#0d0887"
             ],
             [
              0.1111111111111111,
              "#46039f"
             ],
             [
              0.2222222222222222,
              "#7201a8"
             ],
             [
              0.3333333333333333,
              "#9c179e"
             ],
             [
              0.4444444444444444,
              "#bd3786"
             ],
             [
              0.5555555555555556,
              "#d8576b"
             ],
             [
              0.6666666666666666,
              "#ed7953"
             ],
             [
              0.7777777777777778,
              "#fb9f3a"
             ],
             [
              0.8888888888888888,
              "#fdca26"
             ],
             [
              1,
              "#f0f921"
             ]
            ],
            "type": "histogram2d"
           }
          ],
          "histogram2dcontour": [
           {
            "colorbar": {
             "outlinewidth": 0,
             "ticks": ""
            },
            "colorscale": [
             [
              0,
              "#0d0887"
             ],
             [
              0.1111111111111111,
              "#46039f"
             ],
             [
              0.2222222222222222,
              "#7201a8"
             ],
             [
              0.3333333333333333,
              "#9c179e"
             ],
             [
              0.4444444444444444,
              "#bd3786"
             ],
             [
              0.5555555555555556,
              "#d8576b"
             ],
             [
              0.6666666666666666,
              "#ed7953"
             ],
             [
              0.7777777777777778,
              "#fb9f3a"
             ],
             [
              0.8888888888888888,
              "#fdca26"
             ],
             [
              1,
              "#f0f921"
             ]
            ],
            "type": "histogram2dcontour"
           }
          ],
          "mesh3d": [
           {
            "colorbar": {
             "outlinewidth": 0,
             "ticks": ""
            },
            "type": "mesh3d"
           }
          ],
          "parcoords": [
           {
            "line": {
             "colorbar": {
              "outlinewidth": 0,
              "ticks": ""
             }
            },
            "type": "parcoords"
           }
          ],
          "pie": [
           {
            "automargin": true,
            "type": "pie"
           }
          ],
          "scatter": [
           {
            "fillpattern": {
             "fillmode": "overlay",
             "size": 10,
             "solidity": 0.2
            },
            "type": "scatter"
           }
          ],
          "scatter3d": [
           {
            "line": {
             "colorbar": {
              "outlinewidth": 0,
              "ticks": ""
             }
            },
            "marker": {
             "colorbar": {
              "outlinewidth": 0,
              "ticks": ""
             }
            },
            "type": "scatter3d"
           }
          ],
          "scattercarpet": [
           {
            "marker": {
             "colorbar": {
              "outlinewidth": 0,
              "ticks": ""
             }
            },
            "type": "scattercarpet"
           }
          ],
          "scattergeo": [
           {
            "marker": {
             "colorbar": {
              "outlinewidth": 0,
              "ticks": ""
             }
            },
            "type": "scattergeo"
           }
          ],
          "scattergl": [
           {
            "marker": {
             "colorbar": {
              "outlinewidth": 0,
              "ticks": ""
             }
            },
            "type": "scattergl"
           }
          ],
          "scattermapbox": [
           {
            "marker": {
             "colorbar": {
              "outlinewidth": 0,
              "ticks": ""
             }
            },
            "type": "scattermapbox"
           }
          ],
          "scatterpolar": [
           {
            "marker": {
             "colorbar": {
              "outlinewidth": 0,
              "ticks": ""
             }
            },
            "type": "scatterpolar"
           }
          ],
          "scatterpolargl": [
           {
            "marker": {
             "colorbar": {
              "outlinewidth": 0,
              "ticks": ""
             }
            },
            "type": "scatterpolargl"
           }
          ],
          "scatterternary": [
           {
            "marker": {
             "colorbar": {
              "outlinewidth": 0,
              "ticks": ""
             }
            },
            "type": "scatterternary"
           }
          ],
          "surface": [
           {
            "colorbar": {
             "outlinewidth": 0,
             "ticks": ""
            },
            "colorscale": [
             [
              0,
              "#0d0887"
             ],
             [
              0.1111111111111111,
              "#46039f"
             ],
             [
              0.2222222222222222,
              "#7201a8"
             ],
             [
              0.3333333333333333,
              "#9c179e"
             ],
             [
              0.4444444444444444,
              "#bd3786"
             ],
             [
              0.5555555555555556,
              "#d8576b"
             ],
             [
              0.6666666666666666,
              "#ed7953"
             ],
             [
              0.7777777777777778,
              "#fb9f3a"
             ],
             [
              0.8888888888888888,
              "#fdca26"
             ],
             [
              1,
              "#f0f921"
             ]
            ],
            "type": "surface"
           }
          ],
          "table": [
           {
            "cells": {
             "fill": {
              "color": "#EBF0F8"
             },
             "line": {
              "color": "white"
             }
            },
            "header": {
             "fill": {
              "color": "#C8D4E3"
             },
             "line": {
              "color": "white"
             }
            },
            "type": "table"
           }
          ]
         },
         "layout": {
          "annotationdefaults": {
           "arrowcolor": "#2a3f5f",
           "arrowhead": 0,
           "arrowwidth": 1
          },
          "autotypenumbers": "strict",
          "coloraxis": {
           "colorbar": {
            "outlinewidth": 0,
            "ticks": ""
           }
          },
          "colorscale": {
           "diverging": [
            [
             0,
             "#8e0152"
            ],
            [
             0.1,
             "#c51b7d"
            ],
            [
             0.2,
             "#de77ae"
            ],
            [
             0.3,
             "#f1b6da"
            ],
            [
             0.4,
             "#fde0ef"
            ],
            [
             0.5,
             "#f7f7f7"
            ],
            [
             0.6,
             "#e6f5d0"
            ],
            [
             0.7,
             "#b8e186"
            ],
            [
             0.8,
             "#7fbc41"
            ],
            [
             0.9,
             "#4d9221"
            ],
            [
             1,
             "#276419"
            ]
           ],
           "sequential": [
            [
             0,
             "#0d0887"
            ],
            [
             0.1111111111111111,
             "#46039f"
            ],
            [
             0.2222222222222222,
             "#7201a8"
            ],
            [
             0.3333333333333333,
             "#9c179e"
            ],
            [
             0.4444444444444444,
             "#bd3786"
            ],
            [
             0.5555555555555556,
             "#d8576b"
            ],
            [
             0.6666666666666666,
             "#ed7953"
            ],
            [
             0.7777777777777778,
             "#fb9f3a"
            ],
            [
             0.8888888888888888,
             "#fdca26"
            ],
            [
             1,
             "#f0f921"
            ]
           ],
           "sequentialminus": [
            [
             0,
             "#0d0887"
            ],
            [
             0.1111111111111111,
             "#46039f"
            ],
            [
             0.2222222222222222,
             "#7201a8"
            ],
            [
             0.3333333333333333,
             "#9c179e"
            ],
            [
             0.4444444444444444,
             "#bd3786"
            ],
            [
             0.5555555555555556,
             "#d8576b"
            ],
            [
             0.6666666666666666,
             "#ed7953"
            ],
            [
             0.7777777777777778,
             "#fb9f3a"
            ],
            [
             0.8888888888888888,
             "#fdca26"
            ],
            [
             1,
             "#f0f921"
            ]
           ]
          },
          "colorway": [
           "#636efa",
           "#EF553B",
           "#00cc96",
           "#ab63fa",
           "#FFA15A",
           "#19d3f3",
           "#FF6692",
           "#B6E880",
           "#FF97FF",
           "#FECB52"
          ],
          "font": {
           "color": "#2a3f5f"
          },
          "geo": {
           "bgcolor": "white",
           "lakecolor": "white",
           "landcolor": "#E5ECF6",
           "showlakes": true,
           "showland": true,
           "subunitcolor": "white"
          },
          "hoverlabel": {
           "align": "left"
          },
          "hovermode": "closest",
          "mapbox": {
           "style": "light"
          },
          "paper_bgcolor": "white",
          "plot_bgcolor": "#E5ECF6",
          "polar": {
           "angularaxis": {
            "gridcolor": "white",
            "linecolor": "white",
            "ticks": ""
           },
           "bgcolor": "#E5ECF6",
           "radialaxis": {
            "gridcolor": "white",
            "linecolor": "white",
            "ticks": ""
           }
          },
          "scene": {
           "xaxis": {
            "backgroundcolor": "#E5ECF6",
            "gridcolor": "white",
            "gridwidth": 2,
            "linecolor": "white",
            "showbackground": true,
            "ticks": "",
            "zerolinecolor": "white"
           },
           "yaxis": {
            "backgroundcolor": "#E5ECF6",
            "gridcolor": "white",
            "gridwidth": 2,
            "linecolor": "white",
            "showbackground": true,
            "ticks": "",
            "zerolinecolor": "white"
           },
           "zaxis": {
            "backgroundcolor": "#E5ECF6",
            "gridcolor": "white",
            "gridwidth": 2,
            "linecolor": "white",
            "showbackground": true,
            "ticks": "",
            "zerolinecolor": "white"
           }
          },
          "shapedefaults": {
           "line": {
            "color": "#2a3f5f"
           }
          },
          "ternary": {
           "aaxis": {
            "gridcolor": "white",
            "linecolor": "white",
            "ticks": ""
           },
           "baxis": {
            "gridcolor": "white",
            "linecolor": "white",
            "ticks": ""
           },
           "bgcolor": "#E5ECF6",
           "caxis": {
            "gridcolor": "white",
            "linecolor": "white",
            "ticks": ""
           }
          },
          "title": {
           "x": 0.05
          },
          "xaxis": {
           "automargin": true,
           "gridcolor": "white",
           "linecolor": "white",
           "ticks": "",
           "title": {
            "standoff": 15
           },
           "zerolinecolor": "white",
           "zerolinewidth": 2
          },
          "yaxis": {
           "automargin": true,
           "gridcolor": "white",
           "linecolor": "white",
           "ticks": "",
           "title": {
            "standoff": 15
           },
           "zerolinecolor": "white",
           "zerolinewidth": 2
          }
         }
        },
        "title": {
         "text": "Real vs. Synthetic Data for column oldpeak"
        },
        "xaxis": {
         "anchor": "y2",
         "domain": [
          0,
          1
         ],
         "title": {
          "text": "Value"
         },
         "zeroline": false
        },
        "yaxis": {
         "anchor": "free",
         "domain": [
          0,
          1
         ],
         "position": 0,
         "title": {
          "text": "Frequency"
         }
        }
       }
      }
     },
     "metadata": {},
     "output_type": "display_data"
    },
    {
     "data": {
      "application/vnd.plotly.v1+json": {
       "config": {
        "plotlyServerURL": "https://plot.ly"
       },
       "data": [
        {
         "alignmentgroup": "True",
         "bingroup": "x",
         "histnorm": "probability density",
         "hovertemplate": "<b>Real</b><br>Frequency: %{y}<extra></extra>",
         "legendgroup": "Real",
         "marker": {
          "color": "#000036",
          "pattern": {
           "shape": ""
          }
         },
         "name": "Real",
         "offsetgroup": "Real",
         "orientation": "v",
         "showlegend": true,
         "type": "histogram",
         "x": [
          3,
          2,
          2,
          3,
          1,
          1,
          3,
          1,
          2,
          3,
          2,
          2,
          2,
          1,
          1,
          1,
          3,
          1,
          1,
          1,
          2,
          1,
          2,
          1,
          2,
          2,
          1,
          3,
          1,
          2,
          1,
          1,
          1,
          2,
          1,
          1,
          2,
          2,
          2,
          2,
          2,
          1,
          1,
          1,
          1,
          2,
          1,
          2,
          1,
          3,
          1,
          1,
          1,
          1,
          1,
          2,
          2,
          1,
          3,
          1,
          2,
          3,
          2,
          1,
          2,
          2,
          2,
          1,
          3,
          2,
          1,
          2,
          2,
          1,
          1,
          1,
          2,
          1,
          2,
          1,
          2,
          2,
          1,
          2,
          1,
          1,
          1,
          1,
          1,
          2,
          3,
          2,
          2,
          1,
          1,
          2,
          2,
          1,
          1,
          1,
          1,
          1,
          1,
          2,
          1,
          1,
          2,
          2,
          2,
          2,
          2,
          2,
          2,
          2,
          2,
          1,
          1,
          1,
          2,
          1,
          2,
          2,
          3,
          2,
          2,
          3,
          2,
          1,
          1,
          2,
          1,
          1,
          1,
          2,
          2,
          3,
          2,
          2,
          2,
          1,
          2,
          1,
          2,
          2,
          1,
          2,
          1,
          1,
          1,
          2,
          2,
          2,
          2,
          3,
          2,
          1,
          1,
          2,
          1,
          1,
          1,
          2,
          2,
          1,
          1,
          1,
          1,
          2,
          2,
          1,
          2,
          2,
          2,
          2,
          1,
          2,
          1,
          1,
          2,
          2,
          1,
          3,
          1,
          1,
          3,
          2,
          1,
          2,
          1,
          2,
          2,
          2,
          2,
          2,
          2,
          1,
          1,
          1,
          1,
          1,
          1,
          1,
          2,
          2,
          2,
          1,
          2,
          1,
          2,
          2,
          2,
          1,
          2,
          1,
          2,
          2,
          1,
          1,
          1,
          1,
          2,
          2,
          1,
          1,
          1,
          2,
          1,
          2,
          2,
          1,
          1,
          1,
          2,
          3,
          1,
          2,
          1,
          1,
          1,
          1,
          2,
          1,
          2,
          1,
          2,
          1,
          1,
          2,
          2,
          2,
          1,
          2,
          2,
          1,
          2,
          1,
          1,
          2,
          1,
          1,
          1,
          2,
          2,
          2,
          1,
          1,
          1,
          1,
          2,
          2,
          1,
          2,
          2,
          2,
          1,
          2,
          2,
          1,
          2,
          1,
          1,
          3,
          2,
          1,
          3,
          2,
          1,
          3,
          1,
          2,
          1,
          2,
          2,
          2,
          2,
          2,
          2
         ],
         "xaxis": "x",
         "yaxis": "y"
        },
        {
         "alignmentgroup": "True",
         "bingroup": "x",
         "histnorm": "probability density",
         "hovertemplate": "<b>Synthetic</b><br>Frequency: %{y}<extra></extra>",
         "legendgroup": "Synthetic",
         "marker": {
          "color": "#01E0C9",
          "pattern": {
           "shape": "/"
          }
         },
         "name": "Synthetic",
         "offsetgroup": "Synthetic",
         "orientation": "v",
         "showlegend": true,
         "type": "histogram",
         "x": [
          2,
          1,
          1,
          1,
          3,
          1,
          1,
          2,
          3,
          2,
          1,
          2,
          2,
          1,
          2,
          2,
          1,
          2,
          3,
          2,
          2,
          1,
          3,
          2,
          2,
          2,
          2,
          1,
          2,
          2,
          2,
          1,
          2,
          2,
          1,
          1,
          2,
          2,
          2,
          2,
          1,
          2,
          1,
          2,
          1,
          2,
          2,
          2,
          2,
          1,
          1,
          1,
          1,
          2,
          2,
          2,
          3,
          1,
          2,
          1,
          2,
          2,
          2,
          1,
          3,
          1,
          2,
          2,
          1,
          1,
          2,
          1,
          2,
          2,
          1,
          1,
          1,
          2,
          2,
          2,
          3,
          1,
          2,
          2,
          2,
          2,
          2,
          1,
          1,
          2,
          2,
          2,
          3,
          2,
          1,
          3,
          3,
          3,
          1,
          1,
          1,
          1,
          2,
          3,
          1,
          3,
          2,
          1,
          2,
          3,
          1,
          3,
          2,
          2,
          1,
          2,
          1,
          1,
          1,
          1,
          1,
          2,
          1,
          2,
          1,
          1,
          1,
          1,
          2,
          2,
          2,
          3,
          2,
          1,
          1,
          1,
          2,
          2,
          1,
          2,
          2,
          2,
          2,
          3,
          2,
          2,
          2,
          2,
          2,
          2,
          1,
          1,
          2,
          1,
          1,
          2,
          2,
          2,
          1,
          2,
          2,
          1,
          2,
          1,
          3,
          2,
          2,
          1,
          3,
          3,
          1,
          2,
          1,
          1,
          1,
          1,
          1,
          1,
          2,
          2,
          2,
          1,
          3,
          2,
          2,
          1,
          2,
          1,
          2,
          2,
          2,
          1,
          2,
          1,
          1,
          2,
          2,
          1,
          2,
          2,
          1,
          1,
          1,
          1,
          2,
          2,
          1,
          2,
          1,
          1,
          1,
          2,
          2,
          2,
          2,
          1,
          1,
          1,
          2,
          3,
          2,
          1,
          2,
          2,
          2,
          1,
          3,
          1,
          2,
          3,
          1,
          1,
          1,
          1,
          1,
          1,
          1,
          1,
          2,
          2,
          1,
          2,
          1,
          2,
          1,
          1,
          3,
          1,
          2,
          2,
          1,
          1,
          3,
          1,
          1,
          1,
          2,
          2,
          2,
          2,
          1,
          1,
          2,
          2,
          2,
          1,
          2,
          1,
          1,
          2,
          1,
          2,
          2,
          3,
          2,
          2,
          1,
          1,
          2,
          2,
          1,
          2,
          2,
          1,
          1,
          1,
          2,
          2,
          2,
          2,
          1,
          2,
          1,
          3,
          2,
          1,
          2,
          1,
          1,
          1
         ],
         "xaxis": "x",
         "yaxis": "y"
        }
       ],
       "layout": {
        "barmode": "group",
        "legend": {
         "title": {
          "text": "Data"
         },
         "tracegroupgap": 0
        },
        "margin": {
         "t": 60
        },
        "plot_bgcolor": "#F5F5F8",
        "template": {
         "data": {
          "bar": [
           {
            "error_x": {
             "color": "#2a3f5f"
            },
            "error_y": {
             "color": "#2a3f5f"
            },
            "marker": {
             "line": {
              "color": "#E5ECF6",
              "width": 0.5
             },
             "pattern": {
              "fillmode": "overlay",
              "size": 10,
              "solidity": 0.2
             }
            },
            "type": "bar"
           }
          ],
          "barpolar": [
           {
            "marker": {
             "line": {
              "color": "#E5ECF6",
              "width": 0.5
             },
             "pattern": {
              "fillmode": "overlay",
              "size": 10,
              "solidity": 0.2
             }
            },
            "type": "barpolar"
           }
          ],
          "carpet": [
           {
            "aaxis": {
             "endlinecolor": "#2a3f5f",
             "gridcolor": "white",
             "linecolor": "white",
             "minorgridcolor": "white",
             "startlinecolor": "#2a3f5f"
            },
            "baxis": {
             "endlinecolor": "#2a3f5f",
             "gridcolor": "white",
             "linecolor": "white",
             "minorgridcolor": "white",
             "startlinecolor": "#2a3f5f"
            },
            "type": "carpet"
           }
          ],
          "choropleth": [
           {
            "colorbar": {
             "outlinewidth": 0,
             "ticks": ""
            },
            "type": "choropleth"
           }
          ],
          "contour": [
           {
            "colorbar": {
             "outlinewidth": 0,
             "ticks": ""
            },
            "colorscale": [
             [
              0,
              "#0d0887"
             ],
             [
              0.1111111111111111,
              "#46039f"
             ],
             [
              0.2222222222222222,
              "#7201a8"
             ],
             [
              0.3333333333333333,
              "#9c179e"
             ],
             [
              0.4444444444444444,
              "#bd3786"
             ],
             [
              0.5555555555555556,
              "#d8576b"
             ],
             [
              0.6666666666666666,
              "#ed7953"
             ],
             [
              0.7777777777777778,
              "#fb9f3a"
             ],
             [
              0.8888888888888888,
              "#fdca26"
             ],
             [
              1,
              "#f0f921"
             ]
            ],
            "type": "contour"
           }
          ],
          "contourcarpet": [
           {
            "colorbar": {
             "outlinewidth": 0,
             "ticks": ""
            },
            "type": "contourcarpet"
           }
          ],
          "heatmap": [
           {
            "colorbar": {
             "outlinewidth": 0,
             "ticks": ""
            },
            "colorscale": [
             [
              0,
              "#0d0887"
             ],
             [
              0.1111111111111111,
              "#46039f"
             ],
             [
              0.2222222222222222,
              "#7201a8"
             ],
             [
              0.3333333333333333,
              "#9c179e"
             ],
             [
              0.4444444444444444,
              "#bd3786"
             ],
             [
              0.5555555555555556,
              "#d8576b"
             ],
             [
              0.6666666666666666,
              "#ed7953"
             ],
             [
              0.7777777777777778,
              "#fb9f3a"
             ],
             [
              0.8888888888888888,
              "#fdca26"
             ],
             [
              1,
              "#f0f921"
             ]
            ],
            "type": "heatmap"
           }
          ],
          "heatmapgl": [
           {
            "colorbar": {
             "outlinewidth": 0,
             "ticks": ""
            },
            "colorscale": [
             [
              0,
              "#0d0887"
             ],
             [
              0.1111111111111111,
              "#46039f"
             ],
             [
              0.2222222222222222,
              "#7201a8"
             ],
             [
              0.3333333333333333,
              "#9c179e"
             ],
             [
              0.4444444444444444,
              "#bd3786"
             ],
             [
              0.5555555555555556,
              "#d8576b"
             ],
             [
              0.6666666666666666,
              "#ed7953"
             ],
             [
              0.7777777777777778,
              "#fb9f3a"
             ],
             [
              0.8888888888888888,
              "#fdca26"
             ],
             [
              1,
              "#f0f921"
             ]
            ],
            "type": "heatmapgl"
           }
          ],
          "histogram": [
           {
            "marker": {
             "pattern": {
              "fillmode": "overlay",
              "size": 10,
              "solidity": 0.2
             }
            },
            "type": "histogram"
           }
          ],
          "histogram2d": [
           {
            "colorbar": {
             "outlinewidth": 0,
             "ticks": ""
            },
            "colorscale": [
             [
              0,
              "#0d0887"
             ],
             [
              0.1111111111111111,
              "#46039f"
             ],
             [
              0.2222222222222222,
              "#7201a8"
             ],
             [
              0.3333333333333333,
              "#9c179e"
             ],
             [
              0.4444444444444444,
              "#bd3786"
             ],
             [
              0.5555555555555556,
              "#d8576b"
             ],
             [
              0.6666666666666666,
              "#ed7953"
             ],
             [
              0.7777777777777778,
              "#fb9f3a"
             ],
             [
              0.8888888888888888,
              "#fdca26"
             ],
             [
              1,
              "#f0f921"
             ]
            ],
            "type": "histogram2d"
           }
          ],
          "histogram2dcontour": [
           {
            "colorbar": {
             "outlinewidth": 0,
             "ticks": ""
            },
            "colorscale": [
             [
              0,
              "#0d0887"
             ],
             [
              0.1111111111111111,
              "#46039f"
             ],
             [
              0.2222222222222222,
              "#7201a8"
             ],
             [
              0.3333333333333333,
              "#9c179e"
             ],
             [
              0.4444444444444444,
              "#bd3786"
             ],
             [
              0.5555555555555556,
              "#d8576b"
             ],
             [
              0.6666666666666666,
              "#ed7953"
             ],
             [
              0.7777777777777778,
              "#fb9f3a"
             ],
             [
              0.8888888888888888,
              "#fdca26"
             ],
             [
              1,
              "#f0f921"
             ]
            ],
            "type": "histogram2dcontour"
           }
          ],
          "mesh3d": [
           {
            "colorbar": {
             "outlinewidth": 0,
             "ticks": ""
            },
            "type": "mesh3d"
           }
          ],
          "parcoords": [
           {
            "line": {
             "colorbar": {
              "outlinewidth": 0,
              "ticks": ""
             }
            },
            "type": "parcoords"
           }
          ],
          "pie": [
           {
            "automargin": true,
            "type": "pie"
           }
          ],
          "scatter": [
           {
            "fillpattern": {
             "fillmode": "overlay",
             "size": 10,
             "solidity": 0.2
            },
            "type": "scatter"
           }
          ],
          "scatter3d": [
           {
            "line": {
             "colorbar": {
              "outlinewidth": 0,
              "ticks": ""
             }
            },
            "marker": {
             "colorbar": {
              "outlinewidth": 0,
              "ticks": ""
             }
            },
            "type": "scatter3d"
           }
          ],
          "scattercarpet": [
           {
            "marker": {
             "colorbar": {
              "outlinewidth": 0,
              "ticks": ""
             }
            },
            "type": "scattercarpet"
           }
          ],
          "scattergeo": [
           {
            "marker": {
             "colorbar": {
              "outlinewidth": 0,
              "ticks": ""
             }
            },
            "type": "scattergeo"
           }
          ],
          "scattergl": [
           {
            "marker": {
             "colorbar": {
              "outlinewidth": 0,
              "ticks": ""
             }
            },
            "type": "scattergl"
           }
          ],
          "scattermapbox": [
           {
            "marker": {
             "colorbar": {
              "outlinewidth": 0,
              "ticks": ""
             }
            },
            "type": "scattermapbox"
           }
          ],
          "scatterpolar": [
           {
            "marker": {
             "colorbar": {
              "outlinewidth": 0,
              "ticks": ""
             }
            },
            "type": "scatterpolar"
           }
          ],
          "scatterpolargl": [
           {
            "marker": {
             "colorbar": {
              "outlinewidth": 0,
              "ticks": ""
             }
            },
            "type": "scatterpolargl"
           }
          ],
          "scatterternary": [
           {
            "marker": {
             "colorbar": {
              "outlinewidth": 0,
              "ticks": ""
             }
            },
            "type": "scatterternary"
           }
          ],
          "surface": [
           {
            "colorbar": {
             "outlinewidth": 0,
             "ticks": ""
            },
            "colorscale": [
             [
              0,
              "#0d0887"
             ],
             [
              0.1111111111111111,
              "#46039f"
             ],
             [
              0.2222222222222222,
              "#7201a8"
             ],
             [
              0.3333333333333333,
              "#9c179e"
             ],
             [
              0.4444444444444444,
              "#bd3786"
             ],
             [
              0.5555555555555556,
              "#d8576b"
             ],
             [
              0.6666666666666666,
              "#ed7953"
             ],
             [
              0.7777777777777778,
              "#fb9f3a"
             ],
             [
              0.8888888888888888,
              "#fdca26"
             ],
             [
              1,
              "#f0f921"
             ]
            ],
            "type": "surface"
           }
          ],
          "table": [
           {
            "cells": {
             "fill": {
              "color": "#EBF0F8"
             },
             "line": {
              "color": "white"
             }
            },
            "header": {
             "fill": {
              "color": "#C8D4E3"
             },
             "line": {
              "color": "white"
             }
            },
            "type": "table"
           }
          ]
         },
         "layout": {
          "annotationdefaults": {
           "arrowcolor": "#2a3f5f",
           "arrowhead": 0,
           "arrowwidth": 1
          },
          "autotypenumbers": "strict",
          "coloraxis": {
           "colorbar": {
            "outlinewidth": 0,
            "ticks": ""
           }
          },
          "colorscale": {
           "diverging": [
            [
             0,
             "#8e0152"
            ],
            [
             0.1,
             "#c51b7d"
            ],
            [
             0.2,
             "#de77ae"
            ],
            [
             0.3,
             "#f1b6da"
            ],
            [
             0.4,
             "#fde0ef"
            ],
            [
             0.5,
             "#f7f7f7"
            ],
            [
             0.6,
             "#e6f5d0"
            ],
            [
             0.7,
             "#b8e186"
            ],
            [
             0.8,
             "#7fbc41"
            ],
            [
             0.9,
             "#4d9221"
            ],
            [
             1,
             "#276419"
            ]
           ],
           "sequential": [
            [
             0,
             "#0d0887"
            ],
            [
             0.1111111111111111,
             "#46039f"
            ],
            [
             0.2222222222222222,
             "#7201a8"
            ],
            [
             0.3333333333333333,
             "#9c179e"
            ],
            [
             0.4444444444444444,
             "#bd3786"
            ],
            [
             0.5555555555555556,
             "#d8576b"
            ],
            [
             0.6666666666666666,
             "#ed7953"
            ],
            [
             0.7777777777777778,
             "#fb9f3a"
            ],
            [
             0.8888888888888888,
             "#fdca26"
            ],
            [
             1,
             "#f0f921"
            ]
           ],
           "sequentialminus": [
            [
             0,
             "#0d0887"
            ],
            [
             0.1111111111111111,
             "#46039f"
            ],
            [
             0.2222222222222222,
             "#7201a8"
            ],
            [
             0.3333333333333333,
             "#9c179e"
            ],
            [
             0.4444444444444444,
             "#bd3786"
            ],
            [
             0.5555555555555556,
             "#d8576b"
            ],
            [
             0.6666666666666666,
             "#ed7953"
            ],
            [
             0.7777777777777778,
             "#fb9f3a"
            ],
            [
             0.8888888888888888,
             "#fdca26"
            ],
            [
             1,
             "#f0f921"
            ]
           ]
          },
          "colorway": [
           "#636efa",
           "#EF553B",
           "#00cc96",
           "#ab63fa",
           "#FFA15A",
           "#19d3f3",
           "#FF6692",
           "#B6E880",
           "#FF97FF",
           "#FECB52"
          ],
          "font": {
           "color": "#2a3f5f"
          },
          "geo": {
           "bgcolor": "white",
           "lakecolor": "white",
           "landcolor": "#E5ECF6",
           "showlakes": true,
           "showland": true,
           "subunitcolor": "white"
          },
          "hoverlabel": {
           "align": "left"
          },
          "hovermode": "closest",
          "mapbox": {
           "style": "light"
          },
          "paper_bgcolor": "white",
          "plot_bgcolor": "#E5ECF6",
          "polar": {
           "angularaxis": {
            "gridcolor": "white",
            "linecolor": "white",
            "ticks": ""
           },
           "bgcolor": "#E5ECF6",
           "radialaxis": {
            "gridcolor": "white",
            "linecolor": "white",
            "ticks": ""
           }
          },
          "scene": {
           "xaxis": {
            "backgroundcolor": "#E5ECF6",
            "gridcolor": "white",
            "gridwidth": 2,
            "linecolor": "white",
            "showbackground": true,
            "ticks": "",
            "zerolinecolor": "white"
           },
           "yaxis": {
            "backgroundcolor": "#E5ECF6",
            "gridcolor": "white",
            "gridwidth": 2,
            "linecolor": "white",
            "showbackground": true,
            "ticks": "",
            "zerolinecolor": "white"
           },
           "zaxis": {
            "backgroundcolor": "#E5ECF6",
            "gridcolor": "white",
            "gridwidth": 2,
            "linecolor": "white",
            "showbackground": true,
            "ticks": "",
            "zerolinecolor": "white"
           }
          },
          "shapedefaults": {
           "line": {
            "color": "#2a3f5f"
           }
          },
          "ternary": {
           "aaxis": {
            "gridcolor": "white",
            "linecolor": "white",
            "ticks": ""
           },
           "baxis": {
            "gridcolor": "white",
            "linecolor": "white",
            "ticks": ""
           },
           "bgcolor": "#E5ECF6",
           "caxis": {
            "gridcolor": "white",
            "linecolor": "white",
            "ticks": ""
           }
          },
          "title": {
           "x": 0.05
          },
          "xaxis": {
           "automargin": true,
           "gridcolor": "white",
           "linecolor": "white",
           "ticks": "",
           "title": {
            "standoff": 15
           },
           "zerolinecolor": "white",
           "zerolinewidth": 2
          },
          "yaxis": {
           "automargin": true,
           "gridcolor": "white",
           "linecolor": "white",
           "ticks": "",
           "title": {
            "standoff": 15
           },
           "zerolinecolor": "white",
           "zerolinewidth": 2
          }
         }
        },
        "title": {
         "text": "Real vs. Synthetic Data for column 'slope'"
        },
        "xaxis": {
         "anchor": "y",
         "domain": [
          0,
          1
         ],
         "title": {
          "text": "Category"
         }
        },
        "yaxis": {
         "anchor": "x",
         "domain": [
          0,
          1
         ],
         "title": {
          "text": "Frequency"
         }
        }
       }
      }
     },
     "metadata": {},
     "output_type": "display_data"
    },
    {
     "data": {
      "application/vnd.plotly.v1+json": {
       "config": {
        "plotlyServerURL": "https://plot.ly"
       },
       "data": [
        {
         "alignmentgroup": "True",
         "bingroup": "x",
         "histnorm": "probability density",
         "hovertemplate": "<b>Real</b><br>Frequency: %{y}<extra></extra>",
         "legendgroup": "Real",
         "marker": {
          "color": "#000036",
          "pattern": {
           "shape": ""
          }
         },
         "name": "Real",
         "offsetgroup": "Real",
         "orientation": "v",
         "showlegend": true,
         "type": "histogram",
         "x": [
          0,
          3,
          2,
          0,
          0,
          0,
          2,
          0,
          1,
          0,
          0,
          0,
          1,
          0,
          0,
          0,
          0,
          0,
          0,
          0,
          0,
          0,
          0,
          2,
          2,
          0,
          0,
          0,
          0,
          0,
          2,
          2,
          0,
          0,
          0,
          0,
          0,
          1,
          1,
          0,
          3,
          0,
          2,
          0,
          0,
          1,
          0,
          0,
          1,
          0,
          1,
          0,
          1,
          0,
          1,
          1,
          1,
          0,
          1,
          1,
          0,
          0,
          3,
          0,
          1,
          2,
          0,
          0,
          0,
          0,
          0,
          2,
          2,
          2,
          1,
          0,
          1,
          1,
          0,
          0,
          0,
          0,
          0,
          0,
          0,
          0,
          0,
          0,
          0,
          0,
          3,
          3,
          0,
          0,
          1,
          1,
          2,
          1,
          0,
          0,
          0,
          1,
          1,
          3,
          0,
          1,
          1,
          1,
          0,
          0,
          1,
          0,
          0,
          1,
          0,
          0,
          0,
          3,
          1,
          2,
          3,
          0,
          0,
          1,
          0,
          2,
          1,
          0,
          0,
          0,
          1,
          0,
          0,
          0,
          0,
          0,
          1,
          0,
          0,
          0,
          0,
          0,
          0,
          0,
          0,
          3,
          0,
          0,
          1,
          0,
          0,
          0,
          1,
          1,
          3,
          0,
          2,
          2,
          1,
          0,
          3,
          0,
          0,
          2,
          0,
          1,
          0,
          0,
          1,
          0,
          0,
          0,
          2,
          1,
          3,
          1,
          1,
          3,
          0,
          2,
          2,
          0,
          0,
          2,
          0,
          3,
          1,
          3,
          0,
          3,
          3,
          0,
          2,
          1,
          0,
          0,
          0,
          0,
          0,
          1,
          0,
          0,
          3,
          2,
          0,
          0,
          0,
          0,
          0,
          0,
          2,
          1,
          0,
          0,
          0,
          2,
          0,
          0,
          0,
          0,
          2,
          2,
          0,
          0,
          1,
          1,
          1,
          0,
          0,
          3,
          1,
          1,
          2,
          0,
          0,
          0,
          0,
          0,
          0,
          0,
          2,
          0,
          0,
          1,
          1,
          2,
          0,
          0,
          1,
          1,
          0,
          0,
          0,
          2,
          0,
          0,
          0,
          1,
          2,
          0,
          0,
          1,
          0,
          1,
          0,
          0,
          1,
          0,
          2,
          0,
          2,
          0,
          1,
          0,
          1,
          0,
          1,
          0,
          1,
          0,
          1,
          3,
          2,
          0,
          0,
          0,
          0,
          0,
          2,
          0,
          0,
          2,
          0,
          0,
          2,
          1,
          1
         ],
         "xaxis": "x",
         "yaxis": "y"
        },
        {
         "alignmentgroup": "True",
         "bingroup": "x",
         "histnorm": "probability density",
         "hovertemplate": "<b>Synthetic</b><br>Frequency: %{y}<extra></extra>",
         "legendgroup": "Synthetic",
         "marker": {
          "color": "#01E0C9",
          "pattern": {
           "shape": "/"
          }
         },
         "name": "Synthetic",
         "offsetgroup": "Synthetic",
         "orientation": "v",
         "showlegend": true,
         "type": "histogram",
         "x": [
          3,
          0,
          0,
          0,
          1,
          0,
          2,
          1,
          0,
          1,
          1,
          2,
          1,
          1,
          1,
          0,
          0,
          0,
          1,
          1,
          1,
          0,
          1,
          1,
          1,
          2,
          0,
          0,
          0,
          1,
          0,
          0,
          2,
          0,
          0,
          3,
          1,
          1,
          1,
          0,
          0,
          2,
          2,
          1,
          0,
          1,
          2,
          0,
          1,
          2,
          0,
          1,
          1,
          2,
          0,
          1,
          3,
          0,
          0,
          1,
          2,
          2,
          1,
          0,
          0,
          0,
          3,
          1,
          2,
          1,
          0,
          0,
          0,
          2,
          0,
          0,
          0,
          0,
          0,
          2,
          0,
          0,
          0,
          1,
          0,
          2,
          2,
          0,
          0,
          1,
          0,
          0,
          1,
          2,
          1,
          0,
          0,
          1,
          1,
          0,
          0,
          0,
          2,
          1,
          3,
          1,
          1,
          0,
          0,
          1,
          0,
          0,
          0,
          2,
          0,
          2,
          0,
          0,
          3,
          0,
          0,
          0,
          0,
          0,
          0,
          0,
          1,
          0,
          1,
          0,
          1,
          0,
          1,
          0,
          1,
          0,
          2,
          0,
          1,
          1,
          0,
          0,
          0,
          1,
          2,
          1,
          1,
          0,
          2,
          0,
          0,
          0,
          1,
          0,
          0,
          3,
          0,
          1,
          0,
          0,
          0,
          0,
          2,
          2,
          1,
          2,
          2,
          0,
          0,
          2,
          0,
          0,
          0,
          3,
          0,
          0,
          0,
          0,
          2,
          1,
          0,
          1,
          0,
          0,
          2,
          1,
          1,
          0,
          2,
          3,
          1,
          0,
          0,
          0,
          0,
          0,
          0,
          0,
          0,
          0,
          0,
          0,
          0,
          0,
          2,
          2,
          1,
          1,
          0,
          0,
          0,
          0,
          2,
          0,
          3,
          0,
          0,
          1,
          1,
          1,
          0,
          1,
          2,
          0,
          1,
          2,
          3,
          0,
          0,
          1,
          0,
          0,
          0,
          0,
          0,
          0,
          0,
          0,
          2,
          0,
          0,
          0,
          1,
          3,
          0,
          0,
          0,
          0,
          2,
          0,
          0,
          3,
          0,
          0,
          0,
          0,
          0,
          0,
          1,
          1,
          1,
          0,
          0,
          2,
          0,
          0,
          1,
          1,
          0,
          0,
          0,
          0,
          1,
          0,
          0,
          0,
          0,
          0,
          0,
          2,
          0,
          2,
          1,
          0,
          0,
          0,
          3,
          2,
          2,
          3,
          1,
          0,
          0,
          1,
          1,
          1,
          2,
          0,
          0,
          0
         ],
         "xaxis": "x",
         "yaxis": "y"
        }
       ],
       "layout": {
        "barmode": "group",
        "legend": {
         "title": {
          "text": "Data"
         },
         "tracegroupgap": 0
        },
        "margin": {
         "t": 60
        },
        "plot_bgcolor": "#F5F5F8",
        "template": {
         "data": {
          "bar": [
           {
            "error_x": {
             "color": "#2a3f5f"
            },
            "error_y": {
             "color": "#2a3f5f"
            },
            "marker": {
             "line": {
              "color": "#E5ECF6",
              "width": 0.5
             },
             "pattern": {
              "fillmode": "overlay",
              "size": 10,
              "solidity": 0.2
             }
            },
            "type": "bar"
           }
          ],
          "barpolar": [
           {
            "marker": {
             "line": {
              "color": "#E5ECF6",
              "width": 0.5
             },
             "pattern": {
              "fillmode": "overlay",
              "size": 10,
              "solidity": 0.2
             }
            },
            "type": "barpolar"
           }
          ],
          "carpet": [
           {
            "aaxis": {
             "endlinecolor": "#2a3f5f",
             "gridcolor": "white",
             "linecolor": "white",
             "minorgridcolor": "white",
             "startlinecolor": "#2a3f5f"
            },
            "baxis": {
             "endlinecolor": "#2a3f5f",
             "gridcolor": "white",
             "linecolor": "white",
             "minorgridcolor": "white",
             "startlinecolor": "#2a3f5f"
            },
            "type": "carpet"
           }
          ],
          "choropleth": [
           {
            "colorbar": {
             "outlinewidth": 0,
             "ticks": ""
            },
            "type": "choropleth"
           }
          ],
          "contour": [
           {
            "colorbar": {
             "outlinewidth": 0,
             "ticks": ""
            },
            "colorscale": [
             [
              0,
              "#0d0887"
             ],
             [
              0.1111111111111111,
              "#46039f"
             ],
             [
              0.2222222222222222,
              "#7201a8"
             ],
             [
              0.3333333333333333,
              "#9c179e"
             ],
             [
              0.4444444444444444,
              "#bd3786"
             ],
             [
              0.5555555555555556,
              "#d8576b"
             ],
             [
              0.6666666666666666,
              "#ed7953"
             ],
             [
              0.7777777777777778,
              "#fb9f3a"
             ],
             [
              0.8888888888888888,
              "#fdca26"
             ],
             [
              1,
              "#f0f921"
             ]
            ],
            "type": "contour"
           }
          ],
          "contourcarpet": [
           {
            "colorbar": {
             "outlinewidth": 0,
             "ticks": ""
            },
            "type": "contourcarpet"
           }
          ],
          "heatmap": [
           {
            "colorbar": {
             "outlinewidth": 0,
             "ticks": ""
            },
            "colorscale": [
             [
              0,
              "#0d0887"
             ],
             [
              0.1111111111111111,
              "#46039f"
             ],
             [
              0.2222222222222222,
              "#7201a8"
             ],
             [
              0.3333333333333333,
              "#9c179e"
             ],
             [
              0.4444444444444444,
              "#bd3786"
             ],
             [
              0.5555555555555556,
              "#d8576b"
             ],
             [
              0.6666666666666666,
              "#ed7953"
             ],
             [
              0.7777777777777778,
              "#fb9f3a"
             ],
             [
              0.8888888888888888,
              "#fdca26"
             ],
             [
              1,
              "#f0f921"
             ]
            ],
            "type": "heatmap"
           }
          ],
          "heatmapgl": [
           {
            "colorbar": {
             "outlinewidth": 0,
             "ticks": ""
            },
            "colorscale": [
             [
              0,
              "#0d0887"
             ],
             [
              0.1111111111111111,
              "#46039f"
             ],
             [
              0.2222222222222222,
              "#7201a8"
             ],
             [
              0.3333333333333333,
              "#9c179e"
             ],
             [
              0.4444444444444444,
              "#bd3786"
             ],
             [
              0.5555555555555556,
              "#d8576b"
             ],
             [
              0.6666666666666666,
              "#ed7953"
             ],
             [
              0.7777777777777778,
              "#fb9f3a"
             ],
             [
              0.8888888888888888,
              "#fdca26"
             ],
             [
              1,
              "#f0f921"
             ]
            ],
            "type": "heatmapgl"
           }
          ],
          "histogram": [
           {
            "marker": {
             "pattern": {
              "fillmode": "overlay",
              "size": 10,
              "solidity": 0.2
             }
            },
            "type": "histogram"
           }
          ],
          "histogram2d": [
           {
            "colorbar": {
             "outlinewidth": 0,
             "ticks": ""
            },
            "colorscale": [
             [
              0,
              "#0d0887"
             ],
             [
              0.1111111111111111,
              "#46039f"
             ],
             [
              0.2222222222222222,
              "#7201a8"
             ],
             [
              0.3333333333333333,
              "#9c179e"
             ],
             [
              0.4444444444444444,
              "#bd3786"
             ],
             [
              0.5555555555555556,
              "#d8576b"
             ],
             [
              0.6666666666666666,
              "#ed7953"
             ],
             [
              0.7777777777777778,
              "#fb9f3a"
             ],
             [
              0.8888888888888888,
              "#fdca26"
             ],
             [
              1,
              "#f0f921"
             ]
            ],
            "type": "histogram2d"
           }
          ],
          "histogram2dcontour": [
           {
            "colorbar": {
             "outlinewidth": 0,
             "ticks": ""
            },
            "colorscale": [
             [
              0,
              "#0d0887"
             ],
             [
              0.1111111111111111,
              "#46039f"
             ],
             [
              0.2222222222222222,
              "#7201a8"
             ],
             [
              0.3333333333333333,
              "#9c179e"
             ],
             [
              0.4444444444444444,
              "#bd3786"
             ],
             [
              0.5555555555555556,
              "#d8576b"
             ],
             [
              0.6666666666666666,
              "#ed7953"
             ],
             [
              0.7777777777777778,
              "#fb9f3a"
             ],
             [
              0.8888888888888888,
              "#fdca26"
             ],
             [
              1,
              "#f0f921"
             ]
            ],
            "type": "histogram2dcontour"
           }
          ],
          "mesh3d": [
           {
            "colorbar": {
             "outlinewidth": 0,
             "ticks": ""
            },
            "type": "mesh3d"
           }
          ],
          "parcoords": [
           {
            "line": {
             "colorbar": {
              "outlinewidth": 0,
              "ticks": ""
             }
            },
            "type": "parcoords"
           }
          ],
          "pie": [
           {
            "automargin": true,
            "type": "pie"
           }
          ],
          "scatter": [
           {
            "fillpattern": {
             "fillmode": "overlay",
             "size": 10,
             "solidity": 0.2
            },
            "type": "scatter"
           }
          ],
          "scatter3d": [
           {
            "line": {
             "colorbar": {
              "outlinewidth": 0,
              "ticks": ""
             }
            },
            "marker": {
             "colorbar": {
              "outlinewidth": 0,
              "ticks": ""
             }
            },
            "type": "scatter3d"
           }
          ],
          "scattercarpet": [
           {
            "marker": {
             "colorbar": {
              "outlinewidth": 0,
              "ticks": ""
             }
            },
            "type": "scattercarpet"
           }
          ],
          "scattergeo": [
           {
            "marker": {
             "colorbar": {
              "outlinewidth": 0,
              "ticks": ""
             }
            },
            "type": "scattergeo"
           }
          ],
          "scattergl": [
           {
            "marker": {
             "colorbar": {
              "outlinewidth": 0,
              "ticks": ""
             }
            },
            "type": "scattergl"
           }
          ],
          "scattermapbox": [
           {
            "marker": {
             "colorbar": {
              "outlinewidth": 0,
              "ticks": ""
             }
            },
            "type": "scattermapbox"
           }
          ],
          "scatterpolar": [
           {
            "marker": {
             "colorbar": {
              "outlinewidth": 0,
              "ticks": ""
             }
            },
            "type": "scatterpolar"
           }
          ],
          "scatterpolargl": [
           {
            "marker": {
             "colorbar": {
              "outlinewidth": 0,
              "ticks": ""
             }
            },
            "type": "scatterpolargl"
           }
          ],
          "scatterternary": [
           {
            "marker": {
             "colorbar": {
              "outlinewidth": 0,
              "ticks": ""
             }
            },
            "type": "scatterternary"
           }
          ],
          "surface": [
           {
            "colorbar": {
             "outlinewidth": 0,
             "ticks": ""
            },
            "colorscale": [
             [
              0,
              "#0d0887"
             ],
             [
              0.1111111111111111,
              "#46039f"
             ],
             [
              0.2222222222222222,
              "#7201a8"
             ],
             [
              0.3333333333333333,
              "#9c179e"
             ],
             [
              0.4444444444444444,
              "#bd3786"
             ],
             [
              0.5555555555555556,
              "#d8576b"
             ],
             [
              0.6666666666666666,
              "#ed7953"
             ],
             [
              0.7777777777777778,
              "#fb9f3a"
             ],
             [
              0.8888888888888888,
              "#fdca26"
             ],
             [
              1,
              "#f0f921"
             ]
            ],
            "type": "surface"
           }
          ],
          "table": [
           {
            "cells": {
             "fill": {
              "color": "#EBF0F8"
             },
             "line": {
              "color": "white"
             }
            },
            "header": {
             "fill": {
              "color": "#C8D4E3"
             },
             "line": {
              "color": "white"
             }
            },
            "type": "table"
           }
          ]
         },
         "layout": {
          "annotationdefaults": {
           "arrowcolor": "#2a3f5f",
           "arrowhead": 0,
           "arrowwidth": 1
          },
          "autotypenumbers": "strict",
          "coloraxis": {
           "colorbar": {
            "outlinewidth": 0,
            "ticks": ""
           }
          },
          "colorscale": {
           "diverging": [
            [
             0,
             "#8e0152"
            ],
            [
             0.1,
             "#c51b7d"
            ],
            [
             0.2,
             "#de77ae"
            ],
            [
             0.3,
             "#f1b6da"
            ],
            [
             0.4,
             "#fde0ef"
            ],
            [
             0.5,
             "#f7f7f7"
            ],
            [
             0.6,
             "#e6f5d0"
            ],
            [
             0.7,
             "#b8e186"
            ],
            [
             0.8,
             "#7fbc41"
            ],
            [
             0.9,
             "#4d9221"
            ],
            [
             1,
             "#276419"
            ]
           ],
           "sequential": [
            [
             0,
             "#0d0887"
            ],
            [
             0.1111111111111111,
             "#46039f"
            ],
            [
             0.2222222222222222,
             "#7201a8"
            ],
            [
             0.3333333333333333,
             "#9c179e"
            ],
            [
             0.4444444444444444,
             "#bd3786"
            ],
            [
             0.5555555555555556,
             "#d8576b"
            ],
            [
             0.6666666666666666,
             "#ed7953"
            ],
            [
             0.7777777777777778,
             "#fb9f3a"
            ],
            [
             0.8888888888888888,
             "#fdca26"
            ],
            [
             1,
             "#f0f921"
            ]
           ],
           "sequentialminus": [
            [
             0,
             "#0d0887"
            ],
            [
             0.1111111111111111,
             "#46039f"
            ],
            [
             0.2222222222222222,
             "#7201a8"
            ],
            [
             0.3333333333333333,
             "#9c179e"
            ],
            [
             0.4444444444444444,
             "#bd3786"
            ],
            [
             0.5555555555555556,
             "#d8576b"
            ],
            [
             0.6666666666666666,
             "#ed7953"
            ],
            [
             0.7777777777777778,
             "#fb9f3a"
            ],
            [
             0.8888888888888888,
             "#fdca26"
            ],
            [
             1,
             "#f0f921"
            ]
           ]
          },
          "colorway": [
           "#636efa",
           "#EF553B",
           "#00cc96",
           "#ab63fa",
           "#FFA15A",
           "#19d3f3",
           "#FF6692",
           "#B6E880",
           "#FF97FF",
           "#FECB52"
          ],
          "font": {
           "color": "#2a3f5f"
          },
          "geo": {
           "bgcolor": "white",
           "lakecolor": "white",
           "landcolor": "#E5ECF6",
           "showlakes": true,
           "showland": true,
           "subunitcolor": "white"
          },
          "hoverlabel": {
           "align": "left"
          },
          "hovermode": "closest",
          "mapbox": {
           "style": "light"
          },
          "paper_bgcolor": "white",
          "plot_bgcolor": "#E5ECF6",
          "polar": {
           "angularaxis": {
            "gridcolor": "white",
            "linecolor": "white",
            "ticks": ""
           },
           "bgcolor": "#E5ECF6",
           "radialaxis": {
            "gridcolor": "white",
            "linecolor": "white",
            "ticks": ""
           }
          },
          "scene": {
           "xaxis": {
            "backgroundcolor": "#E5ECF6",
            "gridcolor": "white",
            "gridwidth": 2,
            "linecolor": "white",
            "showbackground": true,
            "ticks": "",
            "zerolinecolor": "white"
           },
           "yaxis": {
            "backgroundcolor": "#E5ECF6",
            "gridcolor": "white",
            "gridwidth": 2,
            "linecolor": "white",
            "showbackground": true,
            "ticks": "",
            "zerolinecolor": "white"
           },
           "zaxis": {
            "backgroundcolor": "#E5ECF6",
            "gridcolor": "white",
            "gridwidth": 2,
            "linecolor": "white",
            "showbackground": true,
            "ticks": "",
            "zerolinecolor": "white"
           }
          },
          "shapedefaults": {
           "line": {
            "color": "#2a3f5f"
           }
          },
          "ternary": {
           "aaxis": {
            "gridcolor": "white",
            "linecolor": "white",
            "ticks": ""
           },
           "baxis": {
            "gridcolor": "white",
            "linecolor": "white",
            "ticks": ""
           },
           "bgcolor": "#E5ECF6",
           "caxis": {
            "gridcolor": "white",
            "linecolor": "white",
            "ticks": ""
           }
          },
          "title": {
           "x": 0.05
          },
          "xaxis": {
           "automargin": true,
           "gridcolor": "white",
           "linecolor": "white",
           "ticks": "",
           "title": {
            "standoff": 15
           },
           "zerolinecolor": "white",
           "zerolinewidth": 2
          },
          "yaxis": {
           "automargin": true,
           "gridcolor": "white",
           "linecolor": "white",
           "ticks": "",
           "title": {
            "standoff": 15
           },
           "zerolinecolor": "white",
           "zerolinewidth": 2
          }
         }
        },
        "title": {
         "text": "Real vs. Synthetic Data for column 'ca'"
        },
        "xaxis": {
         "anchor": "y",
         "domain": [
          0,
          1
         ],
         "title": {
          "text": "Category"
         }
        },
        "yaxis": {
         "anchor": "x",
         "domain": [
          0,
          1
         ],
         "title": {
          "text": "Frequency"
         }
        }
       }
      }
     },
     "metadata": {},
     "output_type": "display_data"
    },
    {
     "data": {
      "application/vnd.plotly.v1+json": {
       "config": {
        "plotlyServerURL": "https://plot.ly"
       },
       "data": [
        {
         "alignmentgroup": "True",
         "bingroup": "x",
         "histnorm": "probability density",
         "hovertemplate": "<b>Real</b><br>Frequency: %{y}<extra></extra>",
         "legendgroup": "Real",
         "marker": {
          "color": "#000036",
          "pattern": {
           "shape": ""
          }
         },
         "name": "Real",
         "offsetgroup": "Real",
         "orientation": "v",
         "showlegend": true,
         "type": "histogram",
         "x": [
          6,
          3,
          7,
          3,
          3,
          3,
          3,
          3,
          7,
          7,
          6,
          3,
          6,
          7,
          7,
          3,
          7,
          3,
          3,
          3,
          3,
          3,
          3,
          7,
          7,
          3,
          3,
          3,
          3,
          7,
          3,
          7,
          3,
          7,
          3,
          3,
          7,
          6,
          7,
          3,
          7,
          7,
          3,
          3,
          3,
          7,
          3,
          7,
          3,
          3,
          3,
          7,
          3,
          3,
          7,
          7,
          7,
          7,
          3,
          3,
          7,
          3,
          7,
          3,
          7,
          7,
          3,
          7,
          7,
          3,
          3,
          7,
          7,
          6,
          3,
          3,
          7,
          3,
          3,
          7,
          3,
          3,
          3,
          7,
          3,
          3,
          3,
          3,
          3,
          3,
          7,
          7,
          3,
          3,
          7,
          7,
          7,
          3,
          3,
          3,
          3,
          3,
          3,
          7,
          7,
          7,
          7,
          7,
          7,
          7,
          3,
          6,
          7,
          7,
          6,
          3,
          3,
          7,
          7,
          7,
          7,
          3,
          7,
          3,
          3,
          7,
          7,
          3,
          3,
          7,
          7,
          3,
          3,
          3,
          3,
          7,
          7,
          7,
          3,
          3,
          7,
          3,
          7,
          7,
          3,
          7,
          3,
          3,
          3,
          7,
          3,
          7,
          7,
          3,
          3,
          7,
          7,
          7,
          7,
          7,
          3,
          3,
          3,
          3,
          7,
          3,
          7,
          3,
          7,
          7,
          3,
          3,
          6,
          7,
          7,
          6,
          3,
          3,
          7,
          7,
          3,
          7,
          3,
          3,
          7,
          6,
          7,
          7,
          3,
          7,
          3,
          3,
          3,
          3,
          3,
          3,
          3,
          3,
          3,
          7,
          7,
          7,
          7,
          7,
          7,
          3,
          3,
          3,
          7,
          3,
          7,
          3,
          7,
          3,
          3,
          3,
          3,
          3,
          3,
          3,
          7,
          3,
          3,
          3,
          3,
          3,
          3,
          3,
          3,
          3,
          3,
          3,
          3,
          7,
          7,
          3,
          3,
          3,
          3,
          3,
          3,
          3,
          3,
          7,
          3,
          7,
          3,
          6,
          7,
          7,
          3,
          3,
          3,
          3,
          3,
          3,
          7,
          3,
          3,
          3,
          3,
          3,
          6,
          6,
          7,
          3,
          7,
          6,
          7,
          3,
          3,
          7,
          3,
          3,
          3,
          3,
          7,
          3,
          7,
          3,
          7,
          6,
          6,
          7,
          3,
          7,
          3,
          6,
          7,
          3,
          3,
          6,
          7,
          7,
          7,
          7,
          3
         ],
         "xaxis": "x",
         "yaxis": "y"
        },
        {
         "alignmentgroup": "True",
         "bingroup": "x",
         "histnorm": "probability density",
         "hovertemplate": "<b>Synthetic</b><br>Frequency: %{y}<extra></extra>",
         "legendgroup": "Synthetic",
         "marker": {
          "color": "#01E0C9",
          "pattern": {
           "shape": "/"
          }
         },
         "name": "Synthetic",
         "offsetgroup": "Synthetic",
         "orientation": "v",
         "showlegend": true,
         "type": "histogram",
         "x": [
          7,
          3,
          3,
          6,
          7,
          3,
          3,
          3,
          7,
          6,
          3,
          7,
          7,
          3,
          7,
          7,
          6,
          3,
          7,
          3,
          7,
          6,
          7,
          7,
          7,
          6,
          7,
          3,
          6,
          3,
          3,
          3,
          7,
          3,
          3,
          7,
          7,
          7,
          7,
          7,
          3,
          7,
          3,
          7,
          7,
          7,
          3,
          7,
          7,
          7,
          3,
          6,
          3,
          7,
          7,
          3,
          7,
          3,
          3,
          3,
          7,
          7,
          3,
          3,
          7,
          6,
          7,
          7,
          7,
          3,
          7,
          3,
          3,
          3,
          3,
          6,
          3,
          7,
          3,
          7,
          6,
          3,
          7,
          3,
          7,
          3,
          7,
          7,
          3,
          7,
          6,
          7,
          3,
          6,
          3,
          3,
          3,
          3,
          6,
          3,
          3,
          3,
          6,
          7,
          7,
          7,
          3,
          3,
          3,
          7,
          7,
          3,
          3,
          3,
          3,
          7,
          3,
          3,
          7,
          3,
          3,
          7,
          3,
          3,
          3,
          3,
          7,
          3,
          6,
          6,
          3,
          3,
          3,
          6,
          7,
          3,
          7,
          7,
          7,
          3,
          7,
          3,
          7,
          3,
          6,
          7,
          6,
          3,
          7,
          3,
          7,
          3,
          7,
          3,
          3,
          3,
          7,
          7,
          3,
          6,
          7,
          3,
          7,
          7,
          6,
          7,
          7,
          7,
          7,
          7,
          3,
          7,
          7,
          3,
          3,
          3,
          6,
          7,
          7,
          7,
          7,
          3,
          3,
          7,
          7,
          7,
          7,
          3,
          7,
          7,
          3,
          3,
          6,
          3,
          3,
          3,
          3,
          3,
          7,
          7,
          3,
          3,
          6,
          7,
          3,
          7,
          7,
          7,
          3,
          6,
          3,
          3,
          7,
          7,
          7,
          3,
          3,
          7,
          7,
          3,
          3,
          3,
          7,
          3,
          7,
          7,
          7,
          3,
          7,
          3,
          3,
          3,
          3,
          3,
          3,
          3,
          7,
          3,
          7,
          7,
          3,
          3,
          3,
          6,
          3,
          6,
          6,
          3,
          7,
          7,
          7,
          3,
          3,
          3,
          6,
          3,
          3,
          7,
          7,
          7,
          3,
          3,
          3,
          7,
          3,
          3,
          7,
          3,
          3,
          7,
          3,
          3,
          7,
          3,
          7,
          3,
          3,
          3,
          7,
          7,
          3,
          7,
          7,
          3,
          6,
          3,
          6,
          7,
          6,
          3,
          7,
          3,
          3,
          3,
          7,
          3,
          7,
          3,
          3,
          3
         ],
         "xaxis": "x",
         "yaxis": "y"
        }
       ],
       "layout": {
        "barmode": "group",
        "legend": {
         "title": {
          "text": "Data"
         },
         "tracegroupgap": 0
        },
        "margin": {
         "t": 60
        },
        "plot_bgcolor": "#F5F5F8",
        "template": {
         "data": {
          "bar": [
           {
            "error_x": {
             "color": "#2a3f5f"
            },
            "error_y": {
             "color": "#2a3f5f"
            },
            "marker": {
             "line": {
              "color": "#E5ECF6",
              "width": 0.5
             },
             "pattern": {
              "fillmode": "overlay",
              "size": 10,
              "solidity": 0.2
             }
            },
            "type": "bar"
           }
          ],
          "barpolar": [
           {
            "marker": {
             "line": {
              "color": "#E5ECF6",
              "width": 0.5
             },
             "pattern": {
              "fillmode": "overlay",
              "size": 10,
              "solidity": 0.2
             }
            },
            "type": "barpolar"
           }
          ],
          "carpet": [
           {
            "aaxis": {
             "endlinecolor": "#2a3f5f",
             "gridcolor": "white",
             "linecolor": "white",
             "minorgridcolor": "white",
             "startlinecolor": "#2a3f5f"
            },
            "baxis": {
             "endlinecolor": "#2a3f5f",
             "gridcolor": "white",
             "linecolor": "white",
             "minorgridcolor": "white",
             "startlinecolor": "#2a3f5f"
            },
            "type": "carpet"
           }
          ],
          "choropleth": [
           {
            "colorbar": {
             "outlinewidth": 0,
             "ticks": ""
            },
            "type": "choropleth"
           }
          ],
          "contour": [
           {
            "colorbar": {
             "outlinewidth": 0,
             "ticks": ""
            },
            "colorscale": [
             [
              0,
              "#0d0887"
             ],
             [
              0.1111111111111111,
              "#46039f"
             ],
             [
              0.2222222222222222,
              "#7201a8"
             ],
             [
              0.3333333333333333,
              "#9c179e"
             ],
             [
              0.4444444444444444,
              "#bd3786"
             ],
             [
              0.5555555555555556,
              "#d8576b"
             ],
             [
              0.6666666666666666,
              "#ed7953"
             ],
             [
              0.7777777777777778,
              "#fb9f3a"
             ],
             [
              0.8888888888888888,
              "#fdca26"
             ],
             [
              1,
              "#f0f921"
             ]
            ],
            "type": "contour"
           }
          ],
          "contourcarpet": [
           {
            "colorbar": {
             "outlinewidth": 0,
             "ticks": ""
            },
            "type": "contourcarpet"
           }
          ],
          "heatmap": [
           {
            "colorbar": {
             "outlinewidth": 0,
             "ticks": ""
            },
            "colorscale": [
             [
              0,
              "#0d0887"
             ],
             [
              0.1111111111111111,
              "#46039f"
             ],
             [
              0.2222222222222222,
              "#7201a8"
             ],
             [
              0.3333333333333333,
              "#9c179e"
             ],
             [
              0.4444444444444444,
              "#bd3786"
             ],
             [
              0.5555555555555556,
              "#d8576b"
             ],
             [
              0.6666666666666666,
              "#ed7953"
             ],
             [
              0.7777777777777778,
              "#fb9f3a"
             ],
             [
              0.8888888888888888,
              "#fdca26"
             ],
             [
              1,
              "#f0f921"
             ]
            ],
            "type": "heatmap"
           }
          ],
          "heatmapgl": [
           {
            "colorbar": {
             "outlinewidth": 0,
             "ticks": ""
            },
            "colorscale": [
             [
              0,
              "#0d0887"
             ],
             [
              0.1111111111111111,
              "#46039f"
             ],
             [
              0.2222222222222222,
              "#7201a8"
             ],
             [
              0.3333333333333333,
              "#9c179e"
             ],
             [
              0.4444444444444444,
              "#bd3786"
             ],
             [
              0.5555555555555556,
              "#d8576b"
             ],
             [
              0.6666666666666666,
              "#ed7953"
             ],
             [
              0.7777777777777778,
              "#fb9f3a"
             ],
             [
              0.8888888888888888,
              "#fdca26"
             ],
             [
              1,
              "#f0f921"
             ]
            ],
            "type": "heatmapgl"
           }
          ],
          "histogram": [
           {
            "marker": {
             "pattern": {
              "fillmode": "overlay",
              "size": 10,
              "solidity": 0.2
             }
            },
            "type": "histogram"
           }
          ],
          "histogram2d": [
           {
            "colorbar": {
             "outlinewidth": 0,
             "ticks": ""
            },
            "colorscale": [
             [
              0,
              "#0d0887"
             ],
             [
              0.1111111111111111,
              "#46039f"
             ],
             [
              0.2222222222222222,
              "#7201a8"
             ],
             [
              0.3333333333333333,
              "#9c179e"
             ],
             [
              0.4444444444444444,
              "#bd3786"
             ],
             [
              0.5555555555555556,
              "#d8576b"
             ],
             [
              0.6666666666666666,
              "#ed7953"
             ],
             [
              0.7777777777777778,
              "#fb9f3a"
             ],
             [
              0.8888888888888888,
              "#fdca26"
             ],
             [
              1,
              "#f0f921"
             ]
            ],
            "type": "histogram2d"
           }
          ],
          "histogram2dcontour": [
           {
            "colorbar": {
             "outlinewidth": 0,
             "ticks": ""
            },
            "colorscale": [
             [
              0,
              "#0d0887"
             ],
             [
              0.1111111111111111,
              "#46039f"
             ],
             [
              0.2222222222222222,
              "#7201a8"
             ],
             [
              0.3333333333333333,
              "#9c179e"
             ],
             [
              0.4444444444444444,
              "#bd3786"
             ],
             [
              0.5555555555555556,
              "#d8576b"
             ],
             [
              0.6666666666666666,
              "#ed7953"
             ],
             [
              0.7777777777777778,
              "#fb9f3a"
             ],
             [
              0.8888888888888888,
              "#fdca26"
             ],
             [
              1,
              "#f0f921"
             ]
            ],
            "type": "histogram2dcontour"
           }
          ],
          "mesh3d": [
           {
            "colorbar": {
             "outlinewidth": 0,
             "ticks": ""
            },
            "type": "mesh3d"
           }
          ],
          "parcoords": [
           {
            "line": {
             "colorbar": {
              "outlinewidth": 0,
              "ticks": ""
             }
            },
            "type": "parcoords"
           }
          ],
          "pie": [
           {
            "automargin": true,
            "type": "pie"
           }
          ],
          "scatter": [
           {
            "fillpattern": {
             "fillmode": "overlay",
             "size": 10,
             "solidity": 0.2
            },
            "type": "scatter"
           }
          ],
          "scatter3d": [
           {
            "line": {
             "colorbar": {
              "outlinewidth": 0,
              "ticks": ""
             }
            },
            "marker": {
             "colorbar": {
              "outlinewidth": 0,
              "ticks": ""
             }
            },
            "type": "scatter3d"
           }
          ],
          "scattercarpet": [
           {
            "marker": {
             "colorbar": {
              "outlinewidth": 0,
              "ticks": ""
             }
            },
            "type": "scattercarpet"
           }
          ],
          "scattergeo": [
           {
            "marker": {
             "colorbar": {
              "outlinewidth": 0,
              "ticks": ""
             }
            },
            "type": "scattergeo"
           }
          ],
          "scattergl": [
           {
            "marker": {
             "colorbar": {
              "outlinewidth": 0,
              "ticks": ""
             }
            },
            "type": "scattergl"
           }
          ],
          "scattermapbox": [
           {
            "marker": {
             "colorbar": {
              "outlinewidth": 0,
              "ticks": ""
             }
            },
            "type": "scattermapbox"
           }
          ],
          "scatterpolar": [
           {
            "marker": {
             "colorbar": {
              "outlinewidth": 0,
              "ticks": ""
             }
            },
            "type": "scatterpolar"
           }
          ],
          "scatterpolargl": [
           {
            "marker": {
             "colorbar": {
              "outlinewidth": 0,
              "ticks": ""
             }
            },
            "type": "scatterpolargl"
           }
          ],
          "scatterternary": [
           {
            "marker": {
             "colorbar": {
              "outlinewidth": 0,
              "ticks": ""
             }
            },
            "type": "scatterternary"
           }
          ],
          "surface": [
           {
            "colorbar": {
             "outlinewidth": 0,
             "ticks": ""
            },
            "colorscale": [
             [
              0,
              "#0d0887"
             ],
             [
              0.1111111111111111,
              "#46039f"
             ],
             [
              0.2222222222222222,
              "#7201a8"
             ],
             [
              0.3333333333333333,
              "#9c179e"
             ],
             [
              0.4444444444444444,
              "#bd3786"
             ],
             [
              0.5555555555555556,
              "#d8576b"
             ],
             [
              0.6666666666666666,
              "#ed7953"
             ],
             [
              0.7777777777777778,
              "#fb9f3a"
             ],
             [
              0.8888888888888888,
              "#fdca26"
             ],
             [
              1,
              "#f0f921"
             ]
            ],
            "type": "surface"
           }
          ],
          "table": [
           {
            "cells": {
             "fill": {
              "color": "#EBF0F8"
             },
             "line": {
              "color": "white"
             }
            },
            "header": {
             "fill": {
              "color": "#C8D4E3"
             },
             "line": {
              "color": "white"
             }
            },
            "type": "table"
           }
          ]
         },
         "layout": {
          "annotationdefaults": {
           "arrowcolor": "#2a3f5f",
           "arrowhead": 0,
           "arrowwidth": 1
          },
          "autotypenumbers": "strict",
          "coloraxis": {
           "colorbar": {
            "outlinewidth": 0,
            "ticks": ""
           }
          },
          "colorscale": {
           "diverging": [
            [
             0,
             "#8e0152"
            ],
            [
             0.1,
             "#c51b7d"
            ],
            [
             0.2,
             "#de77ae"
            ],
            [
             0.3,
             "#f1b6da"
            ],
            [
             0.4,
             "#fde0ef"
            ],
            [
             0.5,
             "#f7f7f7"
            ],
            [
             0.6,
             "#e6f5d0"
            ],
            [
             0.7,
             "#b8e186"
            ],
            [
             0.8,
             "#7fbc41"
            ],
            [
             0.9,
             "#4d9221"
            ],
            [
             1,
             "#276419"
            ]
           ],
           "sequential": [
            [
             0,
             "#0d0887"
            ],
            [
             0.1111111111111111,
             "#46039f"
            ],
            [
             0.2222222222222222,
             "#7201a8"
            ],
            [
             0.3333333333333333,
             "#9c179e"
            ],
            [
             0.4444444444444444,
             "#bd3786"
            ],
            [
             0.5555555555555556,
             "#d8576b"
            ],
            [
             0.6666666666666666,
             "#ed7953"
            ],
            [
             0.7777777777777778,
             "#fb9f3a"
            ],
            [
             0.8888888888888888,
             "#fdca26"
            ],
            [
             1,
             "#f0f921"
            ]
           ],
           "sequentialminus": [
            [
             0,
             "#0d0887"
            ],
            [
             0.1111111111111111,
             "#46039f"
            ],
            [
             0.2222222222222222,
             "#7201a8"
            ],
            [
             0.3333333333333333,
             "#9c179e"
            ],
            [
             0.4444444444444444,
             "#bd3786"
            ],
            [
             0.5555555555555556,
             "#d8576b"
            ],
            [
             0.6666666666666666,
             "#ed7953"
            ],
            [
             0.7777777777777778,
             "#fb9f3a"
            ],
            [
             0.8888888888888888,
             "#fdca26"
            ],
            [
             1,
             "#f0f921"
            ]
           ]
          },
          "colorway": [
           "#636efa",
           "#EF553B",
           "#00cc96",
           "#ab63fa",
           "#FFA15A",
           "#19d3f3",
           "#FF6692",
           "#B6E880",
           "#FF97FF",
           "#FECB52"
          ],
          "font": {
           "color": "#2a3f5f"
          },
          "geo": {
           "bgcolor": "white",
           "lakecolor": "white",
           "landcolor": "#E5ECF6",
           "showlakes": true,
           "showland": true,
           "subunitcolor": "white"
          },
          "hoverlabel": {
           "align": "left"
          },
          "hovermode": "closest",
          "mapbox": {
           "style": "light"
          },
          "paper_bgcolor": "white",
          "plot_bgcolor": "#E5ECF6",
          "polar": {
           "angularaxis": {
            "gridcolor": "white",
            "linecolor": "white",
            "ticks": ""
           },
           "bgcolor": "#E5ECF6",
           "radialaxis": {
            "gridcolor": "white",
            "linecolor": "white",
            "ticks": ""
           }
          },
          "scene": {
           "xaxis": {
            "backgroundcolor": "#E5ECF6",
            "gridcolor": "white",
            "gridwidth": 2,
            "linecolor": "white",
            "showbackground": true,
            "ticks": "",
            "zerolinecolor": "white"
           },
           "yaxis": {
            "backgroundcolor": "#E5ECF6",
            "gridcolor": "white",
            "gridwidth": 2,
            "linecolor": "white",
            "showbackground": true,
            "ticks": "",
            "zerolinecolor": "white"
           },
           "zaxis": {
            "backgroundcolor": "#E5ECF6",
            "gridcolor": "white",
            "gridwidth": 2,
            "linecolor": "white",
            "showbackground": true,
            "ticks": "",
            "zerolinecolor": "white"
           }
          },
          "shapedefaults": {
           "line": {
            "color": "#2a3f5f"
           }
          },
          "ternary": {
           "aaxis": {
            "gridcolor": "white",
            "linecolor": "white",
            "ticks": ""
           },
           "baxis": {
            "gridcolor": "white",
            "linecolor": "white",
            "ticks": ""
           },
           "bgcolor": "#E5ECF6",
           "caxis": {
            "gridcolor": "white",
            "linecolor": "white",
            "ticks": ""
           }
          },
          "title": {
           "x": 0.05
          },
          "xaxis": {
           "automargin": true,
           "gridcolor": "white",
           "linecolor": "white",
           "ticks": "",
           "title": {
            "standoff": 15
           },
           "zerolinecolor": "white",
           "zerolinewidth": 2
          },
          "yaxis": {
           "automargin": true,
           "gridcolor": "white",
           "linecolor": "white",
           "ticks": "",
           "title": {
            "standoff": 15
           },
           "zerolinecolor": "white",
           "zerolinewidth": 2
          }
         }
        },
        "title": {
         "text": "Real vs. Synthetic Data for column 'thal'"
        },
        "xaxis": {
         "anchor": "y",
         "domain": [
          0,
          1
         ],
         "title": {
          "text": "Category"
         }
        },
        "yaxis": {
         "anchor": "x",
         "domain": [
          0,
          1
         ],
         "title": {
          "text": "Frequency"
         }
        }
       }
      }
     },
     "metadata": {},
     "output_type": "display_data"
    },
    {
     "data": {
      "application/vnd.plotly.v1+json": {
       "config": {
        "plotlyServerURL": "https://plot.ly"
       },
       "data": [
        {
         "alignmentgroup": "True",
         "bingroup": "x",
         "histnorm": "probability density",
         "hovertemplate": "<b>Real</b><br>Frequency: %{y}<extra></extra>",
         "legendgroup": "Real",
         "marker": {
          "color": "#000036",
          "pattern": {
           "shape": ""
          }
         },
         "name": "Real",
         "offsetgroup": "Real",
         "orientation": "v",
         "showlegend": true,
         "type": "histogram",
         "x": [
          0,
          1,
          1,
          0,
          0,
          0,
          1,
          0,
          1,
          1,
          0,
          0,
          1,
          0,
          0,
          0,
          1,
          0,
          0,
          0,
          0,
          0,
          1,
          1,
          1,
          0,
          0,
          0,
          0,
          1,
          0,
          1,
          1,
          0,
          0,
          0,
          1,
          1,
          1,
          0,
          1,
          0,
          0,
          0,
          1,
          1,
          0,
          1,
          0,
          0,
          0,
          0,
          1,
          0,
          1,
          1,
          1,
          1,
          0,
          0,
          1,
          0,
          1,
          0,
          1,
          1,
          1,
          0,
          1,
          1,
          0,
          1,
          1,
          1,
          1,
          0,
          1,
          0,
          0,
          1,
          0,
          0,
          0,
          1,
          0,
          0,
          0,
          0,
          0,
          0,
          1,
          0,
          0,
          0,
          1,
          1,
          1,
          0,
          0,
          0,
          0,
          0,
          0,
          1,
          0,
          1,
          1,
          1,
          1,
          1,
          1,
          0,
          1,
          1,
          0,
          0,
          0,
          1,
          1,
          1,
          1,
          0,
          1,
          1,
          0,
          1,
          1,
          0,
          0,
          0,
          0,
          0,
          0,
          0,
          0,
          1,
          1,
          1,
          0,
          0,
          1,
          0,
          1,
          0,
          1,
          1,
          0,
          0,
          0,
          0,
          0,
          0,
          1,
          1,
          1,
          1,
          1,
          1,
          0,
          0,
          1,
          0,
          0,
          0,
          0,
          0,
          1,
          0,
          1,
          0,
          1,
          0,
          1,
          1,
          0,
          1,
          0,
          0,
          1,
          1,
          0,
          0,
          1,
          0,
          0,
          1,
          1,
          1,
          0,
          1,
          1,
          0,
          1,
          0,
          0,
          0,
          1,
          0,
          0,
          0,
          0,
          0,
          1,
          1,
          1,
          0,
          1,
          0,
          1,
          0,
          1,
          1,
          0,
          0,
          0,
          0,
          0,
          0,
          0,
          0,
          1,
          1,
          0,
          0,
          0,
          1,
          1,
          0,
          1,
          1,
          0,
          0,
          1,
          1,
          1,
          0,
          0,
          0,
          0,
          0,
          1,
          0,
          1,
          1,
          1,
          1,
          0,
          0,
          1,
          0,
          0,
          0,
          0,
          0,
          0,
          0,
          1,
          0,
          1,
          0,
          0,
          1,
          1,
          1,
          1,
          0,
          1,
          0,
          1,
          0,
          1,
          0,
          0,
          0,
          1,
          0,
          1,
          0,
          1,
          0,
          1,
          1,
          1,
          0,
          0,
          1,
          0,
          1,
          1,
          1,
          0,
          1,
          1,
          1,
          1,
          1,
          1
         ],
         "xaxis": "x",
         "yaxis": "y"
        },
        {
         "alignmentgroup": "True",
         "bingroup": "x",
         "histnorm": "probability density",
         "hovertemplate": "<b>Synthetic</b><br>Frequency: %{y}<extra></extra>",
         "legendgroup": "Synthetic",
         "marker": {
          "color": "#01E0C9",
          "pattern": {
           "shape": "/"
          }
         },
         "name": "Synthetic",
         "offsetgroup": "Synthetic",
         "orientation": "v",
         "showlegend": true,
         "type": "histogram",
         "x": [
          1,
          0,
          0,
          0,
          1,
          0,
          0,
          1,
          0,
          1,
          1,
          1,
          1,
          0,
          1,
          1,
          0,
          0,
          1,
          1,
          1,
          0,
          0,
          1,
          1,
          1,
          1,
          0,
          1,
          0,
          0,
          0,
          1,
          0,
          0,
          1,
          0,
          1,
          1,
          1,
          0,
          1,
          0,
          1,
          0,
          1,
          1,
          0,
          0,
          0,
          0,
          0,
          1,
          1,
          1,
          1,
          0,
          1,
          1,
          1,
          0,
          1,
          1,
          0,
          0,
          0,
          1,
          0,
          1,
          0,
          1,
          0,
          0,
          0,
          0,
          0,
          0,
          0,
          0,
          1,
          0,
          0,
          1,
          0,
          0,
          1,
          1,
          1,
          0,
          1,
          1,
          0,
          0,
          1,
          0,
          1,
          0,
          0,
          1,
          0,
          0,
          0,
          1,
          0,
          0,
          0,
          1,
          1,
          0,
          0,
          0,
          0,
          0,
          1,
          0,
          1,
          0,
          1,
          1,
          0,
          0,
          0,
          0,
          0,
          0,
          0,
          1,
          0,
          1,
          0,
          0,
          0,
          1,
          0,
          0,
          0,
          1,
          1,
          1,
          0,
          1,
          1,
          1,
          0,
          1,
          1,
          1,
          1,
          1,
          0,
          1,
          0,
          1,
          0,
          0,
          1,
          1,
          1,
          0,
          1,
          0,
          0,
          1,
          1,
          1,
          1,
          0,
          0,
          0,
          1,
          0,
          1,
          0,
          0,
          0,
          0,
          0,
          0,
          1,
          1,
          0,
          1,
          0,
          1,
          1,
          0,
          1,
          0,
          1,
          1,
          1,
          0,
          0,
          0,
          0,
          0,
          0,
          0,
          1,
          0,
          0,
          0,
          0,
          0,
          1,
          0,
          0,
          1,
          0,
          0,
          0,
          1,
          1,
          1,
          1,
          0,
          0,
          0,
          1,
          1,
          1,
          0,
          1,
          0,
          0,
          0,
          1,
          0,
          1,
          1,
          0,
          0,
          0,
          0,
          0,
          0,
          0,
          0,
          1,
          1,
          0,
          1,
          1,
          0,
          0,
          0,
          1,
          0,
          1,
          0,
          1,
          0,
          0,
          0,
          0,
          0,
          0,
          0,
          1,
          1,
          0,
          0,
          1,
          1,
          0,
          1,
          1,
          1,
          0,
          1,
          1,
          0,
          1,
          1,
          1,
          0,
          0,
          0,
          1,
          1,
          0,
          1,
          1,
          0,
          1,
          0,
          1,
          1,
          1,
          0,
          1,
          0,
          0,
          1,
          1,
          0,
          1,
          0,
          0,
          0
         ],
         "xaxis": "x",
         "yaxis": "y"
        }
       ],
       "layout": {
        "barmode": "group",
        "legend": {
         "title": {
          "text": "Data"
         },
         "tracegroupgap": 0
        },
        "margin": {
         "t": 60
        },
        "plot_bgcolor": "#F5F5F8",
        "template": {
         "data": {
          "bar": [
           {
            "error_x": {
             "color": "#2a3f5f"
            },
            "error_y": {
             "color": "#2a3f5f"
            },
            "marker": {
             "line": {
              "color": "#E5ECF6",
              "width": 0.5
             },
             "pattern": {
              "fillmode": "overlay",
              "size": 10,
              "solidity": 0.2
             }
            },
            "type": "bar"
           }
          ],
          "barpolar": [
           {
            "marker": {
             "line": {
              "color": "#E5ECF6",
              "width": 0.5
             },
             "pattern": {
              "fillmode": "overlay",
              "size": 10,
              "solidity": 0.2
             }
            },
            "type": "barpolar"
           }
          ],
          "carpet": [
           {
            "aaxis": {
             "endlinecolor": "#2a3f5f",
             "gridcolor": "white",
             "linecolor": "white",
             "minorgridcolor": "white",
             "startlinecolor": "#2a3f5f"
            },
            "baxis": {
             "endlinecolor": "#2a3f5f",
             "gridcolor": "white",
             "linecolor": "white",
             "minorgridcolor": "white",
             "startlinecolor": "#2a3f5f"
            },
            "type": "carpet"
           }
          ],
          "choropleth": [
           {
            "colorbar": {
             "outlinewidth": 0,
             "ticks": ""
            },
            "type": "choropleth"
           }
          ],
          "contour": [
           {
            "colorbar": {
             "outlinewidth": 0,
             "ticks": ""
            },
            "colorscale": [
             [
              0,
              "#0d0887"
             ],
             [
              0.1111111111111111,
              "#46039f"
             ],
             [
              0.2222222222222222,
              "#7201a8"
             ],
             [
              0.3333333333333333,
              "#9c179e"
             ],
             [
              0.4444444444444444,
              "#bd3786"
             ],
             [
              0.5555555555555556,
              "#d8576b"
             ],
             [
              0.6666666666666666,
              "#ed7953"
             ],
             [
              0.7777777777777778,
              "#fb9f3a"
             ],
             [
              0.8888888888888888,
              "#fdca26"
             ],
             [
              1,
              "#f0f921"
             ]
            ],
            "type": "contour"
           }
          ],
          "contourcarpet": [
           {
            "colorbar": {
             "outlinewidth": 0,
             "ticks": ""
            },
            "type": "contourcarpet"
           }
          ],
          "heatmap": [
           {
            "colorbar": {
             "outlinewidth": 0,
             "ticks": ""
            },
            "colorscale": [
             [
              0,
              "#0d0887"
             ],
             [
              0.1111111111111111,
              "#46039f"
             ],
             [
              0.2222222222222222,
              "#7201a8"
             ],
             [
              0.3333333333333333,
              "#9c179e"
             ],
             [
              0.4444444444444444,
              "#bd3786"
             ],
             [
              0.5555555555555556,
              "#d8576b"
             ],
             [
              0.6666666666666666,
              "#ed7953"
             ],
             [
              0.7777777777777778,
              "#fb9f3a"
             ],
             [
              0.8888888888888888,
              "#fdca26"
             ],
             [
              1,
              "#f0f921"
             ]
            ],
            "type": "heatmap"
           }
          ],
          "heatmapgl": [
           {
            "colorbar": {
             "outlinewidth": 0,
             "ticks": ""
            },
            "colorscale": [
             [
              0,
              "#0d0887"
             ],
             [
              0.1111111111111111,
              "#46039f"
             ],
             [
              0.2222222222222222,
              "#7201a8"
             ],
             [
              0.3333333333333333,
              "#9c179e"
             ],
             [
              0.4444444444444444,
              "#bd3786"
             ],
             [
              0.5555555555555556,
              "#d8576b"
             ],
             [
              0.6666666666666666,
              "#ed7953"
             ],
             [
              0.7777777777777778,
              "#fb9f3a"
             ],
             [
              0.8888888888888888,
              "#fdca26"
             ],
             [
              1,
              "#f0f921"
             ]
            ],
            "type": "heatmapgl"
           }
          ],
          "histogram": [
           {
            "marker": {
             "pattern": {
              "fillmode": "overlay",
              "size": 10,
              "solidity": 0.2
             }
            },
            "type": "histogram"
           }
          ],
          "histogram2d": [
           {
            "colorbar": {
             "outlinewidth": 0,
             "ticks": ""
            },
            "colorscale": [
             [
              0,
              "#0d0887"
             ],
             [
              0.1111111111111111,
              "#46039f"
             ],
             [
              0.2222222222222222,
              "#7201a8"
             ],
             [
              0.3333333333333333,
              "#9c179e"
             ],
             [
              0.4444444444444444,
              "#bd3786"
             ],
             [
              0.5555555555555556,
              "#d8576b"
             ],
             [
              0.6666666666666666,
              "#ed7953"
             ],
             [
              0.7777777777777778,
              "#fb9f3a"
             ],
             [
              0.8888888888888888,
              "#fdca26"
             ],
             [
              1,
              "#f0f921"
             ]
            ],
            "type": "histogram2d"
           }
          ],
          "histogram2dcontour": [
           {
            "colorbar": {
             "outlinewidth": 0,
             "ticks": ""
            },
            "colorscale": [
             [
              0,
              "#0d0887"
             ],
             [
              0.1111111111111111,
              "#46039f"
             ],
             [
              0.2222222222222222,
              "#7201a8"
             ],
             [
              0.3333333333333333,
              "#9c179e"
             ],
             [
              0.4444444444444444,
              "#bd3786"
             ],
             [
              0.5555555555555556,
              "#d8576b"
             ],
             [
              0.6666666666666666,
              "#ed7953"
             ],
             [
              0.7777777777777778,
              "#fb9f3a"
             ],
             [
              0.8888888888888888,
              "#fdca26"
             ],
             [
              1,
              "#f0f921"
             ]
            ],
            "type": "histogram2dcontour"
           }
          ],
          "mesh3d": [
           {
            "colorbar": {
             "outlinewidth": 0,
             "ticks": ""
            },
            "type": "mesh3d"
           }
          ],
          "parcoords": [
           {
            "line": {
             "colorbar": {
              "outlinewidth": 0,
              "ticks": ""
             }
            },
            "type": "parcoords"
           }
          ],
          "pie": [
           {
            "automargin": true,
            "type": "pie"
           }
          ],
          "scatter": [
           {
            "fillpattern": {
             "fillmode": "overlay",
             "size": 10,
             "solidity": 0.2
            },
            "type": "scatter"
           }
          ],
          "scatter3d": [
           {
            "line": {
             "colorbar": {
              "outlinewidth": 0,
              "ticks": ""
             }
            },
            "marker": {
             "colorbar": {
              "outlinewidth": 0,
              "ticks": ""
             }
            },
            "type": "scatter3d"
           }
          ],
          "scattercarpet": [
           {
            "marker": {
             "colorbar": {
              "outlinewidth": 0,
              "ticks": ""
             }
            },
            "type": "scattercarpet"
           }
          ],
          "scattergeo": [
           {
            "marker": {
             "colorbar": {
              "outlinewidth": 0,
              "ticks": ""
             }
            },
            "type": "scattergeo"
           }
          ],
          "scattergl": [
           {
            "marker": {
             "colorbar": {
              "outlinewidth": 0,
              "ticks": ""
             }
            },
            "type": "scattergl"
           }
          ],
          "scattermapbox": [
           {
            "marker": {
             "colorbar": {
              "outlinewidth": 0,
              "ticks": ""
             }
            },
            "type": "scattermapbox"
           }
          ],
          "scatterpolar": [
           {
            "marker": {
             "colorbar": {
              "outlinewidth": 0,
              "ticks": ""
             }
            },
            "type": "scatterpolar"
           }
          ],
          "scatterpolargl": [
           {
            "marker": {
             "colorbar": {
              "outlinewidth": 0,
              "ticks": ""
             }
            },
            "type": "scatterpolargl"
           }
          ],
          "scatterternary": [
           {
            "marker": {
             "colorbar": {
              "outlinewidth": 0,
              "ticks": ""
             }
            },
            "type": "scatterternary"
           }
          ],
          "surface": [
           {
            "colorbar": {
             "outlinewidth": 0,
             "ticks": ""
            },
            "colorscale": [
             [
              0,
              "#0d0887"
             ],
             [
              0.1111111111111111,
              "#46039f"
             ],
             [
              0.2222222222222222,
              "#7201a8"
             ],
             [
              0.3333333333333333,
              "#9c179e"
             ],
             [
              0.4444444444444444,
              "#bd3786"
             ],
             [
              0.5555555555555556,
              "#d8576b"
             ],
             [
              0.6666666666666666,
              "#ed7953"
             ],
             [
              0.7777777777777778,
              "#fb9f3a"
             ],
             [
              0.8888888888888888,
              "#fdca26"
             ],
             [
              1,
              "#f0f921"
             ]
            ],
            "type": "surface"
           }
          ],
          "table": [
           {
            "cells": {
             "fill": {
              "color": "#EBF0F8"
             },
             "line": {
              "color": "white"
             }
            },
            "header": {
             "fill": {
              "color": "#C8D4E3"
             },
             "line": {
              "color": "white"
             }
            },
            "type": "table"
           }
          ]
         },
         "layout": {
          "annotationdefaults": {
           "arrowcolor": "#2a3f5f",
           "arrowhead": 0,
           "arrowwidth": 1
          },
          "autotypenumbers": "strict",
          "coloraxis": {
           "colorbar": {
            "outlinewidth": 0,
            "ticks": ""
           }
          },
          "colorscale": {
           "diverging": [
            [
             0,
             "#8e0152"
            ],
            [
             0.1,
             "#c51b7d"
            ],
            [
             0.2,
             "#de77ae"
            ],
            [
             0.3,
             "#f1b6da"
            ],
            [
             0.4,
             "#fde0ef"
            ],
            [
             0.5,
             "#f7f7f7"
            ],
            [
             0.6,
             "#e6f5d0"
            ],
            [
             0.7,
             "#b8e186"
            ],
            [
             0.8,
             "#7fbc41"
            ],
            [
             0.9,
             "#4d9221"
            ],
            [
             1,
             "#276419"
            ]
           ],
           "sequential": [
            [
             0,
             "#0d0887"
            ],
            [
             0.1111111111111111,
             "#46039f"
            ],
            [
             0.2222222222222222,
             "#7201a8"
            ],
            [
             0.3333333333333333,
             "#9c179e"
            ],
            [
             0.4444444444444444,
             "#bd3786"
            ],
            [
             0.5555555555555556,
             "#d8576b"
            ],
            [
             0.6666666666666666,
             "#ed7953"
            ],
            [
             0.7777777777777778,
             "#fb9f3a"
            ],
            [
             0.8888888888888888,
             "#fdca26"
            ],
            [
             1,
             "#f0f921"
            ]
           ],
           "sequentialminus": [
            [
             0,
             "#0d0887"
            ],
            [
             0.1111111111111111,
             "#46039f"
            ],
            [
             0.2222222222222222,
             "#7201a8"
            ],
            [
             0.3333333333333333,
             "#9c179e"
            ],
            [
             0.4444444444444444,
             "#bd3786"
            ],
            [
             0.5555555555555556,
             "#d8576b"
            ],
            [
             0.6666666666666666,
             "#ed7953"
            ],
            [
             0.7777777777777778,
             "#fb9f3a"
            ],
            [
             0.8888888888888888,
             "#fdca26"
            ],
            [
             1,
             "#f0f921"
            ]
           ]
          },
          "colorway": [
           "#636efa",
           "#EF553B",
           "#00cc96",
           "#ab63fa",
           "#FFA15A",
           "#19d3f3",
           "#FF6692",
           "#B6E880",
           "#FF97FF",
           "#FECB52"
          ],
          "font": {
           "color": "#2a3f5f"
          },
          "geo": {
           "bgcolor": "white",
           "lakecolor": "white",
           "landcolor": "#E5ECF6",
           "showlakes": true,
           "showland": true,
           "subunitcolor": "white"
          },
          "hoverlabel": {
           "align": "left"
          },
          "hovermode": "closest",
          "mapbox": {
           "style": "light"
          },
          "paper_bgcolor": "white",
          "plot_bgcolor": "#E5ECF6",
          "polar": {
           "angularaxis": {
            "gridcolor": "white",
            "linecolor": "white",
            "ticks": ""
           },
           "bgcolor": "#E5ECF6",
           "radialaxis": {
            "gridcolor": "white",
            "linecolor": "white",
            "ticks": ""
           }
          },
          "scene": {
           "xaxis": {
            "backgroundcolor": "#E5ECF6",
            "gridcolor": "white",
            "gridwidth": 2,
            "linecolor": "white",
            "showbackground": true,
            "ticks": "",
            "zerolinecolor": "white"
           },
           "yaxis": {
            "backgroundcolor": "#E5ECF6",
            "gridcolor": "white",
            "gridwidth": 2,
            "linecolor": "white",
            "showbackground": true,
            "ticks": "",
            "zerolinecolor": "white"
           },
           "zaxis": {
            "backgroundcolor": "#E5ECF6",
            "gridcolor": "white",
            "gridwidth": 2,
            "linecolor": "white",
            "showbackground": true,
            "ticks": "",
            "zerolinecolor": "white"
           }
          },
          "shapedefaults": {
           "line": {
            "color": "#2a3f5f"
           }
          },
          "ternary": {
           "aaxis": {
            "gridcolor": "white",
            "linecolor": "white",
            "ticks": ""
           },
           "baxis": {
            "gridcolor": "white",
            "linecolor": "white",
            "ticks": ""
           },
           "bgcolor": "#E5ECF6",
           "caxis": {
            "gridcolor": "white",
            "linecolor": "white",
            "ticks": ""
           }
          },
          "title": {
           "x": 0.05
          },
          "xaxis": {
           "automargin": true,
           "gridcolor": "white",
           "linecolor": "white",
           "ticks": "",
           "title": {
            "standoff": 15
           },
           "zerolinecolor": "white",
           "zerolinewidth": 2
          },
          "yaxis": {
           "automargin": true,
           "gridcolor": "white",
           "linecolor": "white",
           "ticks": "",
           "title": {
            "standoff": 15
           },
           "zerolinecolor": "white",
           "zerolinewidth": 2
          }
         }
        },
        "title": {
         "text": "Real vs. Synthetic Data for column 'target'"
        },
        "xaxis": {
         "anchor": "y",
         "domain": [
          0,
          1
         ],
         "title": {
          "text": "Category"
         }
        },
        "yaxis": {
         "anchor": "x",
         "domain": [
          0,
          1
         ],
         "title": {
          "text": "Frequency"
         }
        }
       }
      }
     },
     "metadata": {},
     "output_type": "display_data"
    }
   ],
   "source": [
    "for colname in df.columns:\n",
    "    fig = plot_real_synthetic(df, df_syn, colname)\n",
    "    fig.show()"
   ]
  }
 ],
 "metadata": {
  "kernelspec": {
   "display_name": ".venv",
   "language": "python",
   "name": "python3"
  },
  "language_info": {
   "codemirror_mode": {
    "name": "ipython",
    "version": 3
   },
   "file_extension": ".py",
   "mimetype": "text/x-python",
   "name": "python",
   "nbconvert_exporter": "python",
   "pygments_lexer": "ipython3",
   "version": "3.10.8"
  },
  "orig_nbformat": 4
 },
 "nbformat": 4,
 "nbformat_minor": 2
}
