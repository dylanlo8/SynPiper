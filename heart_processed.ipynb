{
 "cells": [
  {
   "cell_type": "code",
   "execution_count": 112,
   "metadata": {},
   "outputs": [],
   "source": [
    "import pandas as pd\n",
    "import numpy as np\n",
    "import seaborn as sns\n",
    "import matplotlib.pyplot as plt\n",
    "from sklearn.ensemble import RandomForestClassifier\n",
    "from sklearn.preprocessing import StandardScaler\n",
    "# metrics\n",
    "from sklearn.metrics import confusion_matrix, classification_report\n",
    "from sklearn.metrics import accuracy_score, f1_score, roc_auc_score, average_precision_score\n",
    "from sklearn.metrics import roc_curve, precision_recall_curve"
   ]
  },
  {
   "cell_type": "code",
   "execution_count": 113,
   "metadata": {},
   "outputs": [],
   "source": [
    "df_real = pd.read_csv('workingfolder\\df_train.csv')\n",
    "df_syn = pd.read_csv('synthetic.csv')\n",
    "df_test = pd.read_csv('workingfolder\\df_val.csv')"
   ]
  },
  {
   "cell_type": "code",
   "execution_count": 114,
   "metadata": {},
   "outputs": [
    {
     "data": {
      "text/plain": [
       "237"
      ]
     },
     "execution_count": 114,
     "metadata": {},
     "output_type": "execute_result"
    }
   ],
   "source": [
    "len(df_real)"
   ]
  },
  {
   "cell_type": "code",
   "execution_count": 115,
   "metadata": {},
   "outputs": [
    {
     "data": {
      "text/plain": [
       "237"
      ]
     },
     "execution_count": 115,
     "metadata": {},
     "output_type": "execute_result"
    }
   ],
   "source": [
    "len(df_syn)"
   ]
  },
  {
   "cell_type": "code",
   "execution_count": 116,
   "metadata": {},
   "outputs": [
    {
     "data": {
      "text/html": [
       "<div>\n",
       "<style scoped>\n",
       "    .dataframe tbody tr th:only-of-type {\n",
       "        vertical-align: middle;\n",
       "    }\n",
       "\n",
       "    .dataframe tbody tr th {\n",
       "        vertical-align: top;\n",
       "    }\n",
       "\n",
       "    .dataframe thead th {\n",
       "        text-align: right;\n",
       "    }\n",
       "</style>\n",
       "<table border=\"1\" class=\"dataframe\">\n",
       "  <thead>\n",
       "    <tr style=\"text-align: right;\">\n",
       "      <th></th>\n",
       "      <th>age</th>\n",
       "      <th>sex</th>\n",
       "      <th>cp</th>\n",
       "      <th>trestbps</th>\n",
       "      <th>chol</th>\n",
       "      <th>fbs</th>\n",
       "      <th>restecg</th>\n",
       "      <th>thalach</th>\n",
       "      <th>exang</th>\n",
       "      <th>oldpeak</th>\n",
       "      <th>slope</th>\n",
       "      <th>ca</th>\n",
       "      <th>thal</th>\n",
       "      <th>target</th>\n",
       "    </tr>\n",
       "  </thead>\n",
       "  <tbody>\n",
       "    <tr>\n",
       "      <th>0</th>\n",
       "      <td>51</td>\n",
       "      <td>1</td>\n",
       "      <td>3</td>\n",
       "      <td>100</td>\n",
       "      <td>222</td>\n",
       "      <td>0</td>\n",
       "      <td>0</td>\n",
       "      <td>143</td>\n",
       "      <td>1</td>\n",
       "      <td>1.2</td>\n",
       "      <td>2</td>\n",
       "      <td>0</td>\n",
       "      <td>3</td>\n",
       "      <td>0</td>\n",
       "    </tr>\n",
       "    <tr>\n",
       "      <th>1</th>\n",
       "      <td>35</td>\n",
       "      <td>1</td>\n",
       "      <td>4</td>\n",
       "      <td>126</td>\n",
       "      <td>282</td>\n",
       "      <td>0</td>\n",
       "      <td>2</td>\n",
       "      <td>156</td>\n",
       "      <td>1</td>\n",
       "      <td>0.0</td>\n",
       "      <td>1</td>\n",
       "      <td>0</td>\n",
       "      <td>7</td>\n",
       "      <td>1</td>\n",
       "    </tr>\n",
       "    <tr>\n",
       "      <th>2</th>\n",
       "      <td>67</td>\n",
       "      <td>1</td>\n",
       "      <td>4</td>\n",
       "      <td>160</td>\n",
       "      <td>286</td>\n",
       "      <td>0</td>\n",
       "      <td>2</td>\n",
       "      <td>108</td>\n",
       "      <td>1</td>\n",
       "      <td>1.5</td>\n",
       "      <td>2</td>\n",
       "      <td>3</td>\n",
       "      <td>3</td>\n",
       "      <td>1</td>\n",
       "    </tr>\n",
       "    <tr>\n",
       "      <th>3</th>\n",
       "      <td>40</td>\n",
       "      <td>1</td>\n",
       "      <td>1</td>\n",
       "      <td>140</td>\n",
       "      <td>199</td>\n",
       "      <td>0</td>\n",
       "      <td>0</td>\n",
       "      <td>178</td>\n",
       "      <td>1</td>\n",
       "      <td>1.4</td>\n",
       "      <td>1</td>\n",
       "      <td>0</td>\n",
       "      <td>7</td>\n",
       "      <td>0</td>\n",
       "    </tr>\n",
       "    <tr>\n",
       "      <th>4</th>\n",
       "      <td>58</td>\n",
       "      <td>0</td>\n",
       "      <td>4</td>\n",
       "      <td>100</td>\n",
       "      <td>248</td>\n",
       "      <td>0</td>\n",
       "      <td>2</td>\n",
       "      <td>122</td>\n",
       "      <td>0</td>\n",
       "      <td>1.0</td>\n",
       "      <td>2</td>\n",
       "      <td>0</td>\n",
       "      <td>3</td>\n",
       "      <td>0</td>\n",
       "    </tr>\n",
       "  </tbody>\n",
       "</table>\n",
       "</div>"
      ],
      "text/plain": [
       "   age  sex  cp  trestbps  chol  fbs  restecg  thalach  exang  oldpeak  slope  \\\n",
       "0   51    1   3       100   222    0        0      143      1      1.2      2   \n",
       "1   35    1   4       126   282    0        2      156      1      0.0      1   \n",
       "2   67    1   4       160   286    0        2      108      1      1.5      2   \n",
       "3   40    1   1       140   199    0        0      178      1      1.4      1   \n",
       "4   58    0   4       100   248    0        2      122      0      1.0      2   \n",
       "\n",
       "   ca  thal  target  \n",
       "0   0     3       0  \n",
       "1   0     7       1  \n",
       "2   3     3       1  \n",
       "3   0     7       0  \n",
       "4   0     3       0  "
      ]
     },
     "execution_count": 116,
     "metadata": {},
     "output_type": "execute_result"
    }
   ],
   "source": [
    "df_real.head()"
   ]
  },
  {
   "cell_type": "code",
   "execution_count": 117,
   "metadata": {},
   "outputs": [],
   "source": [
    "num_features = ['age', 'trestbps', 'chol', 'thalach', 'oldpeak']"
   ]
  },
  {
   "cell_type": "code",
   "execution_count": 118,
   "metadata": {},
   "outputs": [],
   "source": [
    "scaler = StandardScaler()\n",
    "scaler_syn = StandardScaler()\n",
    "\n",
    "# For Real\n",
    "df_real_processed = df_real.copy(deep = True)\n",
    "df_real_processed[num_features] = scaler.fit_transform(df_real[num_features])\n",
    "df_test_processed = df_test.copy(deep = True)\n",
    "df_test_processed[num_features] = scaler.transform(df_test[num_features])\n",
    "\n",
    "# For Synthetic\n",
    "df_syn_processed = df_real.copy(deep = True)\n",
    "df_syn_processed[num_features] = scaler_syn.fit_transform(df_syn[num_features])\n",
    "df_syn_test_processed = df_test.copy(deep = True)\n",
    "df_syn_test_processed[num_features] = scaler_syn.transform(df_syn_test_processed[num_features])"
   ]
  },
  {
   "cell_type": "code",
   "execution_count": 119,
   "metadata": {},
   "outputs": [],
   "source": [
    "X_real = df_real_processed.drop('target', axis = 1)\n",
    "y_real = df_real_processed['target']\n",
    "\n",
    "X_syn = df_syn_processed.drop('target', axis = 1)\n",
    "y_syn = df_syn_processed['target']\n",
    "\n",
    "X_test = df_test_processed.drop('target', axis = 1)\n",
    "y_test = df_test_processed['target']\n",
    "\n",
    "X_test_syn = df_syn_test_processed.drop('target', axis = 1)\n",
    "y_test_syn = df_syn_test_processed['target']"
   ]
  },
  {
   "cell_type": "code",
   "execution_count": 120,
   "metadata": {},
   "outputs": [
    {
     "data": {
      "text/html": [
       "<style>#sk-container-id-11 {color: black;background-color: white;}#sk-container-id-11 pre{padding: 0;}#sk-container-id-11 div.sk-toggleable {background-color: white;}#sk-container-id-11 label.sk-toggleable__label {cursor: pointer;display: block;width: 100%;margin-bottom: 0;padding: 0.3em;box-sizing: border-box;text-align: center;}#sk-container-id-11 label.sk-toggleable__label-arrow:before {content: \"▸\";float: left;margin-right: 0.25em;color: #696969;}#sk-container-id-11 label.sk-toggleable__label-arrow:hover:before {color: black;}#sk-container-id-11 div.sk-estimator:hover label.sk-toggleable__label-arrow:before {color: black;}#sk-container-id-11 div.sk-toggleable__content {max-height: 0;max-width: 0;overflow: hidden;text-align: left;background-color: #f0f8ff;}#sk-container-id-11 div.sk-toggleable__content pre {margin: 0.2em;color: black;border-radius: 0.25em;background-color: #f0f8ff;}#sk-container-id-11 input.sk-toggleable__control:checked~div.sk-toggleable__content {max-height: 200px;max-width: 100%;overflow: auto;}#sk-container-id-11 input.sk-toggleable__control:checked~label.sk-toggleable__label-arrow:before {content: \"▾\";}#sk-container-id-11 div.sk-estimator input.sk-toggleable__control:checked~label.sk-toggleable__label {background-color: #d4ebff;}#sk-container-id-11 div.sk-label input.sk-toggleable__control:checked~label.sk-toggleable__label {background-color: #d4ebff;}#sk-container-id-11 input.sk-hidden--visually {border: 0;clip: rect(1px 1px 1px 1px);clip: rect(1px, 1px, 1px, 1px);height: 1px;margin: -1px;overflow: hidden;padding: 0;position: absolute;width: 1px;}#sk-container-id-11 div.sk-estimator {font-family: monospace;background-color: #f0f8ff;border: 1px dotted black;border-radius: 0.25em;box-sizing: border-box;margin-bottom: 0.5em;}#sk-container-id-11 div.sk-estimator:hover {background-color: #d4ebff;}#sk-container-id-11 div.sk-parallel-item::after {content: \"\";width: 100%;border-bottom: 1px solid gray;flex-grow: 1;}#sk-container-id-11 div.sk-label:hover label.sk-toggleable__label {background-color: #d4ebff;}#sk-container-id-11 div.sk-serial::before {content: \"\";position: absolute;border-left: 1px solid gray;box-sizing: border-box;top: 0;bottom: 0;left: 50%;z-index: 0;}#sk-container-id-11 div.sk-serial {display: flex;flex-direction: column;align-items: center;background-color: white;padding-right: 0.2em;padding-left: 0.2em;position: relative;}#sk-container-id-11 div.sk-item {position: relative;z-index: 1;}#sk-container-id-11 div.sk-parallel {display: flex;align-items: stretch;justify-content: center;background-color: white;position: relative;}#sk-container-id-11 div.sk-item::before, #sk-container-id-11 div.sk-parallel-item::before {content: \"\";position: absolute;border-left: 1px solid gray;box-sizing: border-box;top: 0;bottom: 0;left: 50%;z-index: -1;}#sk-container-id-11 div.sk-parallel-item {display: flex;flex-direction: column;z-index: 1;position: relative;background-color: white;}#sk-container-id-11 div.sk-parallel-item:first-child::after {align-self: flex-end;width: 50%;}#sk-container-id-11 div.sk-parallel-item:last-child::after {align-self: flex-start;width: 50%;}#sk-container-id-11 div.sk-parallel-item:only-child::after {width: 0;}#sk-container-id-11 div.sk-dashed-wrapped {border: 1px dashed gray;margin: 0 0.4em 0.5em 0.4em;box-sizing: border-box;padding-bottom: 0.4em;background-color: white;}#sk-container-id-11 div.sk-label label {font-family: monospace;font-weight: bold;display: inline-block;line-height: 1.2em;}#sk-container-id-11 div.sk-label-container {text-align: center;}#sk-container-id-11 div.sk-container {/* jupyter's `normalize.less` sets `[hidden] { display: none; }` but bootstrap.min.css set `[hidden] { display: none !important; }` so we also need the `!important` here to be able to override the default hidden behavior on the sphinx rendered scikit-learn.org. See: https://github.com/scikit-learn/scikit-learn/issues/21755 */display: inline-block !important;position: relative;}#sk-container-id-11 div.sk-text-repr-fallback {display: none;}</style><div id=\"sk-container-id-11\" class=\"sk-top-container\"><div class=\"sk-text-repr-fallback\"><pre>RandomForestClassifier(max_depth=5, n_estimators=25)</pre><b>In a Jupyter environment, please rerun this cell to show the HTML representation or trust the notebook. <br />On GitHub, the HTML representation is unable to render, please try loading this page with nbviewer.org.</b></div><div class=\"sk-container\" hidden><div class=\"sk-item\"><div class=\"sk-estimator sk-toggleable\"><input class=\"sk-toggleable__control sk-hidden--visually\" id=\"sk-estimator-id-11\" type=\"checkbox\" checked><label for=\"sk-estimator-id-11\" class=\"sk-toggleable__label sk-toggleable__label-arrow\">RandomForestClassifier</label><div class=\"sk-toggleable__content\"><pre>RandomForestClassifier(max_depth=5, n_estimators=25)</pre></div></div></div></div></div>"
      ],
      "text/plain": [
       "RandomForestClassifier(max_depth=5, n_estimators=25)"
      ]
     },
     "execution_count": 120,
     "metadata": {},
     "output_type": "execute_result"
    }
   ],
   "source": [
    "rfc_real = RandomForestClassifier(n_estimators = 25, max_depth = 5)\n",
    "rfc_real.fit(X_real, y_real)"
   ]
  },
  {
   "cell_type": "code",
   "execution_count": 121,
   "metadata": {},
   "outputs": [],
   "source": [
    "def performance_metrics(model, X, y):\n",
    "\n",
    "    y_pred = model.predict(X)\n",
    "\n",
    "    cm = confusion_matrix(y, y_pred)\n",
    "    cm_df = pd.DataFrame(data=cm,\n",
    "                        index=['True Negative: 0', 'True Positive: 1'],\n",
    "                        columns=['Pred Negative: 0', 'Pred Positive: 1'])\n",
    "    sns.heatmap(cm_df, annot=True, fmt='d', cmap='YlGnBu')\n",
    "\n",
    "    print(\"\\n\" \"#=====#=====#===== Classification Report =====#=====#=====#\")\n",
    "    print(classification_report(y, y_pred))\n",
    "\n",
    "def plot_evaluation_curves(model, X_train, X_test, y_train, y_test):\n",
    "    performance_metrics = {}\n",
    "\n",
    "    fig, axs = plt.subplots(1, 3, figsize=(20, 6))\n",
    "\n",
    "    for dataset, X, y in [('train', X_train, y_train), ('test', X_test, y_test)]:\n",
    "\n",
    "        #=====#=====#=====#=====#=====\n",
    "        # Compute metrics: Accuracy, F1, ROC AUC, Average Precision (AP)\n",
    "        #=====#=====#=====#=====#=====\n",
    "        performance_metrics[dataset] = {}\n",
    "\n",
    "        y_pred = model.predict(X)\n",
    "        y_pred_prob = model.predict_proba(X)[:, 1]\n",
    "\n",
    "        # Accuracy\n",
    "        accuracy = accuracy_score(y, y_pred)\n",
    "        performance_metrics[dataset]['Accuracy'] = accuracy\n",
    "\n",
    "        # F1\n",
    "        f1 = f1_score(y, y_pred)\n",
    "        performance_metrics[dataset]['F1'] = f1\n",
    "\n",
    "        # ROC AUC\n",
    "        roc_auc = roc_auc_score(y, y_pred_prob)\n",
    "        performance_metrics[dataset]['ROC_AUC'] = roc_auc\n",
    "\n",
    "        # Average Precision (AP)\n",
    "        average_precision = average_precision_score(y, y_pred_prob)\n",
    "        performance_metrics[dataset]['Average_Precision'] = average_precision\n",
    "\n",
    "        #=====#=====#=====#=====#=====\n",
    "        # Plot curves: F1 score, ROC, PRC\n",
    "        #=====#=====#=====#=====#=====\n",
    "        color = 'blue' if dataset == 'train' else 'orange'\n",
    "\n",
    "        # F1 score\n",
    "        thresholds = np.linspace(start=0, stop=1, num=100, endpoint=True)\n",
    "        f1_scores = [f1_score(y, y_pred_prob >= th) for th in thresholds]\n",
    "        max_f1_score_idx = np.argmax(f1_scores)\n",
    "\n",
    "        ax = axs[0]\n",
    "        ax.plot(thresholds, f1_scores, color=color, label=f\"{dataset}, max={round(f1_scores[max_f1_score_idx], 2)} @ {round(thresholds[max_f1_score_idx], 2)}\")\n",
    "        # mark some thresholds\n",
    "        for th in [0, 0.2, 0.4, 0.6, 0.8, 1]:\n",
    "            closest_threshold_idx = np.argmin(np.abs(thresholds-th))\n",
    "            marker_color = 'red'\n",
    "            ax.plot(thresholds[closest_threshold_idx], f1_scores[closest_threshold_idx], color=marker_color, marker='X', markersize=7)\n",
    "        ax.set_xlim([-0.02, 1.02])\n",
    "        ax.set_ylim([-0.02, 1.02])\n",
    "        ax.set_xlabel('decision function threshold')\n",
    "        ax.set_ylabel('F1')\n",
    "        ax.set_title('F1 Score')\n",
    "        ax.legend(loc='lower center')\n",
    "\n",
    "\n",
    "        # ROC\n",
    "        fpr, tpr, thresholds = roc_curve(y, y_pred_prob)\n",
    "\n",
    "        ax = axs[1]\n",
    "        ax.plot(fpr, tpr, color=color, label=f\"{dataset}, ROC AUC={round(roc_auc, 2)}\")\n",
    "        # mark some thresholds\n",
    "        for th in [0, 0.2, 0.4, 0.6, 0.8, 1]:\n",
    "            closest_threshold_idx = np.argmin(np.abs(thresholds-th))\n",
    "            marker_color = 'red'\n",
    "            ax.plot(fpr[closest_threshold_idx], tpr[closest_threshold_idx], color=marker_color, marker='X', markersize=7)\n",
    "        ax.plot([0, 1], [0, 1], color='grey', linestyle='--')\n",
    "        ax.set_xlim([-0.02, 1.02])\n",
    "        ax.set_ylim([-0.02, 1.02])\n",
    "        ax.set_xlabel('FPR')\n",
    "        ax.set_ylabel('TPR')\n",
    "        ax.set_title('ROC Curve')\n",
    "        ax.legend(loc='lower center')\n",
    "\n",
    "        # PRC\n",
    "        precision, recall, thresholds = precision_recall_curve(y, y_pred_prob)\n",
    "\n",
    "        ax = axs[2]\n",
    "        ax.plot(recall, precision, color=color, label=f\"{dataset}, Average Precision={round(average_precision, 2)}\")\n",
    "        # mark some thresholds\n",
    "        for th in [0, 0.2, 0.4, 0.6, 0.8, 1]:\n",
    "            closest_threshold_idx = np.argmin(np.abs(thresholds-th))\n",
    "            marker_color = 'red'\n",
    "            ax.plot(recall[closest_threshold_idx], precision[closest_threshold_idx], color=marker_color, marker='X', markersize=7)\n",
    "        ax.set_xlim([-0.02, 1.02])\n",
    "        ax.set_ylim([-0.02, 1.02])\n",
    "        ax.set_xlabel('Recall')\n",
    "        ax.set_ylabel('Precision')\n",
    "        ax.set_title('Precision Recall Curve')\n",
    "        ax.legend(loc='lower center')\n",
    "\n",
    "\n",
    "    df_performance_metrics = pd.DataFrame(performance_metrics).round(2)\n",
    "    display(df_performance_metrics)\n"
   ]
  },
  {
   "cell_type": "code",
   "execution_count": 122,
   "metadata": {},
   "outputs": [
    {
     "name": "stdout",
     "output_type": "stream",
     "text": [
      "\n",
      "#=====#=====#===== Classification Report =====#=====#=====#\n",
      "              precision    recall  f1-score   support\n",
      "\n",
      "           0       0.93      0.98      0.96       131\n",
      "           1       0.97      0.92      0.94       106\n",
      "\n",
      "    accuracy                           0.95       237\n",
      "   macro avg       0.95      0.95      0.95       237\n",
      "weighted avg       0.95      0.95      0.95       237\n",
      "\n"
     ]
    },
    {
     "data": {
      "image/png": "[encoded data removed]",
      "text/plain": [
       "<Figure size 640x480 with 2 Axes>"
      ]
     },
     "metadata": {},
     "output_type": "display_data"
    }
   ],
   "source": [
    "performance_metrics(rfc_real, X_real, y_real)"
   ]
  },
  {
   "cell_type": "code",
   "execution_count": 123,
   "metadata": {},
   "outputs": [
    {
     "name": "stdout",
     "output_type": "stream",
     "text": [
      "\n",
      "#=====#=====#===== Classification Report =====#=====#=====#\n",
      "              precision    recall  f1-score   support\n",
      "\n",
      "           0       0.74      0.86      0.79        29\n",
      "           1       0.85      0.71      0.77        31\n",
      "\n",
      "    accuracy                           0.78        60\n",
      "   macro avg       0.79      0.79      0.78        60\n",
      "weighted avg       0.79      0.78      0.78        60\n",
      "\n"
     ]
    },
    {
     "data": {
      "image/png": "[encoded data removed]",
      "text/plain": [
       "<Figure size 640x480 with 2 Axes>"
      ]
     },
     "metadata": {},
     "output_type": "display_data"
    }
   ],
   "source": [
    "performance_metrics(rfc_real, X_test, y_test)"
   ]
  },
  {
   "cell_type": "code",
   "execution_count": null,
   "metadata": {},
   "outputs": [],
   "source": []
  }
 ],
 "metadata": {
  "kernelspec": {
   "display_name": ".venv",
   "language": "python",
   "name": "python3"
  },
  "language_info": {
   "codemirror_mode": {
    "name": "ipython",
    "version": 3
   },
   "file_extension": ".py",
   "mimetype": "text/x-python",
   "name": "python",
   "nbconvert_exporter": "python",
   "pygments_lexer": "ipython3",
   "version": "3.10.8"
  },
  "orig_nbformat": 4
 },
 "nbformat": 4,
 "nbformat_minor": 2
}
